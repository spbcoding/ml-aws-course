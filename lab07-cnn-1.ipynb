{
 "cells": [
  {
   "cell_type": "markdown",
   "source": [
    "# Applying classic CNN models: NN vs LeNet vs AlexNet\n",
    "\n",
    "In this practice you will apply different Neural Networks models to solve a set of problems:\n",
    "1. First, we start with lego bricks and try to classify them with using basic models\n",
    "2. Next, we will apply same models for FashionMNIST dataset, it contains 60K samples of 10 classes\n",
    "3. Then we will use higher-dimension pictures and will see whether thee techniques still works\n",
    "\n"
   ],
   "metadata": {
    "collapsed": false
   }
  },
  {
   "cell_type": "markdown",
   "source": [
    "## Part I: Lego bricks\n",
    "\n",
    "As for beginning, lets follow the already known example - Lego bricks, brought by Linux Academy (its not exist anymore though :( ). And compare their model to some classic models that you will build: LeNet & AlexNet.\n"
   ],
   "metadata": {
    "collapsed": false
   }
  },
  {
   "cell_type": "markdown",
   "source": [
    "### Task 1.1\n",
    "\n",
    "**Task: Use Lego bricks dataset and model to classify samples**\n",
    "\n",
    "\n",
    "Original Notebook: https://github.com/linuxacademy/content-aws-mls-c01/blob/master/MXNet-Basic-Classification/MXNet_Basic_Classification.ipynb"
   ],
   "metadata": {
    "collapsed": false
   }
  },
  {
   "cell_type": "code",
   "execution_count": null,
   "outputs": [],
   "source": [
    "# YOUR CODE GOES HERE.."
   ],
   "metadata": {
    "collapsed": false,
    "pycharm": {
     "name": "#%%\n"
    }
   }
  },
  {
   "cell_type": "markdown",
   "source": [
    "### Task 1.2\n",
    "\n",
    "Task: build classic CNN models (LeNet & AlexNet) and apply them for classification"
   ],
   "metadata": {
    "collapsed": false
   }
  },
  {
   "cell_type": "markdown",
   "source": [
    "#### LeNet & AlexNet architecture\n",
    "\n",
    "LeNet is a classic neural network, that we can use to validate CNN approach on top of same Lego bricks dataset.\n",
    "\n",
    "Compare and discuss what are the differences of LeNet & AlexNet architectures.\n",
    "\n",
    "<div>\n",
    "    <img src=\"https://upload.wikimedia.org/wikipedia/commons/thumb/c/cc/Comparison_image_neural_networks.svg/1920px-Comparison_image_neural_networks.svg.png\" width=\"800\"/>\n",
    "</div>"
   ],
   "metadata": {
    "collapsed": false
   }
  },
  {
   "cell_type": "code",
   "execution_count": null,
   "outputs": [],
   "source": [
    "# YOUR CODE GOES HERE..build Lenet & AlexNet CNN models"
   ],
   "metadata": {
    "collapsed": false,
    "pycharm": {
     "name": "#%%\n"
    }
   }
  },
  {
   "cell_type": "markdown",
   "source": [
    "### Task 1.3\n",
    "\n",
    "Task: Compare NN with given architectures. Discuss, why results are different"
   ],
   "metadata": {
    "collapsed": false
   }
  },
  {
   "cell_type": "markdown",
   "source": [
    "## Part II: Fashion MNIST\n",
    "\n",
    "Working with small dataset might not be a representable to show CNN benefits.\n",
    "\n",
    "Lets switch to another dataset - Fashion MNIST. Original Repository - https://github.com/zalandoresearch/fashion-mnist\n",
    "\n",
    "<div>\n",
    "    <img src=\"https://raw.githubusercontent.com/zalandoresearch/fashion-mnist/master/doc/img/fashion-mnist-sprite.png\" width=\"400\"/>\n",
    "</div>\n",
    "\n",
    "To load dataset though the framework, one can use: [https://mxnet.apache.org/versions/1.6/api/python/docs/api/gluon/data/vision/datasets/index.html#mxnet.gluon.data.vision.datasets.FashionMNIST](https://mxnet.apache.org/versions/1.6/api/python/docs/api/gluon/data/vision/datasets/index.html#mxnet.gluon.data.vision.datasets.FashionMNIST)\n"
   ],
   "metadata": {
    "collapsed": false
   }
  },
  {
   "cell_type": "markdown",
   "source": [
    "# Resources\n",
    "\n",
    "<div>\n",
    "    <img src=\"https://d2l.ai/_images/front.png\" width=\"200\"/>\n",
    "</div>\n",
    "\n",
    "[https://d2l.ai/index.html](https://d2l.ai/index.html)"
   ],
   "metadata": {
    "collapsed": false
   }
  },
  {
   "cell_type": "markdown",
   "source": [
    "## MXNet\n",
    "\n",
    "<div>\n",
    "    <img src=\"https://mxnet.apache.org/versions/1.9.0/assets/img/mxnet_logo.png\" width=\"200\"/>\n",
    "</div>\n",
    "\n",
    "MXNet provides optimized numerical computation for GPUs and distributed ecosystems, from the comfort of high-level environments like Python and R.\n",
    "MXNet automates common workflows, so standard neural networks can be expressed concisely in just a few lines of code.\n",
    "\n",
    "(Source: [https://mxnet.apache.org/](https://mxnet.apache.org/))\n",
    "\n",
    "<br />\n",
    "<div>\n",
    "    <img src=\"https://raw.githubusercontent.com/dmlc/web-data/master/mxnet/image/image-gluon-logo.png\" width=\"200\"/>\n",
    "</div>\n",
    "\n",
    "[Gluon](https://mxnet.apache.org/versions/1.4.1/gluon/index.html) library in Apache MXNet provides a clear, concise, and simple API for deep learning. It makes it easy to prototype, build, and train deep learning models without sacrificing training speed\n",
    "\n",
    "(Source: [https://mxnet.apache.org/versions/1.4.1/gluon/index.html](https://mxnet.apache.org/versions/1.4.1/gluon/index.html))"
   ],
   "metadata": {
    "collapsed": false
   }
  },
  {
   "cell_type": "code",
   "execution_count": null,
   "outputs": [],
   "source": [],
   "metadata": {
    "collapsed": false,
    "pycharm": {
     "name": "#%%\n"
    }
   }
  }
 ],
 "metadata": {
  "colab": {
   "collapsed_sections": [
    "AmWJX555y7vL"
   ],
   "name": "Lab 3-1.ipynb",
   "provenance": []
  },
  "kernelspec": {
   "display_name": "Python 3",
   "name": "python3"
  },
  "language_info": {
   "codemirror_mode": {
    "name": "ipython",
    "version": 3
   },
   "file_extension": ".py",
   "mimetype": "text/x-python",
   "name": "python",
   "nbconvert_exporter": "python",
   "pygments_lexer": "ipython3",
   "version": "3.9.7"
  }
 },
 "nbformat": 4,
 "nbformat_minor": 0
}