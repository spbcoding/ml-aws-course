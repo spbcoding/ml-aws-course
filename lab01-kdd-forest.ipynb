{
 "cells": [
  {
   "cell_type": "markdown",
   "metadata": {
    "id": "KgRptHrNLwhf"
   },
   "source": [
    "# Anomaly Detection of Network Packets\n",
    "\n",
    "This is a task from http://kdd.ics.uci.edu/databases/kddcup99/kddcup99.html about network traffic packets. There are several kinds of preclassified packets: normal, trojans, viruses, etc.\n",
    "\n",
    "The goal of this work to implement a detector of no normal = anomaly packets.\n",
    "\n"
   ]
  },
  {
   "cell_type": "markdown",
   "metadata": {
    "id": "q1cF2lhsYkkL"
   },
   "source": [
    "## Preparing data\n",
    "\n",
    "First need to download dataset. To do tha t- jsut use the cli utilities to complete the operation"
   ]
  },
  {
   "cell_type": "code",
   "execution_count": 2,
   "metadata": {
    "colab": {
     "base_uri": "https://localhost:8080/"
    },
    "id": "gFdui3XYVVyd",
    "outputId": "e8af565f-b030-496f-c07b-f0c5eb0ac144"
   },
   "outputs": [
    {
     "name": "stderr",
     "output_type": "stream",
     "text": [
      "SYSTEM_WGETRC = c:/progra~1/wget/etc/wgetrc\n",
      "syswgetrc = D:\\Tools\\GnuWin32/etc/wgetrc\n",
      "--2022-01-09 22:55:51--  http://kdd.ics.uci.edu/databases/kddcup99/kddcup.data_10_percent.gz\n",
      "Resolving kdd.ics.uci.edu... 128.195.1.86\n",
      "Connecting to kdd.ics.uci.edu|128.195.1.86|:80... connected.\n",
      "HTTP request sent, awaiting response... 200 OK\n",
      "Length: 2144903 (2.0M) [application/x-gzip]\n",
      "Saving to: `kddcup.data_10_percent.gz'\n",
      "\n",
      "     0K .......... .......... .......... .......... ..........  2%  131K 16s\n",
      "    50K .......... .......... .......... .......... ..........  4%  286K 11s\n",
      "   100K .......... .......... .......... .......... ..........  7% 95.1M 7s\n",
      "   150K .......... .......... .......... .......... ..........  9%  130M 5s\n",
      "   200K .......... .......... .......... .......... .......... 11%  291K 5s\n",
      "   250K .......... .......... .......... .......... .......... 14% 32.7M 4s\n",
      "   300K .......... .......... .......... .......... .......... 16% 32.0M 4s\n",
      "   350K .......... .......... .......... .......... .......... 19% 26.8M 3s\n",
      "   400K .......... .......... .......... .......... .......... 21%  299K 3s\n",
      "   450K .......... .......... .......... .......... .......... 23% 36.0M 3s\n",
      "   500K .......... .......... .......... .......... .......... 26% 39.9M 3s\n",
      "   550K .......... .......... .......... .......... .......... 28% 33.9M 2s\n",
      "   600K .......... .......... .......... .......... .......... 31% 47.6M 2s\n",
      "   650K .......... .......... .......... .......... .......... 33%  297K 2s\n",
      "   700K .......... .......... .......... .......... .......... 35% 13.8M 2s\n",
      "   750K .......... .......... .......... .......... .......... 38% 69.9M 2s\n",
      "   800K .......... .......... .......... .......... .......... 40% 46.3M 2s\n",
      "   850K .......... .......... .......... .......... .......... 42% 49.9M 1s\n",
      "   900K .......... .......... .......... .......... .......... 45% 22.2M 1s\n",
      "   950K .......... .......... .......... .......... .......... 47% 1.62M 1s\n",
      "  1000K .......... .......... .......... .......... .......... 50% 1.53M 1s\n",
      "  1050K .......... .......... .......... .......... .......... 52%  184K 1s\n",
      "  1100K .......... .......... .......... .......... .......... 54% 71.9M 1s\n",
      "  1150K .......... .......... .......... .......... .......... 57% 4.01M 1s\n",
      "  1200K .......... .......... .......... .......... .......... 59% 6.65M 1s\n",
      "  1250K .......... .......... .......... .......... .......... 62%  219M 1s\n",
      "  1300K .......... .......... .......... .......... .......... 64%  185M 1s\n",
      "  1350K .......... .......... .......... .......... .......... 66%  256M 1s\n",
      "  1400K .......... .......... .......... .......... .......... 69%  274M 1s\n",
      "  1450K .......... .......... .......... .......... .......... 71%  261M 1s\n",
      "  1500K .......... .......... .......... .......... .......... 73%  320M 1s\n",
      "  1550K .......... .......... .......... .......... .......... 76%  244M 0s\n",
      "  1600K .......... .......... .......... .......... .......... 78%  390M 0s\n",
      "  1650K .......... .......... .......... .......... .......... 81%  533K 0s\n",
      "  1700K .......... .......... .......... .......... .......... 83% 2.41M 0s\n",
      "  1750K .......... .......... .......... .......... .......... 85% 2.49M 0s\n",
      "  1800K .......... .......... .......... .......... .......... 88% 2.84M 0s\n",
      "  1850K .......... .......... .......... .......... .......... 90% 2.32M 0s\n",
      "  1900K .......... .......... .......... .......... .......... 93%  200M 0s\n",
      "  1950K .......... .......... .......... .......... .......... 95%  126M 0s\n",
      "  2000K .......... .......... .......... .......... .......... 97%  188M 0s\n",
      "  2050K .......... .......... .......... .......... ....      100%  143M=1.6s\n",
      "\n",
      "2022-01-09 22:55:53 (1.27 MB/s) - `kddcup.data_10_percent.gz' saved [2144903/2144903]\n",
      "\n"
     ]
    }
   ],
   "source": [
    "  !wget http://kdd.ics.uci.edu/databases/kddcup99/kddcup.data_10_percent.gz\n"
   ]
  },
  {
   "cell_type": "code",
   "execution_count": 3,
   "metadata": {
    "id": "oKHNil_QVkpL"
   },
   "outputs": [
    {
     "name": "stderr",
     "output_type": "stream",
     "text": [
      "gzip: ./kddcup.data_10_percent already exists;\tnot overwritten\n"
     ]
    }
   ],
   "source": [
    "!gzip -d ./kddcup.data_10_percent.gz\n",
    "# as a result - a new (csv) file appears in the root directory"
   ]
  },
  {
   "cell_type": "code",
   "execution_count": 4,
   "metadata": {
    "id": "3LHvJvEAXlG-"
   },
   "outputs": [],
   "source": [
    "col_labels = ['back', 'buffer_overflow', 'ftp_write', 'guess_passwd', 'imap', 'ipsweep', 'land', 'loadmodule', 'multihop', 'neptune', 'nmap', 'normal', 'perl',                 'phf', 'pod', 'portsweep', 'rootkit', 'satan', 'smurf', 'spy', 'teardrop', 'warezclient']\n",
    "\n",
    "col_names = [\"duration\",\"protocol_type\",\"service\",\"flag\",\"src_bytes\",\"dst_bytes\",\"land\",\"wrong_fragment\",\"urgent\",\"hot\",\"num_failed_logins\",\"logged_in\",\n",
    "             \"num_compromised\",\"root_shell\",\"su_attempted\",\"num_root\",\"num_file_creations\",\"num_shells\",\"num_access_files\",\"num_outbound_cmds\",\n",
    "             \"is_host_login\",\"is_guest_login\",\"count\",\"srv_count\",\"serror_rate\",\"srv_serror_rate\",\"rerror_rate\",\"srv_rerror_rate\",\"same_srv_rate\",\n",
    "             \"diff_srv_rate\",\"srv_diff_host_rate\",\"dst_host_count\",\"dst_host_srv_count\",\"dst_host_same_srv_rate\",\"dst_host_diff_srv_rate\",\n",
    "             \"dst_host_same_src_port_rate\",\"dst_host_srv_diff_host_rate\",\"dst_host_serror_rate\",\"dst_host_srv_serror_rate\",\"dst_host_rerror_rate\",\n",
    "             \"dst_host_srv_rerror_rate\",\"label\"]"
   ]
  },
  {
   "cell_type": "code",
   "execution_count": 5,
   "metadata": {
    "collapsed": false,
    "pycharm": {
     "name": "#%%\n"
    }
   },
   "outputs": [
    {
     "name": "stdout",
     "output_type": "stream",
     "text": [
      "Requirement already satisfied: pandas in d:\\tools\\conda_envs\\ml\\lib\\site-packages (1.3.5)\n",
      "Requirement already satisfied: python-dateutil>=2.7.3 in d:\\tools\\conda_envs\\ml\\lib\\site-packages (from pandas) (2.8.2)\n",
      "Requirement already satisfied: pytz>=2017.3 in d:\\tools\\conda_envs\\ml\\lib\\site-packages (from pandas) (2021.3)\n",
      "Requirement already satisfied: numpy>=1.17.3 in d:\\tools\\conda_envs\\ml\\lib\\site-packages (from pandas) (1.21.5)\n",
      "Requirement already satisfied: six>=1.5 in d:\\tools\\conda_envs\\ml\\lib\\site-packages (from python-dateutil>=2.7.3->pandas) (1.16.0)\n"
     ]
    }
   ],
   "source": [
    "!pip install pandas"
   ]
  },
  {
   "cell_type": "code",
   "execution_count": 6,
   "metadata": {
    "id": "9HgTipFuYWqS"
   },
   "outputs": [],
   "source": [
    "import pandas as pd"
   ]
  },
  {
   "cell_type": "code",
   "execution_count": 7,
   "metadata": {
    "colab": {
     "base_uri": "https://localhost:8080/"
    },
    "id": "Y2564d9RYcPM",
    "outputId": "32394b60-14e8-4f40-b4e5-2acfb0f24b90"
   },
   "outputs": [
    {
     "data": {
      "text/plain": [
       "<bound method NDFrame.head of         duration protocol_type service flag  src_bytes  dst_bytes  land  \\\n",
       "0              0           tcp    http   SF        181       5450     0   \n",
       "1              0           tcp    http   SF        239        486     0   \n",
       "2              0           tcp    http   SF        235       1337     0   \n",
       "3              0           tcp    http   SF        219       1337     0   \n",
       "4              0           tcp    http   SF        217       2032     0   \n",
       "...          ...           ...     ...  ...        ...        ...   ...   \n",
       "494016         0           tcp    http   SF        310       1881     0   \n",
       "494017         0           tcp    http   SF        282       2286     0   \n",
       "494018         0           tcp    http   SF        203       1200     0   \n",
       "494019         0           tcp    http   SF        291       1200     0   \n",
       "494020         0           tcp    http   SF        219       1234     0   \n",
       "\n",
       "        wrong_fragment  urgent  hot  ...  dst_host_srv_count  \\\n",
       "0                    0       0    0  ...                   9   \n",
       "1                    0       0    0  ...                  19   \n",
       "2                    0       0    0  ...                  29   \n",
       "3                    0       0    0  ...                  39   \n",
       "4                    0       0    0  ...                  49   \n",
       "...                ...     ...  ...  ...                 ...   \n",
       "494016               0       0    0  ...                 255   \n",
       "494017               0       0    0  ...                 255   \n",
       "494018               0       0    0  ...                 255   \n",
       "494019               0       0    0  ...                 255   \n",
       "494020               0       0    0  ...                 255   \n",
       "\n",
       "        dst_host_same_srv_rate  dst_host_diff_srv_rate  \\\n",
       "0                          1.0                     0.0   \n",
       "1                          1.0                     0.0   \n",
       "2                          1.0                     0.0   \n",
       "3                          1.0                     0.0   \n",
       "4                          1.0                     0.0   \n",
       "...                        ...                     ...   \n",
       "494016                     1.0                     0.0   \n",
       "494017                     1.0                     0.0   \n",
       "494018                     1.0                     0.0   \n",
       "494019                     1.0                     0.0   \n",
       "494020                     1.0                     0.0   \n",
       "\n",
       "        dst_host_same_src_port_rate  dst_host_srv_diff_host_rate  \\\n",
       "0                              0.11                         0.00   \n",
       "1                              0.05                         0.00   \n",
       "2                              0.03                         0.00   \n",
       "3                              0.03                         0.00   \n",
       "4                              0.02                         0.00   \n",
       "...                             ...                          ...   \n",
       "494016                         0.01                         0.05   \n",
       "494017                         0.17                         0.05   \n",
       "494018                         0.06                         0.05   \n",
       "494019                         0.04                         0.05   \n",
       "494020                         0.17                         0.05   \n",
       "\n",
       "        dst_host_serror_rate  dst_host_srv_serror_rate  dst_host_rerror_rate  \\\n",
       "0                       0.00                      0.00                   0.0   \n",
       "1                       0.00                      0.00                   0.0   \n",
       "2                       0.00                      0.00                   0.0   \n",
       "3                       0.00                      0.00                   0.0   \n",
       "4                       0.00                      0.00                   0.0   \n",
       "...                      ...                       ...                   ...   \n",
       "494016                  0.00                      0.01                   0.0   \n",
       "494017                  0.00                      0.01                   0.0   \n",
       "494018                  0.06                      0.01                   0.0   \n",
       "494019                  0.04                      0.01                   0.0   \n",
       "494020                  0.00                      0.01                   0.0   \n",
       "\n",
       "        dst_host_srv_rerror_rate    label  \n",
       "0                            0.0  normal.  \n",
       "1                            0.0  normal.  \n",
       "2                            0.0  normal.  \n",
       "3                            0.0  normal.  \n",
       "4                            0.0  normal.  \n",
       "...                          ...      ...  \n",
       "494016                       0.0  normal.  \n",
       "494017                       0.0  normal.  \n",
       "494018                       0.0  normal.  \n",
       "494019                       0.0  normal.  \n",
       "494020                       0.0  normal.  \n",
       "\n",
       "[494021 rows x 42 columns]>"
      ]
     },
     "execution_count": 7,
     "metadata": {},
     "output_type": "execute_result"
    }
   ],
   "source": [
    "# this is a csv actually\n",
    "file_path_10p = 'kddcup.data_10_percent'\n",
    "df_10p = pd.read_csv(file_path_10p, header=None, names=col_names, index_col=False)\n",
    "df = df_10p\n",
    "df_10p.head"
   ]
  },
  {
   "cell_type": "code",
   "execution_count": 8,
   "metadata": {
    "colab": {
     "base_uri": "https://localhost:8080/"
    },
    "id": "sq4n094rY14y",
    "outputId": "1db963a8-bbe6-4107-9252-9947dd9db6b5"
   },
   "outputs": [
    {
     "name": "stdout",
     "output_type": "stream",
     "text": [
      "smurf.              280790\n",
      "neptune.            107201\n",
      "normal.              97278\n",
      "back.                 2203\n",
      "satan.                1589\n",
      "ipsweep.              1247\n",
      "portsweep.            1040\n",
      "warezclient.          1020\n",
      "teardrop.              979\n",
      "pod.                   264\n",
      "nmap.                  231\n",
      "guess_passwd.           53\n",
      "buffer_overflow.        30\n",
      "land.                   21\n",
      "warezmaster.            20\n",
      "imap.                   12\n",
      "rootkit.                10\n",
      "loadmodule.              9\n",
      "ftp_write.               8\n",
      "multihop.                7\n",
      "phf.                     4\n",
      "perl.                    3\n",
      "spy.                     2\n",
      "Name: label, dtype: int64\n"
     ]
    }
   ],
   "source": [
    "print(df_10p['label'].value_counts())"
   ]
  },
  {
   "cell_type": "code",
   "execution_count": 9,
   "metadata": {
    "id": "bAyo5HSpZVYN"
   },
   "outputs": [],
   "source": [
    "from sklearn import preprocessing"
   ]
  },
  {
   "cell_type": "code",
   "execution_count": 40,
   "metadata": {
    "colab": {
     "base_uri": "https://localhost:8080/"
    },
    "id": "wiBFpeGOZd2S",
    "outputId": "675dc88c-35b5-4dde-a4d7-8fe1ae6b3bcd"
   },
   "outputs": [
    {
     "name": "stdout",
     "output_type": "stream",
     "text": [
      "['back.' 'buffer_overflow.' 'ftp_write.' 'guess_passwd.' 'imap.'\n",
      " 'ipsweep.' 'land.' 'loadmodule.' 'multihop.' 'neptune.' 'nmap.' 'normal.'\n",
      " 'perl.' 'phf.' 'pod.' 'portsweep.' 'rootkit.' 'satan.' 'smurf.' 'spy.'\n",
      " 'teardrop.' 'warezclient.' 'warezmaster.']\n",
      "[11]\n"
     ]
    }
   ],
   "source": [
    "le_10p = preprocessing.LabelEncoder()\n",
    "le_10p.fit(df_10p.label)\n",
    "le = le_10p\n",
    "print(le_10p.classes_)\n",
    "\n",
    "print(le.transform(['normal.']))"
   ]
  },
  {
   "cell_type": "code",
   "execution_count": 11,
   "metadata": {
    "id": "VPOyY0IiaEMi"
   },
   "outputs": [],
   "source": [
    "col_categories = ['protocol_type', \n",
    "                  'service', \n",
    "                  'flag', \n",
    "                  'land', \n",
    "                  'logged_in', \n",
    "                  'is_host_login', \n",
    "                  'is_guest_login']"
   ]
  },
  {
   "cell_type": "code",
   "execution_count": 12,
   "metadata": {
    "id": "20nmB-4dwkkZ"
   },
   "outputs": [],
   "source": [
    "def get_with_one_hot_encoded(df, col_categories, le):\n",
    "  cat_data = pd.get_dummies(df[col_categories])\n",
    "  col_numerics = list(set(df.columns.values) - set(col_categories))\n",
    "  col_numerics.remove('label')\n",
    "\n",
    "  numerics_data = df[col_numerics].copy()\n",
    "  numerics_cat_data = pd.concat([numerics_data, cat_data] ,axis=1)\n",
    "\n",
    "  labels = df['label'].copy()\n",
    "  transormed_labels = le.transform(labels)\n",
    "\n",
    "  return numerics_cat_data, transormed_labels\n"
   ]
  },
  {
   "cell_type": "code",
   "execution_count": 13,
   "metadata": {
    "colab": {
     "base_uri": "https://localhost:8080/"
    },
    "id": "YmV4g8kcaeaq",
    "outputId": "3cdb3a12-af82-447a-99cc-933b77235ccd"
   },
   "outputs": [
    {
     "name": "stdout",
     "output_type": "stream",
     "text": [
      "ecr_i      281400\n",
      "private    110893\n",
      "http        64293\n",
      "smtp         9723\n",
      "other        7237\n",
      "            ...  \n",
      "X11            11\n",
      "tim_i           7\n",
      "pm_dump         1\n",
      "tftp_u          1\n",
      "red_i           1\n",
      "Name: service, Length: 66, dtype: int64\n"
     ]
    }
   ],
   "source": [
    "# just checking how data looks like\n",
    "print(df['service'].value_counts())"
   ]
  },
  {
   "cell_type": "code",
   "execution_count": 14,
   "metadata": {
    "colab": {
     "base_uri": "https://localhost:8080/",
     "height": 408
    },
    "id": "xXde7yqEawAw",
    "outputId": "03a72913-5372-4c8e-da44-ce7225f7ec70"
   },
   "outputs": [
    {
     "data": {
      "text/html": [
       "<div>\n",
       "<style scoped>\n",
       "    .dataframe tbody tr th:only-of-type {\n",
       "        vertical-align: middle;\n",
       "    }\n",
       "\n",
       "    .dataframe tbody tr th {\n",
       "        vertical-align: top;\n",
       "    }\n",
       "\n",
       "    .dataframe thead th {\n",
       "        text-align: right;\n",
       "    }\n",
       "</style>\n",
       "<table border=\"1\" class=\"dataframe\">\n",
       "  <thead>\n",
       "    <tr style=\"text-align: right;\">\n",
       "      <th></th>\n",
       "      <th>land</th>\n",
       "      <th>logged_in</th>\n",
       "      <th>is_host_login</th>\n",
       "      <th>is_guest_login</th>\n",
       "      <th>protocol_type_icmp</th>\n",
       "      <th>protocol_type_tcp</th>\n",
       "      <th>protocol_type_udp</th>\n",
       "      <th>service_IRC</th>\n",
       "      <th>service_X11</th>\n",
       "      <th>service_Z39_50</th>\n",
       "      <th>...</th>\n",
       "      <th>flag_REJ</th>\n",
       "      <th>flag_RSTO</th>\n",
       "      <th>flag_RSTOS0</th>\n",
       "      <th>flag_RSTR</th>\n",
       "      <th>flag_S0</th>\n",
       "      <th>flag_S1</th>\n",
       "      <th>flag_S2</th>\n",
       "      <th>flag_S3</th>\n",
       "      <th>flag_SF</th>\n",
       "      <th>flag_SH</th>\n",
       "    </tr>\n",
       "  </thead>\n",
       "  <tbody>\n",
       "    <tr>\n",
       "      <th>0</th>\n",
       "      <td>0</td>\n",
       "      <td>1</td>\n",
       "      <td>0</td>\n",
       "      <td>0</td>\n",
       "      <td>0</td>\n",
       "      <td>1</td>\n",
       "      <td>0</td>\n",
       "      <td>0</td>\n",
       "      <td>0</td>\n",
       "      <td>0</td>\n",
       "      <td>...</td>\n",
       "      <td>0</td>\n",
       "      <td>0</td>\n",
       "      <td>0</td>\n",
       "      <td>0</td>\n",
       "      <td>0</td>\n",
       "      <td>0</td>\n",
       "      <td>0</td>\n",
       "      <td>0</td>\n",
       "      <td>1</td>\n",
       "      <td>0</td>\n",
       "    </tr>\n",
       "    <tr>\n",
       "      <th>1</th>\n",
       "      <td>0</td>\n",
       "      <td>1</td>\n",
       "      <td>0</td>\n",
       "      <td>0</td>\n",
       "      <td>0</td>\n",
       "      <td>1</td>\n",
       "      <td>0</td>\n",
       "      <td>0</td>\n",
       "      <td>0</td>\n",
       "      <td>0</td>\n",
       "      <td>...</td>\n",
       "      <td>0</td>\n",
       "      <td>0</td>\n",
       "      <td>0</td>\n",
       "      <td>0</td>\n",
       "      <td>0</td>\n",
       "      <td>0</td>\n",
       "      <td>0</td>\n",
       "      <td>0</td>\n",
       "      <td>1</td>\n",
       "      <td>0</td>\n",
       "    </tr>\n",
       "    <tr>\n",
       "      <th>2</th>\n",
       "      <td>0</td>\n",
       "      <td>1</td>\n",
       "      <td>0</td>\n",
       "      <td>0</td>\n",
       "      <td>0</td>\n",
       "      <td>1</td>\n",
       "      <td>0</td>\n",
       "      <td>0</td>\n",
       "      <td>0</td>\n",
       "      <td>0</td>\n",
       "      <td>...</td>\n",
       "      <td>0</td>\n",
       "      <td>0</td>\n",
       "      <td>0</td>\n",
       "      <td>0</td>\n",
       "      <td>0</td>\n",
       "      <td>0</td>\n",
       "      <td>0</td>\n",
       "      <td>0</td>\n",
       "      <td>1</td>\n",
       "      <td>0</td>\n",
       "    </tr>\n",
       "    <tr>\n",
       "      <th>3</th>\n",
       "      <td>0</td>\n",
       "      <td>1</td>\n",
       "      <td>0</td>\n",
       "      <td>0</td>\n",
       "      <td>0</td>\n",
       "      <td>1</td>\n",
       "      <td>0</td>\n",
       "      <td>0</td>\n",
       "      <td>0</td>\n",
       "      <td>0</td>\n",
       "      <td>...</td>\n",
       "      <td>0</td>\n",
       "      <td>0</td>\n",
       "      <td>0</td>\n",
       "      <td>0</td>\n",
       "      <td>0</td>\n",
       "      <td>0</td>\n",
       "      <td>0</td>\n",
       "      <td>0</td>\n",
       "      <td>1</td>\n",
       "      <td>0</td>\n",
       "    </tr>\n",
       "    <tr>\n",
       "      <th>4</th>\n",
       "      <td>0</td>\n",
       "      <td>1</td>\n",
       "      <td>0</td>\n",
       "      <td>0</td>\n",
       "      <td>0</td>\n",
       "      <td>1</td>\n",
       "      <td>0</td>\n",
       "      <td>0</td>\n",
       "      <td>0</td>\n",
       "      <td>0</td>\n",
       "      <td>...</td>\n",
       "      <td>0</td>\n",
       "      <td>0</td>\n",
       "      <td>0</td>\n",
       "      <td>0</td>\n",
       "      <td>0</td>\n",
       "      <td>0</td>\n",
       "      <td>0</td>\n",
       "      <td>0</td>\n",
       "      <td>1</td>\n",
       "      <td>0</td>\n",
       "    </tr>\n",
       "    <tr>\n",
       "      <th>5</th>\n",
       "      <td>0</td>\n",
       "      <td>1</td>\n",
       "      <td>0</td>\n",
       "      <td>0</td>\n",
       "      <td>0</td>\n",
       "      <td>1</td>\n",
       "      <td>0</td>\n",
       "      <td>0</td>\n",
       "      <td>0</td>\n",
       "      <td>0</td>\n",
       "      <td>...</td>\n",
       "      <td>0</td>\n",
       "      <td>0</td>\n",
       "      <td>0</td>\n",
       "      <td>0</td>\n",
       "      <td>0</td>\n",
       "      <td>0</td>\n",
       "      <td>0</td>\n",
       "      <td>0</td>\n",
       "      <td>1</td>\n",
       "      <td>0</td>\n",
       "    </tr>\n",
       "    <tr>\n",
       "      <th>6</th>\n",
       "      <td>0</td>\n",
       "      <td>1</td>\n",
       "      <td>0</td>\n",
       "      <td>0</td>\n",
       "      <td>0</td>\n",
       "      <td>1</td>\n",
       "      <td>0</td>\n",
       "      <td>0</td>\n",
       "      <td>0</td>\n",
       "      <td>0</td>\n",
       "      <td>...</td>\n",
       "      <td>0</td>\n",
       "      <td>0</td>\n",
       "      <td>0</td>\n",
       "      <td>0</td>\n",
       "      <td>0</td>\n",
       "      <td>0</td>\n",
       "      <td>0</td>\n",
       "      <td>0</td>\n",
       "      <td>1</td>\n",
       "      <td>0</td>\n",
       "    </tr>\n",
       "    <tr>\n",
       "      <th>7</th>\n",
       "      <td>0</td>\n",
       "      <td>1</td>\n",
       "      <td>0</td>\n",
       "      <td>0</td>\n",
       "      <td>0</td>\n",
       "      <td>1</td>\n",
       "      <td>0</td>\n",
       "      <td>0</td>\n",
       "      <td>0</td>\n",
       "      <td>0</td>\n",
       "      <td>...</td>\n",
       "      <td>0</td>\n",
       "      <td>0</td>\n",
       "      <td>0</td>\n",
       "      <td>0</td>\n",
       "      <td>0</td>\n",
       "      <td>0</td>\n",
       "      <td>0</td>\n",
       "      <td>0</td>\n",
       "      <td>1</td>\n",
       "      <td>0</td>\n",
       "    </tr>\n",
       "    <tr>\n",
       "      <th>8</th>\n",
       "      <td>0</td>\n",
       "      <td>1</td>\n",
       "      <td>0</td>\n",
       "      <td>0</td>\n",
       "      <td>0</td>\n",
       "      <td>1</td>\n",
       "      <td>0</td>\n",
       "      <td>0</td>\n",
       "      <td>0</td>\n",
       "      <td>0</td>\n",
       "      <td>...</td>\n",
       "      <td>0</td>\n",
       "      <td>0</td>\n",
       "      <td>0</td>\n",
       "      <td>0</td>\n",
       "      <td>0</td>\n",
       "      <td>0</td>\n",
       "      <td>0</td>\n",
       "      <td>0</td>\n",
       "      <td>1</td>\n",
       "      <td>0</td>\n",
       "    </tr>\n",
       "    <tr>\n",
       "      <th>9</th>\n",
       "      <td>0</td>\n",
       "      <td>1</td>\n",
       "      <td>0</td>\n",
       "      <td>0</td>\n",
       "      <td>0</td>\n",
       "      <td>1</td>\n",
       "      <td>0</td>\n",
       "      <td>0</td>\n",
       "      <td>0</td>\n",
       "      <td>0</td>\n",
       "      <td>...</td>\n",
       "      <td>0</td>\n",
       "      <td>0</td>\n",
       "      <td>0</td>\n",
       "      <td>0</td>\n",
       "      <td>0</td>\n",
       "      <td>0</td>\n",
       "      <td>0</td>\n",
       "      <td>0</td>\n",
       "      <td>1</td>\n",
       "      <td>0</td>\n",
       "    </tr>\n",
       "  </tbody>\n",
       "</table>\n",
       "<p>10 rows × 84 columns</p>\n",
       "</div>"
      ],
      "text/plain": [
       "   land  logged_in  is_host_login  is_guest_login  protocol_type_icmp  \\\n",
       "0     0          1              0               0                   0   \n",
       "1     0          1              0               0                   0   \n",
       "2     0          1              0               0                   0   \n",
       "3     0          1              0               0                   0   \n",
       "4     0          1              0               0                   0   \n",
       "5     0          1              0               0                   0   \n",
       "6     0          1              0               0                   0   \n",
       "7     0          1              0               0                   0   \n",
       "8     0          1              0               0                   0   \n",
       "9     0          1              0               0                   0   \n",
       "\n",
       "   protocol_type_tcp  protocol_type_udp  service_IRC  service_X11  \\\n",
       "0                  1                  0            0            0   \n",
       "1                  1                  0            0            0   \n",
       "2                  1                  0            0            0   \n",
       "3                  1                  0            0            0   \n",
       "4                  1                  0            0            0   \n",
       "5                  1                  0            0            0   \n",
       "6                  1                  0            0            0   \n",
       "7                  1                  0            0            0   \n",
       "8                  1                  0            0            0   \n",
       "9                  1                  0            0            0   \n",
       "\n",
       "   service_Z39_50  ...  flag_REJ  flag_RSTO  flag_RSTOS0  flag_RSTR  flag_S0  \\\n",
       "0               0  ...         0          0            0          0        0   \n",
       "1               0  ...         0          0            0          0        0   \n",
       "2               0  ...         0          0            0          0        0   \n",
       "3               0  ...         0          0            0          0        0   \n",
       "4               0  ...         0          0            0          0        0   \n",
       "5               0  ...         0          0            0          0        0   \n",
       "6               0  ...         0          0            0          0        0   \n",
       "7               0  ...         0          0            0          0        0   \n",
       "8               0  ...         0          0            0          0        0   \n",
       "9               0  ...         0          0            0          0        0   \n",
       "\n",
       "   flag_S1  flag_S2  flag_S3  flag_SF  flag_SH  \n",
       "0        0        0        0        1        0  \n",
       "1        0        0        0        1        0  \n",
       "2        0        0        0        1        0  \n",
       "3        0        0        0        1        0  \n",
       "4        0        0        0        1        0  \n",
       "5        0        0        0        1        0  \n",
       "6        0        0        0        1        0  \n",
       "7        0        0        0        1        0  \n",
       "8        0        0        0        1        0  \n",
       "9        0        0        0        1        0  \n",
       "\n",
       "[10 rows x 84 columns]"
      ]
     },
     "execution_count": 14,
     "metadata": {},
     "output_type": "execute_result"
    }
   ],
   "source": [
    "# sample: protocol (\"http\", \"ftp\", \"smtp\")\n",
    "\n",
    "#abc.protocol = \"http\"\n",
    "#edf.protocol = \"smtp\"\n",
    "\n",
    "# sample | is_http | is_ftp | is_smtp\n",
    "#-----------------------------------------\n",
    "# abc.      1.         0.        0 \n",
    "# edf.      0.         0.        1\n",
    "\n",
    "\n",
    "# do one-hot encoding for the symbolic data\n",
    "cat_data = pd.get_dummies(df[col_categories])\n",
    "cat_data.head(10)"
   ]
  },
  {
   "cell_type": "code",
   "execution_count": 15,
   "metadata": {
    "id": "qW2CSPZ_bbDl"
   },
   "outputs": [],
   "source": [
    "# exclude symbolic columns from the original dataset\n",
    "\n",
    "col_numerics = list(set(df.columns.values) - set(col_categories))"
   ]
  },
  {
   "cell_type": "code",
   "execution_count": 16,
   "metadata": {
    "colab": {
     "base_uri": "https://localhost:8080/"
    },
    "id": "3_AxGdLIcfyL",
    "outputId": "05ef9c03-a43c-49e5-939f-8f54fd827c80"
   },
   "outputs": [
    {
     "name": "stdout",
     "output_type": "stream",
     "text": [
      "['dst_host_srv_diff_host_rate', 'dst_host_diff_srv_rate', 'num_compromised', 'dst_bytes', 'dst_host_srv_rerror_rate', 'wrong_fragment', 'dst_host_serror_rate', 'diff_srv_rate', 'same_srv_rate', 'dst_host_same_srv_rate', 'urgent', 'srv_serror_rate', 'num_failed_logins', 'dst_host_rerror_rate', 'srv_rerror_rate', 'num_shells', 'num_file_creations', 'num_root', 'duration', 'num_outbound_cmds', 'count', 'dst_host_srv_count', 'srv_diff_host_rate', 'label', 'dst_host_srv_serror_rate', 'serror_rate', 'hot', 'dst_host_count', 'src_bytes', 'rerror_rate', 'dst_host_same_src_port_rate', 'root_shell', 'srv_count', 'su_attempted', 'num_access_files']\n"
     ]
    }
   ],
   "source": [
    "print(col_numerics)\n",
    "col_numerics.remove('label')"
   ]
  },
  {
   "cell_type": "code",
   "execution_count": 17,
   "metadata": {
    "id": "XQfnTNK2c2uU"
   },
   "outputs": [],
   "source": [
    "# and add one-hot-encoded columns\n",
    "numerics_data = df[col_numerics].copy()\n",
    "numerics_cat_data = pd.concat([numerics_data, cat_data] ,axis=1)"
   ]
  },
  {
   "cell_type": "code",
   "execution_count": 18,
   "metadata": {
    "id": "NxkSFwx_dVac"
   },
   "outputs": [],
   "source": [
    "labels = df['label'].copy()\n",
    "transormed_labels = le.transform(labels)"
   ]
  },
  {
   "cell_type": "code",
   "execution_count": 19,
   "metadata": {
    "colab": {
     "base_uri": "https://localhost:8080/",
     "height": 439
    },
    "id": "C_VCPP6q0L22",
    "outputId": "30ca1d7d-4927-4d26-cdf6-33a0b63de5e5"
   },
   "outputs": [
    {
     "data": {
      "text/html": [
       "<div>\n",
       "<style scoped>\n",
       "    .dataframe tbody tr th:only-of-type {\n",
       "        vertical-align: middle;\n",
       "    }\n",
       "\n",
       "    .dataframe tbody tr th {\n",
       "        vertical-align: top;\n",
       "    }\n",
       "\n",
       "    .dataframe thead th {\n",
       "        text-align: right;\n",
       "    }\n",
       "</style>\n",
       "<table border=\"1\" class=\"dataframe\">\n",
       "  <thead>\n",
       "    <tr style=\"text-align: right;\">\n",
       "      <th></th>\n",
       "      <th>duration</th>\n",
       "      <th>protocol_type</th>\n",
       "      <th>service</th>\n",
       "      <th>flag</th>\n",
       "      <th>src_bytes</th>\n",
       "      <th>dst_bytes</th>\n",
       "      <th>land</th>\n",
       "      <th>wrong_fragment</th>\n",
       "      <th>urgent</th>\n",
       "      <th>hot</th>\n",
       "      <th>...</th>\n",
       "      <th>dst_host_srv_count</th>\n",
       "      <th>dst_host_same_srv_rate</th>\n",
       "      <th>dst_host_diff_srv_rate</th>\n",
       "      <th>dst_host_same_src_port_rate</th>\n",
       "      <th>dst_host_srv_diff_host_rate</th>\n",
       "      <th>dst_host_serror_rate</th>\n",
       "      <th>dst_host_srv_serror_rate</th>\n",
       "      <th>dst_host_rerror_rate</th>\n",
       "      <th>dst_host_srv_rerror_rate</th>\n",
       "      <th>label</th>\n",
       "    </tr>\n",
       "  </thead>\n",
       "  <tbody>\n",
       "    <tr>\n",
       "      <th>0</th>\n",
       "      <td>0</td>\n",
       "      <td>tcp</td>\n",
       "      <td>http</td>\n",
       "      <td>SF</td>\n",
       "      <td>181</td>\n",
       "      <td>5450</td>\n",
       "      <td>0</td>\n",
       "      <td>0</td>\n",
       "      <td>0</td>\n",
       "      <td>0</td>\n",
       "      <td>...</td>\n",
       "      <td>9</td>\n",
       "      <td>1.0</td>\n",
       "      <td>0.0</td>\n",
       "      <td>0.11</td>\n",
       "      <td>0.00</td>\n",
       "      <td>0.00</td>\n",
       "      <td>0.00</td>\n",
       "      <td>0.0</td>\n",
       "      <td>0.0</td>\n",
       "      <td>normal.</td>\n",
       "    </tr>\n",
       "    <tr>\n",
       "      <th>1</th>\n",
       "      <td>0</td>\n",
       "      <td>tcp</td>\n",
       "      <td>http</td>\n",
       "      <td>SF</td>\n",
       "      <td>239</td>\n",
       "      <td>486</td>\n",
       "      <td>0</td>\n",
       "      <td>0</td>\n",
       "      <td>0</td>\n",
       "      <td>0</td>\n",
       "      <td>...</td>\n",
       "      <td>19</td>\n",
       "      <td>1.0</td>\n",
       "      <td>0.0</td>\n",
       "      <td>0.05</td>\n",
       "      <td>0.00</td>\n",
       "      <td>0.00</td>\n",
       "      <td>0.00</td>\n",
       "      <td>0.0</td>\n",
       "      <td>0.0</td>\n",
       "      <td>normal.</td>\n",
       "    </tr>\n",
       "    <tr>\n",
       "      <th>2</th>\n",
       "      <td>0</td>\n",
       "      <td>tcp</td>\n",
       "      <td>http</td>\n",
       "      <td>SF</td>\n",
       "      <td>235</td>\n",
       "      <td>1337</td>\n",
       "      <td>0</td>\n",
       "      <td>0</td>\n",
       "      <td>0</td>\n",
       "      <td>0</td>\n",
       "      <td>...</td>\n",
       "      <td>29</td>\n",
       "      <td>1.0</td>\n",
       "      <td>0.0</td>\n",
       "      <td>0.03</td>\n",
       "      <td>0.00</td>\n",
       "      <td>0.00</td>\n",
       "      <td>0.00</td>\n",
       "      <td>0.0</td>\n",
       "      <td>0.0</td>\n",
       "      <td>normal.</td>\n",
       "    </tr>\n",
       "    <tr>\n",
       "      <th>3</th>\n",
       "      <td>0</td>\n",
       "      <td>tcp</td>\n",
       "      <td>http</td>\n",
       "      <td>SF</td>\n",
       "      <td>219</td>\n",
       "      <td>1337</td>\n",
       "      <td>0</td>\n",
       "      <td>0</td>\n",
       "      <td>0</td>\n",
       "      <td>0</td>\n",
       "      <td>...</td>\n",
       "      <td>39</td>\n",
       "      <td>1.0</td>\n",
       "      <td>0.0</td>\n",
       "      <td>0.03</td>\n",
       "      <td>0.00</td>\n",
       "      <td>0.00</td>\n",
       "      <td>0.00</td>\n",
       "      <td>0.0</td>\n",
       "      <td>0.0</td>\n",
       "      <td>normal.</td>\n",
       "    </tr>\n",
       "    <tr>\n",
       "      <th>4</th>\n",
       "      <td>0</td>\n",
       "      <td>tcp</td>\n",
       "      <td>http</td>\n",
       "      <td>SF</td>\n",
       "      <td>217</td>\n",
       "      <td>2032</td>\n",
       "      <td>0</td>\n",
       "      <td>0</td>\n",
       "      <td>0</td>\n",
       "      <td>0</td>\n",
       "      <td>...</td>\n",
       "      <td>49</td>\n",
       "      <td>1.0</td>\n",
       "      <td>0.0</td>\n",
       "      <td>0.02</td>\n",
       "      <td>0.00</td>\n",
       "      <td>0.00</td>\n",
       "      <td>0.00</td>\n",
       "      <td>0.0</td>\n",
       "      <td>0.0</td>\n",
       "      <td>normal.</td>\n",
       "    </tr>\n",
       "    <tr>\n",
       "      <th>...</th>\n",
       "      <td>...</td>\n",
       "      <td>...</td>\n",
       "      <td>...</td>\n",
       "      <td>...</td>\n",
       "      <td>...</td>\n",
       "      <td>...</td>\n",
       "      <td>...</td>\n",
       "      <td>...</td>\n",
       "      <td>...</td>\n",
       "      <td>...</td>\n",
       "      <td>...</td>\n",
       "      <td>...</td>\n",
       "      <td>...</td>\n",
       "      <td>...</td>\n",
       "      <td>...</td>\n",
       "      <td>...</td>\n",
       "      <td>...</td>\n",
       "      <td>...</td>\n",
       "      <td>...</td>\n",
       "      <td>...</td>\n",
       "      <td>...</td>\n",
       "    </tr>\n",
       "    <tr>\n",
       "      <th>494016</th>\n",
       "      <td>0</td>\n",
       "      <td>tcp</td>\n",
       "      <td>http</td>\n",
       "      <td>SF</td>\n",
       "      <td>310</td>\n",
       "      <td>1881</td>\n",
       "      <td>0</td>\n",
       "      <td>0</td>\n",
       "      <td>0</td>\n",
       "      <td>0</td>\n",
       "      <td>...</td>\n",
       "      <td>255</td>\n",
       "      <td>1.0</td>\n",
       "      <td>0.0</td>\n",
       "      <td>0.01</td>\n",
       "      <td>0.05</td>\n",
       "      <td>0.00</td>\n",
       "      <td>0.01</td>\n",
       "      <td>0.0</td>\n",
       "      <td>0.0</td>\n",
       "      <td>normal.</td>\n",
       "    </tr>\n",
       "    <tr>\n",
       "      <th>494017</th>\n",
       "      <td>0</td>\n",
       "      <td>tcp</td>\n",
       "      <td>http</td>\n",
       "      <td>SF</td>\n",
       "      <td>282</td>\n",
       "      <td>2286</td>\n",
       "      <td>0</td>\n",
       "      <td>0</td>\n",
       "      <td>0</td>\n",
       "      <td>0</td>\n",
       "      <td>...</td>\n",
       "      <td>255</td>\n",
       "      <td>1.0</td>\n",
       "      <td>0.0</td>\n",
       "      <td>0.17</td>\n",
       "      <td>0.05</td>\n",
       "      <td>0.00</td>\n",
       "      <td>0.01</td>\n",
       "      <td>0.0</td>\n",
       "      <td>0.0</td>\n",
       "      <td>normal.</td>\n",
       "    </tr>\n",
       "    <tr>\n",
       "      <th>494018</th>\n",
       "      <td>0</td>\n",
       "      <td>tcp</td>\n",
       "      <td>http</td>\n",
       "      <td>SF</td>\n",
       "      <td>203</td>\n",
       "      <td>1200</td>\n",
       "      <td>0</td>\n",
       "      <td>0</td>\n",
       "      <td>0</td>\n",
       "      <td>0</td>\n",
       "      <td>...</td>\n",
       "      <td>255</td>\n",
       "      <td>1.0</td>\n",
       "      <td>0.0</td>\n",
       "      <td>0.06</td>\n",
       "      <td>0.05</td>\n",
       "      <td>0.06</td>\n",
       "      <td>0.01</td>\n",
       "      <td>0.0</td>\n",
       "      <td>0.0</td>\n",
       "      <td>normal.</td>\n",
       "    </tr>\n",
       "    <tr>\n",
       "      <th>494019</th>\n",
       "      <td>0</td>\n",
       "      <td>tcp</td>\n",
       "      <td>http</td>\n",
       "      <td>SF</td>\n",
       "      <td>291</td>\n",
       "      <td>1200</td>\n",
       "      <td>0</td>\n",
       "      <td>0</td>\n",
       "      <td>0</td>\n",
       "      <td>0</td>\n",
       "      <td>...</td>\n",
       "      <td>255</td>\n",
       "      <td>1.0</td>\n",
       "      <td>0.0</td>\n",
       "      <td>0.04</td>\n",
       "      <td>0.05</td>\n",
       "      <td>0.04</td>\n",
       "      <td>0.01</td>\n",
       "      <td>0.0</td>\n",
       "      <td>0.0</td>\n",
       "      <td>normal.</td>\n",
       "    </tr>\n",
       "    <tr>\n",
       "      <th>494020</th>\n",
       "      <td>0</td>\n",
       "      <td>tcp</td>\n",
       "      <td>http</td>\n",
       "      <td>SF</td>\n",
       "      <td>219</td>\n",
       "      <td>1234</td>\n",
       "      <td>0</td>\n",
       "      <td>0</td>\n",
       "      <td>0</td>\n",
       "      <td>0</td>\n",
       "      <td>...</td>\n",
       "      <td>255</td>\n",
       "      <td>1.0</td>\n",
       "      <td>0.0</td>\n",
       "      <td>0.17</td>\n",
       "      <td>0.05</td>\n",
       "      <td>0.00</td>\n",
       "      <td>0.01</td>\n",
       "      <td>0.0</td>\n",
       "      <td>0.0</td>\n",
       "      <td>normal.</td>\n",
       "    </tr>\n",
       "  </tbody>\n",
       "</table>\n",
       "<p>494021 rows × 42 columns</p>\n",
       "</div>"
      ],
      "text/plain": [
       "        duration protocol_type service flag  src_bytes  dst_bytes  land  \\\n",
       "0              0           tcp    http   SF        181       5450     0   \n",
       "1              0           tcp    http   SF        239        486     0   \n",
       "2              0           tcp    http   SF        235       1337     0   \n",
       "3              0           tcp    http   SF        219       1337     0   \n",
       "4              0           tcp    http   SF        217       2032     0   \n",
       "...          ...           ...     ...  ...        ...        ...   ...   \n",
       "494016         0           tcp    http   SF        310       1881     0   \n",
       "494017         0           tcp    http   SF        282       2286     0   \n",
       "494018         0           tcp    http   SF        203       1200     0   \n",
       "494019         0           tcp    http   SF        291       1200     0   \n",
       "494020         0           tcp    http   SF        219       1234     0   \n",
       "\n",
       "        wrong_fragment  urgent  hot  ...  dst_host_srv_count  \\\n",
       "0                    0       0    0  ...                   9   \n",
       "1                    0       0    0  ...                  19   \n",
       "2                    0       0    0  ...                  29   \n",
       "3                    0       0    0  ...                  39   \n",
       "4                    0       0    0  ...                  49   \n",
       "...                ...     ...  ...  ...                 ...   \n",
       "494016               0       0    0  ...                 255   \n",
       "494017               0       0    0  ...                 255   \n",
       "494018               0       0    0  ...                 255   \n",
       "494019               0       0    0  ...                 255   \n",
       "494020               0       0    0  ...                 255   \n",
       "\n",
       "        dst_host_same_srv_rate  dst_host_diff_srv_rate  \\\n",
       "0                          1.0                     0.0   \n",
       "1                          1.0                     0.0   \n",
       "2                          1.0                     0.0   \n",
       "3                          1.0                     0.0   \n",
       "4                          1.0                     0.0   \n",
       "...                        ...                     ...   \n",
       "494016                     1.0                     0.0   \n",
       "494017                     1.0                     0.0   \n",
       "494018                     1.0                     0.0   \n",
       "494019                     1.0                     0.0   \n",
       "494020                     1.0                     0.0   \n",
       "\n",
       "        dst_host_same_src_port_rate  dst_host_srv_diff_host_rate  \\\n",
       "0                              0.11                         0.00   \n",
       "1                              0.05                         0.00   \n",
       "2                              0.03                         0.00   \n",
       "3                              0.03                         0.00   \n",
       "4                              0.02                         0.00   \n",
       "...                             ...                          ...   \n",
       "494016                         0.01                         0.05   \n",
       "494017                         0.17                         0.05   \n",
       "494018                         0.06                         0.05   \n",
       "494019                         0.04                         0.05   \n",
       "494020                         0.17                         0.05   \n",
       "\n",
       "        dst_host_serror_rate  dst_host_srv_serror_rate  dst_host_rerror_rate  \\\n",
       "0                       0.00                      0.00                   0.0   \n",
       "1                       0.00                      0.00                   0.0   \n",
       "2                       0.00                      0.00                   0.0   \n",
       "3                       0.00                      0.00                   0.0   \n",
       "4                       0.00                      0.00                   0.0   \n",
       "...                      ...                       ...                   ...   \n",
       "494016                  0.00                      0.01                   0.0   \n",
       "494017                  0.00                      0.01                   0.0   \n",
       "494018                  0.06                      0.01                   0.0   \n",
       "494019                  0.04                      0.01                   0.0   \n",
       "494020                  0.00                      0.01                   0.0   \n",
       "\n",
       "        dst_host_srv_rerror_rate    label  \n",
       "0                            0.0  normal.  \n",
       "1                            0.0  normal.  \n",
       "2                            0.0  normal.  \n",
       "3                            0.0  normal.  \n",
       "4                            0.0  normal.  \n",
       "...                          ...      ...  \n",
       "494016                       0.0  normal.  \n",
       "494017                       0.0  normal.  \n",
       "494018                       0.0  normal.  \n",
       "494019                       0.0  normal.  \n",
       "494020                       0.0  normal.  \n",
       "\n",
       "[494021 rows x 42 columns]"
      ]
     },
     "execution_count": 19,
     "metadata": {},
     "output_type": "execute_result"
    }
   ],
   "source": [
    "df"
   ]
  },
  {
   "cell_type": "code",
   "execution_count": 20,
   "metadata": {
    "id": "NvfBSxUVzAo9"
   },
   "outputs": [],
   "source": [
    "x_10p, y_10p = get_with_one_hot_encoded(df_10p, col_categories, le_10p)"
   ]
  },
  {
   "cell_type": "code",
   "execution_count": 21,
   "metadata": {
    "id": "hKMogz8leOtK"
   },
   "outputs": [],
   "source": [
    "from sklearn.model_selection import train_test_split"
   ]
  },
  {
   "cell_type": "code",
   "execution_count": 22,
   "metadata": {
    "id": "BDWCCIypeof8"
   },
   "outputs": [],
   "source": [
    "# split dataset (with applied transforms) + labels \n",
    "# into train/test with 75% ratio\n",
    "\n",
    "x_train, x_test, y_train, y_test = train_test_split(\n",
    "    x_10p, # numerics_cat_data,\n",
    "    y_10p, #transormed_labels,\n",
    "    test_size = 0.25,\n",
    "    random_state = 42)"
   ]
  },
  {
   "cell_type": "code",
   "execution_count": 23,
   "metadata": {
    "colab": {
     "base_uri": "https://localhost:8080/"
    },
    "id": "0B90QKFKfLGq",
    "outputId": "c4ef2196-0557-4425-8da5-9f1f91ae9a67"
   },
   "outputs": [
    {
     "name": "stdout",
     "output_type": "stream",
     "text": [
      "(370515, 118)\n",
      "(123506, 118)\n",
      "(370515,)\n",
      "(123506,)\n"
     ]
    }
   ],
   "source": [
    "print(x_train.shape)\n",
    "print(x_test.shape)\n",
    "print(y_train.shape)\n",
    "print(y_test.shape)"
   ]
  },
  {
   "cell_type": "code",
   "execution_count": 24,
   "metadata": {
    "id": "IR1W-9i9fqC5"
   },
   "outputs": [],
   "source": [
    "import pickle"
   ]
  },
  {
   "cell_type": "code",
   "execution_count": 25,
   "metadata": {
    "id": "Lv8sr8JOfxAC"
   },
   "outputs": [],
   "source": [
    "preprocessed_data = {\n",
    "    'x_train': x_train,\n",
    "    'x_test': x_test,\n",
    "    'y_train': y_train,\n",
    "    'y_test': y_test,\n",
    "    'le': le_10p\n",
    "}\n",
    "\n",
    "pickle_path = 'kddcup.data_10_percent.pkl'\n",
    "with open(pickle_path, 'wb') as f:\n",
    "  pickle.dump(preprocessed_data, f)"
   ]
  },
  {
   "cell_type": "markdown",
   "metadata": {
    "id": "AmWJX555y7vL"
   },
   "source": [
    "## 1. Random Forest approach"
   ]
  },
  {
   "cell_type": "code",
   "execution_count": 26,
   "metadata": {
    "id": "YwjVpUnwiEW1"
   },
   "outputs": [],
   "source": [
    "from sklearn.ensemble import RandomForestClassifier\n",
    "from sklearn.datasets import make_classification"
   ]
  },
  {
   "cell_type": "code",
   "execution_count": 27,
   "metadata": {
    "id": "Rp-DVUZ1iSOu"
   },
   "outputs": [
    {
     "data": {
      "text/plain": [
       "RandomForestClassifier(max_depth=5)"
      ]
     },
     "execution_count": 27,
     "metadata": {},
     "output_type": "execute_result"
    }
   ],
   "source": [
    "model = RandomForestClassifier(max_depth=5) \n",
    "model.fit(x_train, y_train) "
   ]
  },
  {
   "cell_type": "code",
   "execution_count": 29,
   "metadata": {
    "id": "2G8z5JrqifOs"
   },
   "outputs": [],
   "source": [
    "from sklearn import tree\n",
    "from os import system\n",
    "import graphviz\n",
    "\n",
    "estimator = model.estimators_[0] \n",
    "feature_names = [i for i in x_train.columns] \n",
    "\n",
    "tree.export_graphviz(estimator, out_file='tree.dot', \n",
    "                feature_names = feature_names, \n",
    "                rounded = True, \n",
    "                filled = True) \n",
    " \n",
    "#system.call(['dot', '-Tpng', 'tree.dot', '-o', 'tree.png', '-Gdpi=600']) \n",
    " \n",
    "#Image(filename = 'tree.png') \n",
    "\n",
    "#from IPython.display import display\n",
    "#display(graphviz.Source(tree_dot))\n"
   ]
  },
  {
   "cell_type": "code",
   "execution_count": 30,
   "metadata": {
    "id": "vDzq9OoLjnaB"
   },
   "outputs": [],
   "source": [
    "!dot -Tpng tree.dot -o tree.png"
   ]
  },
  {
   "cell_type": "code",
   "execution_count": 31,
   "metadata": {
    "id": "TwEaXoXYkG-b"
   },
   "outputs": [],
   "source": [
    "y_predict = model.predict(x_test)"
   ]
  },
  {
   "cell_type": "code",
   "execution_count": 34,
   "metadata": {
    "id": "wBXQRRvbkUuB"
   },
   "outputs": [],
   "source": [
    "from sklearn.metrics import confusion_matrix\n",
    "import matplotlib.pyplot as plt\n",
    "from sklearn.metrics import plot_confusion_matrix\n",
    "import seaborn as sn"
   ]
  },
  {
   "cell_type": "code",
   "execution_count": 35,
   "metadata": {
    "colab": {
     "base_uri": "https://localhost:8080/",
     "height": 285
    },
    "id": "KTyrPlAqk15n",
    "outputId": "cff3b2d7-163e-4d12-aae5-0b661c719f0a"
   },
   "outputs": [
    {
     "data": {
      "text/plain": [
       "<AxesSubplot:>"
      ]
     },
     "execution_count": 35,
     "metadata": {},
     "output_type": "execute_result"
    },
    {
     "data": {
      "image/png": "[encoded data removed]",
      "text/plain": [
       "<Figure size 432x288 with 2 Axes>"
      ]
     },
     "metadata": {
      "needs_background": "light"
     },
     "output_type": "display_data"
    }
   ],
   "source": [
    "matr = confusion_matrix(y_predict, y_test)\n",
    "sn.heatmap(matr, annot=True)\n"
   ]
  },
  {
   "cell_type": "markdown",
   "metadata": {
    "id": "DNbsyJvc0qKd"
   },
   "source": [
    "## 2. GAN approach"
   ]
  },
  {
   "cell_type": "code",
   "execution_count": null,
   "metadata": {
    "id": "9EStTuox2E75"
   },
   "outputs": [],
   "source": [
    "import pickle\n",
    "\n",
    "import numpy as np\n",
    "import pandas as pd\n",
    "\n",
    "from sklearn.preprocessing import MinMaxScaler\n",
    "\n",
    "import collections\n",
    "\n",
    "from keras.models import Sequential\n",
    "from keras.layers import Dense, Activation, Input, Dropout\n",
    "from tensorflow.keras.optimizers import Adam\n",
    "from keras import Model\n",
    "\n",
    "# https://github.com/tqdm/tqdm\n",
    "from tqdm import tqdm\n",
    "\n",
    "import matplotlib.pyplot as plt"
   ]
  },
  {
   "cell_type": "code",
   "execution_count": null,
   "metadata": {
    "id": "iOHwaF3H0v3y"
   },
   "outputs": [],
   "source": [
    "# load data back from pickle file:\n",
    "pickle_file = '/content/kdd/kddcup.data_10_percent.pkl'\n",
    "with open(pickle_file, 'rb') as f:\n",
    "    preprocessed_data = pickle.load(f)\n",
    "\n",
    "# check what's inside:\n",
    "for key in preprocessed_data:\n",
    "  print (key)"
   ]
  },
  {
   "cell_type": "code",
   "execution_count": null,
   "metadata": {
    "id": "JfnqjBtb1mOm"
   },
   "outputs": [],
   "source": [
    "le = preprocessed_data[\"le\"]\n",
    "x_train = preprocessed_data[\"x_train\"]\n",
    "y_train = preprocessed_data[\"y_train\"]\n",
    "x_test = preprocessed_data[\"x_test\"]\n",
    "y_test = preprocessed_data[\"y_test\"]"
   ]
  },
  {
   "cell_type": "code",
   "execution_count": null,
   "metadata": {
    "id": "jd0GHqM419Xw"
   },
   "outputs": [],
   "source": [
    "# lets identify what results do we actually have in labels..\n",
    "np.unique(y_test)"
   ]
  },
  {
   "cell_type": "code",
   "execution_count": null,
   "metadata": {
    "id": "0C4wu1nE2g9I"
   },
   "outputs": [],
   "source": [
    "# we need to distinguish 'Normal' vs rest of labels, hence lets preprocess them a bit:\n",
    "\n",
    "# find Normal class label:\n",
    "pd.DataFrame(le.classes_)\n",
    "# normal. == 11"
   ]
  },
  {
   "cell_type": "code",
   "execution_count": null,
   "metadata": {
    "id": "TdmlzkcU27kj"
   },
   "outputs": [],
   "source": [
    "NORMAL_LABEL = 11\n",
    "\n",
    "# Semantics:\n",
    "#  0 - real data, \"normal\"\n",
    "#  1 - real, but not normal\n",
    "\n",
    "# decode multi-class verctor into binary\n",
    "y_train[y_train != NORMAL_LABEL] = 1\n",
    "y_train[y_train == NORMAL_LABEL] = 0\n",
    "\n",
    "y_test[y_test != NORMAL_LABEL] = 1\n",
    "y_test[y_test == NORMAL_LABEL] = 0\n"
   ]
  },
  {
   "cell_type": "code",
   "execution_count": null,
   "metadata": {
    "id": "Of6QsHyf4ISn"
   },
   "outputs": [],
   "source": [
    "# we want to keep Normal packets for GAN training\n",
    "\n",
    "temp = x_train.copy()\n",
    "temp['label'] = y_train\n",
    "temp = temp.loc[temp['label'] == 0]\n",
    "temp = temp.drop('label', axis = 1)\n",
    "x_train = temp.copy() \n",
    "\n",
    "# as a result:\n",
    "# training dataset - will contain only normal packets\n",
    "# test datatet - will contain both types of data\n"
   ]
  },
  {
   "cell_type": "code",
   "execution_count": null,
   "metadata": {
    "id": "xqp4q9EW6KNf"
   },
   "outputs": [],
   "source": [
    "scaler01 = MinMaxScaler()\n",
    "\n",
    "x_train = scaler01.fit_transform(x_train)\n",
    "x_test = scaler01.transform(x_test)"
   ]
  },
  {
   "cell_type": "code",
   "execution_count": null,
   "metadata": {
    "id": "8xLR1iTc6gR4"
   },
   "outputs": [],
   "source": [
    "dataset = {\n",
    "    'x_train': x_train.astype(np.float32),\n",
    "    'y_train': y_train.astype(np.float32),\n",
    "    'x_test': x_test.astype(np.float32),\n",
    "    'y_test': y_test.astype(np.float32)\n",
    "}"
   ]
  },
  {
   "cell_type": "code",
   "execution_count": null,
   "metadata": {
    "id": "sSd8xWmMB6JP"
   },
   "outputs": [],
   "source": [
    "print('Training set, normal packets = ', x_train.shape[0])\n",
    "print('Testing set, normal packets = ', collections.Counter(y_test)[0])\n",
    "print('Testing set, normal packets = ', collections.Counter(y_test)[1])\n"
   ]
  },
  {
   "cell_type": "markdown",
   "metadata": {
    "id": "OlwTTBltCrqr"
   },
   "source": [
    "Gan model to build:\n",
    "\n",
    "\n",
    "![gan.png](data:image/png;base64,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)\n"
   ]
  },
  {
   "cell_type": "code",
   "execution_count": null,
   "metadata": {
    "colab": {
     "base_uri": "https://localhost:8080/"
    },
    "id": "wrzS_nhUEeGl",
    "outputId": "ebdeafbd-661b-4120-d839-9a013cef6dad"
   },
   "outputs": [
    {
     "name": "stdout",
     "output_type": "stream",
     "text": [
      "x_train\n",
      "x_test\n",
      "y_train\n",
      "y_test\n",
      "le\n"
     ]
    }
   ],
   "source": [
    "# load data back from pickle file:\n",
    "pickle_file = '/content/kdd/kddcup.data_10_percent.pkl'\n",
    "with open(pickle_file, 'rb') as f:\n",
    "    preprocessed_data = pickle.load(f)\n",
    "\n",
    "# check what's inside:\n",
    "for key in preprocessed_data:\n",
    "  print (key)"
   ]
  },
  {
   "cell_type": "code",
   "execution_count": null,
   "metadata": {
    "id": "7MoIWAi2EjJP"
   },
   "outputs": [],
   "source": [
    "le = preprocessed_data[\"le\"]\n",
    "x_train = preprocessed_data[\"x_train\"]\n",
    "y_train = preprocessed_data[\"y_train\"]\n",
    "x_test = preprocessed_data[\"x_test\"]\n",
    "y_test = preprocessed_data[\"y_test\"]"
   ]
  },
  {
   "cell_type": "code",
   "execution_count": null,
   "metadata": {
    "colab": {
     "base_uri": "https://localhost:8080/",
     "height": 762
    },
    "id": "g-RbNJ37ErJ5",
    "outputId": "ec99573e-e03b-455c-c360-02bc6dced6a0"
   },
   "outputs": [
    {
     "data": {
      "text/html": [
       "<div>\n",
       "<style scoped>\n",
       "    .dataframe tbody tr th:only-of-type {\n",
       "        vertical-align: middle;\n",
       "    }\n",
       "\n",
       "    .dataframe tbody tr th {\n",
       "        vertical-align: top;\n",
       "    }\n",
       "\n",
       "    .dataframe thead th {\n",
       "        text-align: right;\n",
       "    }\n",
       "</style>\n",
       "<table border=\"1\" class=\"dataframe\">\n",
       "  <thead>\n",
       "    <tr style=\"text-align: right;\">\n",
       "      <th></th>\n",
       "      <th>0</th>\n",
       "    </tr>\n",
       "  </thead>\n",
       "  <tbody>\n",
       "    <tr>\n",
       "      <th>0</th>\n",
       "      <td>back.</td>\n",
       "    </tr>\n",
       "    <tr>\n",
       "      <th>1</th>\n",
       "      <td>buffer_overflow.</td>\n",
       "    </tr>\n",
       "    <tr>\n",
       "      <th>2</th>\n",
       "      <td>ftp_write.</td>\n",
       "    </tr>\n",
       "    <tr>\n",
       "      <th>3</th>\n",
       "      <td>guess_passwd.</td>\n",
       "    </tr>\n",
       "    <tr>\n",
       "      <th>4</th>\n",
       "      <td>imap.</td>\n",
       "    </tr>\n",
       "    <tr>\n",
       "      <th>5</th>\n",
       "      <td>ipsweep.</td>\n",
       "    </tr>\n",
       "    <tr>\n",
       "      <th>6</th>\n",
       "      <td>land.</td>\n",
       "    </tr>\n",
       "    <tr>\n",
       "      <th>7</th>\n",
       "      <td>loadmodule.</td>\n",
       "    </tr>\n",
       "    <tr>\n",
       "      <th>8</th>\n",
       "      <td>multihop.</td>\n",
       "    </tr>\n",
       "    <tr>\n",
       "      <th>9</th>\n",
       "      <td>neptune.</td>\n",
       "    </tr>\n",
       "    <tr>\n",
       "      <th>10</th>\n",
       "      <td>nmap.</td>\n",
       "    </tr>\n",
       "    <tr>\n",
       "      <th>11</th>\n",
       "      <td>normal.</td>\n",
       "    </tr>\n",
       "    <tr>\n",
       "      <th>12</th>\n",
       "      <td>perl.</td>\n",
       "    </tr>\n",
       "    <tr>\n",
       "      <th>13</th>\n",
       "      <td>phf.</td>\n",
       "    </tr>\n",
       "    <tr>\n",
       "      <th>14</th>\n",
       "      <td>pod.</td>\n",
       "    </tr>\n",
       "    <tr>\n",
       "      <th>15</th>\n",
       "      <td>portsweep.</td>\n",
       "    </tr>\n",
       "    <tr>\n",
       "      <th>16</th>\n",
       "      <td>rootkit.</td>\n",
       "    </tr>\n",
       "    <tr>\n",
       "      <th>17</th>\n",
       "      <td>satan.</td>\n",
       "    </tr>\n",
       "    <tr>\n",
       "      <th>18</th>\n",
       "      <td>smurf.</td>\n",
       "    </tr>\n",
       "    <tr>\n",
       "      <th>19</th>\n",
       "      <td>spy.</td>\n",
       "    </tr>\n",
       "    <tr>\n",
       "      <th>20</th>\n",
       "      <td>teardrop.</td>\n",
       "    </tr>\n",
       "    <tr>\n",
       "      <th>21</th>\n",
       "      <td>warezclient.</td>\n",
       "    </tr>\n",
       "    <tr>\n",
       "      <th>22</th>\n",
       "      <td>warezmaster.</td>\n",
       "    </tr>\n",
       "  </tbody>\n",
       "</table>\n",
       "</div>"
      ],
      "text/plain": [
       "                   0\n",
       "0              back.\n",
       "1   buffer_overflow.\n",
       "2         ftp_write.\n",
       "3      guess_passwd.\n",
       "4              imap.\n",
       "5           ipsweep.\n",
       "6              land.\n",
       "7        loadmodule.\n",
       "8          multihop.\n",
       "9           neptune.\n",
       "10             nmap.\n",
       "11           normal.\n",
       "12             perl.\n",
       "13              phf.\n",
       "14              pod.\n",
       "15        portsweep.\n",
       "16          rootkit.\n",
       "17            satan.\n",
       "18            smurf.\n",
       "19              spy.\n",
       "20         teardrop.\n",
       "21      warezclient.\n",
       "22      warezmaster."
      ]
     },
     "execution_count": 41,
     "metadata": {},
     "output_type": "execute_result"
    }
   ],
   "source": [
    "# we need to distinguish 'Normal' vs rest of labels, hence lets preprocess them a bit:\n",
    "\n",
    "# find Normal class label:\n",
    "pd.DataFrame(le.classes_)\n",
    "# normal. == 11"
   ]
  },
  {
   "cell_type": "code",
   "execution_count": null,
   "metadata": {
    "id": "uf-s8qoeErJ5"
   },
   "outputs": [],
   "source": [
    "NORMAL_LABEL = 11\n",
    "\n",
    "# Semantics:\n",
    "#  0 - real data, \"normal\"\n",
    "#  1 - real, but not normal\n",
    "\n",
    "# decode multi-class verctor into binary\n",
    "y_train[y_train != NORMAL_LABEL] = 1\n",
    "y_train[y_train == NORMAL_LABEL] = 0\n",
    "\n",
    "y_test[y_test != NORMAL_LABEL] = 1\n",
    "y_test[y_test == NORMAL_LABEL] = 0\n"
   ]
  },
  {
   "cell_type": "code",
   "execution_count": null,
   "metadata": {
    "id": "rDLoycC6ErJ6"
   },
   "outputs": [],
   "source": [
    "# we want to keep Normal packets for GAN training\n",
    "\n",
    "temp = x_train.copy()\n",
    "temp['label'] = y_train\n",
    "temp = temp.loc[temp['label'] == 0]\n",
    "temp = temp.drop('label', axis = 1)\n",
    "x_train = temp.copy() \n",
    "\n",
    "# as a result:\n",
    "# training dataset - will contain only normal packets\n",
    "# test datatet - will contain both types of data\n"
   ]
  },
  {
   "cell_type": "code",
   "execution_count": null,
   "metadata": {
    "id": "oMaMdKRqErJ6"
   },
   "outputs": [],
   "source": [
    "scaler01 = MinMaxScaler()\n",
    "\n",
    "x_train = scaler01.fit_transform(x_train)\n",
    "x_test = scaler01.transform(x_test)"
   ]
  },
  {
   "cell_type": "code",
   "execution_count": null,
   "metadata": {
    "id": "w-_dy6fuErJ6"
   },
   "outputs": [],
   "source": [
    "dataset = {\n",
    "    'x_train': x_train.astype(np.float32),\n",
    "    'y_train': y_train.astype(np.float32),\n",
    "    'x_test': x_test.astype(np.float32),\n",
    "    'y_test': y_test.astype(np.float32)\n",
    "}"
   ]
  },
  {
   "cell_type": "code",
   "execution_count": null,
   "metadata": {
    "colab": {
     "base_uri": "https://localhost:8080/"
    },
    "id": "8SQXN1IJErJ6",
    "outputId": "3345c457-ee3a-4a22-d8ca-220a043a3f39"
   },
   "outputs": [
    {
     "name": "stdout",
     "output_type": "stream",
     "text": [
      "Training set, normal packets =  73011\n",
      "Testing set, normal packets =  24267\n",
      "Testing set, normal packets =  99239\n"
     ]
    }
   ],
   "source": [
    "print('Training set, normal packets = ', x_train.shape[0])\n",
    "print('Testing set, normal packets = ', collections.Counter(y_test)[0])\n",
    "print('Testing set, normal packets = ', collections.Counter(y_test)[1])\n"
   ]
  },
  {
   "cell_type": "code",
   "execution_count": null,
   "metadata": {
    "id": "gXHI3Pj9DHaY"
   },
   "outputs": [],
   "source": [
    "### Lets define Generator network\n",
    "def generator_model(optimizer) : \n",
    "  model = Sequential()\n",
    "  model.add(Dense(128, input_dim = 118))\n",
    "  model.add(Activation('tanh'))\n",
    "\n",
    "  model.add(Dense(128))\n",
    "  model.add(Activation('tanh'))\n",
    "\n",
    "  model.add(Dense(256))\n",
    "  model.add(Activation('tanh'))\n",
    "\n",
    "  model.add(Dense(256))\n",
    "  model.add(Activation('relu'))\n",
    "\n",
    "  model.add(Dense(118))\n",
    "  model.add(Activation('relu'))\n",
    "\n",
    "  model.compile(loss = 'binary_crossentropy', optimizer=optimizer)\n",
    "\n",
    "  return model"
   ]
  },
  {
   "cell_type": "code",
   "execution_count": null,
   "metadata": {
    "id": "BopiiMwdEzeR"
   },
   "outputs": [],
   "source": [
    "### Lets define Descriminator network\n",
    "\n",
    "def discriminator_model(optimizer) : \n",
    "  model = Sequential()\n",
    "  model.add(Dense(256, input_dim = 118))\n",
    "  model.add(Activation('relu'))\n",
    "  model.add(Dropout(0.2))\n",
    "\n",
    "  model.add(Dense(256))\n",
    "  model.add(Activation('relu'))\n",
    "  model.add(Dropout(0.2))\n",
    "\n",
    "  model.add(Dense(128))\n",
    "  model.add(Activation('relu'))\n",
    "  model.add(Dropout(0.2))\n",
    "\n",
    "  model.add(Dense(128))\n",
    "  model.add(Activation('relu'))\n",
    "  model.add(Dropout(0.2))\n",
    "\n",
    "  model.add(Dense(1))\n",
    "  model.add(Activation('sigmoid'))\n",
    "\n",
    "  model.compile(loss = 'binary_crossentropy', optimizer=optimizer)\n",
    "\n",
    "  return model"
   ]
  },
  {
   "cell_type": "code",
   "execution_count": null,
   "metadata": {
    "id": "rOd-Kv97FFn2"
   },
   "outputs": [],
   "source": [
    "def gan_model(generator, discriminator, optimizer, input_dim=118): \n",
    "  discriminator.trainable = False\n",
    "\n",
    "  inputTensor = Input(shape = (input_dim,))\n",
    "  x = generator(inputTensor)\n",
    "\n",
    "  outTensor = discriminator(x)\n",
    "\n",
    "  model = Model(inputs = inputTensor, outputs = outTensor)\n",
    "  model.compile(loss = 'binary_crossentropy', optimizer=optimizer)\n",
    "\n",
    "  return model"
   ]
  },
  {
   "cell_type": "code",
   "execution_count": null,
   "metadata": {
    "colab": {
     "base_uri": "https://localhost:8080/"
    },
    "id": "1kwR8LxHf_8f",
    "outputId": "9d71f6b1-dd1e-40b3-8536-2f45b7ca796d"
   },
   "outputs": [
    {
     "name": "stderr",
     "output_type": "stream",
     "text": [
      "/usr/local/lib/python3.7/dist-packages/keras/optimizer_v2/optimizer_v2.py:356: UserWarning: The `lr` argument is deprecated, use `learning_rate` instead.\n",
      "  \"The `lr` argument is deprecated, use `learning_rate` instead.\")\n"
     ]
    },
    {
     "name": "stdout",
     "output_type": "stream",
     "text": [
      "Total batches:  142\n"
     ]
    },
    {
     "name": "stderr",
     "output_type": "stream",
     "text": [
      "\n",
      "  0%|          | 0/142 [00:00<?, ?it/s]\u001b[A\n",
      "[D loss: 0.6906386017799377, G Loss: 0.6547626256942749]:   1%|          | 1/142 [00:01<02:37,  1.12s/it]\u001b[A\n",
      "[D loss: 0.6906386017799377, G Loss: 0.6547626256942749]:   1%|▏         | 2/142 [00:01<01:18,  1.78it/s]\u001b[A\n",
      "[D loss: 0.6910973787307739, G Loss: 0.6554341316223145]:   1%|▏         | 2/142 [00:01<01:18,  1.78it/s]\u001b[A\n",
      "[D loss: 0.6910973787307739, G Loss: 0.6554341316223145]:   2%|▏         | 3/142 [00:01<00:51,  2.68it/s]\u001b[A\n",
      "[D loss: 0.690444827079773, G Loss: 0.6537899971008301]:   2%|▏         | 3/142 [00:01<00:51,  2.68it/s] \u001b[A\n",
      "[D loss: 0.6911277174949646, G Loss: 0.6531920433044434]:   3%|▎         | 4/142 [00:01<00:51,  2.68it/s]\u001b[A\n",
      "[D loss: 0.6911277174949646, G Loss: 0.6531920433044434]:   4%|▎         | 5/142 [00:01<00:31,  4.34it/s]\u001b[A\n",
      "[D loss: 0.6899380683898926, G Loss: 0.6526204347610474]:   4%|▎         | 5/142 [00:01<00:31,  4.34it/s]\u001b[A\n",
      "[D loss: 0.6904226541519165, G Loss: 0.656252384185791]:   4%|▍         | 6/142 [00:01<00:31,  4.34it/s] \u001b[A\n",
      "[D loss: 0.6904226541519165, G Loss: 0.656252384185791]:   5%|▍         | 7/142 [00:01<00:22,  5.94it/s]\u001b[A\n",
      "[D loss: 0.6918514370918274, G Loss: 0.6535854339599609]:   5%|▍         | 7/142 [00:01<00:22,  5.94it/s]\u001b[A\n",
      "[D loss: 0.6879932880401611, G Loss: 0.6537812948226929]:   6%|▌         | 8/142 [00:01<00:22,  5.94it/s]\u001b[A\n",
      "[D loss: 0.6879932880401611, G Loss: 0.6537812948226929]:   6%|▋         | 9/142 [00:01<00:18,  7.31it/s]\u001b[A\n",
      "[D loss: 0.6887347102165222, G Loss: 0.6552876830101013]:   6%|▋         | 9/142 [00:01<00:18,  7.31it/s]\u001b[A\n",
      "[D loss: 0.688636064529419, G Loss: 0.6545459032058716]:   7%|▋         | 10/142 [00:01<00:18,  7.31it/s]\u001b[A\n",
      "[D loss: 0.688636064529419, G Loss: 0.6545459032058716]:   8%|▊         | 11/142 [00:01<00:15,  8.48it/s]\u001b[A\n",
      "[D loss: 0.6858497858047485, G Loss: 0.657559871673584]:   8%|▊         | 11/142 [00:02<00:15,  8.48it/s]\u001b[A\n",
      "[D loss: 0.6891315579414368, G Loss: 0.6513665914535522]:   8%|▊         | 12/142 [00:02<00:15,  8.48it/s]\u001b[A\n",
      "[D loss: 0.6891315579414368, G Loss: 0.6513665914535522]:   9%|▉         | 13/142 [00:02<00:13,  9.52it/s]\u001b[A\n",
      "[D loss: 0.6874061822891235, G Loss: 0.6567590236663818]:   9%|▉         | 13/142 [00:02<00:13,  9.52it/s]\u001b[A\n",
      "[D loss: 0.686184287071228, G Loss: 0.656259298324585]:  10%|▉         | 14/142 [00:02<00:13,  9.52it/s]  \u001b[A\n",
      "[D loss: 0.686184287071228, G Loss: 0.656259298324585]:  11%|█         | 15/142 [00:02<00:12, 10.24it/s]\u001b[A\n",
      "[D loss: 0.6860206723213196, G Loss: 0.655146598815918]:  11%|█         | 15/142 [00:02<00:12, 10.24it/s]\u001b[A\n",
      "[D loss: 0.6860786080360413, G Loss: 0.6528723239898682]:  11%|█▏        | 16/142 [00:02<00:12, 10.24it/s]\u001b[A\n",
      "[D loss: 0.6860786080360413, G Loss: 0.6528723239898682]:  12%|█▏        | 17/142 [00:02<00:11, 10.88it/s]\u001b[A\n",
      "[D loss: 0.6840987801551819, G Loss: 0.6568443179130554]:  12%|█▏        | 17/142 [00:02<00:11, 10.88it/s]\u001b[A\n",
      "[D loss: 0.6829342842102051, G Loss: 0.6573601961135864]:  13%|█▎        | 18/142 [00:02<00:11, 10.88it/s]\u001b[A\n",
      "[D loss: 0.6829342842102051, G Loss: 0.6573601961135864]:  13%|█▎        | 19/142 [00:02<00:11, 11.14it/s]\u001b[A\n",
      "[D loss: 0.6839714050292969, G Loss: 0.6570769548416138]:  13%|█▎        | 19/142 [00:02<00:11, 11.14it/s]\u001b[A\n",
      "[D loss: 0.6858094930648804, G Loss: 0.6549410820007324]:  14%|█▍        | 20/142 [00:02<00:10, 11.14it/s]\u001b[A\n",
      "[D loss: 0.6858094930648804, G Loss: 0.6549410820007324]:  15%|█▍        | 21/142 [00:02<00:10, 11.24it/s]\u001b[A\n",
      "[D loss: 0.6816165447235107, G Loss: 0.6559367179870605]:  15%|█▍        | 21/142 [00:02<00:10, 11.24it/s]\u001b[A\n",
      "[D loss: 0.6813284158706665, G Loss: 0.657085657119751]:  15%|█▌        | 22/142 [00:02<00:10, 11.24it/s] \u001b[A\n",
      "[D loss: 0.6813284158706665, G Loss: 0.657085657119751]:  16%|█▌        | 23/142 [00:02<00:10, 11.26it/s]\u001b[A\n",
      "[D loss: 0.682492733001709, G Loss: 0.6563088893890381]:  16%|█▌        | 23/142 [00:03<00:10, 11.26it/s]\u001b[A\n",
      "[D loss: 0.6817803382873535, G Loss: 0.6573959589004517]:  17%|█▋        | 24/142 [00:03<00:10, 11.26it/s]\u001b[A\n",
      "[D loss: 0.6817803382873535, G Loss: 0.6573959589004517]:  18%|█▊        | 25/142 [00:03<00:10, 11.43it/s]\u001b[A\n",
      "[D loss: 0.6798123717308044, G Loss: 0.6542012691497803]:  18%|█▊        | 25/142 [00:03<00:10, 11.43it/s]\u001b[A\n",
      "[D loss: 0.677958607673645, G Loss: 0.6580064296722412]:  18%|█▊        | 26/142 [00:03<00:10, 11.43it/s] \u001b[A\n",
      "[D loss: 0.677958607673645, G Loss: 0.6580064296722412]:  19%|█▉        | 27/142 [00:03<00:10, 11.41it/s]\u001b[A\n",
      "[D loss: 0.6773953437805176, G Loss: 0.6560314893722534]:  19%|█▉        | 27/142 [00:03<00:10, 11.41it/s]\u001b[A\n",
      "[D loss: 0.6778094172477722, G Loss: 0.6562780141830444]:  20%|█▉        | 28/142 [00:03<00:09, 11.41it/s]\u001b[A\n",
      "[D loss: 0.6778094172477722, G Loss: 0.6562780141830444]:  20%|██        | 29/142 [00:03<00:09, 11.54it/s]\u001b[A\n",
      "[D loss: 0.6777942776679993, G Loss: 0.6561923027038574]:  20%|██        | 29/142 [00:03<00:09, 11.54it/s]\u001b[A\n",
      "[D loss: 0.6778461933135986, G Loss: 0.6555508375167847]:  21%|██        | 30/142 [00:03<00:09, 11.54it/s]\u001b[A\n",
      "[D loss: 0.6778461933135986, G Loss: 0.6555508375167847]:  22%|██▏       | 31/142 [00:03<00:09, 11.46it/s]\u001b[A\n",
      "[D loss: 0.6785974502563477, G Loss: 0.6573134660720825]:  22%|██▏       | 31/142 [00:03<00:09, 11.46it/s]\u001b[A\n",
      "[D loss: 0.6736977100372314, G Loss: 0.656154215335846]:  23%|██▎       | 32/142 [00:03<00:09, 11.46it/s] \u001b[A\n",
      "[D loss: 0.6736977100372314, G Loss: 0.656154215335846]:  23%|██▎       | 33/142 [00:03<00:09, 11.57it/s]\u001b[A\n",
      "[D loss: 0.6760453581809998, G Loss: 0.6562652587890625]:  23%|██▎       | 33/142 [00:03<00:09, 11.57it/s]\u001b[A\n",
      "[D loss: 0.6752535104751587, G Loss: 0.6572827100753784]:  24%|██▍       | 34/142 [00:04<00:09, 11.57it/s]\u001b[A\n",
      "[D loss: 0.6752535104751587, G Loss: 0.6572827100753784]:  25%|██▍       | 35/142 [00:04<00:09, 11.38it/s]\u001b[A\n",
      "[D loss: 0.6744408011436462, G Loss: 0.6566705703735352]:  25%|██▍       | 35/142 [00:04<00:09, 11.38it/s]\u001b[A\n",
      "[D loss: 0.6727689504623413, G Loss: 0.6555781960487366]:  25%|██▌       | 36/142 [00:04<00:09, 11.38it/s]\u001b[A\n",
      "[D loss: 0.6727689504623413, G Loss: 0.6555781960487366]:  26%|██▌       | 37/142 [00:04<00:09, 11.50it/s]\u001b[A\n",
      "[D loss: 0.6720359325408936, G Loss: 0.6599360704421997]:  26%|██▌       | 37/142 [00:04<00:09, 11.50it/s]\u001b[A\n",
      "[D loss: 0.6712267398834229, G Loss: 0.656514048576355]:  27%|██▋       | 38/142 [00:04<00:09, 11.50it/s] \u001b[A\n",
      "[D loss: 0.6712267398834229, G Loss: 0.656514048576355]:  27%|██▋       | 39/142 [00:04<00:08, 11.66it/s]\u001b[A\n",
      "[D loss: 0.6731192469596863, G Loss: 0.6568290591239929]:  27%|██▋       | 39/142 [00:04<00:08, 11.66it/s]\u001b[A\n",
      "[D loss: 0.6682789325714111, G Loss: 0.6597194671630859]:  28%|██▊       | 40/142 [00:04<00:08, 11.66it/s]\u001b[A\n",
      "[D loss: 0.6682789325714111, G Loss: 0.6597194671630859]:  29%|██▉       | 41/142 [00:04<00:08, 11.71it/s]\u001b[A\n",
      "[D loss: 0.6705678701400757, G Loss: 0.6569265127182007]:  29%|██▉       | 41/142 [00:04<00:08, 11.71it/s]\u001b[A\n",
      "[D loss: 0.6663390398025513, G Loss: 0.6571270227432251]:  30%|██▉       | 42/142 [00:04<00:08, 11.71it/s]\u001b[A\n",
      "[D loss: 0.6663390398025513, G Loss: 0.6571270227432251]:  30%|███       | 43/142 [00:04<00:08, 11.43it/s]\u001b[A\n",
      "[D loss: 0.6672917008399963, G Loss: 0.6591123342514038]:  30%|███       | 43/142 [00:04<00:08, 11.43it/s]\u001b[A\n",
      "[D loss: 0.6688317060470581, G Loss: 0.6605830192565918]:  31%|███       | 44/142 [00:04<00:08, 11.43it/s]\u001b[A\n",
      "[D loss: 0.6688317060470581, G Loss: 0.6605830192565918]:  32%|███▏      | 45/142 [00:04<00:08, 11.45it/s]\u001b[A\n",
      "[D loss: 0.6693467497825623, G Loss: 0.6600847244262695]:  32%|███▏      | 45/142 [00:04<00:08, 11.45it/s]\u001b[A\n",
      "[D loss: 0.6669492125511169, G Loss: 0.6584047079086304]:  32%|███▏      | 46/142 [00:05<00:08, 11.45it/s]\u001b[A\n",
      "[D loss: 0.6669492125511169, G Loss: 0.6584047079086304]:  33%|███▎      | 47/142 [00:05<00:08, 11.65it/s]\u001b[A\n",
      "[D loss: 0.668176531791687, G Loss: 0.6602665185928345]:  33%|███▎      | 47/142 [00:05<00:08, 11.65it/s] \u001b[A\n",
      "[D loss: 0.6653478145599365, G Loss: 0.6614335775375366]:  34%|███▍      | 48/142 [00:05<00:08, 11.65it/s]\u001b[A\n",
      "[D loss: 0.6653478145599365, G Loss: 0.6614335775375366]:  35%|███▍      | 49/142 [00:05<00:07, 11.74it/s]\u001b[A\n",
      "[D loss: 0.6661173105239868, G Loss: 0.6618110537528992]:  35%|███▍      | 49/142 [00:05<00:07, 11.74it/s]\u001b[A\n",
      "[D loss: 0.6646285057067871, G Loss: 0.6589937210083008]:  35%|███▌      | 50/142 [00:05<00:07, 11.74it/s]\u001b[A\n",
      "[D loss: 0.6646285057067871, G Loss: 0.6589937210083008]:  36%|███▌      | 51/142 [00:05<00:07, 11.77it/s]\u001b[A\n",
      "[D loss: 0.6630880832672119, G Loss: 0.6585984230041504]:  36%|███▌      | 51/142 [00:05<00:07, 11.77it/s]\u001b[A\n",
      "[D loss: 0.6635304093360901, G Loss: 0.6583112478256226]:  37%|███▋      | 52/142 [00:05<00:07, 11.77it/s]\u001b[A\n",
      "[D loss: 0.6635304093360901, G Loss: 0.6583112478256226]:  37%|███▋      | 53/142 [00:05<00:07, 11.80it/s]\u001b[A\n",
      "[D loss: 0.6611649990081787, G Loss: 0.6614505648612976]:  37%|███▋      | 53/142 [00:05<00:07, 11.80it/s]\u001b[A\n",
      "[D loss: 0.6639665365219116, G Loss: 0.6592344045639038]:  38%|███▊      | 54/142 [00:05<00:07, 11.80it/s]\u001b[A\n",
      "[D loss: 0.6639665365219116, G Loss: 0.6592344045639038]:  39%|███▊      | 55/142 [00:05<00:07, 11.54it/s]\u001b[A\n",
      "[D loss: 0.6629289388656616, G Loss: 0.6610167026519775]:  39%|███▊      | 55/142 [00:05<00:07, 11.54it/s]\u001b[A\n",
      "[D loss: 0.6612933874130249, G Loss: 0.660588264465332]:  39%|███▉      | 56/142 [00:05<00:07, 11.54it/s] \u001b[A\n",
      "[D loss: 0.6612933874130249, G Loss: 0.660588264465332]:  40%|████      | 57/142 [00:05<00:07, 11.75it/s]\u001b[A\n",
      "[D loss: 0.6605008244514465, G Loss: 0.662415623664856]:  40%|████      | 57/142 [00:05<00:07, 11.75it/s]\u001b[A\n",
      "[D loss: 0.6613064408302307, G Loss: 0.6614981889724731]:  41%|████      | 58/142 [00:06<00:07, 11.75it/s]\u001b[A\n",
      "[D loss: 0.6613064408302307, G Loss: 0.6614981889724731]:  42%|████▏     | 59/142 [00:06<00:07, 11.67it/s]\u001b[A\n",
      "[D loss: 0.6583837270736694, G Loss: 0.6639460921287537]:  42%|████▏     | 59/142 [00:06<00:07, 11.67it/s]\u001b[A\n",
      "[D loss: 0.6599811315536499, G Loss: 0.6598889827728271]:  42%|████▏     | 60/142 [00:06<00:07, 11.67it/s]\u001b[A\n",
      "[D loss: 0.6599811315536499, G Loss: 0.6598889827728271]:  43%|████▎     | 61/142 [00:06<00:07, 11.54it/s]\u001b[A\n",
      "[D loss: 0.6585044860839844, G Loss: 0.6619263291358948]:  43%|████▎     | 61/142 [00:06<00:07, 11.54it/s]\u001b[A\n",
      "[D loss: 0.656466543674469, G Loss: 0.6633546948432922]:  44%|████▎     | 62/142 [00:06<00:06, 11.54it/s] \u001b[A\n",
      "[D loss: 0.656466543674469, G Loss: 0.6633546948432922]:  44%|████▍     | 63/142 [00:06<00:06, 11.42it/s]\u001b[A\n",
      "[D loss: 0.6568004488945007, G Loss: 0.6623486280441284]:  44%|████▍     | 63/142 [00:06<00:06, 11.42it/s]\u001b[A\n",
      "[D loss: 0.6562949419021606, G Loss: 0.6629186272621155]:  45%|████▌     | 64/142 [00:06<00:06, 11.42it/s]\u001b[A\n",
      "[D loss: 0.6562949419021606, G Loss: 0.6629186272621155]:  46%|████▌     | 65/142 [00:06<00:06, 11.52it/s]\u001b[A\n",
      "[D loss: 0.6550475358963013, G Loss: 0.6623532772064209]:  46%|████▌     | 65/142 [00:06<00:06, 11.52it/s]\u001b[A\n",
      "[D loss: 0.6542755365371704, G Loss: 0.6643931269645691]:  46%|████▋     | 66/142 [00:06<00:06, 11.52it/s]\u001b[A\n",
      "[D loss: 0.6542755365371704, G Loss: 0.6643931269645691]:  47%|████▋     | 67/142 [00:06<00:06, 11.39it/s]\u001b[A\n",
      "[D loss: 0.6535341143608093, G Loss: 0.6644206643104553]:  47%|████▋     | 67/142 [00:06<00:06, 11.39it/s]\u001b[A\n",
      "[D loss: 0.6511165499687195, G Loss: 0.6643773317337036]:  48%|████▊     | 68/142 [00:06<00:06, 11.39it/s]\u001b[A\n",
      "[D loss: 0.6511165499687195, G Loss: 0.6643773317337036]:  49%|████▊     | 69/142 [00:06<00:06, 11.53it/s]\u001b[A\n",
      "[D loss: 0.651861846446991, G Loss: 0.66413414478302]:  49%|████▊     | 69/142 [00:07<00:06, 11.53it/s]   \u001b[A\n",
      "[D loss: 0.651342511177063, G Loss: 0.6627513766288757]:  49%|████▉     | 70/142 [00:07<00:06, 11.53it/s]\u001b[A\n",
      "[D loss: 0.651342511177063, G Loss: 0.6627513766288757]:  50%|█████     | 71/142 [00:07<00:06, 11.37it/s]\u001b[A\n",
      "[D loss: 0.6520568132400513, G Loss: 0.6614200472831726]:  50%|█████     | 71/142 [00:07<00:06, 11.37it/s]\u001b[A\n",
      "[D loss: 0.6531286835670471, G Loss: 0.6664772033691406]:  51%|█████     | 72/142 [00:07<00:06, 11.37it/s]\u001b[A\n",
      "[D loss: 0.6531286835670471, G Loss: 0.6664772033691406]:  51%|█████▏    | 73/142 [00:07<00:05, 11.66it/s]\u001b[A\n",
      "[D loss: 0.6489628553390503, G Loss: 0.6642999649047852]:  51%|█████▏    | 73/142 [00:07<00:05, 11.66it/s]\u001b[A\n",
      "[D loss: 0.6465890407562256, G Loss: 0.6634542942047119]:  52%|█████▏    | 74/142 [00:07<00:05, 11.66it/s]\u001b[A\n",
      "[D loss: 0.6465890407562256, G Loss: 0.6634542942047119]:  53%|█████▎    | 75/142 [00:07<00:05, 11.82it/s]\u001b[A\n",
      "[D loss: 0.6483835577964783, G Loss: 0.6665922403335571]:  53%|█████▎    | 75/142 [00:07<00:05, 11.82it/s]\u001b[A\n",
      "[D loss: 0.6483052968978882, G Loss: 0.6675516366958618]:  54%|█████▎    | 76/142 [00:07<00:05, 11.82it/s]\u001b[A\n",
      "[D loss: 0.6483052968978882, G Loss: 0.6675516366958618]:  54%|█████▍    | 77/142 [00:07<00:05, 11.95it/s]\u001b[A\n",
      "[D loss: 0.6468461751937866, G Loss: 0.6647698879241943]:  54%|█████▍    | 77/142 [00:07<00:05, 11.95it/s]\u001b[A\n",
      "[D loss: 0.6422576904296875, G Loss: 0.6643615365028381]:  55%|█████▍    | 78/142 [00:07<00:05, 11.95it/s]\u001b[A\n",
      "[D loss: 0.6422576904296875, G Loss: 0.6643615365028381]:  56%|█████▌    | 79/142 [00:07<00:05, 11.70it/s]\u001b[A\n",
      "[D loss: 0.6433879137039185, G Loss: 0.6670198440551758]:  56%|█████▌    | 79/142 [00:07<00:05, 11.70it/s]\u001b[A\n",
      "[D loss: 0.6436187028884888, G Loss: 0.6647018790245056]:  56%|█████▋    | 80/142 [00:07<00:05, 11.70it/s]\u001b[A\n",
      "[D loss: 0.6436187028884888, G Loss: 0.6647018790245056]:  57%|█████▋    | 81/142 [00:07<00:05, 11.78it/s]\u001b[A\n",
      "[D loss: 0.6422340273857117, G Loss: 0.6666018962860107]:  57%|█████▋    | 81/142 [00:08<00:05, 11.78it/s]\u001b[A\n",
      "[D loss: 0.6429190635681152, G Loss: 0.6668685674667358]:  58%|█████▊    | 82/142 [00:08<00:05, 11.78it/s]\u001b[A\n",
      "[D loss: 0.6429190635681152, G Loss: 0.6668685674667358]:  58%|█████▊    | 83/142 [00:08<00:04, 12.11it/s]\u001b[A\n",
      "[D loss: 0.643824577331543, G Loss: 0.663657009601593]:  58%|█████▊    | 83/142 [00:08<00:04, 12.11it/s]  \u001b[A\n",
      "[D loss: 0.6421241164207458, G Loss: 0.6651497483253479]:  59%|█████▉    | 84/142 [00:08<00:04, 12.11it/s]\u001b[A\n",
      "[D loss: 0.6421241164207458, G Loss: 0.6651497483253479]:  60%|█████▉    | 85/142 [00:08<00:04, 11.79it/s]\u001b[A\n",
      "[D loss: 0.6417423486709595, G Loss: 0.6707227230072021]:  60%|█████▉    | 85/142 [00:08<00:04, 11.79it/s]\u001b[A\n",
      "[D loss: 0.6402726173400879, G Loss: 0.6678913235664368]:  61%|██████    | 86/142 [00:08<00:04, 11.79it/s]\u001b[A\n",
      "[D loss: 0.6402726173400879, G Loss: 0.6678913235664368]:  61%|██████▏   | 87/142 [00:08<00:04, 12.02it/s]\u001b[A\n",
      "[D loss: 0.6392985582351685, G Loss: 0.6692755222320557]:  61%|██████▏   | 87/142 [00:08<00:04, 12.02it/s]\u001b[A\n",
      "[D loss: 0.6349039077758789, G Loss: 0.6672614812850952]:  62%|██████▏   | 88/142 [00:08<00:04, 12.02it/s]\u001b[A\n",
      "[D loss: 0.6349039077758789, G Loss: 0.6672614812850952]:  63%|██████▎   | 89/142 [00:08<00:04, 12.12it/s]\u001b[A\n",
      "[D loss: 0.6368770599365234, G Loss: 0.6672131419181824]:  63%|██████▎   | 89/142 [00:08<00:04, 12.12it/s]\u001b[A\n",
      "[D loss: 0.637473464012146, G Loss: 0.6681110858917236]:  63%|██████▎   | 90/142 [00:08<00:04, 12.12it/s] \u001b[A\n",
      "[D loss: 0.637473464012146, G Loss: 0.6681110858917236]:  64%|██████▍   | 91/142 [00:08<00:04, 11.64it/s]\u001b[A\n",
      "[D loss: 0.6342718005180359, G Loss: 0.6651089191436768]:  64%|██████▍   | 91/142 [00:08<00:04, 11.64it/s]\u001b[A\n",
      "[D loss: 0.6342654824256897, G Loss: 0.6683710217475891]:  65%|██████▍   | 92/142 [00:08<00:04, 11.64it/s]\u001b[A\n",
      "[D loss: 0.6342654824256897, G Loss: 0.6683710217475891]:  65%|██████▌   | 93/142 [00:08<00:04, 11.66it/s]\u001b[A\n",
      "[D loss: 0.635309636592865, G Loss: 0.669762372970581]:  65%|██████▌   | 93/142 [00:09<00:04, 11.66it/s]  \u001b[A\n",
      "[D loss: 0.6342500448226929, G Loss: 0.6690208911895752]:  66%|██████▌   | 94/142 [00:09<00:04, 11.66it/s]\u001b[A\n",
      "[D loss: 0.6342500448226929, G Loss: 0.6690208911895752]:  67%|██████▋   | 95/142 [00:09<00:03, 11.82it/s]\u001b[A\n",
      "[D loss: 0.6325441598892212, G Loss: 0.6708123683929443]:  67%|██████▋   | 95/142 [00:09<00:03, 11.82it/s]\u001b[A\n",
      "[D loss: 0.6315663456916809, G Loss: 0.6736246347427368]:  68%|██████▊   | 96/142 [00:09<00:03, 11.82it/s]\u001b[A\n",
      "[D loss: 0.6315663456916809, G Loss: 0.6736246347427368]:  68%|██████▊   | 97/142 [00:09<00:03, 11.62it/s]\u001b[A\n",
      "[D loss: 0.6323387622833252, G Loss: 0.6673229336738586]:  68%|██████▊   | 97/142 [00:09<00:03, 11.62it/s]\u001b[A\n",
      "[D loss: 0.632036566734314, G Loss: 0.670772135257721]:  69%|██████▉   | 98/142 [00:09<00:03, 11.62it/s]  \u001b[A\n",
      "[D loss: 0.632036566734314, G Loss: 0.670772135257721]:  70%|██████▉   | 99/142 [00:09<00:03, 11.62it/s]\u001b[A\n",
      "[D loss: 0.6269550323486328, G Loss: 0.671861469745636]:  70%|██████▉   | 99/142 [00:09<00:03, 11.62it/s]\u001b[A\n",
      "[D loss: 0.6284291744232178, G Loss: 0.67083740234375]:  70%|███████   | 100/142 [00:09<00:03, 11.62it/s]\u001b[A\n",
      "[D loss: 0.6284291744232178, G Loss: 0.67083740234375]:  71%|███████   | 101/142 [00:09<00:03, 11.77it/s]\u001b[A\n",
      "[D loss: 0.6294518113136292, G Loss: 0.6716433167457581]:  71%|███████   | 101/142 [00:09<00:03, 11.77it/s]\u001b[A\n",
      "[D loss: 0.6274465322494507, G Loss: 0.6718480587005615]:  72%|███████▏  | 102/142 [00:09<00:03, 11.77it/s]\u001b[A\n",
      "[D loss: 0.6274465322494507, G Loss: 0.6718480587005615]:  73%|███████▎  | 103/142 [00:09<00:03, 11.39it/s]\u001b[A\n",
      "[D loss: 0.6279324889183044, G Loss: 0.6695650815963745]:  73%|███████▎  | 103/142 [00:09<00:03, 11.39it/s]\u001b[A\n",
      "[D loss: 0.6277426481246948, G Loss: 0.6709723472595215]:  73%|███████▎  | 104/142 [00:10<00:03, 11.39it/s]\u001b[A\n",
      "[D loss: 0.6277426481246948, G Loss: 0.6709723472595215]:  74%|███████▍  | 105/142 [00:10<00:03, 11.62it/s]\u001b[A\n",
      "[D loss: 0.6234094500541687, G Loss: 0.6721192598342896]:  74%|███████▍  | 105/142 [00:10<00:03, 11.62it/s]\u001b[A\n",
      "[D loss: 0.6250116229057312, G Loss: 0.671107828617096]:  75%|███████▍  | 106/142 [00:10<00:03, 11.62it/s] \u001b[A\n",
      "[D loss: 0.6250116229057312, G Loss: 0.671107828617096]:  75%|███████▌  | 107/142 [00:10<00:02, 11.81it/s]\u001b[A\n",
      "[D loss: 0.6228501200675964, G Loss: 0.6744764447212219]:  75%|███████▌  | 107/142 [00:10<00:02, 11.81it/s]\u001b[A\n",
      "[D loss: 0.6226983070373535, G Loss: 0.6745396852493286]:  76%|███████▌  | 108/142 [00:10<00:02, 11.81it/s]\u001b[A\n",
      "[D loss: 0.6226983070373535, G Loss: 0.6745396852493286]:  77%|███████▋  | 109/142 [00:10<00:02, 11.69it/s]\u001b[A\n",
      "[D loss: 0.6227586269378662, G Loss: 0.6687440872192383]:  77%|███████▋  | 109/142 [00:10<00:02, 11.69it/s]\u001b[A\n",
      "[D loss: 0.6187094449996948, G Loss: 0.6759049892425537]:  77%|███████▋  | 110/142 [00:10<00:02, 11.69it/s]\u001b[A\n",
      "[D loss: 0.6187094449996948, G Loss: 0.6759049892425537]:  78%|███████▊  | 111/142 [00:10<00:02, 11.69it/s]\u001b[A\n",
      "[D loss: 0.6228750944137573, G Loss: 0.6733687520027161]:  78%|███████▊  | 111/142 [00:10<00:02, 11.69it/s]\u001b[A\n",
      "[D loss: 0.6179943084716797, G Loss: 0.6786499619483948]:  79%|███████▉  | 112/142 [00:10<00:02, 11.69it/s]\u001b[A\n",
      "[D loss: 0.6179943084716797, G Loss: 0.6786499619483948]:  80%|███████▉  | 113/142 [00:10<00:02, 11.67it/s]\u001b[A\n",
      "[D loss: 0.6203538179397583, G Loss: 0.6753054261207581]:  80%|███████▉  | 113/142 [00:10<00:02, 11.67it/s]\u001b[A\n",
      "[D loss: 0.6161937117576599, G Loss: 0.6750500202178955]:  80%|████████  | 114/142 [00:10<00:02, 11.67it/s]\u001b[A\n",
      "[D loss: 0.6161937117576599, G Loss: 0.6750500202178955]:  81%|████████  | 115/142 [00:10<00:02, 11.38it/s]\u001b[A\n",
      "[D loss: 0.6159164905548096, G Loss: 0.6763721108436584]:  81%|████████  | 115/142 [00:10<00:02, 11.38it/s]\u001b[A\n",
      "[D loss: 0.6143090724945068, G Loss: 0.6745159029960632]:  82%|████████▏ | 116/142 [00:11<00:02, 11.38it/s]\u001b[A\n",
      "[D loss: 0.6143090724945068, G Loss: 0.6745159029960632]:  82%|████████▏ | 117/142 [00:11<00:02, 11.66it/s]\u001b[A\n",
      "[D loss: 0.6146366596221924, G Loss: 0.6769344806671143]:  82%|████████▏ | 117/142 [00:11<00:02, 11.66it/s]\u001b[A\n",
      "[D loss: 0.614396333694458, G Loss: 0.6780996322631836]:  83%|████████▎ | 118/142 [00:11<00:02, 11.66it/s] \u001b[A\n",
      "[D loss: 0.614396333694458, G Loss: 0.6780996322631836]:  84%|████████▍ | 119/142 [00:11<00:01, 11.73it/s]\u001b[A\n",
      "[D loss: 0.6147813200950623, G Loss: 0.6744188070297241]:  84%|████████▍ | 119/142 [00:11<00:01, 11.73it/s]\u001b[A\n",
      "[D loss: 0.6157777905464172, G Loss: 0.6792463064193726]:  85%|████████▍ | 120/142 [00:11<00:01, 11.73it/s]\u001b[A\n",
      "[D loss: 0.6157777905464172, G Loss: 0.6792463064193726]:  85%|████████▌ | 121/142 [00:11<00:01, 11.73it/s]\u001b[A\n",
      "[D loss: 0.6130896806716919, G Loss: 0.6785751581192017]:  85%|████████▌ | 121/142 [00:11<00:01, 11.73it/s]\u001b[A\n",
      "[D loss: 0.6135985851287842, G Loss: 0.6791480779647827]:  86%|████████▌ | 122/142 [00:11<00:01, 11.73it/s]\u001b[A\n",
      "[D loss: 0.6135985851287842, G Loss: 0.6791480779647827]:  87%|████████▋ | 123/142 [00:11<00:01, 11.54it/s]\u001b[A\n",
      "[D loss: 0.6074658036231995, G Loss: 0.6785551905632019]:  87%|████████▋ | 123/142 [00:11<00:01, 11.54it/s]\u001b[A\n",
      "[D loss: 0.6109368205070496, G Loss: 0.6816837191581726]:  87%|████████▋ | 124/142 [00:11<00:01, 11.54it/s]\u001b[A\n",
      "[D loss: 0.6109368205070496, G Loss: 0.6816837191581726]:  88%|████████▊ | 125/142 [00:11<00:01, 11.66it/s]\u001b[A\n",
      "[D loss: 0.6098226308822632, G Loss: 0.6771256923675537]:  88%|████████▊ | 125/142 [00:11<00:01, 11.66it/s]\u001b[A\n",
      "[D loss: 0.6046079397201538, G Loss: 0.6816800236701965]:  89%|████████▊ | 126/142 [00:11<00:01, 11.66it/s]\u001b[A\n",
      "[D loss: 0.6046079397201538, G Loss: 0.6816800236701965]:  89%|████████▉ | 127/142 [00:11<00:01, 11.60it/s]\u001b[A\n",
      "[D loss: 0.6059930324554443, G Loss: 0.6803705096244812]:  89%|████████▉ | 127/142 [00:11<00:01, 11.60it/s]\u001b[A\n",
      "[D loss: 0.609164834022522, G Loss: 0.6774789690971375]:  90%|█████████ | 128/142 [00:12<00:01, 11.60it/s] \u001b[A\n",
      "[D loss: 0.609164834022522, G Loss: 0.6774789690971375]:  91%|█████████ | 129/142 [00:12<00:01, 11.90it/s]\u001b[A\n",
      "[D loss: 0.6064246892929077, G Loss: 0.6819778680801392]:  91%|█████████ | 129/142 [00:12<00:01, 11.90it/s]\u001b[A\n",
      "[D loss: 0.6041536927223206, G Loss: 0.6809351444244385]:  92%|█████████▏| 130/142 [00:12<00:01, 11.90it/s]\u001b[A\n",
      "[D loss: 0.6041536927223206, G Loss: 0.6809351444244385]:  92%|█████████▏| 131/142 [00:12<00:00, 11.69it/s]\u001b[A\n",
      "[D loss: 0.6049203872680664, G Loss: 0.6800210475921631]:  92%|█████████▏| 131/142 [00:12<00:00, 11.69it/s]\u001b[A\n",
      "[D loss: 0.6018499135971069, G Loss: 0.6842892169952393]:  93%|█████████▎| 132/142 [00:12<00:00, 11.69it/s]\u001b[A\n",
      "[D loss: 0.6018499135971069, G Loss: 0.6842892169952393]:  94%|█████████▎| 133/142 [00:12<00:00, 11.60it/s]\u001b[A\n",
      "[D loss: 0.6061947345733643, G Loss: 0.6815561056137085]:  94%|█████████▎| 133/142 [00:12<00:00, 11.60it/s]\u001b[A\n",
      "[D loss: 0.6020717620849609, G Loss: 0.6822856068611145]:  94%|█████████▍| 134/142 [00:12<00:00, 11.60it/s]\u001b[A\n",
      "[D loss: 0.6020717620849609, G Loss: 0.6822856068611145]:  95%|█████████▌| 135/142 [00:12<00:00, 11.72it/s]\u001b[A\n",
      "[D loss: 0.5999729037284851, G Loss: 0.6832932233810425]:  95%|█████████▌| 135/142 [00:12<00:00, 11.72it/s]\u001b[A\n",
      "[D loss: 0.6000919342041016, G Loss: 0.6790136098861694]:  96%|█████████▌| 136/142 [00:12<00:00, 11.72it/s]\u001b[A\n",
      "[D loss: 0.6000919342041016, G Loss: 0.6790136098861694]:  96%|█████████▋| 137/142 [00:12<00:00, 11.47it/s]\u001b[A\n",
      "[D loss: 0.6004842519760132, G Loss: 0.6775503754615784]:  96%|█████████▋| 137/142 [00:12<00:00, 11.47it/s]\u001b[A\n",
      "[D loss: 0.5983604192733765, G Loss: 0.6814196705818176]:  97%|█████████▋| 138/142 [00:12<00:00, 11.47it/s]\u001b[A\n",
      "[D loss: 0.5983604192733765, G Loss: 0.6814196705818176]:  98%|█████████▊| 139/142 [00:12<00:00, 11.49it/s]\u001b[A\n",
      "[D loss: 0.598242461681366, G Loss: 0.686362624168396]:  98%|█████████▊| 139/142 [00:13<00:00, 11.49it/s]  \u001b[A\n",
      "[D loss: 0.6004908680915833, G Loss: 0.6822358965873718]:  99%|█████████▊| 140/142 [00:13<00:00, 11.49it/s]\u001b[A\n",
      "[D loss: 0.6004908680915833, G Loss: 0.6822358965873718]:  99%|█████████▉| 141/142 [00:13<00:00, 11.07it/s]\u001b[A\n",
      "[D loss: 0.5962722301483154, G Loss: 0.685012698173523]:  99%|█████████▉| 141/142 [00:13<00:00, 11.07it/s] \u001b[A\n",
      "[D loss: 0.5959756970405579, G Loss: 0.683582067489624]: 100%|██████████| 142/142 [00:13<00:00, 10.67it/s]\n"
     ]
    },
    {
     "name": "stdout",
     "output_type": "stream",
     "text": [
      "Epoch 0 done, [D loss: 0.5959756970405579, G Loss: 0.683582067489624]\n"
     ]
    },
    {
     "name": "stderr",
     "output_type": "stream",
     "text": [
      "\n",
      "  0%|          | 0/142 [00:00<?, ?it/s]\u001b[A\n",
      "[D loss: 0.5936660766601562, G Loss: 0.6840802431106567]:   1%|          | 1/142 [00:00<00:12, 11.30it/s]\u001b[A\n",
      "[D loss: 0.5960613489151001, G Loss: 0.6842873692512512]:   1%|▏         | 2/142 [00:00<00:11, 12.01it/s]\u001b[A\n",
      "[D loss: 0.5960613489151001, G Loss: 0.6842873692512512]:   2%|▏         | 3/142 [00:00<00:07, 17.67it/s]\u001b[A\n",
      "[D loss: 0.5932763814926147, G Loss: 0.6847149729728699]:   2%|▏         | 3/142 [00:00<00:07, 17.67it/s]\u001b[A\n",
      "[D loss: 0.5893290042877197, G Loss: 0.6864827275276184]:   3%|▎         | 4/142 [00:00<00:07, 17.67it/s]\u001b[A\n",
      "[D loss: 0.5893290042877197, G Loss: 0.6864827275276184]:   4%|▎         | 5/142 [00:00<00:09, 14.37it/s]\u001b[A\n",
      "[D loss: 0.5917937755584717, G Loss: 0.684680700302124]:   4%|▎         | 5/142 [00:00<00:09, 14.37it/s] \u001b[A\n",
      "[D loss: 0.5878438949584961, G Loss: 0.6826049089431763]:   4%|▍         | 6/142 [00:00<00:09, 14.37it/s]\u001b[A\n",
      "[D loss: 0.5878438949584961, G Loss: 0.6826049089431763]:   5%|▍         | 7/142 [00:00<00:09, 13.52it/s]\u001b[A\n",
      "[D loss: 0.5877940654754639, G Loss: 0.6913164258003235]:   5%|▍         | 7/142 [00:00<00:09, 13.52it/s]\u001b[A\n",
      "[D loss: 0.5877615213394165, G Loss: 0.6864538788795471]:   6%|▌         | 8/142 [00:00<00:09, 13.52it/s]\u001b[A\n",
      "[D loss: 0.5877615213394165, G Loss: 0.6864538788795471]:   6%|▋         | 9/142 [00:00<00:10, 12.63it/s]\u001b[A\n",
      "[D loss: 0.5842763185501099, G Loss: 0.6879409551620483]:   6%|▋         | 9/142 [00:00<00:10, 12.63it/s]\u001b[A\n",
      "[D loss: 0.5851104259490967, G Loss: 0.6865925192832947]:   7%|▋         | 10/142 [00:00<00:10, 12.63it/s]\u001b[A\n",
      "[D loss: 0.5851104259490967, G Loss: 0.6865925192832947]:   8%|▊         | 11/142 [00:00<00:10, 12.36it/s]\u001b[A\n",
      "[D loss: 0.5893899202346802, G Loss: 0.6875050067901611]:   8%|▊         | 11/142 [00:00<00:10, 12.36it/s]\u001b[A\n",
      "[D loss: 0.5816506147384644, G Loss: 0.6885253190994263]:   8%|▊         | 12/142 [00:01<00:10, 12.36it/s]\u001b[A\n",
      "[D loss: 0.5816506147384644, G Loss: 0.6885253190994263]:   9%|▉         | 13/142 [00:01<00:10, 12.10it/s]\u001b[A\n",
      "[D loss: 0.5856852531433105, G Loss: 0.6885601282119751]:   9%|▉         | 13/142 [00:01<00:10, 12.10it/s]\u001b[A\n",
      "[D loss: 0.586542010307312, G Loss: 0.6892740726470947]:  10%|▉         | 14/142 [00:01<00:10, 12.10it/s] \u001b[A\n",
      "[D loss: 0.586542010307312, G Loss: 0.6892740726470947]:  11%|█         | 15/142 [00:01<00:10, 11.96it/s]\u001b[A\n",
      "[D loss: 0.5847277045249939, G Loss: 0.694625735282898]:  11%|█         | 15/142 [00:01<00:10, 11.96it/s]\u001b[A\n",
      "[D loss: 0.5812475681304932, G Loss: 0.6919586658477783]:  11%|█▏        | 16/142 [00:01<00:10, 11.96it/s]\u001b[A\n",
      "[D loss: 0.5812475681304932, G Loss: 0.6919586658477783]:  12%|█▏        | 17/142 [00:01<00:10, 12.11it/s]\u001b[A\n",
      "[D loss: 0.5788359045982361, G Loss: 0.688960075378418]:  12%|█▏        | 17/142 [00:01<00:10, 12.11it/s] \u001b[A\n",
      "[D loss: 0.5821365118026733, G Loss: 0.6883749961853027]:  13%|█▎        | 18/142 [00:01<00:10, 12.11it/s]\u001b[A\n",
      "[D loss: 0.5821365118026733, G Loss: 0.6883749961853027]:  13%|█▎        | 19/142 [00:01<00:10, 12.09it/s]\u001b[A\n",
      "[D loss: 0.5803160667419434, G Loss: 0.6934112906455994]:  13%|█▎        | 19/142 [00:01<00:10, 12.09it/s]\u001b[A\n",
      "[D loss: 0.5768102407455444, G Loss: 0.6967201828956604]:  14%|█▍        | 20/142 [00:01<00:10, 12.09it/s]\u001b[A\n",
      "[D loss: 0.5768102407455444, G Loss: 0.6967201828956604]:  15%|█▍        | 21/142 [00:01<00:10, 11.87it/s]\u001b[A\n",
      "[D loss: 0.5788963437080383, G Loss: 0.6928806900978088]:  15%|█▍        | 21/142 [00:01<00:10, 11.87it/s]\u001b[A\n",
      "[D loss: 0.5788706541061401, G Loss: 0.6918957233428955]:  15%|█▌        | 22/142 [00:01<00:10, 11.87it/s]\u001b[A\n",
      "[D loss: 0.5788706541061401, G Loss: 0.6918957233428955]:  16%|█▌        | 23/142 [00:01<00:10, 11.58it/s]\u001b[A\n",
      "[D loss: 0.5772318840026855, G Loss: 0.6903104782104492]:  16%|█▌        | 23/142 [00:01<00:10, 11.58it/s]\u001b[A\n",
      "[D loss: 0.5753964185714722, G Loss: 0.6956076622009277]:  17%|█▋        | 24/142 [00:02<00:10, 11.58it/s]\u001b[A\n",
      "[D loss: 0.5753964185714722, G Loss: 0.6956076622009277]:  18%|█▊        | 25/142 [00:02<00:10, 11.62it/s]\u001b[A\n",
      "[D loss: 0.5778622627258301, G Loss: 0.694251537322998]:  18%|█▊        | 25/142 [00:02<00:10, 11.62it/s] \u001b[A\n",
      "[D loss: 0.5741114616394043, G Loss: 0.6974484920501709]:  18%|█▊        | 26/142 [00:02<00:09, 11.62it/s]\u001b[A\n",
      "[D loss: 0.5741114616394043, G Loss: 0.6974484920501709]:  19%|█▉        | 27/142 [00:02<00:09, 11.64it/s]\u001b[A\n",
      "[D loss: 0.5749584436416626, G Loss: 0.6939176321029663]:  19%|█▉        | 27/142 [00:02<00:09, 11.64it/s]\u001b[A\n",
      "[D loss: 0.5716850757598877, G Loss: 0.6962161064147949]:  20%|█▉        | 28/142 [00:02<00:09, 11.64it/s]\u001b[A\n",
      "[D loss: 0.5716850757598877, G Loss: 0.6962161064147949]:  20%|██        | 29/142 [00:02<00:09, 11.76it/s]\u001b[A\n",
      "[D loss: 0.5680201053619385, G Loss: 0.6942122578620911]:  20%|██        | 29/142 [00:02<00:09, 11.76it/s]\u001b[A\n",
      "[D loss: 0.5703723430633545, G Loss: 0.698244571685791]:  21%|██        | 30/142 [00:02<00:09, 11.76it/s] \u001b[A\n",
      "[D loss: 0.5703723430633545, G Loss: 0.698244571685791]:  22%|██▏       | 31/142 [00:02<00:09, 11.67it/s]\u001b[A\n",
      "[D loss: 0.5746912360191345, G Loss: 0.6985686421394348]:  22%|██▏       | 31/142 [00:02<00:09, 11.67it/s]\u001b[A\n",
      "[D loss: 0.5659496784210205, G Loss: 0.7022350430488586]:  23%|██▎       | 32/142 [00:02<00:09, 11.67it/s]\u001b[A\n",
      "[D loss: 0.5659496784210205, G Loss: 0.7022350430488586]:  23%|██▎       | 33/142 [00:02<00:09, 11.31it/s]\u001b[A\n",
      "[D loss: 0.5690914392471313, G Loss: 0.6970064640045166]:  23%|██▎       | 33/142 [00:02<00:09, 11.31it/s]\u001b[A\n",
      "[D loss: 0.566082775592804, G Loss: 0.6974889039993286]:  24%|██▍       | 34/142 [00:02<00:09, 11.31it/s] \u001b[A\n",
      "[D loss: 0.566082775592804, G Loss: 0.6974889039993286]:  25%|██▍       | 35/142 [00:02<00:09, 11.62it/s]\u001b[A\n",
      "[D loss: 0.5657666921615601, G Loss: 0.6986332535743713]:  25%|██▍       | 35/142 [00:02<00:09, 11.62it/s]\u001b[A\n",
      "[D loss: 0.567802369594574, G Loss: 0.7000879049301147]:  25%|██▌       | 36/142 [00:03<00:09, 11.62it/s] \u001b[A\n",
      "[D loss: 0.567802369594574, G Loss: 0.7000879049301147]:  26%|██▌       | 37/142 [00:03<00:09, 11.48it/s]\u001b[A\n",
      "[D loss: 0.5619595050811768, G Loss: 0.6986525654792786]:  26%|██▌       | 37/142 [00:03<00:09, 11.48it/s]\u001b[A\n",
      "[D loss: 0.564287543296814, G Loss: 0.7001864314079285]:  27%|██▋       | 38/142 [00:03<00:09, 11.48it/s] \u001b[A\n",
      "[D loss: 0.564287543296814, G Loss: 0.7001864314079285]:  27%|██▋       | 39/142 [00:03<00:08, 11.54it/s]\u001b[A\n",
      "[D loss: 0.5617375373840332, G Loss: 0.7035511136054993]:  27%|██▋       | 39/142 [00:03<00:08, 11.54it/s]\u001b[A\n",
      "[D loss: 0.5619165301322937, G Loss: 0.6964024305343628]:  28%|██▊       | 40/142 [00:03<00:08, 11.54it/s]\u001b[A\n",
      "[D loss: 0.5619165301322937, G Loss: 0.6964024305343628]:  29%|██▉       | 41/142 [00:03<00:08, 11.55it/s]\u001b[A\n",
      "[D loss: 0.5585883855819702, G Loss: 0.7016565799713135]:  29%|██▉       | 41/142 [00:03<00:08, 11.55it/s]\u001b[A\n",
      "[D loss: 0.5609671473503113, G Loss: 0.7032929062843323]:  30%|██▉       | 42/142 [00:03<00:08, 11.55it/s]\u001b[A\n",
      "[D loss: 0.5609671473503113, G Loss: 0.7032929062843323]:  30%|███       | 43/142 [00:03<00:08, 11.53it/s]\u001b[A\n",
      "[D loss: 0.5547999739646912, G Loss: 0.7016139626502991]:  30%|███       | 43/142 [00:03<00:08, 11.53it/s]\u001b[A\n",
      "[D loss: 0.5628011226654053, G Loss: 0.7013294696807861]:  31%|███       | 44/142 [00:03<00:08, 11.53it/s]\u001b[A\n",
      "[D loss: 0.5628011226654053, G Loss: 0.7013294696807861]:  32%|███▏      | 45/142 [00:03<00:08, 11.64it/s]\u001b[A\n",
      "[D loss: 0.5573197603225708, G Loss: 0.7028716802597046]:  32%|███▏      | 45/142 [00:03<00:08, 11.64it/s]\u001b[A\n",
      "[D loss: 0.5550521612167358, G Loss: 0.7051635980606079]:  32%|███▏      | 46/142 [00:03<00:08, 11.64it/s]\u001b[A\n",
      "[D loss: 0.5550521612167358, G Loss: 0.7051635980606079]:  33%|███▎      | 47/142 [00:03<00:08, 11.53it/s]\u001b[A\n",
      "[D loss: 0.5592023730278015, G Loss: 0.7004456520080566]:  33%|███▎      | 47/142 [00:04<00:08, 11.53it/s]\u001b[A\n",
      "[D loss: 0.5548413991928101, G Loss: 0.7002056837081909]:  34%|███▍      | 48/142 [00:04<00:08, 11.53it/s]\u001b[A\n",
      "[D loss: 0.5548413991928101, G Loss: 0.7002056837081909]:  35%|███▍      | 49/142 [00:04<00:07, 11.67it/s]\u001b[A\n",
      "[D loss: 0.5544949173927307, G Loss: 0.7022252082824707]:  35%|███▍      | 49/142 [00:04<00:07, 11.67it/s]\u001b[A\n",
      "[D loss: 0.5548683404922485, G Loss: 0.705894947052002]:  35%|███▌      | 50/142 [00:04<00:07, 11.67it/s] \u001b[A\n",
      "[D loss: 0.5548683404922485, G Loss: 0.705894947052002]:  36%|███▌      | 51/142 [00:04<00:07, 11.56it/s]\u001b[A\n",
      "[D loss: 0.5532139539718628, G Loss: 0.7055023908615112]:  36%|███▌      | 51/142 [00:04<00:07, 11.56it/s]\u001b[A\n",
      "[D loss: 0.5501115322113037, G Loss: 0.7063239812850952]:  37%|███▋      | 52/142 [00:04<00:07, 11.56it/s]\u001b[A\n",
      "[D loss: 0.5501115322113037, G Loss: 0.7063239812850952]:  37%|███▋      | 53/142 [00:04<00:07, 11.72it/s]\u001b[A\n",
      "[D loss: 0.5526627898216248, G Loss: 0.705768346786499]:  37%|███▋      | 53/142 [00:04<00:07, 11.72it/s] \u001b[A\n",
      "[D loss: 0.5547844767570496, G Loss: 0.7051419615745544]:  38%|███▊      | 54/142 [00:04<00:07, 11.72it/s]\u001b[A\n",
      "[D loss: 0.5547844767570496, G Loss: 0.7051419615745544]:  39%|███▊      | 55/142 [00:04<00:07, 11.55it/s]\u001b[A\n",
      "[D loss: 0.5471968650817871, G Loss: 0.7058079242706299]:  39%|███▊      | 55/142 [00:04<00:07, 11.55it/s]\u001b[A\n",
      "[D loss: 0.5517189502716064, G Loss: 0.7018869519233704]:  39%|███▉      | 56/142 [00:04<00:07, 11.55it/s]\u001b[A\n",
      "[D loss: 0.5517189502716064, G Loss: 0.7018869519233704]:  40%|████      | 57/142 [00:04<00:07, 11.73it/s]\u001b[A\n",
      "[D loss: 0.5490367412567139, G Loss: 0.7057057619094849]:  40%|████      | 57/142 [00:04<00:07, 11.73it/s]\u001b[A\n",
      "[D loss: 0.5487475991249084, G Loss: 0.709003210067749]:  41%|████      | 58/142 [00:04<00:07, 11.73it/s] \u001b[A\n",
      "[D loss: 0.5487475991249084, G Loss: 0.709003210067749]:  42%|████▏     | 59/142 [00:04<00:07, 11.85it/s]\u001b[A\n",
      "[D loss: 0.5457895994186401, G Loss: 0.7072082757949829]:  42%|████▏     | 59/142 [00:05<00:07, 11.85it/s]\u001b[A\n",
      "[D loss: 0.548488974571228, G Loss: 0.7044780254364014]:  42%|████▏     | 60/142 [00:05<00:06, 11.85it/s] \u001b[A\n",
      "[D loss: 0.548488974571228, G Loss: 0.7044780254364014]:  43%|████▎     | 61/142 [00:05<00:06, 11.59it/s]\u001b[A\n",
      "[D loss: 0.5490514039993286, G Loss: 0.7067490816116333]:  43%|████▎     | 61/142 [00:05<00:06, 11.59it/s]\u001b[A\n",
      "[D loss: 0.5449099540710449, G Loss: 0.7088094353675842]:  44%|████▎     | 62/142 [00:05<00:06, 11.59it/s]\u001b[A\n",
      "[D loss: 0.5449099540710449, G Loss: 0.7088094353675842]:  44%|████▍     | 63/142 [00:05<00:06, 11.71it/s]\u001b[A\n",
      "[D loss: 0.5456970930099487, G Loss: 0.7129919528961182]:  44%|████▍     | 63/142 [00:05<00:06, 11.71it/s]\u001b[A\n",
      "[D loss: 0.5417584180831909, G Loss: 0.7074233293533325]:  45%|████▌     | 64/142 [00:05<00:06, 11.71it/s]\u001b[A\n",
      "[D loss: 0.5417584180831909, G Loss: 0.7074233293533325]:  46%|████▌     | 65/142 [00:05<00:06, 11.85it/s]\u001b[A\n",
      "[D loss: 0.5423548221588135, G Loss: 0.706672191619873]:  46%|████▌     | 65/142 [00:05<00:06, 11.85it/s] \u001b[A\n",
      "[D loss: 0.5441598892211914, G Loss: 0.7116507887840271]:  46%|████▋     | 66/142 [00:05<00:06, 11.85it/s]\u001b[A\n",
      "[D loss: 0.5441598892211914, G Loss: 0.7116507887840271]:  47%|████▋     | 67/142 [00:05<00:06, 11.51it/s]\u001b[A\n",
      "[D loss: 0.5464226007461548, G Loss: 0.7062562704086304]:  47%|████▋     | 67/142 [00:05<00:06, 11.51it/s]\u001b[A\n",
      "[D loss: 0.5406858325004578, G Loss: 0.7129473686218262]:  48%|████▊     | 68/142 [00:05<00:06, 11.51it/s]\u001b[A\n",
      "[D loss: 0.5406858325004578, G Loss: 0.7129473686218262]:  49%|████▊     | 69/142 [00:05<00:06, 11.75it/s]\u001b[A\n",
      "[D loss: 0.5379709005355835, G Loss: 0.7143297791481018]:  49%|████▊     | 69/142 [00:05<00:06, 11.75it/s]\u001b[A\n",
      "[D loss: 0.5377504825592041, G Loss: 0.7108373641967773]:  49%|████▉     | 70/142 [00:05<00:06, 11.75it/s]\u001b[A\n",
      "[D loss: 0.5377504825592041, G Loss: 0.7108373641967773]:  50%|█████     | 71/142 [00:05<00:06, 11.68it/s]\u001b[A\n",
      "[D loss: 0.540263295173645, G Loss: 0.7109889984130859]:  50%|█████     | 71/142 [00:06<00:06, 11.68it/s] \u001b[A\n",
      "[D loss: 0.5423793196678162, G Loss: 0.712364673614502]:  51%|█████     | 72/142 [00:06<00:05, 11.68it/s]\u001b[A\n",
      "[D loss: 0.5423793196678162, G Loss: 0.712364673614502]:  51%|█████▏    | 73/142 [00:06<00:05, 11.77it/s]\u001b[A\n",
      "[D loss: 0.5351942777633667, G Loss: 0.7120563983917236]:  51%|█████▏    | 73/142 [00:06<00:05, 11.77it/s]\u001b[A\n",
      "[D loss: 0.5369901657104492, G Loss: 0.7068905830383301]:  52%|█████▏    | 74/142 [00:06<00:05, 11.77it/s]\u001b[A\n",
      "[D loss: 0.5369901657104492, G Loss: 0.7068905830383301]:  53%|█████▎    | 75/142 [00:06<00:05, 11.98it/s]\u001b[A\n",
      "[D loss: 0.5413392782211304, G Loss: 0.7075570821762085]:  53%|█████▎    | 75/142 [00:06<00:05, 11.98it/s]\u001b[A\n",
      "[D loss: 0.5365854501724243, G Loss: 0.7096012234687805]:  54%|█████▎    | 76/142 [00:06<00:05, 11.98it/s]\u001b[A\n",
      "[D loss: 0.5365854501724243, G Loss: 0.7096012234687805]:  54%|█████▍    | 77/142 [00:06<00:05, 11.94it/s]\u001b[A\n",
      "[D loss: 0.5345646142959595, G Loss: 0.7129303216934204]:  54%|█████▍    | 77/142 [00:06<00:05, 11.94it/s]\u001b[A\n",
      "[D loss: 0.5341496467590332, G Loss: 0.7156826257705688]:  55%|█████▍    | 78/142 [00:06<00:05, 11.94it/s]\u001b[A\n",
      "[D loss: 0.5341496467590332, G Loss: 0.7156826257705688]:  56%|█████▌    | 79/142 [00:06<00:05, 11.72it/s]\u001b[A\n",
      "[D loss: 0.5354875922203064, G Loss: 0.7099065780639648]:  56%|█████▌    | 79/142 [00:06<00:05, 11.72it/s]\u001b[A\n",
      "[D loss: 0.5294625759124756, G Loss: 0.7124885320663452]:  56%|█████▋    | 80/142 [00:06<00:05, 11.72it/s]\u001b[A\n",
      "[D loss: 0.5294625759124756, G Loss: 0.7124885320663452]:  57%|█████▋    | 81/142 [00:06<00:05, 11.84it/s]\u001b[A\n",
      "[D loss: 0.5333843231201172, G Loss: 0.7127740383148193]:  57%|█████▋    | 81/142 [00:06<00:05, 11.84it/s]\u001b[A\n",
      "[D loss: 0.5322298407554626, G Loss: 0.7173170447349548]:  58%|█████▊    | 82/142 [00:07<00:05, 11.84it/s]\u001b[A\n",
      "[D loss: 0.5322298407554626, G Loss: 0.7173170447349548]:  58%|█████▊    | 83/142 [00:07<00:04, 11.81it/s]\u001b[A\n",
      "[D loss: 0.5351250171661377, G Loss: 0.7131029367446899]:  58%|█████▊    | 83/142 [00:07<00:04, 11.81it/s]\u001b[A\n",
      "[D loss: 0.5321981906890869, G Loss: 0.7088886499404907]:  59%|█████▉    | 84/142 [00:07<00:04, 11.81it/s]\u001b[A\n",
      "[D loss: 0.5321981906890869, G Loss: 0.7088886499404907]:  60%|█████▉    | 85/142 [00:07<00:04, 11.97it/s]\u001b[A\n",
      "[D loss: 0.5295494794845581, G Loss: 0.7179189920425415]:  60%|█████▉    | 85/142 [00:07<00:04, 11.97it/s]\u001b[A\n",
      "[D loss: 0.5263841152191162, G Loss: 0.7151176333427429]:  61%|██████    | 86/142 [00:07<00:04, 11.97it/s]\u001b[A\n",
      "[D loss: 0.5263841152191162, G Loss: 0.7151176333427429]:  61%|██████▏   | 87/142 [00:07<00:04, 11.91it/s]\u001b[A\n",
      "[D loss: 0.5250543355941772, G Loss: 0.7219171524047852]:  61%|██████▏   | 87/142 [00:07<00:04, 11.91it/s]\u001b[A\n",
      "[D loss: 0.5274668335914612, G Loss: 0.7197398543357849]:  62%|██████▏   | 88/142 [00:07<00:04, 11.91it/s]\u001b[A\n",
      "[D loss: 0.5274668335914612, G Loss: 0.7197398543357849]:  63%|██████▎   | 89/142 [00:07<00:04, 11.92it/s]\u001b[A\n",
      "[D loss: 0.5248923301696777, G Loss: 0.714384138584137]:  63%|██████▎   | 89/142 [00:07<00:04, 11.92it/s] \u001b[A\n",
      "[D loss: 0.531131386756897, G Loss: 0.713485062122345]:  63%|██████▎   | 90/142 [00:07<00:04, 11.92it/s] \u001b[A\n",
      "[D loss: 0.531131386756897, G Loss: 0.713485062122345]:  64%|██████▍   | 91/142 [00:07<00:04, 11.66it/s]\u001b[A\n",
      "[D loss: 0.52376389503479, G Loss: 0.7169809341430664]:  64%|██████▍   | 91/142 [00:07<00:04, 11.66it/s]\u001b[A\n",
      "[D loss: 0.5238854885101318, G Loss: 0.7232022285461426]:  65%|██████▍   | 92/142 [00:07<00:04, 11.66it/s]\u001b[A\n",
      "[D loss: 0.5238854885101318, G Loss: 0.7232022285461426]:  65%|██████▌   | 93/142 [00:07<00:04, 11.71it/s]\u001b[A\n",
      "[D loss: 0.5259131193161011, G Loss: 0.7169885635375977]:  65%|██████▌   | 93/142 [00:07<00:04, 11.71it/s]\u001b[A\n",
      "[D loss: 0.5245431661605835, G Loss: 0.7144968509674072]:  66%|██████▌   | 94/142 [00:08<00:04, 11.71it/s]\u001b[A\n",
      "[D loss: 0.5245431661605835, G Loss: 0.7144968509674072]:  67%|██████▋   | 95/142 [00:08<00:03, 11.87it/s]\u001b[A\n",
      "[D loss: 0.5191982984542847, G Loss: 0.7207748889923096]:  67%|██████▋   | 95/142 [00:08<00:03, 11.87it/s]\u001b[A\n",
      "[D loss: 0.5227499008178711, G Loss: 0.7193471193313599]:  68%|██████▊   | 96/142 [00:08<00:03, 11.87it/s]\u001b[A\n",
      "[D loss: 0.5227499008178711, G Loss: 0.7193471193313599]:  68%|██████▊   | 97/142 [00:08<00:03, 11.69it/s]\u001b[A\n",
      "[D loss: 0.523542046546936, G Loss: 0.7192022800445557]:  68%|██████▊   | 97/142 [00:08<00:03, 11.69it/s] \u001b[A\n",
      "[D loss: 0.5212926268577576, G Loss: 0.7179678678512573]:  69%|██████▉   | 98/142 [00:08<00:03, 11.69it/s]\u001b[A\n",
      "[D loss: 0.5212926268577576, G Loss: 0.7179678678512573]:  70%|██████▉   | 99/142 [00:08<00:03, 12.00it/s]\u001b[A\n",
      "[D loss: 0.5218297839164734, G Loss: 0.7226998805999756]:  70%|██████▉   | 99/142 [00:08<00:03, 12.00it/s]\u001b[A\n",
      "[D loss: 0.5240195393562317, G Loss: 0.7256885170936584]:  70%|███████   | 100/142 [00:08<00:03, 12.00it/s]\u001b[A\n",
      "[D loss: 0.5240195393562317, G Loss: 0.7256885170936584]:  71%|███████   | 101/142 [00:08<00:03, 11.88it/s]\u001b[A\n",
      "[D loss: 0.5208068490028381, G Loss: 0.7274489998817444]:  71%|███████   | 101/142 [00:08<00:03, 11.88it/s]\u001b[A\n",
      "[D loss: 0.5179667472839355, G Loss: 0.7203018665313721]:  72%|███████▏  | 102/142 [00:08<00:03, 11.88it/s]\u001b[A\n",
      "[D loss: 0.5179667472839355, G Loss: 0.7203018665313721]:  73%|███████▎  | 103/142 [00:08<00:03, 11.67it/s]\u001b[A\n",
      "[D loss: 0.5212459564208984, G Loss: 0.7177211046218872]:  73%|███████▎  | 103/142 [00:08<00:03, 11.67it/s]\u001b[A\n",
      "[D loss: 0.517052173614502, G Loss: 0.7230994701385498]:  73%|███████▎  | 104/142 [00:08<00:03, 11.67it/s] \u001b[A\n",
      "[D loss: 0.517052173614502, G Loss: 0.7230994701385498]:  74%|███████▍  | 105/142 [00:08<00:03, 11.66it/s]\u001b[A\n",
      "[D loss: 0.5189952850341797, G Loss: 0.7205990552902222]:  74%|███████▍  | 105/142 [00:08<00:03, 11.66it/s]\u001b[A\n",
      "[D loss: 0.511452317237854, G Loss: 0.7210322618484497]:  75%|███████▍  | 106/142 [00:09<00:03, 11.66it/s] \u001b[A\n",
      "[D loss: 0.511452317237854, G Loss: 0.7210322618484497]:  75%|███████▌  | 107/142 [00:09<00:03, 11.55it/s]\u001b[A\n",
      "[D loss: 0.5149775743484497, G Loss: 0.7269439101219177]:  75%|███████▌  | 107/142 [00:09<00:03, 11.55it/s]\u001b[A\n",
      "[D loss: 0.5111793279647827, G Loss: 0.723758339881897]:  76%|███████▌  | 108/142 [00:09<00:02, 11.55it/s] \u001b[A\n",
      "[D loss: 0.5111793279647827, G Loss: 0.723758339881897]:  77%|███████▋  | 109/142 [00:09<00:02, 11.78it/s]\u001b[A\n",
      "[D loss: 0.5131512880325317, G Loss: 0.7243192195892334]:  77%|███████▋  | 109/142 [00:09<00:02, 11.78it/s]\u001b[A\n",
      "[D loss: 0.5155138373374939, G Loss: 0.7149093151092529]:  77%|███████▋  | 110/142 [00:09<00:02, 11.78it/s]\u001b[A\n",
      "[D loss: 0.5155138373374939, G Loss: 0.7149093151092529]:  78%|███████▊  | 111/142 [00:09<00:02, 11.76it/s]\u001b[A\n",
      "[D loss: 0.5143913626670837, G Loss: 0.7299706339836121]:  78%|███████▊  | 111/142 [00:09<00:02, 11.76it/s]\u001b[A\n",
      "[D loss: 0.5128998160362244, G Loss: 0.7263362407684326]:  79%|███████▉  | 112/142 [00:09<00:02, 11.76it/s]\u001b[A\n",
      "[D loss: 0.5128998160362244, G Loss: 0.7263362407684326]:  80%|███████▉  | 113/142 [00:09<00:02, 11.90it/s]\u001b[A\n",
      "[D loss: 0.5184041261672974, G Loss: 0.7268805503845215]:  80%|███████▉  | 113/142 [00:09<00:02, 11.90it/s]\u001b[A\n",
      "[D loss: 0.5187833309173584, G Loss: 0.717162549495697]:  80%|████████  | 114/142 [00:09<00:02, 11.90it/s] \u001b[A\n",
      "[D loss: 0.5187833309173584, G Loss: 0.717162549495697]:  81%|████████  | 115/142 [00:09<00:02, 11.60it/s]\u001b[A\n",
      "[D loss: 0.5100075006484985, G Loss: 0.7282209992408752]:  81%|████████  | 115/142 [00:09<00:02, 11.60it/s]\u001b[A\n",
      "[D loss: 0.5097832083702087, G Loss: 0.7245618104934692]:  82%|████████▏ | 116/142 [00:09<00:02, 11.60it/s]\u001b[A\n",
      "[D loss: 0.5097832083702087, G Loss: 0.7245618104934692]:  82%|████████▏ | 117/142 [00:09<00:02, 11.80it/s]\u001b[A\n",
      "[D loss: 0.5086614489555359, G Loss: 0.727358341217041]:  82%|████████▏ | 117/142 [00:09<00:02, 11.80it/s] \u001b[A\n",
      "[D loss: 0.5094048976898193, G Loss: 0.731216549873352]:  83%|████████▎ | 118/142 [00:10<00:02, 11.80it/s]\u001b[A\n",
      "[D loss: 0.5094048976898193, G Loss: 0.731216549873352]:  84%|████████▍ | 119/142 [00:10<00:01, 11.67it/s]\u001b[A\n",
      "[D loss: 0.5115879774093628, G Loss: 0.731896162033081]:  84%|████████▍ | 119/142 [00:10<00:01, 11.67it/s]\u001b[A\n",
      "[D loss: 0.5151183605194092, G Loss: 0.718994140625]:  85%|████████▍ | 120/142 [00:10<00:01, 11.67it/s]   \u001b[A\n",
      "[D loss: 0.5151183605194092, G Loss: 0.718994140625]:  85%|████████▌ | 121/142 [00:10<00:01, 11.57it/s]\u001b[A\n",
      "[D loss: 0.5083986520767212, G Loss: 0.7270618677139282]:  85%|████████▌ | 121/142 [00:10<00:01, 11.57it/s]\u001b[A\n",
      "[D loss: 0.5117286443710327, G Loss: 0.7288342714309692]:  86%|████████▌ | 122/142 [00:10<00:01, 11.57it/s]\u001b[A\n",
      "[D loss: 0.5117286443710327, G Loss: 0.7288342714309692]:  87%|████████▋ | 123/142 [00:10<00:01, 11.19it/s]\u001b[A\n",
      "[D loss: 0.5059839487075806, G Loss: 0.7295382618904114]:  87%|████████▋ | 123/142 [00:10<00:01, 11.19it/s]\u001b[A\n",
      "[D loss: 0.5066395998001099, G Loss: 0.7350603342056274]:  87%|████████▋ | 124/142 [00:10<00:01, 11.19it/s]\u001b[A\n",
      "[D loss: 0.5066395998001099, G Loss: 0.7350603342056274]:  88%|████████▊ | 125/142 [00:10<00:01, 11.30it/s]\u001b[A\n",
      "[D loss: 0.5138358473777771, G Loss: 0.7292004823684692]:  88%|████████▊ | 125/142 [00:10<00:01, 11.30it/s]\u001b[A\n",
      "[D loss: 0.5094552636146545, G Loss: 0.7259622812271118]:  89%|████████▊ | 126/142 [00:10<00:01, 11.30it/s]\u001b[A\n",
      "[D loss: 0.5094552636146545, G Loss: 0.7259622812271118]:  89%|████████▉ | 127/142 [00:10<00:01, 11.28it/s]\u001b[A\n",
      "[D loss: 0.5069935321807861, G Loss: 0.7258903980255127]:  89%|████████▉ | 127/142 [00:10<00:01, 11.28it/s]\u001b[A\n",
      "[D loss: 0.5089676380157471, G Loss: 0.7304158806800842]:  90%|█████████ | 128/142 [00:10<00:01, 11.28it/s]\u001b[A\n",
      "[D loss: 0.5089676380157471, G Loss: 0.7304158806800842]:  91%|█████████ | 129/142 [00:10<00:01, 11.29it/s]\u001b[A\n",
      "[D loss: 0.5112062692642212, G Loss: 0.72312331199646]:  91%|█████████ | 129/142 [00:11<00:01, 11.29it/s]  \u001b[A\n",
      "[D loss: 0.49884143471717834, G Loss: 0.7346541285514832]:  92%|█████████▏| 130/142 [00:11<00:01, 11.29it/s]\u001b[A\n",
      "[D loss: 0.49884143471717834, G Loss: 0.7346541285514832]:  92%|█████████▏| 131/142 [00:11<00:00, 11.53it/s]\u001b[A\n",
      "[D loss: 0.5090501308441162, G Loss: 0.7340786457061768]:  92%|█████████▏| 131/142 [00:11<00:00, 11.53it/s] \u001b[A\n",
      "[D loss: 0.5021902322769165, G Loss: 0.7323676347732544]:  93%|█████████▎| 132/142 [00:11<00:00, 11.53it/s]\u001b[A\n",
      "[D loss: 0.5021902322769165, G Loss: 0.7323676347732544]:  94%|█████████▎| 133/142 [00:11<00:00, 11.54it/s]\u001b[A\n",
      "[D loss: 0.5067539215087891, G Loss: 0.7315660715103149]:  94%|█████████▎| 133/142 [00:11<00:00, 11.54it/s]\u001b[A\n",
      "[D loss: 0.5057027339935303, G Loss: 0.7379746437072754]:  94%|█████████▍| 134/142 [00:11<00:00, 11.54it/s]\u001b[A\n",
      "[D loss: 0.5057027339935303, G Loss: 0.7379746437072754]:  95%|█████████▌| 135/142 [00:11<00:00, 11.50it/s]\u001b[A\n",
      "[D loss: 0.5067447423934937, G Loss: 0.7280138731002808]:  95%|█████████▌| 135/142 [00:11<00:00, 11.50it/s]\u001b[A\n",
      "[D loss: 0.5003788471221924, G Loss: 0.7287454009056091]:  96%|█████████▌| 136/142 [00:11<00:00, 11.50it/s]\u001b[A\n",
      "[D loss: 0.5003788471221924, G Loss: 0.7287454009056091]:  96%|█████████▋| 137/142 [00:11<00:00, 11.45it/s]\u001b[A\n",
      "[D loss: 0.5018253922462463, G Loss: 0.7279928922653198]:  96%|█████████▋| 137/142 [00:11<00:00, 11.45it/s]\u001b[A\n",
      "[D loss: 0.49944764375686646, G Loss: 0.7339926958084106]:  97%|█████████▋| 138/142 [00:11<00:00, 11.45it/s]\u001b[A\n",
      "[D loss: 0.49944764375686646, G Loss: 0.7339926958084106]:  98%|█████████▊| 139/142 [00:11<00:00, 11.27it/s]\u001b[A\n",
      "[D loss: 0.5010194182395935, G Loss: 0.7393635511398315]:  98%|█████████▊| 139/142 [00:11<00:00, 11.27it/s] \u001b[A\n",
      "[D loss: 0.49760860204696655, G Loss: 0.7378360629081726]:  99%|█████████▊| 140/142 [00:12<00:00, 11.27it/s]\u001b[A\n",
      "[D loss: 0.49760860204696655, G Loss: 0.7378360629081726]:  99%|█████████▉| 141/142 [00:12<00:00, 11.35it/s]\u001b[A\n",
      "[D loss: 0.4936097264289856, G Loss: 0.7423056364059448]:  99%|█████████▉| 141/142 [00:12<00:00, 11.35it/s] \u001b[A\n",
      "[D loss: 0.5011420845985413, G Loss: 0.7347685694694519]: 100%|██████████| 142/142 [00:12<00:00, 11.66it/s]\n"
     ]
    },
    {
     "name": "stdout",
     "output_type": "stream",
     "text": [
      "Epoch 1 done, [D loss: 0.5011420845985413, G Loss: 0.7347685694694519]\n"
     ]
    },
    {
     "name": "stderr",
     "output_type": "stream",
     "text": [
      "\n",
      "  0%|          | 0/142 [00:00<?, ?it/s]\u001b[A\n",
      "[D loss: 0.5021083354949951, G Loss: 0.7326644659042358]:   1%|          | 1/142 [00:00<00:10, 13.84it/s]\u001b[A\n",
      "[D loss: 0.5060453414916992, G Loss: 0.7382371425628662]:   1%|▏         | 2/142 [00:00<00:10, 13.32it/s]\u001b[A\n",
      "[D loss: 0.5060453414916992, G Loss: 0.7382371425628662]:   2%|▏         | 3/142 [00:00<00:07, 18.91it/s]\u001b[A\n",
      "[D loss: 0.5023066997528076, G Loss: 0.7385793924331665]:   2%|▏         | 3/142 [00:00<00:07, 18.91it/s]\u001b[A\n",
      "[D loss: 0.4959627389907837, G Loss: 0.7339743375778198]:   3%|▎         | 4/142 [00:00<00:07, 18.91it/s]\u001b[A\n",
      "[D loss: 0.4959627389907837, G Loss: 0.7339743375778198]:   4%|▎         | 5/142 [00:00<00:09, 14.57it/s]\u001b[A\n",
      "[D loss: 0.49707329273223877, G Loss: 0.7407997846603394]:   4%|▎         | 5/142 [00:00<00:09, 14.57it/s]\u001b[A\n",
      "[D loss: 0.49649256467819214, G Loss: 0.7413943409919739]:   4%|▍         | 6/142 [00:00<00:09, 14.57it/s]\u001b[A\n",
      "[D loss: 0.49649256467819214, G Loss: 0.7413943409919739]:   5%|▍         | 7/142 [00:00<00:09, 13.51it/s]\u001b[A\n",
      "[D loss: 0.49598929286003113, G Loss: 0.7412903308868408]:   5%|▍         | 7/142 [00:00<00:09, 13.51it/s]\u001b[A\n",
      "[D loss: 0.5008338093757629, G Loss: 0.738115131855011]:   6%|▌         | 8/142 [00:00<00:09, 13.51it/s]  \u001b[A\n",
      "[D loss: 0.5008338093757629, G Loss: 0.738115131855011]:   6%|▋         | 9/142 [00:00<00:10, 12.47it/s]\u001b[A\n",
      "[D loss: 0.4937913417816162, G Loss: 0.7378194332122803]:   6%|▋         | 9/142 [00:00<00:10, 12.47it/s]\u001b[A\n",
      "[D loss: 0.49733686447143555, G Loss: 0.7408596277236938]:   7%|▋         | 10/142 [00:00<00:10, 12.47it/s]\u001b[A\n",
      "[D loss: 0.49733686447143555, G Loss: 0.7408596277236938]:   8%|▊         | 11/142 [00:00<00:10, 12.20it/s]\u001b[A\n",
      "[D loss: 0.49395114183425903, G Loss: 0.7438255548477173]:   8%|▊         | 11/142 [00:00<00:10, 12.20it/s]\u001b[A\n",
      "[D loss: 0.4915595054626465, G Loss: 0.7458142042160034]:   8%|▊         | 12/142 [00:01<00:10, 12.20it/s] \u001b[A\n",
      "[D loss: 0.4915595054626465, G Loss: 0.7458142042160034]:   9%|▉         | 13/142 [00:01<00:10, 12.12it/s]\u001b[A\n",
      "[D loss: 0.4934405982494354, G Loss: 0.7407163977622986]:   9%|▉         | 13/142 [00:01<00:10, 12.12it/s]\u001b[A\n",
      "[D loss: 0.493396520614624, G Loss: 0.7401772141456604]:  10%|▉         | 14/142 [00:01<00:10, 12.12it/s] \u001b[A\n",
      "[D loss: 0.493396520614624, G Loss: 0.7401772141456604]:  11%|█         | 15/142 [00:01<00:10, 12.07it/s]\u001b[A\n",
      "[D loss: 0.49978530406951904, G Loss: 0.7406674027442932]:  11%|█         | 15/142 [00:01<00:10, 12.07it/s]\u001b[A\n",
      "[D loss: 0.49920952320098877, G Loss: 0.742045521736145]:  11%|█▏        | 16/142 [00:01<00:10, 12.07it/s] \u001b[A\n",
      "[D loss: 0.49920952320098877, G Loss: 0.742045521736145]:  12%|█▏        | 17/142 [00:01<00:10, 11.74it/s]\u001b[A\n",
      "[D loss: 0.4865388572216034, G Loss: 0.7481743693351746]:  12%|█▏        | 17/142 [00:01<00:10, 11.74it/s]\u001b[A\n",
      "[D loss: 0.49744364619255066, G Loss: 0.7444576025009155]:  13%|█▎        | 18/142 [00:01<00:10, 11.74it/s]\u001b[A\n",
      "[D loss: 0.49744364619255066, G Loss: 0.7444576025009155]:  13%|█▎        | 19/142 [00:01<00:10, 11.90it/s]\u001b[A\n",
      "[D loss: 0.4908943772315979, G Loss: 0.7442829608917236]:  13%|█▎        | 19/142 [00:01<00:10, 11.90it/s] \u001b[A\n",
      "[D loss: 0.4944150149822235, G Loss: 0.7437881827354431]:  14%|█▍        | 20/142 [00:01<00:10, 11.90it/s]\u001b[A\n",
      "[D loss: 0.4944150149822235, G Loss: 0.7437881827354431]:  15%|█▍        | 21/142 [00:01<00:10, 11.66it/s]\u001b[A\n",
      "[D loss: 0.48938217759132385, G Loss: 0.7441073060035706]:  15%|█▍        | 21/142 [00:01<00:10, 11.66it/s]\u001b[A\n",
      "[D loss: 0.4943534731864929, G Loss: 0.7361843585968018]:  15%|█▌        | 22/142 [00:01<00:10, 11.66it/s] \u001b[A\n",
      "[D loss: 0.4943534731864929, G Loss: 0.7361843585968018]:  16%|█▌        | 23/142 [00:01<00:10, 11.48it/s]\u001b[A\n",
      "[D loss: 0.49346351623535156, G Loss: 0.7436859011650085]:  16%|█▌        | 23/142 [00:01<00:10, 11.48it/s]\u001b[A\n",
      "[D loss: 0.49022942781448364, G Loss: 0.7458004951477051]:  17%|█▋        | 24/142 [00:02<00:10, 11.48it/s]\u001b[A\n",
      "[D loss: 0.49022942781448364, G Loss: 0.7458004951477051]:  18%|█▊        | 25/142 [00:02<00:10, 11.68it/s]\u001b[A\n",
      "[D loss: 0.4935896396636963, G Loss: 0.7502423524856567]:  18%|█▊        | 25/142 [00:02<00:10, 11.68it/s] \u001b[A\n",
      "[D loss: 0.4926599860191345, G Loss: 0.7432212829589844]:  18%|█▊        | 26/142 [00:02<00:09, 11.68it/s]\u001b[A\n",
      "[D loss: 0.4926599860191345, G Loss: 0.7432212829589844]:  19%|█▉        | 27/142 [00:02<00:09, 11.85it/s]\u001b[A\n",
      "[D loss: 0.4917980432510376, G Loss: 0.7478432059288025]:  19%|█▉        | 27/142 [00:02<00:09, 11.85it/s]\u001b[A\n",
      "[D loss: 0.48135435581207275, G Loss: 0.7495955228805542]:  20%|█▉        | 28/142 [00:02<00:09, 11.85it/s]\u001b[A\n",
      "[D loss: 0.48135435581207275, G Loss: 0.7495955228805542]:  20%|██        | 29/142 [00:02<00:09, 11.85it/s]\u001b[A\n",
      "[D loss: 0.48309338092803955, G Loss: 0.7485795021057129]:  20%|██        | 29/142 [00:02<00:09, 11.85it/s]\u001b[A\n",
      "[D loss: 0.49282267689704895, G Loss: 0.7485172748565674]:  21%|██        | 30/142 [00:02<00:09, 11.85it/s]\u001b[A\n",
      "[D loss: 0.49282267689704895, G Loss: 0.7485172748565674]:  22%|██▏       | 31/142 [00:02<00:09, 11.80it/s]\u001b[A\n",
      "[D loss: 0.5017415881156921, G Loss: 0.7388098239898682]:  22%|██▏       | 31/142 [00:02<00:09, 11.80it/s] \u001b[A\n",
      "[D loss: 0.490598201751709, G Loss: 0.7498676776885986]:  23%|██▎       | 32/142 [00:02<00:09, 11.80it/s] \u001b[A\n",
      "[D loss: 0.490598201751709, G Loss: 0.7498676776885986]:  23%|██▎       | 33/142 [00:02<00:09, 11.74it/s]\u001b[A\n",
      "[D loss: 0.4968581199645996, G Loss: 0.7346541285514832]:  23%|██▎       | 33/142 [00:02<00:09, 11.74it/s]\u001b[A\n",
      "[D loss: 0.4875459372997284, G Loss: 0.7469992637634277]:  24%|██▍       | 34/142 [00:02<00:09, 11.74it/s]\u001b[A\n",
      "[D loss: 0.4875459372997284, G Loss: 0.7469992637634277]:  25%|██▍       | 35/142 [00:02<00:09, 11.48it/s]\u001b[A\n",
      "[D loss: 0.48781952261924744, G Loss: 0.7603715658187866]:  25%|██▍       | 35/142 [00:02<00:09, 11.48it/s]\u001b[A\n",
      "[D loss: 0.49135565757751465, G Loss: 0.7509506940841675]:  25%|██▌       | 36/142 [00:03<00:09, 11.48it/s]\u001b[A\n",
      "[D loss: 0.49135565757751465, G Loss: 0.7509506940841675]:  26%|██▌       | 37/142 [00:03<00:09, 11.58it/s]\u001b[A\n",
      "[D loss: 0.49088042974472046, G Loss: 0.7478111982345581]:  26%|██▌       | 37/142 [00:03<00:09, 11.58it/s]\u001b[A\n",
      "[D loss: 0.48860791325569153, G Loss: 0.7559173107147217]:  27%|██▋       | 38/142 [00:03<00:08, 11.58it/s]\u001b[A\n",
      "[D loss: 0.48860791325569153, G Loss: 0.7559173107147217]:  27%|██▋       | 39/142 [00:03<00:08, 11.73it/s]\u001b[A\n",
      "[D loss: 0.48400378227233887, G Loss: 0.7603439092636108]:  27%|██▋       | 39/142 [00:03<00:08, 11.73it/s]\u001b[A\n",
      "[D loss: 0.48906147480010986, G Loss: 0.7471361756324768]:  28%|██▊       | 40/142 [00:03<00:08, 11.73it/s]\u001b[A\n",
      "[D loss: 0.48906147480010986, G Loss: 0.7471361756324768]:  29%|██▉       | 41/142 [00:03<00:08, 11.48it/s]\u001b[A\n",
      "[D loss: 0.4881168007850647, G Loss: 0.7549319863319397]:  29%|██▉       | 41/142 [00:03<00:08, 11.48it/s] \u001b[A\n",
      "[D loss: 0.49047136306762695, G Loss: 0.7457852363586426]:  30%|██▉       | 42/142 [00:03<00:08, 11.48it/s]\u001b[A\n",
      "[D loss: 0.49047136306762695, G Loss: 0.7457852363586426]:  30%|███       | 43/142 [00:03<00:08, 11.52it/s]\u001b[A\n",
      "[D loss: 0.4849144518375397, G Loss: 0.7570110559463501]:  30%|███       | 43/142 [00:03<00:08, 11.52it/s] \u001b[A\n",
      "[D loss: 0.48970428109169006, G Loss: 0.7539026737213135]:  31%|███       | 44/142 [00:03<00:08, 11.52it/s]\u001b[A\n",
      "[D loss: 0.48970428109169006, G Loss: 0.7539026737213135]:  32%|███▏      | 45/142 [00:03<00:08, 11.64it/s]\u001b[A\n",
      "[D loss: 0.4798796772956848, G Loss: 0.7595428228378296]:  32%|███▏      | 45/142 [00:03<00:08, 11.64it/s] \u001b[A\n",
      "[D loss: 0.4787917137145996, G Loss: 0.7664260864257812]:  32%|███▏      | 46/142 [00:03<00:08, 11.64it/s]\u001b[A\n",
      "[D loss: 0.4787917137145996, G Loss: 0.7664260864257812]:  33%|███▎      | 47/142 [00:03<00:08, 11.61it/s]\u001b[A\n",
      "[D loss: 0.4803369641304016, G Loss: 0.7646690607070923]:  33%|███▎      | 47/142 [00:04<00:08, 11.61it/s]\u001b[A\n",
      "[D loss: 0.49114054441452026, G Loss: 0.7433595061302185]:  34%|███▍      | 48/142 [00:04<00:08, 11.61it/s]\u001b[A\n",
      "[D loss: 0.49114054441452026, G Loss: 0.7433595061302185]:  35%|███▍      | 49/142 [00:04<00:08, 11.50it/s]\u001b[A\n",
      "[D loss: 0.4886597990989685, G Loss: 0.7513983249664307]:  35%|███▍      | 49/142 [00:04<00:08, 11.50it/s] \u001b[A\n",
      "[D loss: 0.48389101028442383, G Loss: 0.7551926970481873]:  35%|███▌      | 50/142 [00:04<00:08, 11.50it/s]\u001b[A\n",
      "[D loss: 0.48389101028442383, G Loss: 0.7551926970481873]:  36%|███▌      | 51/142 [00:04<00:07, 11.49it/s]\u001b[A\n",
      "[D loss: 0.4868050217628479, G Loss: 0.7547569870948792]:  36%|███▌      | 51/142 [00:04<00:07, 11.49it/s] \u001b[A\n",
      "[D loss: 0.4807129502296448, G Loss: 0.7520071268081665]:  37%|███▋      | 52/142 [00:04<00:07, 11.49it/s]\u001b[A\n",
      "[D loss: 0.4807129502296448, G Loss: 0.7520071268081665]:  37%|███▋      | 53/142 [00:04<00:07, 11.42it/s]\u001b[A\n",
      "[D loss: 0.48884451389312744, G Loss: 0.7538849711418152]:  37%|███▋      | 53/142 [00:04<00:07, 11.42it/s]\u001b[A\n",
      "[D loss: 0.4904608726501465, G Loss: 0.7502298355102539]:  38%|███▊      | 54/142 [00:04<00:07, 11.42it/s] \u001b[A\n",
      "[D loss: 0.4904608726501465, G Loss: 0.7502298355102539]:  39%|███▊      | 55/142 [00:04<00:07, 11.28it/s]\u001b[A\n",
      "[D loss: 0.4827362895011902, G Loss: 0.7563886642456055]:  39%|███▊      | 55/142 [00:04<00:07, 11.28it/s]\u001b[A\n",
      "[D loss: 0.48489710688591003, G Loss: 0.7644065618515015]:  39%|███▉      | 56/142 [00:04<00:07, 11.28it/s]\u001b[A\n",
      "[D loss: 0.48489710688591003, G Loss: 0.7644065618515015]:  40%|████      | 57/142 [00:04<00:07, 11.23it/s]\u001b[A\n",
      "[D loss: 0.48356199264526367, G Loss: 0.7596230506896973]:  40%|████      | 57/142 [00:04<00:07, 11.23it/s]\u001b[A\n",
      "[D loss: 0.4841241240501404, G Loss: 0.7634401321411133]:  41%|████      | 58/142 [00:04<00:07, 11.23it/s] \u001b[A\n",
      "[D loss: 0.4841241240501404, G Loss: 0.7634401321411133]:  42%|████▏     | 59/142 [00:04<00:07, 11.51it/s]\u001b[A\n",
      "[D loss: 0.4816827178001404, G Loss: 0.7676522731781006]:  42%|████▏     | 59/142 [00:05<00:07, 11.51it/s]\u001b[A\n",
      "[D loss: 0.4887566566467285, G Loss: 0.7574743628501892]:  42%|████▏     | 60/142 [00:05<00:07, 11.51it/s]\u001b[A\n",
      "[D loss: 0.4887566566467285, G Loss: 0.7574743628501892]:  43%|████▎     | 61/142 [00:05<00:07, 11.38it/s]\u001b[A\n",
      "[D loss: 0.48746639490127563, G Loss: 0.7574886083602905]:  43%|████▎     | 61/142 [00:05<00:07, 11.38it/s]\u001b[A\n",
      "[D loss: 0.4873715341091156, G Loss: 0.7722762823104858]:  44%|████▎     | 62/142 [00:05<00:07, 11.38it/s] \u001b[A\n",
      "[D loss: 0.4873715341091156, G Loss: 0.7722762823104858]:  44%|████▍     | 63/142 [00:05<00:06, 11.56it/s]\u001b[A\n",
      "[D loss: 0.482205331325531, G Loss: 0.7653579711914062]:  44%|████▍     | 63/142 [00:05<00:06, 11.56it/s] \u001b[A\n",
      "[D loss: 0.472919762134552, G Loss: 0.7601871490478516]:  45%|████▌     | 64/142 [00:05<00:06, 11.56it/s]\u001b[A\n",
      "[D loss: 0.472919762134552, G Loss: 0.7601871490478516]:  46%|████▌     | 65/142 [00:05<00:06, 11.61it/s]\u001b[A\n",
      "[D loss: 0.483959436416626, G Loss: 0.7593560218811035]:  46%|████▌     | 65/142 [00:05<00:06, 11.61it/s]\u001b[A\n",
      "[D loss: 0.4976012706756592, G Loss: 0.7443102598190308]:  46%|████▋     | 66/142 [00:05<00:06, 11.61it/s]\u001b[A\n",
      "[D loss: 0.4976012706756592, G Loss: 0.7443102598190308]:  47%|████▋     | 67/142 [00:05<00:06, 11.58it/s]\u001b[A\n",
      "[D loss: 0.4773086905479431, G Loss: 0.7786483764648438]:  47%|████▋     | 67/142 [00:05<00:06, 11.58it/s]\u001b[A\n",
      "[D loss: 0.4936681091785431, G Loss: 0.7578784227371216]:  48%|████▊     | 68/142 [00:05<00:06, 11.58it/s]\u001b[A\n",
      "[D loss: 0.4936681091785431, G Loss: 0.7578784227371216]:  49%|████▊     | 69/142 [00:05<00:06, 11.46it/s]\u001b[A\n",
      "[D loss: 0.47783714532852173, G Loss: 0.764042854309082]:  49%|████▊     | 69/142 [00:05<00:06, 11.46it/s]\u001b[A\n",
      "[D loss: 0.48676568269729614, G Loss: 0.7587783336639404]:  49%|████▉     | 70/142 [00:06<00:06, 11.46it/s]\u001b[A\n",
      "[D loss: 0.48676568269729614, G Loss: 0.7587783336639404]:  50%|█████     | 71/142 [00:06<00:06, 11.46it/s]\u001b[A\n",
      "[D loss: 0.4854087233543396, G Loss: 0.7774262428283691]:  50%|█████     | 71/142 [00:06<00:06, 11.46it/s] \u001b[A\n",
      "[D loss: 0.4830254316329956, G Loss: 0.7571879029273987]:  51%|█████     | 72/142 [00:06<00:06, 11.46it/s]\u001b[A\n",
      "[D loss: 0.4830254316329956, G Loss: 0.7571879029273987]:  51%|█████▏    | 73/142 [00:06<00:05, 11.57it/s]\u001b[A\n",
      "[D loss: 0.4799608588218689, G Loss: 0.7669704556465149]:  51%|█████▏    | 73/142 [00:06<00:05, 11.57it/s]\u001b[A\n",
      "[D loss: 0.49006354808807373, G Loss: 0.755335807800293]:  52%|█████▏    | 74/142 [00:06<00:05, 11.57it/s]\u001b[A\n",
      "[D loss: 0.49006354808807373, G Loss: 0.755335807800293]:  53%|█████▎    | 75/142 [00:06<00:05, 11.58it/s]\u001b[A\n",
      "[D loss: 0.4783679246902466, G Loss: 0.7698875665664673]:  53%|█████▎    | 75/142 [00:06<00:05, 11.58it/s]\u001b[A\n",
      "[D loss: 0.4862789511680603, G Loss: 0.7626006007194519]:  54%|█████▎    | 76/142 [00:06<00:05, 11.58it/s]\u001b[A\n",
      "[D loss: 0.4862789511680603, G Loss: 0.7626006007194519]:  54%|█████▍    | 77/142 [00:06<00:05, 11.52it/s]\u001b[A\n",
      "[D loss: 0.486564576625824, G Loss: 0.7705126404762268]:  54%|█████▍    | 77/142 [00:06<00:05, 11.52it/s] \u001b[A\n",
      "[D loss: 0.48238295316696167, G Loss: 0.7715123891830444]:  55%|█████▍    | 78/142 [00:06<00:05, 11.52it/s]\u001b[A\n",
      "[D loss: 0.48238295316696167, G Loss: 0.7715123891830444]:  56%|█████▌    | 79/142 [00:06<00:05, 11.42it/s]\u001b[A\n",
      "[D loss: 0.4862481653690338, G Loss: 0.7631375193595886]:  56%|█████▌    | 79/142 [00:06<00:05, 11.42it/s] \u001b[A\n",
      "[D loss: 0.47855353355407715, G Loss: 0.77452552318573]:  56%|█████▋    | 80/142 [00:06<00:05, 11.42it/s] \u001b[A\n",
      "[D loss: 0.47855353355407715, G Loss: 0.77452552318573]:  57%|█████▋    | 81/142 [00:06<00:05, 11.53it/s]\u001b[A\n",
      "[D loss: 0.4838627576828003, G Loss: 0.7748415470123291]:  57%|█████▋    | 81/142 [00:06<00:05, 11.53it/s]\u001b[A\n",
      "[D loss: 0.4856380820274353, G Loss: 0.7620892524719238]:  58%|█████▊    | 82/142 [00:07<00:05, 11.53it/s]\u001b[A\n",
      "[D loss: 0.4856380820274353, G Loss: 0.7620892524719238]:  58%|█████▊    | 83/142 [00:07<00:05, 11.48it/s]\u001b[A\n",
      "[D loss: 0.49072298407554626, G Loss: 0.7667868733406067]:  58%|█████▊    | 83/142 [00:07<00:05, 11.48it/s]\u001b[A\n",
      "[D loss: 0.4867931306362152, G Loss: 0.7670364379882812]:  59%|█████▉    | 84/142 [00:07<00:05, 11.48it/s] \u001b[A\n",
      "[D loss: 0.4867931306362152, G Loss: 0.7670364379882812]:  60%|█████▉    | 85/142 [00:07<00:04, 11.60it/s]\u001b[A\n",
      "[D loss: 0.4777056574821472, G Loss: 0.7754298448562622]:  60%|█████▉    | 85/142 [00:07<00:04, 11.60it/s]\u001b[A\n",
      "[D loss: 0.48454123735427856, G Loss: 0.7641898393630981]:  61%|██████    | 86/142 [00:07<00:04, 11.60it/s]\u001b[A\n",
      "[D loss: 0.48454123735427856, G Loss: 0.7641898393630981]:  61%|██████▏   | 87/142 [00:07<00:04, 11.37it/s]\u001b[A\n",
      "[D loss: 0.48901212215423584, G Loss: 0.7651397585868835]:  61%|██████▏   | 87/142 [00:07<00:04, 11.37it/s]\u001b[A\n",
      "[D loss: 0.48510879278182983, G Loss: 0.7598997354507446]:  62%|██████▏   | 88/142 [00:07<00:04, 11.37it/s]\u001b[A\n",
      "[D loss: 0.48510879278182983, G Loss: 0.7598997354507446]:  63%|██████▎   | 89/142 [00:07<00:04, 11.38it/s]\u001b[A\n",
      "[D loss: 0.48079830408096313, G Loss: 0.7606986165046692]:  63%|██████▎   | 89/142 [00:07<00:04, 11.38it/s]\u001b[A\n",
      "[D loss: 0.4958246052265167, G Loss: 0.7641828060150146]:  63%|██████▎   | 90/142 [00:07<00:04, 11.38it/s] \u001b[A\n",
      "[D loss: 0.4958246052265167, G Loss: 0.7641828060150146]:  64%|██████▍   | 91/142 [00:07<00:04, 11.11it/s]\u001b[A\n",
      "[D loss: 0.48491746187210083, G Loss: 0.770831823348999]:  64%|██████▍   | 91/142 [00:07<00:04, 11.11it/s]\u001b[A\n",
      "[D loss: 0.4794783294200897, G Loss: 0.7712872624397278]:  65%|██████▍   | 92/142 [00:07<00:04, 11.11it/s]\u001b[A\n",
      "[D loss: 0.4794783294200897, G Loss: 0.7712872624397278]:  65%|██████▌   | 93/142 [00:07<00:04, 11.17it/s]\u001b[A\n",
      "[D loss: 0.48865455389022827, G Loss: 0.7676402926445007]:  65%|██████▌   | 93/142 [00:08<00:04, 11.17it/s]\u001b[A\n",
      "[D loss: 0.483315646648407, G Loss: 0.7722539901733398]:  66%|██████▌   | 94/142 [00:08<00:04, 11.17it/s]  \u001b[A\n",
      "[D loss: 0.483315646648407, G Loss: 0.7722539901733398]:  67%|██████▋   | 95/142 [00:08<00:04, 11.35it/s]\u001b[A\n",
      "[D loss: 0.49037158489227295, G Loss: 0.7503746151924133]:  67%|██████▋   | 95/142 [00:08<00:04, 11.35it/s]\u001b[A\n",
      "[D loss: 0.4798800051212311, G Loss: 0.7793115973472595]:  68%|██████▊   | 96/142 [00:08<00:04, 11.35it/s] \u001b[A\n",
      "[D loss: 0.4798800051212311, G Loss: 0.7793115973472595]:  68%|██████▊   | 97/142 [00:08<00:04, 11.18it/s]\u001b[A\n",
      "[D loss: 0.497535765171051, G Loss: 0.7587555050849915]:  68%|██████▊   | 97/142 [00:08<00:04, 11.18it/s] \u001b[A\n",
      "[D loss: 0.48263970017433167, G Loss: 0.7752624750137329]:  69%|██████▉   | 98/142 [00:08<00:03, 11.18it/s]\u001b[A\n",
      "[D loss: 0.48263970017433167, G Loss: 0.7752624750137329]:  70%|██████▉   | 99/142 [00:08<00:03, 10.81it/s]\u001b[A\n",
      "[D loss: 0.49293023347854614, G Loss: 0.7771550416946411]:  70%|██████▉   | 99/142 [00:08<00:03, 10.81it/s]\u001b[A\n",
      "[D loss: 0.4835614562034607, G Loss: 0.7834792137145996]:  70%|███████   | 100/142 [00:08<00:03, 10.81it/s]\u001b[A\n",
      "[D loss: 0.4835614562034607, G Loss: 0.7834792137145996]:  71%|███████   | 101/142 [00:08<00:03, 10.87it/s]\u001b[A\n",
      "[D loss: 0.4874438941478729, G Loss: 0.7753129005432129]:  71%|███████   | 101/142 [00:08<00:03, 10.87it/s]\u001b[A\n",
      "[D loss: 0.4956985116004944, G Loss: 0.7736192941665649]:  72%|███████▏  | 102/142 [00:08<00:03, 10.87it/s]\u001b[A\n",
      "[D loss: 0.4956985116004944, G Loss: 0.7736192941665649]:  73%|███████▎  | 103/142 [00:08<00:03, 10.99it/s]\u001b[A\n",
      "[D loss: 0.4882951080799103, G Loss: 0.7852050065994263]:  73%|███████▎  | 103/142 [00:08<00:03, 10.99it/s]\u001b[A\n",
      "[D loss: 0.4974713921546936, G Loss: 0.7682350277900696]:  73%|███████▎  | 104/142 [00:09<00:03, 10.99it/s]\u001b[A\n",
      "[D loss: 0.4974713921546936, G Loss: 0.7682350277900696]:  74%|███████▍  | 105/142 [00:09<00:03, 11.13it/s]\u001b[A\n",
      "[D loss: 0.4874269962310791, G Loss: 0.7756757736206055]:  74%|███████▍  | 105/142 [00:09<00:03, 11.13it/s]\u001b[A\n",
      "[D loss: 0.49269968271255493, G Loss: 0.7652134895324707]:  75%|███████▍  | 106/142 [00:09<00:03, 11.13it/s]\u001b[A\n",
      "[D loss: 0.49269968271255493, G Loss: 0.7652134895324707]:  75%|███████▌  | 107/142 [00:09<00:03, 11.20it/s]\u001b[A\n",
      "[D loss: 0.47998201847076416, G Loss: 0.7793241739273071]:  75%|███████▌  | 107/142 [00:09<00:03, 11.20it/s]\u001b[A\n",
      "[D loss: 0.48039180040359497, G Loss: 0.7866030931472778]:  76%|███████▌  | 108/142 [00:09<00:03, 11.20it/s]\u001b[A\n",
      "[D loss: 0.48039180040359497, G Loss: 0.7866030931472778]:  77%|███████▋  | 109/142 [00:09<00:02, 11.23it/s]\u001b[A\n",
      "[D loss: 0.486223042011261, G Loss: 0.7800964713096619]:  77%|███████▋  | 109/142 [00:09<00:02, 11.23it/s]  \u001b[A\n",
      "[D loss: 0.49315595626831055, G Loss: 0.772270679473877]:  77%|███████▋  | 110/142 [00:09<00:02, 11.23it/s]\u001b[A\n",
      "[D loss: 0.49315595626831055, G Loss: 0.772270679473877]:  78%|███████▊  | 111/142 [00:09<00:02, 11.07it/s]\u001b[A\n",
      "[D loss: 0.4955816864967346, G Loss: 0.7640929222106934]:  78%|███████▊  | 111/142 [00:09<00:02, 11.07it/s]\u001b[A\n",
      "[D loss: 0.48790088295936584, G Loss: 0.7859856486320496]:  79%|███████▉  | 112/142 [00:09<00:02, 11.07it/s]\u001b[A\n",
      "[D loss: 0.48790088295936584, G Loss: 0.7859856486320496]:  80%|███████▉  | 113/142 [00:09<00:02, 10.85it/s]\u001b[A\n",
      "[D loss: 0.49371832609176636, G Loss: 0.7855314612388611]:  80%|███████▉  | 113/142 [00:09<00:02, 10.85it/s]\u001b[A\n",
      "[D loss: 0.49519896507263184, G Loss: 0.7731912732124329]:  80%|████████  | 114/142 [00:09<00:02, 10.85it/s]\u001b[A\n",
      "[D loss: 0.49519896507263184, G Loss: 0.7731912732124329]:  81%|████████  | 115/142 [00:09<00:02, 10.87it/s]\u001b[A\n",
      "[D loss: 0.4887586236000061, G Loss: 0.7789424657821655]:  81%|████████  | 115/142 [00:10<00:02, 10.87it/s] \u001b[A\n",
      "[D loss: 0.4907011389732361, G Loss: 0.7710708379745483]:  82%|████████▏ | 116/142 [00:10<00:02, 10.87it/s]\u001b[A\n",
      "[D loss: 0.4907011389732361, G Loss: 0.7710708379745483]:  82%|████████▏ | 117/142 [00:10<00:02, 10.72it/s]\u001b[A\n",
      "[D loss: 0.4892067313194275, G Loss: 0.7791298627853394]:  82%|████████▏ | 117/142 [00:10<00:02, 10.72it/s]\u001b[A\n",
      "[D loss: 0.49713635444641113, G Loss: 0.770654559135437]:  83%|████████▎ | 118/142 [00:10<00:02, 10.72it/s]\u001b[A\n",
      "[D loss: 0.49713635444641113, G Loss: 0.770654559135437]:  84%|████████▍ | 119/142 [00:10<00:02, 10.90it/s]\u001b[A\n",
      "[D loss: 0.48895883560180664, G Loss: 0.779435396194458]:  84%|████████▍ | 119/142 [00:10<00:02, 10.90it/s]\u001b[A\n",
      "[D loss: 0.4836631417274475, G Loss: 0.792654275894165]:  85%|████████▍ | 120/142 [00:10<00:02, 10.90it/s] \u001b[A\n",
      "[D loss: 0.4836631417274475, G Loss: 0.792654275894165]:  85%|████████▌ | 121/142 [00:10<00:01, 10.84it/s]\u001b[A\n",
      "[D loss: 0.4871847331523895, G Loss: 0.7805915474891663]:  85%|████████▌ | 121/142 [00:10<00:01, 10.84it/s]\u001b[A\n",
      "[D loss: 0.48757052421569824, G Loss: 0.7870352268218994]:  86%|████████▌ | 122/142 [00:10<00:01, 10.84it/s]\u001b[A\n",
      "[D loss: 0.48757052421569824, G Loss: 0.7870352268218994]:  87%|████████▋ | 123/142 [00:10<00:01, 11.05it/s]\u001b[A\n",
      "[D loss: 0.4949718713760376, G Loss: 0.770134687423706]:  87%|████████▋ | 123/142 [00:10<00:01, 11.05it/s]  \u001b[A\n",
      "[D loss: 0.4950782358646393, G Loss: 0.7831283211708069]:  87%|████████▋ | 124/142 [00:10<00:01, 11.05it/s]\u001b[A\n",
      "[D loss: 0.4950782358646393, G Loss: 0.7831283211708069]:  88%|████████▊ | 125/142 [00:10<00:01, 10.91it/s]\u001b[A\n",
      "[D loss: 0.49123138189315796, G Loss: 0.7780389785766602]:  88%|████████▊ | 125/142 [00:10<00:01, 10.91it/s]\u001b[A\n",
      "[D loss: 0.499504029750824, G Loss: 0.7737709283828735]:  89%|████████▊ | 126/142 [00:11<00:01, 10.91it/s]  \u001b[A\n",
      "[D loss: 0.499504029750824, G Loss: 0.7737709283828735]:  89%|████████▉ | 127/142 [00:11<00:01, 10.95it/s]\u001b[A\n",
      "[D loss: 0.5008395314216614, G Loss: 0.7702584266662598]:  89%|████████▉ | 127/142 [00:11<00:01, 10.95it/s]\u001b[A\n",
      "[D loss: 0.495366632938385, G Loss: 0.7802221179008484]:  90%|█████████ | 128/142 [00:11<00:01, 10.95it/s] \u001b[A\n",
      "[D loss: 0.495366632938385, G Loss: 0.7802221179008484]:  91%|█████████ | 129/142 [00:11<00:01, 11.25it/s]\u001b[A\n",
      "[D loss: 0.5079635977745056, G Loss: 0.7654173970222473]:  91%|█████████ | 129/142 [00:11<00:01, 11.25it/s]\u001b[A\n",
      "[D loss: 0.49107399582862854, G Loss: 0.7764962911605835]:  92%|█████████▏| 130/142 [00:11<00:01, 11.25it/s]\u001b[A\n",
      "[D loss: 0.49107399582862854, G Loss: 0.7764962911605835]:  92%|█████████▏| 131/142 [00:11<00:00, 11.29it/s]\u001b[A\n",
      "[D loss: 0.49566423892974854, G Loss: 0.7799802422523499]:  92%|█████████▏| 131/142 [00:11<00:00, 11.29it/s]\u001b[A\n",
      "[D loss: 0.5080181360244751, G Loss: 0.761542797088623]:  93%|█████████▎| 132/142 [00:11<00:00, 11.29it/s]  \u001b[A\n",
      "[D loss: 0.5080181360244751, G Loss: 0.761542797088623]:  94%|█████████▎| 133/142 [00:11<00:00, 11.16it/s]\u001b[A\n",
      "[D loss: 0.5021945834159851, G Loss: 0.7755338549613953]:  94%|█████████▎| 133/142 [00:11<00:00, 11.16it/s]\u001b[A\n",
      "[D loss: 0.5056134462356567, G Loss: 0.7790431976318359]:  94%|█████████▍| 134/142 [00:11<00:00, 11.16it/s]\u001b[A\n",
      "[D loss: 0.5056134462356567, G Loss: 0.7790431976318359]:  95%|█████████▌| 135/142 [00:11<00:00, 11.28it/s]\u001b[A\n",
      "[D loss: 0.5045852661132812, G Loss: 0.7778403759002686]:  95%|█████████▌| 135/142 [00:11<00:00, 11.28it/s]\u001b[A\n",
      "[D loss: 0.4989412724971771, G Loss: 0.776636004447937]:  96%|█████████▌| 136/142 [00:11<00:00, 11.28it/s] \u001b[A\n",
      "[D loss: 0.4989412724971771, G Loss: 0.776636004447937]:  96%|█████████▋| 137/142 [00:11<00:00, 10.93it/s]\u001b[A\n",
      "[D loss: 0.49873098731040955, G Loss: 0.7855905294418335]:  96%|█████████▋| 137/142 [00:12<00:00, 10.93it/s]\u001b[A\n",
      "[D loss: 0.5068088173866272, G Loss: 0.7709524631500244]:  97%|█████████▋| 138/142 [00:12<00:00, 10.93it/s] \u001b[A\n",
      "[D loss: 0.5068088173866272, G Loss: 0.7709524631500244]:  98%|█████████▊| 139/142 [00:12<00:00, 10.98it/s]\u001b[A\n",
      "[D loss: 0.503363847732544, G Loss: 0.7815999984741211]:  98%|█████████▊| 139/142 [00:12<00:00, 10.98it/s] \u001b[A\n",
      "[D loss: 0.5034604668617249, G Loss: 0.7747918367385864]:  99%|█████████▊| 140/142 [00:12<00:00, 10.98it/s]\u001b[A\n",
      "[D loss: 0.5034604668617249, G Loss: 0.7747918367385864]:  99%|█████████▉| 141/142 [00:12<00:00, 10.88it/s]\u001b[A\n",
      "[D loss: 0.4994663894176483, G Loss: 0.7909972667694092]:  99%|█████████▉| 141/142 [00:12<00:00, 10.88it/s]\u001b[A\n",
      "[D loss: 0.5018652677536011, G Loss: 0.7774769067764282]: 100%|██████████| 142/142 [00:12<00:00, 11.34it/s]\n"
     ]
    },
    {
     "name": "stdout",
     "output_type": "stream",
     "text": [
      "Epoch 2 done, [D loss: 0.5018652677536011, G Loss: 0.7774769067764282]\n"
     ]
    },
    {
     "name": "stderr",
     "output_type": "stream",
     "text": [
      "\n",
      "  0%|          | 0/142 [00:00<?, ?it/s]\u001b[A\n",
      "[D loss: 0.499051034450531, G Loss: 0.786413311958313]:   1%|          | 1/142 [00:00<00:10, 13.54it/s]\u001b[A\n",
      "[D loss: 0.5088713765144348, G Loss: 0.7780699729919434]:   1%|▏         | 2/142 [00:00<00:10, 13.16it/s]\u001b[A\n",
      "[D loss: 0.5088713765144348, G Loss: 0.7780699729919434]:   2%|▏         | 3/142 [00:00<00:07, 19.31it/s]\u001b[A\n",
      "[D loss: 0.5109087228775024, G Loss: 0.7691994309425354]:   2%|▏         | 3/142 [00:00<00:07, 19.31it/s]\u001b[A\n",
      "[D loss: 0.49683433771133423, G Loss: 0.7804403305053711]:   3%|▎         | 4/142 [00:00<00:07, 19.31it/s]\u001b[A\n",
      "[D loss: 0.49683433771133423, G Loss: 0.7804403305053711]:   4%|▎         | 5/142 [00:00<00:10, 13.68it/s]\u001b[A\n",
      "[D loss: 0.5034146308898926, G Loss: 0.7765127420425415]:   4%|▎         | 5/142 [00:00<00:10, 13.68it/s] \u001b[A\n",
      "[D loss: 0.49726390838623047, G Loss: 0.7844289541244507]:   4%|▍         | 6/142 [00:00<00:09, 13.68it/s]\u001b[A\n",
      "[D loss: 0.49726390838623047, G Loss: 0.7844289541244507]:   5%|▍         | 7/142 [00:00<00:10, 12.40it/s]\u001b[A\n",
      "[D loss: 0.5065232515335083, G Loss: 0.7833335399627686]:   5%|▍         | 7/142 [00:00<00:10, 12.40it/s] \u001b[A\n",
      "[D loss: 0.5069407820701599, G Loss: 0.7931420207023621]:   6%|▌         | 8/142 [00:00<00:10, 12.40it/s]\u001b[A\n",
      "[D loss: 0.5069407820701599, G Loss: 0.7931420207023621]:   6%|▋         | 9/142 [00:00<00:10, 12.20it/s]\u001b[A\n",
      "[D loss: 0.5066008567810059, G Loss: 0.7781548500061035]:   6%|▋         | 9/142 [00:00<00:10, 12.20it/s]\u001b[A\n",
      "[D loss: 0.5046342611312866, G Loss: 0.7877543568611145]:   7%|▋         | 10/142 [00:00<00:10, 12.20it/s]\u001b[A\n",
      "[D loss: 0.5046342611312866, G Loss: 0.7877543568611145]:   8%|▊         | 11/142 [00:00<00:10, 11.94it/s]\u001b[A\n",
      "[D loss: 0.523867130279541, G Loss: 0.7718859910964966]:   8%|▊         | 11/142 [00:00<00:10, 11.94it/s] \u001b[A\n",
      "[D loss: 0.4972975552082062, G Loss: 0.785346269607544]:   8%|▊         | 12/142 [00:01<00:10, 11.94it/s]\u001b[A\n",
      "[D loss: 0.4972975552082062, G Loss: 0.785346269607544]:   9%|▉         | 13/142 [00:01<00:10, 11.81it/s]\u001b[A\n",
      "[D loss: 0.5067127346992493, G Loss: 0.7897351384162903]:   9%|▉         | 13/142 [00:01<00:10, 11.81it/s]\u001b[A\n",
      "[D loss: 0.5033026933670044, G Loss: 0.7791561484336853]:  10%|▉         | 14/142 [00:01<00:10, 11.81it/s]\u001b[A\n",
      "[D loss: 0.5033026933670044, G Loss: 0.7791561484336853]:  11%|█         | 15/142 [00:01<00:10, 11.63it/s]\u001b[A\n",
      "[D loss: 0.5180062055587769, G Loss: 0.77149498462677]:  11%|█         | 15/142 [00:01<00:10, 11.63it/s]  \u001b[A\n",
      "[D loss: 0.5116367340087891, G Loss: 0.7883175611495972]:  11%|█▏        | 16/142 [00:01<00:10, 11.63it/s]\u001b[A\n",
      "[D loss: 0.5116367340087891, G Loss: 0.7883175611495972]:  12%|█▏        | 17/142 [00:01<00:10, 11.46it/s]\u001b[A\n",
      "[D loss: 0.5103914141654968, G Loss: 0.7849078178405762]:  12%|█▏        | 17/142 [00:01<00:10, 11.46it/s]\u001b[A\n",
      "[D loss: 0.5133635997772217, G Loss: 0.7925993800163269]:  13%|█▎        | 18/142 [00:01<00:10, 11.46it/s]\u001b[A\n",
      "[D loss: 0.5133635997772217, G Loss: 0.7925993800163269]:  13%|█▎        | 19/142 [00:01<00:10, 11.50it/s]\u001b[A\n",
      "[D loss: 0.5131672620773315, G Loss: 0.7825058698654175]:  13%|█▎        | 19/142 [00:01<00:10, 11.50it/s]\u001b[A\n",
      "[D loss: 0.5142296552658081, G Loss: 0.7835333347320557]:  14%|█▍        | 20/142 [00:01<00:10, 11.50it/s]\u001b[A\n",
      "[D loss: 0.5142296552658081, G Loss: 0.7835333347320557]:  15%|█▍        | 21/142 [00:01<00:10, 11.39it/s]\u001b[A\n",
      "[D loss: 0.520456075668335, G Loss: 0.7901839017868042]:  15%|█▍        | 21/142 [00:01<00:10, 11.39it/s] \u001b[A\n",
      "[D loss: 0.5123856067657471, G Loss: 0.7900794744491577]:  15%|█▌        | 22/142 [00:01<00:10, 11.39it/s]\u001b[A\n",
      "[D loss: 0.5123856067657471, G Loss: 0.7900794744491577]:  16%|█▌        | 23/142 [00:01<00:10, 11.34it/s]\u001b[A\n",
      "[D loss: 0.5218360424041748, G Loss: 0.7780096530914307]:  16%|█▌        | 23/142 [00:02<00:10, 11.34it/s]\u001b[A\n",
      "[D loss: 0.5197954773902893, G Loss: 0.7773069143295288]:  17%|█▋        | 24/142 [00:02<00:10, 11.34it/s]\u001b[A\n",
      "[D loss: 0.5197954773902893, G Loss: 0.7773069143295288]:  18%|█▊        | 25/142 [00:02<00:10, 11.42it/s]\u001b[A\n",
      "[D loss: 0.5183129906654358, G Loss: 0.7825933694839478]:  18%|█▊        | 25/142 [00:02<00:10, 11.42it/s]\u001b[A\n",
      "[D loss: 0.5069133043289185, G Loss: 0.7815877795219421]:  18%|█▊        | 26/142 [00:02<00:10, 11.42it/s]\u001b[A\n",
      "[D loss: 0.5069133043289185, G Loss: 0.7815877795219421]:  19%|█▉        | 27/142 [00:02<00:10, 11.15it/s]\u001b[A\n",
      "[D loss: 0.5087767243385315, G Loss: 0.7823195457458496]:  19%|█▉        | 27/142 [00:02<00:10, 11.15it/s]\u001b[A\n",
      "[D loss: 0.5089425444602966, G Loss: 0.777612566947937]:  20%|█▉        | 28/142 [00:02<00:10, 11.15it/s] \u001b[A\n",
      "[D loss: 0.5089425444602966, G Loss: 0.777612566947937]:  20%|██        | 29/142 [00:02<00:10, 11.20it/s]\u001b[A\n",
      "[D loss: 0.514428973197937, G Loss: 0.765724241733551]:  20%|██        | 29/142 [00:02<00:10, 11.20it/s] \u001b[A\n",
      "[D loss: 0.5207148790359497, G Loss: 0.7741429805755615]:  21%|██        | 30/142 [00:02<00:10, 11.20it/s]\u001b[A\n",
      "[D loss: 0.5207148790359497, G Loss: 0.7741429805755615]:  22%|██▏       | 31/142 [00:02<00:09, 11.24it/s]\u001b[A\n",
      "[D loss: 0.5192229151725769, G Loss: 0.7903996706008911]:  22%|██▏       | 31/142 [00:02<00:09, 11.24it/s]\u001b[A\n",
      "[D loss: 0.5206958055496216, G Loss: 0.7903501391410828]:  23%|██▎       | 32/142 [00:02<00:09, 11.24it/s]\u001b[A\n",
      "[D loss: 0.5206958055496216, G Loss: 0.7903501391410828]:  23%|██▎       | 33/142 [00:02<00:09, 11.46it/s]\u001b[A\n",
      "[D loss: 0.5296772718429565, G Loss: 0.7835246920585632]:  23%|██▎       | 33/142 [00:02<00:09, 11.46it/s]\u001b[A\n",
      "[D loss: 0.5100389122962952, G Loss: 0.7942507863044739]:  24%|██▍       | 34/142 [00:02<00:09, 11.46it/s]\u001b[A\n",
      "[D loss: 0.5100389122962952, G Loss: 0.7942507863044739]:  25%|██▍       | 35/142 [00:02<00:09, 11.60it/s]\u001b[A\n",
      "[D loss: 0.5292905569076538, G Loss: 0.7864968776702881]:  25%|██▍       | 35/142 [00:03<00:09, 11.60it/s]\u001b[A\n",
      "[D loss: 0.5211583375930786, G Loss: 0.7870933413505554]:  25%|██▌       | 36/142 [00:03<00:09, 11.60it/s]\u001b[A\n",
      "[D loss: 0.5211583375930786, G Loss: 0.7870933413505554]:  26%|██▌       | 37/142 [00:03<00:08, 11.70it/s]\u001b[A\n",
      "[D loss: 0.532119870185852, G Loss: 0.779930591583252]:  26%|██▌       | 37/142 [00:03<00:08, 11.70it/s]  \u001b[A\n",
      "[D loss: 0.5220890641212463, G Loss: 0.7949876189231873]:  27%|██▋       | 38/142 [00:03<00:08, 11.70it/s]\u001b[A\n",
      "[D loss: 0.5220890641212463, G Loss: 0.7949876189231873]:  27%|██▋       | 39/142 [00:03<00:08, 11.47it/s]\u001b[A\n",
      "[D loss: 0.5343713760375977, G Loss: 0.7902799844741821]:  27%|██▋       | 39/142 [00:03<00:08, 11.47it/s]\u001b[A\n",
      "[D loss: 0.5117418766021729, G Loss: 0.81064373254776]:  28%|██▊       | 40/142 [00:03<00:08, 11.47it/s]  \u001b[A\n",
      "[D loss: 0.5117418766021729, G Loss: 0.81064373254776]:  29%|██▉       | 41/142 [00:03<00:08, 11.57it/s]\u001b[A\n",
      "[D loss: 0.5179955363273621, G Loss: 0.7856589555740356]:  29%|██▉       | 41/142 [00:03<00:08, 11.57it/s]\u001b[A\n",
      "[D loss: 0.5269107222557068, G Loss: 0.7808029055595398]:  30%|██▉       | 42/142 [00:03<00:08, 11.57it/s]\u001b[A\n",
      "[D loss: 0.5269107222557068, G Loss: 0.7808029055595398]:  30%|███       | 43/142 [00:03<00:08, 11.38it/s]\u001b[A\n",
      "[D loss: 0.5195871591567993, G Loss: 0.7906560897827148]:  30%|███       | 43/142 [00:03<00:08, 11.38it/s]\u001b[A\n",
      "[D loss: 0.5418754816055298, G Loss: 0.7625953555107117]:  31%|███       | 44/142 [00:03<00:08, 11.38it/s]\u001b[A\n",
      "[D loss: 0.5418754816055298, G Loss: 0.7625953555107117]:  32%|███▏      | 45/142 [00:03<00:08, 11.55it/s]\u001b[A\n",
      "[D loss: 0.5276840925216675, G Loss: 0.7871798872947693]:  32%|███▏      | 45/142 [00:03<00:08, 11.55it/s]\u001b[A\n",
      "[D loss: 0.5225163698196411, G Loss: 0.8041002750396729]:  32%|███▏      | 46/142 [00:04<00:08, 11.55it/s]\u001b[A\n",
      "[D loss: 0.5225163698196411, G Loss: 0.8041002750396729]:  33%|███▎      | 47/142 [00:04<00:08, 11.39it/s]\u001b[A\n",
      "[D loss: 0.5424419641494751, G Loss: 0.7768682241439819]:  33%|███▎      | 47/142 [00:04<00:08, 11.39it/s]\u001b[A\n",
      "[D loss: 0.532600462436676, G Loss: 0.7747719287872314]:  34%|███▍      | 48/142 [00:04<00:08, 11.39it/s] \u001b[A\n",
      "[D loss: 0.532600462436676, G Loss: 0.7747719287872314]:  35%|███▍      | 49/142 [00:04<00:08, 11.16it/s]\u001b[A\n",
      "[D loss: 0.5457454919815063, G Loss: 0.7776299715042114]:  35%|███▍      | 49/142 [00:04<00:08, 11.16it/s]\u001b[A\n",
      "[D loss: 0.5273100137710571, G Loss: 0.7881271839141846]:  35%|███▌      | 50/142 [00:04<00:08, 11.16it/s]\u001b[A\n",
      "[D loss: 0.5273100137710571, G Loss: 0.7881271839141846]:  36%|███▌      | 51/142 [00:04<00:08, 10.78it/s]\u001b[A\n",
      "[D loss: 0.5311558246612549, G Loss: 0.7872141599655151]:  36%|███▌      | 51/142 [00:04<00:08, 10.78it/s]\u001b[A\n",
      "[D loss: 0.5325008630752563, G Loss: 0.7699664235115051]:  37%|███▋      | 52/142 [00:04<00:08, 10.78it/s]\u001b[A\n",
      "[D loss: 0.5325008630752563, G Loss: 0.7699664235115051]:  37%|███▋      | 53/142 [00:04<00:08, 10.93it/s]\u001b[A\n",
      "[D loss: 0.5390134453773499, G Loss: 0.7760264277458191]:  37%|███▋      | 53/142 [00:04<00:08, 10.93it/s]\u001b[A\n",
      "[D loss: 0.5269872546195984, G Loss: 0.7951219081878662]:  38%|███▊      | 54/142 [00:04<00:08, 10.93it/s]\u001b[A\n",
      "[D loss: 0.5269872546195984, G Loss: 0.7951219081878662]:  39%|███▊      | 55/142 [00:04<00:07, 10.99it/s]\u001b[A\n",
      "[D loss: 0.5339087247848511, G Loss: 0.7791649103164673]:  39%|███▊      | 55/142 [00:04<00:07, 10.99it/s]\u001b[A\n",
      "[D loss: 0.5441951751708984, G Loss: 0.7700886726379395]:  39%|███▉      | 56/142 [00:04<00:07, 10.99it/s]\u001b[A\n",
      "[D loss: 0.5441951751708984, G Loss: 0.7700886726379395]:  40%|████      | 57/142 [00:04<00:07, 10.94it/s]\u001b[A\n",
      "[D loss: 0.5304431915283203, G Loss: 0.7908813953399658]:  40%|████      | 57/142 [00:05<00:07, 10.94it/s]\u001b[A\n",
      "[D loss: 0.5424763560295105, G Loss: 0.7850587368011475]:  41%|████      | 58/142 [00:05<00:07, 10.94it/s]\u001b[A\n",
      "[D loss: 0.5424763560295105, G Loss: 0.7850587368011475]:  42%|████▏     | 59/142 [00:05<00:07, 10.93it/s]\u001b[A\n",
      "[D loss: 0.5445061922073364, G Loss: 0.793644905090332]:  42%|████▏     | 59/142 [00:05<00:07, 10.93it/s] \u001b[A\n",
      "[D loss: 0.5392507910728455, G Loss: 0.7868417501449585]:  42%|████▏     | 60/142 [00:05<00:07, 10.93it/s]\u001b[A\n",
      "[D loss: 0.5392507910728455, G Loss: 0.7868417501449585]:  43%|████▎     | 61/142 [00:05<00:07, 10.87it/s]\u001b[A\n",
      "[D loss: 0.5588830709457397, G Loss: 0.7761493921279907]:  43%|████▎     | 61/142 [00:05<00:07, 10.87it/s]\u001b[A\n",
      "[D loss: 0.5398849248886108, G Loss: 0.7875496745109558]:  44%|████▎     | 62/142 [00:05<00:07, 10.87it/s]\u001b[A\n",
      "[D loss: 0.5398849248886108, G Loss: 0.7875496745109558]:  44%|████▍     | 63/142 [00:05<00:07, 10.93it/s]\u001b[A\n",
      "[D loss: 0.5480767488479614, G Loss: 0.7819649577140808]:  44%|████▍     | 63/142 [00:05<00:07, 10.93it/s]\u001b[A\n",
      "[D loss: 0.5466387867927551, G Loss: 0.7737236022949219]:  45%|████▌     | 64/142 [00:05<00:07, 10.93it/s]\u001b[A\n",
      "[D loss: 0.5466387867927551, G Loss: 0.7737236022949219]:  46%|████▌     | 65/142 [00:05<00:06, 11.14it/s]\u001b[A\n",
      "[D loss: 0.5485587120056152, G Loss: 0.7966907620429993]:  46%|████▌     | 65/142 [00:05<00:06, 11.14it/s]\u001b[A\n",
      "[D loss: 0.5592244267463684, G Loss: 0.7775052785873413]:  46%|████▋     | 66/142 [00:05<00:06, 11.14it/s]\u001b[A\n",
      "[D loss: 0.5592244267463684, G Loss: 0.7775052785873413]:  47%|████▋     | 67/142 [00:05<00:06, 11.01it/s]\u001b[A\n",
      "[D loss: 0.5469529628753662, G Loss: 0.7734251022338867]:  47%|████▋     | 67/142 [00:05<00:06, 11.01it/s]\u001b[A\n",
      "[D loss: 0.5607092380523682, G Loss: 0.7855275273323059]:  48%|████▊     | 68/142 [00:06<00:06, 11.01it/s]\u001b[A\n",
      "[D loss: 0.5607092380523682, G Loss: 0.7855275273323059]:  49%|████▊     | 69/142 [00:06<00:06, 11.15it/s]\u001b[A\n",
      "[D loss: 0.5444190502166748, G Loss: 0.7846885919570923]:  49%|████▊     | 69/142 [00:06<00:06, 11.15it/s]\u001b[A\n",
      "[D loss: 0.5425574779510498, G Loss: 0.7944558262825012]:  49%|████▉     | 70/142 [00:06<00:06, 11.15it/s]\u001b[A\n",
      "[D loss: 0.5425574779510498, G Loss: 0.7944558262825012]:  50%|█████     | 71/142 [00:06<00:06, 10.96it/s]\u001b[A\n",
      "[D loss: 0.5525856018066406, G Loss: 0.7806570529937744]:  50%|█████     | 71/142 [00:06<00:06, 10.96it/s]\u001b[A\n",
      "[D loss: 0.5402346849441528, G Loss: 0.8100070357322693]:  51%|█████     | 72/142 [00:06<00:06, 10.96it/s]\u001b[A\n",
      "[D loss: 0.5402346849441528, G Loss: 0.8100070357322693]:  51%|█████▏    | 73/142 [00:06<00:06, 10.96it/s]\u001b[A\n",
      "[D loss: 0.5449073314666748, G Loss: 0.7887904047966003]:  51%|█████▏    | 73/142 [00:06<00:06, 10.96it/s]\u001b[A\n",
      "[D loss: 0.5391601920127869, G Loss: 0.7816063165664673]:  52%|█████▏    | 74/142 [00:06<00:06, 10.96it/s]\u001b[A\n",
      "[D loss: 0.5391601920127869, G Loss: 0.7816063165664673]:  53%|█████▎    | 75/142 [00:06<00:06, 11.11it/s]\u001b[A\n",
      "[D loss: 0.5566414594650269, G Loss: 0.7787247896194458]:  53%|█████▎    | 75/142 [00:06<00:06, 11.11it/s]\u001b[A\n",
      "[D loss: 0.5486901998519897, G Loss: 0.7893751859664917]:  54%|█████▎    | 76/142 [00:06<00:05, 11.11it/s]\u001b[A\n",
      "[D loss: 0.5486901998519897, G Loss: 0.7893751859664917]:  54%|█████▍    | 77/142 [00:06<00:05, 11.22it/s]\u001b[A\n",
      "[D loss: 0.5487176775932312, G Loss: 0.8026903867721558]:  54%|█████▍    | 77/142 [00:06<00:05, 11.22it/s]\u001b[A\n",
      "[D loss: 0.5588516592979431, G Loss: 0.7894078493118286]:  55%|█████▍    | 78/142 [00:06<00:05, 11.22it/s]\u001b[A\n",
      "[D loss: 0.5588516592979431, G Loss: 0.7894078493118286]:  56%|█████▌    | 79/142 [00:06<00:05, 11.35it/s]\u001b[A\n",
      "[D loss: 0.5592386722564697, G Loss: 0.7799434661865234]:  56%|█████▌    | 79/142 [00:07<00:05, 11.35it/s]\u001b[A\n",
      "[D loss: 0.5523871779441833, G Loss: 0.7965028285980225]:  56%|█████▋    | 80/142 [00:07<00:05, 11.35it/s]\u001b[A\n",
      "[D loss: 0.5523871779441833, G Loss: 0.7965028285980225]:  57%|█████▋    | 81/142 [00:07<00:05, 11.34it/s]\u001b[A\n",
      "[D loss: 0.5563605427742004, G Loss: 0.7874602675437927]:  57%|█████▋    | 81/142 [00:07<00:05, 11.34it/s]\u001b[A\n",
      "[D loss: 0.5550271272659302, G Loss: 0.7978702783584595]:  58%|█████▊    | 82/142 [00:07<00:05, 11.34it/s]\u001b[A\n",
      "[D loss: 0.5550271272659302, G Loss: 0.7978702783584595]:  58%|█████▊    | 83/142 [00:07<00:05, 11.27it/s]\u001b[A\n",
      "[D loss: 0.5532602071762085, G Loss: 0.7862713932991028]:  58%|█████▊    | 83/142 [00:07<00:05, 11.27it/s]\u001b[A\n",
      "[D loss: 0.5520491600036621, G Loss: 0.785704493522644]:  59%|█████▉    | 84/142 [00:07<00:05, 11.27it/s] \u001b[A\n",
      "[D loss: 0.5520491600036621, G Loss: 0.785704493522644]:  60%|█████▉    | 85/142 [00:07<00:05, 11.36it/s]\u001b[A\n",
      "[D loss: 0.5616050362586975, G Loss: 0.7955182790756226]:  60%|█████▉    | 85/142 [00:07<00:05, 11.36it/s]\u001b[A\n",
      "[D loss: 0.5708703994750977, G Loss: 0.8062341213226318]:  61%|██████    | 86/142 [00:07<00:04, 11.36it/s]\u001b[A\n",
      "[D loss: 0.5708703994750977, G Loss: 0.8062341213226318]:  61%|██████▏   | 87/142 [00:07<00:04, 11.42it/s]\u001b[A\n",
      "[D loss: 0.5684218406677246, G Loss: 0.7854548692703247]:  61%|██████▏   | 87/142 [00:07<00:04, 11.42it/s]\u001b[A\n",
      "[D loss: 0.5508597493171692, G Loss: 0.7881626486778259]:  62%|██████▏   | 88/142 [00:07<00:04, 11.42it/s]\u001b[A\n",
      "[D loss: 0.5508597493171692, G Loss: 0.7881626486778259]:  63%|██████▎   | 89/142 [00:07<00:04, 11.63it/s]\u001b[A\n",
      "[D loss: 0.5540428757667542, G Loss: 0.799195408821106]:  63%|██████▎   | 89/142 [00:07<00:04, 11.63it/s] \u001b[A\n",
      "[D loss: 0.5639699697494507, G Loss: 0.779082179069519]:  63%|██████▎   | 90/142 [00:07<00:04, 11.63it/s]\u001b[A\n",
      "[D loss: 0.5639699697494507, G Loss: 0.779082179069519]:  64%|██████▍   | 91/142 [00:07<00:04, 11.44it/s]\u001b[A\n",
      "[D loss: 0.55266934633255, G Loss: 0.7953376770019531]:  64%|██████▍   | 91/142 [00:08<00:04, 11.44it/s] \u001b[A\n",
      "[D loss: 0.5610111951828003, G Loss: 0.7864543199539185]:  65%|██████▍   | 92/142 [00:08<00:04, 11.44it/s]\u001b[A\n",
      "[D loss: 0.5610111951828003, G Loss: 0.7864543199539185]:  65%|██████▌   | 93/142 [00:08<00:04, 11.11it/s]\u001b[A\n",
      "[D loss: 0.5744807720184326, G Loss: 0.7915290594100952]:  65%|██████▌   | 93/142 [00:08<00:04, 11.11it/s]\u001b[A\n",
      "[D loss: 0.5569232702255249, G Loss: 0.7914636135101318]:  66%|██████▌   | 94/142 [00:08<00:04, 11.11it/s]\u001b[A\n",
      "[D loss: 0.5569232702255249, G Loss: 0.7914636135101318]:  67%|██████▋   | 95/142 [00:08<00:04, 11.26it/s]\u001b[A\n",
      "[D loss: 0.5573042631149292, G Loss: 0.7856022715568542]:  67%|██████▋   | 95/142 [00:08<00:04, 11.26it/s]\u001b[A\n",
      "[D loss: 0.5651981234550476, G Loss: 0.7922897338867188]:  68%|██████▊   | 96/142 [00:08<00:04, 11.26it/s]\u001b[A\n",
      "[D loss: 0.5651981234550476, G Loss: 0.7922897338867188]:  68%|██████▊   | 97/142 [00:08<00:04, 11.02it/s]\u001b[A\n",
      "[D loss: 0.5671877861022949, G Loss: 0.7923898696899414]:  68%|██████▊   | 97/142 [00:08<00:04, 11.02it/s]\u001b[A\n",
      "[D loss: 0.5721217393875122, G Loss: 0.7858531475067139]:  69%|██████▉   | 98/142 [00:08<00:03, 11.02it/s]\u001b[A\n",
      "[D loss: 0.5721217393875122, G Loss: 0.7858531475067139]:  70%|██████▉   | 99/142 [00:08<00:03, 11.09it/s]\u001b[A\n",
      "[D loss: 0.5707153081893921, G Loss: 0.7735512256622314]:  70%|██████▉   | 99/142 [00:08<00:03, 11.09it/s]\u001b[A\n",
      "[D loss: 0.5645736455917358, G Loss: 0.7796131372451782]:  70%|███████   | 100/142 [00:08<00:03, 11.09it/s]\u001b[A\n",
      "[D loss: 0.5645736455917358, G Loss: 0.7796131372451782]:  71%|███████   | 101/142 [00:08<00:03, 11.31it/s]\u001b[A\n",
      "[D loss: 0.5700869560241699, G Loss: 0.7809628844261169]:  71%|███████   | 101/142 [00:08<00:03, 11.31it/s]\u001b[A\n",
      "[D loss: 0.5661401152610779, G Loss: 0.7950822114944458]:  72%|███████▏  | 102/142 [00:09<00:03, 11.31it/s]\u001b[A\n",
      "[D loss: 0.5661401152610779, G Loss: 0.7950822114944458]:  73%|███████▎  | 103/142 [00:09<00:03, 11.11it/s]\u001b[A\n",
      "[D loss: 0.5807169079780579, G Loss: 0.7816554307937622]:  73%|███████▎  | 103/142 [00:09<00:03, 11.11it/s]\u001b[A\n",
      "[D loss: 0.5822320580482483, G Loss: 0.7821522951126099]:  73%|███████▎  | 104/142 [00:09<00:03, 11.11it/s]\u001b[A\n",
      "[D loss: 0.5822320580482483, G Loss: 0.7821522951126099]:  74%|███████▍  | 105/142 [00:09<00:03, 11.19it/s]\u001b[A\n",
      "[D loss: 0.5868384838104248, G Loss: 0.7830538153648376]:  74%|███████▍  | 105/142 [00:09<00:03, 11.19it/s]\u001b[A\n",
      "[D loss: 0.5610142946243286, G Loss: 0.8064215183258057]:  75%|███████▍  | 106/142 [00:09<00:03, 11.19it/s]\u001b[A\n",
      "[D loss: 0.5610142946243286, G Loss: 0.8064215183258057]:  75%|███████▌  | 107/142 [00:09<00:03, 11.15it/s]\u001b[A\n",
      "[D loss: 0.5747672319412231, G Loss: 0.800308346748352]:  75%|███████▌  | 107/142 [00:09<00:03, 11.15it/s] \u001b[A\n",
      "[D loss: 0.5710980892181396, G Loss: 0.7830616235733032]:  76%|███████▌  | 108/142 [00:09<00:03, 11.15it/s]\u001b[A\n",
      "[D loss: 0.5710980892181396, G Loss: 0.7830616235733032]:  77%|███████▋  | 109/142 [00:09<00:02, 11.04it/s]\u001b[A\n",
      "[D loss: 0.5753996968269348, G Loss: 0.7929165363311768]:  77%|███████▋  | 109/142 [00:09<00:02, 11.04it/s]\u001b[A\n",
      "[D loss: 0.5836795568466187, G Loss: 0.7835172414779663]:  77%|███████▋  | 110/142 [00:09<00:02, 11.04it/s]\u001b[A\n",
      "[D loss: 0.5836795568466187, G Loss: 0.7835172414779663]:  78%|███████▊  | 111/142 [00:09<00:02, 11.20it/s]\u001b[A\n",
      "[D loss: 0.5836752653121948, G Loss: 0.7994443774223328]:  78%|███████▊  | 111/142 [00:09<00:02, 11.20it/s]\u001b[A\n",
      "[D loss: 0.5956823825836182, G Loss: 0.7852175235748291]:  79%|███████▉  | 112/142 [00:09<00:02, 11.20it/s]\u001b[A\n",
      "[D loss: 0.5956823825836182, G Loss: 0.7852175235748291]:  80%|███████▉  | 113/142 [00:09<00:02, 11.23it/s]\u001b[A\n",
      "[D loss: 0.5868200063705444, G Loss: 0.7822943925857544]:  80%|███████▉  | 113/142 [00:10<00:02, 11.23it/s]\u001b[A\n",
      "[D loss: 0.5942984819412231, G Loss: 0.7846574783325195]:  80%|████████  | 114/142 [00:10<00:02, 11.23it/s]\u001b[A\n",
      "[D loss: 0.5942984819412231, G Loss: 0.7846574783325195]:  81%|████████  | 115/142 [00:10<00:02, 11.20it/s]\u001b[A\n",
      "[D loss: 0.5827529430389404, G Loss: 0.7803818583488464]:  81%|████████  | 115/142 [00:10<00:02, 11.20it/s]\u001b[A\n",
      "[D loss: 0.5830604434013367, G Loss: 0.7975499033927917]:  82%|████████▏ | 116/142 [00:10<00:02, 11.20it/s]\u001b[A\n",
      "[D loss: 0.5830604434013367, G Loss: 0.7975499033927917]:  82%|████████▏ | 117/142 [00:10<00:02, 11.24it/s]\u001b[A\n",
      "[D loss: 0.5646511912345886, G Loss: 0.8008312582969666]:  82%|████████▏ | 117/142 [00:10<00:02, 11.24it/s]\u001b[A\n",
      "[D loss: 0.5881831645965576, G Loss: 0.7882163524627686]:  83%|████████▎ | 118/142 [00:10<00:02, 11.24it/s]\u001b[A\n",
      "[D loss: 0.5881831645965576, G Loss: 0.7882163524627686]:  84%|████████▍ | 119/142 [00:10<00:02, 11.13it/s]\u001b[A\n",
      "[D loss: 0.5770817399024963, G Loss: 0.7896122336387634]:  84%|████████▍ | 119/142 [00:10<00:02, 11.13it/s]\u001b[A\n",
      "[D loss: 0.5918278694152832, G Loss: 0.7733741402626038]:  85%|████████▍ | 120/142 [00:10<00:01, 11.13it/s]\u001b[A\n",
      "[D loss: 0.5918278694152832, G Loss: 0.7733741402626038]:  85%|████████▌ | 121/142 [00:10<00:01, 11.28it/s]\u001b[A\n",
      "[D loss: 0.5881953239440918, G Loss: 0.7863602638244629]:  85%|████████▌ | 121/142 [00:10<00:01, 11.28it/s]\u001b[A\n",
      "[D loss: 0.5834975838661194, G Loss: 0.7855478525161743]:  86%|████████▌ | 122/142 [00:10<00:01, 11.28it/s]\u001b[A\n",
      "[D loss: 0.5834975838661194, G Loss: 0.7855478525161743]:  87%|████████▋ | 123/142 [00:10<00:01, 11.16it/s]\u001b[A\n",
      "[D loss: 0.5809074640274048, G Loss: 0.7797591090202332]:  87%|████████▋ | 123/142 [00:10<00:01, 11.16it/s]\u001b[A\n",
      "[D loss: 0.5845270156860352, G Loss: 0.7835131883621216]:  87%|████████▋ | 124/142 [00:11<00:01, 11.16it/s]\u001b[A\n",
      "[D loss: 0.5845270156860352, G Loss: 0.7835131883621216]:  88%|████████▊ | 125/142 [00:11<00:01, 11.28it/s]\u001b[A\n",
      "[D loss: 0.5913373827934265, G Loss: 0.7789623737335205]:  88%|████████▊ | 125/142 [00:11<00:01, 11.28it/s]\u001b[A\n",
      "[D loss: 0.5816030502319336, G Loss: 0.785994291305542]:  89%|████████▊ | 126/142 [00:11<00:01, 11.28it/s] \u001b[A\n",
      "[D loss: 0.5816030502319336, G Loss: 0.785994291305542]:  89%|████████▉ | 127/142 [00:11<00:01, 11.26it/s]\u001b[A\n",
      "[D loss: 0.5888466835021973, G Loss: 0.8015370965003967]:  89%|████████▉ | 127/142 [00:11<00:01, 11.26it/s]\u001b[A\n",
      "[D loss: 0.6080573201179504, G Loss: 0.7699978351593018]:  90%|█████████ | 128/142 [00:11<00:01, 11.26it/s]\u001b[A\n",
      "[D loss: 0.6080573201179504, G Loss: 0.7699978351593018]:  91%|█████████ | 129/142 [00:11<00:01, 11.37it/s]\u001b[A\n",
      "[D loss: 0.5863198637962341, G Loss: 0.7968354225158691]:  91%|█████████ | 129/142 [00:11<00:01, 11.37it/s]\u001b[A\n",
      "[D loss: 0.5808068513870239, G Loss: 0.7761673331260681]:  92%|█████████▏| 130/142 [00:11<00:01, 11.37it/s]\u001b[A\n",
      "[D loss: 0.5808068513870239, G Loss: 0.7761673331260681]:  92%|█████████▏| 131/142 [00:11<00:00, 11.26it/s]\u001b[A\n",
      "[D loss: 0.5927450656890869, G Loss: 0.7713964581489563]:  92%|█████████▏| 131/142 [00:11<00:00, 11.26it/s]\u001b[A\n",
      "[D loss: 0.5840661525726318, G Loss: 0.7735987901687622]:  93%|█████████▎| 132/142 [00:11<00:00, 11.26it/s]\u001b[A\n",
      "[D loss: 0.5840661525726318, G Loss: 0.7735987901687622]:  94%|█████████▎| 133/142 [00:11<00:00, 11.15it/s]\u001b[A\n",
      "[D loss: 0.6125446557998657, G Loss: 0.784797191619873]:  94%|█████████▎| 133/142 [00:11<00:00, 11.15it/s] \u001b[A\n",
      "[D loss: 0.5928841233253479, G Loss: 0.7845448851585388]:  94%|█████████▍| 134/142 [00:11<00:00, 11.15it/s]\u001b[A\n",
      "[D loss: 0.5928841233253479, G Loss: 0.7845448851585388]:  95%|█████████▌| 135/142 [00:11<00:00, 11.28it/s]\u001b[A\n",
      "[D loss: 0.6021673679351807, G Loss: 0.7687567472457886]:  95%|█████████▌| 135/142 [00:12<00:00, 11.28it/s]\u001b[A\n",
      "[D loss: 0.6012983322143555, G Loss: 0.7639017701148987]:  96%|█████████▌| 136/142 [00:12<00:00, 11.28it/s]\u001b[A\n",
      "[D loss: 0.6012983322143555, G Loss: 0.7639017701148987]:  96%|█████████▋| 137/142 [00:12<00:00, 11.21it/s]\u001b[A\n",
      "[D loss: 0.5973669290542603, G Loss: 0.7924001812934875]:  96%|█████████▋| 137/142 [00:12<00:00, 11.21it/s]\u001b[A\n",
      "[D loss: 0.5957279801368713, G Loss: 0.7792966365814209]:  97%|█████████▋| 138/142 [00:12<00:00, 11.21it/s]\u001b[A\n",
      "[D loss: 0.5957279801368713, G Loss: 0.7792966365814209]:  98%|█████████▊| 139/142 [00:12<00:00, 10.92it/s]\u001b[A\n",
      "[D loss: 0.5893083214759827, G Loss: 0.7937122583389282]:  98%|█████████▊| 139/142 [00:12<00:00, 10.92it/s]\u001b[A\n",
      "[D loss: 0.5956137180328369, G Loss: 0.7899742722511292]:  99%|█████████▊| 140/142 [00:12<00:00, 10.92it/s]\u001b[A\n",
      "[D loss: 0.5956137180328369, G Loss: 0.7899742722511292]:  99%|█████████▉| 141/142 [00:12<00:00, 10.97it/s]\u001b[A\n",
      "[D loss: 0.5869934558868408, G Loss: 0.7890798449516296]:  99%|█████████▉| 141/142 [00:12<00:00, 10.97it/s]\u001b[A\n",
      "[D loss: 0.5978512763977051, G Loss: 0.8033300638198853]: 100%|██████████| 142/142 [00:12<00:00, 11.22it/s]"
     ]
    },
    {
     "name": "stdout",
     "output_type": "stream",
     "text": [
      "Epoch 3 done, [D loss: 0.5978512763977051, G Loss: 0.8033300638198853]\n"
     ]
    },
    {
     "name": "stderr",
     "output_type": "stream",
     "text": [
      "\n"
     ]
    }
   ],
   "source": [
    "epochs = 4\n",
    "batch_size = 512\n",
    "learning_rate = 0.00001\n",
    "\n",
    "x_train, y_train, x_test, y_test = dataset['x_train'], dataset['y_train'], dataset['x_test'], dataset['y_test']\n",
    "\n",
    "adam = Adam(lr = learning_rate)\n",
    "\n",
    "# create initial models:\n",
    "generator = generator_model(adam)\n",
    "discriminator = discriminator_model(adam)\n",
    "gan = gan_model(generator, discriminator, adam, input_dim = 118)\n",
    "\n",
    "batch_count = x_train.shape[0] // batch_size\n",
    "print('Total batches: ', batch_count)\n",
    "\n",
    "d_history = []\n",
    "gan_history = []\n",
    "\n",
    "\n",
    "for epoch in range(epochs):\n",
    "\n",
    "    pbar = tqdm(total=batch_count)\n",
    "\n",
    "    for index in range(batch_count):\n",
    "\n",
    "      pbar.update(1)\n",
    "\n",
    "      # fake results\n",
    "      noise = np.random.normal(0, 1, size=[batch_size, 118])\n",
    "      generated_batch_result = generator.predict_on_batch(noise)\n",
    "\n",
    "      # normal results\n",
    "      batch_start_index = index * batch_size\n",
    "      batch_end_index = (index + 1) * batch_size\n",
    "      normal_batch = x_train[batch_start_index:batch_end_index]\n",
    "\n",
    "      # [generated_batch_result, normal_batch]\n",
    "      # 0 - normal data\n",
    "      # 1 - anomaly data\n",
    "\n",
    "      y_batch_discriminator = np.ones(2 * batch_size)\n",
    "      y_batch_discriminator[:batch_size] = 0\n",
    "      x_batch_discriminator = np.concatenate((generated_batch_result,normal_batch))\n",
    "\n",
    "      # Discriminator train part\n",
    "      discriminator.trainable = True\n",
    "      d_loss = discriminator.train_on_batch(x_batch_discriminator, y_batch_discriminator)\n",
    "\n",
    "      # Generator part\n",
    "      y_batch_generator = np.ones(batch_size)\n",
    "      discriminator.trainable = False\n",
    "      g_loss = gan.train_on_batch(noise, y_batch_generator)\n",
    "\n",
    "      d_history.append(d_loss)\n",
    "      gan_history.append(g_loss)\n",
    "\n",
    "      pbar.set_description(f'[D loss: {d_loss}, G Loss: {g_loss}]');\n",
    "\n",
    "    pbar.close();\n",
    "    print(f'Epoch {epoch} done, [D loss: {d_loss}, G Loss: {g_loss}]');\n",
    "\n"
   ]
  },
  {
   "cell_type": "code",
   "execution_count": null,
   "metadata": {
    "colab": {
     "base_uri": "https://localhost:8080/",
     "height": 282
    },
    "id": "C4eF8UxqpBKY",
    "outputId": "3fc7d645-5159-426b-82b2-d698857e7117"
   },
   "outputs": [
    {
     "data": {
      "text/plain": [
       "<matplotlib.legend.Legend at 0x7f9a607f7d10>"
      ]
     },
     "execution_count": 77,
     "metadata": {},
     "output_type": "execute_result"
    },
    {
     "data": {
      "image/png": "[encoded data removed]",
      "text/plain": [
       "<Figure size 432x288 with 1 Axes>"
      ]
     },
     "metadata": {
      "needs_background": "light"
     },
     "output_type": "display_data"
    }
   ],
   "source": [
    "plt.plot(d_history, label = 'Discriminator')\n",
    "plt.plot(gan_history, label = 'GAN')\n",
    "plt.legend()\n"
   ]
  },
  {
   "cell_type": "markdown",
   "metadata": {
    "id": "_LD-UU8b9rvS"
   },
   "source": [
    "## 3. Deep Autoencoders Approach"
   ]
  },
  {
   "cell_type": "code",
   "execution_count": null,
   "metadata": {
    "id": "Hj10Ijt7Bfvh"
   },
   "outputs": [],
   "source": [
    "import pickle\n",
    "\n",
    "import numpy as np\n",
    "import pandas as pd\n",
    "\n",
    "from sklearn.preprocessing import MinMaxScaler\n",
    "from sklearn import metrics\n",
    "from sklearn.metrics import ConfusionMatrixDisplay\n",
    "from sklearn.metrics import accuracy_score\n",
    "\n",
    "import collections\n",
    "import tensorflow as tf\n",
    "from tensorflow import keras\n",
    "\n",
    "from keras.models import Sequential\n",
    "from keras.layers import Dense, Activation, Input, Dropout\n",
    "from tensorflow.keras.optimizers import Adam\n",
    "from keras import Model\n",
    "\n",
    "# https://github.com/tqdm/tqdm\n",
    "from tqdm import tqdm\n",
    "\n",
    "import seaborn as sns\n",
    "import matplotlib.pyplot as plt\n",
    "\n"
   ]
  },
  {
   "cell_type": "code",
   "execution_count": null,
   "metadata": {
    "id": "NCYhrHuO-fJv"
   },
   "outputs": [],
   "source": [
    "Model is split into 2 parts:\n",
    " - Encoder\n",
    " - Decoder\n",
    "\n",
    " Model Output Layer has the same dimension as Input lyaer"
   ]
  },
  {
   "cell_type": "markdown",
   "metadata": {
    "id": "NfWk4W3r-OnZ"
   },
   "source": [
    "\n",
    "\n",
    " ![image.png](data:image/png;base64,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)"
   ]
  },
  {
   "cell_type": "code",
   "execution_count": null,
   "metadata": {
    "colab": {
     "base_uri": "https://localhost:8080/"
    },
    "id": "22NKmV6ekkH0",
    "outputId": "a1e6708f-89be-4dd6-f333-2741c771fe4d"
   },
   "outputs": [
    {
     "name": "stdout",
     "output_type": "stream",
     "text": [
      "x_train\n",
      "x_test\n",
      "y_train\n",
      "y_test\n",
      "le\n"
     ]
    }
   ],
   "source": [
    "# load data back from pickle file:\n",
    "pickle_file = '/content/kddcup.data_10_percent.pkl'\n",
    "with open(pickle_file, 'rb') as f:\n",
    "    preprocessed_data = pickle.load(f)\n",
    "\n",
    "# check what's inside:\n",
    "for key in preprocessed_data:\n",
    "  print (key)"
   ]
  },
  {
   "cell_type": "code",
   "execution_count": null,
   "metadata": {
    "id": "c8Em9QBXkkH1"
   },
   "outputs": [],
   "source": [
    "le = preprocessed_data[\"le\"]\n",
    "x_train = preprocessed_data[\"x_train\"]\n",
    "y_train = preprocessed_data[\"y_train\"]\n",
    "x_test = preprocessed_data[\"x_test\"]\n",
    "y_test = preprocessed_data[\"y_test\"]"
   ]
  },
  {
   "cell_type": "code",
   "execution_count": null,
   "metadata": {
    "colab": {
     "base_uri": "https://localhost:8080/",
     "height": 762
    },
    "id": "D8P_jsxWkkH1",
    "outputId": "010db4c5-9c30-4d8e-8fa6-bd5713ebd935"
   },
   "outputs": [
    {
     "data": {
      "text/html": [
       "<div>\n",
       "<style scoped>\n",
       "    .dataframe tbody tr th:only-of-type {\n",
       "        vertical-align: middle;\n",
       "    }\n",
       "\n",
       "    .dataframe tbody tr th {\n",
       "        vertical-align: top;\n",
       "    }\n",
       "\n",
       "    .dataframe thead th {\n",
       "        text-align: right;\n",
       "    }\n",
       "</style>\n",
       "<table border=\"1\" class=\"dataframe\">\n",
       "  <thead>\n",
       "    <tr style=\"text-align: right;\">\n",
       "      <th></th>\n",
       "      <th>0</th>\n",
       "    </tr>\n",
       "  </thead>\n",
       "  <tbody>\n",
       "    <tr>\n",
       "      <th>0</th>\n",
       "      <td>back.</td>\n",
       "    </tr>\n",
       "    <tr>\n",
       "      <th>1</th>\n",
       "      <td>buffer_overflow.</td>\n",
       "    </tr>\n",
       "    <tr>\n",
       "      <th>2</th>\n",
       "      <td>ftp_write.</td>\n",
       "    </tr>\n",
       "    <tr>\n",
       "      <th>3</th>\n",
       "      <td>guess_passwd.</td>\n",
       "    </tr>\n",
       "    <tr>\n",
       "      <th>4</th>\n",
       "      <td>imap.</td>\n",
       "    </tr>\n",
       "    <tr>\n",
       "      <th>5</th>\n",
       "      <td>ipsweep.</td>\n",
       "    </tr>\n",
       "    <tr>\n",
       "      <th>6</th>\n",
       "      <td>land.</td>\n",
       "    </tr>\n",
       "    <tr>\n",
       "      <th>7</th>\n",
       "      <td>loadmodule.</td>\n",
       "    </tr>\n",
       "    <tr>\n",
       "      <th>8</th>\n",
       "      <td>multihop.</td>\n",
       "    </tr>\n",
       "    <tr>\n",
       "      <th>9</th>\n",
       "      <td>neptune.</td>\n",
       "    </tr>\n",
       "    <tr>\n",
       "      <th>10</th>\n",
       "      <td>nmap.</td>\n",
       "    </tr>\n",
       "    <tr>\n",
       "      <th>11</th>\n",
       "      <td>normal.</td>\n",
       "    </tr>\n",
       "    <tr>\n",
       "      <th>12</th>\n",
       "      <td>perl.</td>\n",
       "    </tr>\n",
       "    <tr>\n",
       "      <th>13</th>\n",
       "      <td>phf.</td>\n",
       "    </tr>\n",
       "    <tr>\n",
       "      <th>14</th>\n",
       "      <td>pod.</td>\n",
       "    </tr>\n",
       "    <tr>\n",
       "      <th>15</th>\n",
       "      <td>portsweep.</td>\n",
       "    </tr>\n",
       "    <tr>\n",
       "      <th>16</th>\n",
       "      <td>rootkit.</td>\n",
       "    </tr>\n",
       "    <tr>\n",
       "      <th>17</th>\n",
       "      <td>satan.</td>\n",
       "    </tr>\n",
       "    <tr>\n",
       "      <th>18</th>\n",
       "      <td>smurf.</td>\n",
       "    </tr>\n",
       "    <tr>\n",
       "      <th>19</th>\n",
       "      <td>spy.</td>\n",
       "    </tr>\n",
       "    <tr>\n",
       "      <th>20</th>\n",
       "      <td>teardrop.</td>\n",
       "    </tr>\n",
       "    <tr>\n",
       "      <th>21</th>\n",
       "      <td>warezclient.</td>\n",
       "    </tr>\n",
       "    <tr>\n",
       "      <th>22</th>\n",
       "      <td>warezmaster.</td>\n",
       "    </tr>\n",
       "  </tbody>\n",
       "</table>\n",
       "</div>"
      ],
      "text/plain": [
       "                   0\n",
       "0              back.\n",
       "1   buffer_overflow.\n",
       "2         ftp_write.\n",
       "3      guess_passwd.\n",
       "4              imap.\n",
       "5           ipsweep.\n",
       "6              land.\n",
       "7        loadmodule.\n",
       "8          multihop.\n",
       "9           neptune.\n",
       "10             nmap.\n",
       "11           normal.\n",
       "12             perl.\n",
       "13              phf.\n",
       "14              pod.\n",
       "15        portsweep.\n",
       "16          rootkit.\n",
       "17            satan.\n",
       "18            smurf.\n",
       "19              spy.\n",
       "20         teardrop.\n",
       "21      warezclient.\n",
       "22      warezmaster."
      ]
     },
     "execution_count": 4,
     "metadata": {},
     "output_type": "execute_result"
    }
   ],
   "source": [
    "# we need to distinguish 'Normal' vs rest of labels, hence lets preprocess them a bit:\n",
    "\n",
    "# find Normal class label:\n",
    "pd.DataFrame(le.classes_)\n",
    "# normal. == 11"
   ]
  },
  {
   "cell_type": "code",
   "execution_count": null,
   "metadata": {
    "id": "x2dKsfJJmPPV"
   },
   "outputs": [],
   "source": [
    "NORMAL_LABEL = 11\n",
    "\n",
    "def get_binary_labels(y):\n",
    "  temp = y.copy()\n",
    "\n",
    "  # Semantics:\n",
    "  #  0 - real data, \"normal\"\n",
    "  #  1 - anomaly\n",
    "\n",
    "  # decode multi-class verctor into binary\n",
    "  temp[temp != NORMAL_LABEL] = 1\n",
    "  temp[temp == NORMAL_LABEL] = 0\n",
    "\n",
    "  return temp"
   ]
  },
  {
   "cell_type": "code",
   "execution_count": null,
   "metadata": {
    "id": "djdhYrg_kkH2"
   },
   "outputs": [],
   "source": [
    "# decode y-* from multi-class to binaries\n",
    "\n",
    "y_train = get_binary_labels(y_train)\n",
    "y_test = get_binary_labels(y_test)\n"
   ]
  },
  {
   "cell_type": "code",
   "execution_count": null,
   "metadata": {
    "id": "TMNlqqalkkH2"
   },
   "outputs": [],
   "source": [
    "def get_normal_samples(x, y):\n",
    "  # we want to keep Normal packets for Autoencoder training\n",
    "\n",
    "  temp = x.copy()\n",
    "  temp['label'] = y\n",
    "  temp = temp.loc[temp['label'] == 0]\n",
    "  temp = temp.drop('label', axis = 1)\n",
    "  \n",
    "  return temp\n"
   ]
  },
  {
   "cell_type": "code",
   "execution_count": null,
   "metadata": {
    "id": "88raQgJtnH2y"
   },
   "outputs": [],
   "source": [
    "# as a result:\n",
    "# training dataset - will contain only normal packets\n",
    "# test datatet - will contain both types of data\n",
    "\n",
    "x_train_normal = get_normal_samples(x_train, y_train)"
   ]
  },
  {
   "cell_type": "code",
   "execution_count": null,
   "metadata": {
    "id": "JNx4NJTTkkH2"
   },
   "outputs": [],
   "source": [
    "scaler01 = MinMaxScaler()\n",
    "\n",
    "x_train_normal = scaler01.fit_transform(x_train_normal)\n",
    "x_test = scaler01.transform(x_test)"
   ]
  },
  {
   "cell_type": "code",
   "execution_count": null,
   "metadata": {
    "id": "Z7tDFsT5kkH2"
   },
   "outputs": [],
   "source": [
    "dataset = {\n",
    "    'x_train': x_train.astype(np.float32),\n",
    "    'y_train': y_train.astype(np.float32),\n",
    "    'x_test': x_test.astype(np.float32),\n",
    "    'y_test': y_test.astype(np.float32)\n",
    "}"
   ]
  },
  {
   "cell_type": "code",
   "execution_count": null,
   "metadata": {
    "colab": {
     "base_uri": "https://localhost:8080/"
    },
    "id": "frIxJzcfkkH2",
    "outputId": "df13e230-15cb-4dfc-ca4b-a23de2b9658a"
   },
   "outputs": [
    {
     "name": "stdout",
     "output_type": "stream",
     "text": [
      "Training set, normal packets =  370515\n",
      "Testing set, normal packets =  24267\n",
      "Testing set, normal packets =  99239\n"
     ]
    }
   ],
   "source": [
    "print('Training set, normal packets = ', x_train.shape[0])\n",
    "print('Testing set, normal packets = ', collections.Counter(y_test)[0])\n",
    "print('Testing set, normal packets = ', collections.Counter(y_test)[1])\n"
   ]
  },
  {
   "cell_type": "code",
   "execution_count": null,
   "metadata": {
    "id": "1CnwE-KT_j0h"
   },
   "outputs": [],
   "source": [
    "### Encoder Definition\n",
    "\n",
    "### Lets define Generator network\n",
    "def encoder_model(optimizer, input_dim, code_layer_size) : \n",
    "  model = Sequential()\n",
    "\n",
    "  # hidden layers\n",
    "  model.add(Dense(96, input_dim = input_dim))\n",
    "  model.add(Activation('tanh'))\n",
    "  model.add(Dropout(0.1))\n",
    "\n",
    "  model.add(Dense(96))\n",
    "  model.add(Activation('tanh'))\n",
    "  model.add(Dropout(0.1))\n",
    "\n",
    "  model.add(Dense(64))\n",
    "  model.add(Activation('tanh'))\n",
    "  model.add(Dropout(0.1))\n",
    "\n",
    "  model.add(Dense(48))\n",
    "  model.add(Activation('tanh'))\n",
    "  model.add(Dropout(0.1))\n",
    "\n",
    "  model.add(Dense(16))\n",
    "  model.add(Activation('tanh'))\n",
    "  model.add(Dropout(0.1))\n",
    "\n",
    "  model.add(Dense(code_layer_size))\n",
    "  model.add(Activation('linear'))\n",
    "\n",
    "  model.compile(loss = 'mse', optimizer=optimizer)\n",
    "\n",
    "  return model"
   ]
  },
  {
   "cell_type": "code",
   "execution_count": null,
   "metadata": {
    "id": "JY0b9mBaCD6L"
   },
   "outputs": [],
   "source": [
    "### Lets define Generator network\n",
    "def decoder_model(optimizer, input_dim, code_layer_size) : \n",
    "  model = Sequential()\n",
    "\n",
    "  model.add(Dense(16, input_dim = code_layer_size))\n",
    "  model.add(Activation('linear'))\n",
    "\n",
    "  model.add(Dense(16))\n",
    "  model.add(Activation('tanh'))\n",
    "  model.add(Dropout(0.1))\n",
    "\n",
    "  model.add(Dense(48))\n",
    "  model.add(Activation('tanh'))\n",
    "  model.add(Dropout(0.1))\n",
    "\n",
    "  model.add(Dense(64))\n",
    "  model.add(Activation('tanh'))\n",
    "  model.add(Dropout(0.1))\n",
    "\n",
    "  model.add(Dense(96))\n",
    "  model.add(Activation('tanh'))\n",
    "  model.add(Dropout(0.1))\n",
    "\n",
    "  model.add(Dense(input_dim))\n",
    "  model.add(Activation('linear'))\n",
    "\n",
    "  model.compile(loss = 'mse', optimizer=optimizer)\n",
    "\n",
    "  return model"
   ]
  },
  {
   "cell_type": "code",
   "execution_count": null,
   "metadata": {
    "id": "gE_uS8hyF0kj"
   },
   "outputs": [],
   "source": [
    "def autoencoder_model(encoder, decoder, optimizer, input_dim=118): \n",
    "  encoder.trainable = True\n",
    "  decoder.trainable = True\n",
    "  \n",
    "  inputTensor = Input(shape = (input_dim,))\n",
    "\n",
    "  x = encoder(inputTensor)\n",
    "  outTensor = decoder(x)\n",
    "\n",
    "  model = Model(inputs = inputTensor, outputs = outTensor)\n",
    "  model.compile(loss = 'mse', optimizer=optimizer)\n",
    "\n",
    "  return model"
   ]
  },
  {
   "cell_type": "code",
   "execution_count": null,
   "metadata": {
    "id": "zYbz4F8ZKCKx"
   },
   "outputs": [],
   "source": [
    "class CustomCallback(keras.callbacks.Callback):\n",
    "\n",
    "    def __init__(self):\n",
    "      self.loss_history = []\n",
    "      self.val_loss_history = []\n",
    "\n",
    "    def on_test_batch_end(self, batch, logs=None):\n",
    "      \n",
    "      self.loss_history.append(logs[\"loss\"])\n",
    "      #self.val_loss_history.append(logs[\"val_loss\"])"
   ]
  },
  {
   "cell_type": "code",
   "execution_count": null,
   "metadata": {
    "id": "bsmE1JO7BRmh"
   },
   "outputs": [],
   "source": [
    "# Hyperparameters\n",
    "input_dim = 118\n",
    "code_layer_size = 4\n",
    "epochs = 20\n",
    "batch_size = 256\n",
    "learning_rate = 0.00001\n"
   ]
  },
  {
   "cell_type": "code",
   "execution_count": null,
   "metadata": {
    "colab": {
     "base_uri": "https://localhost:8080/"
    },
    "id": "rXxA1-sVAuAr",
    "outputId": "9ecb3b0e-622b-4aff-ac7d-6dd457d34081"
   },
   "outputs": [
    {
     "name": "stderr",
     "output_type": "stream",
     "text": [
      "/usr/local/lib/python3.7/dist-packages/keras/optimizer_v2/adam.py:105: UserWarning: The `lr` argument is deprecated, use `learning_rate` instead.\n",
      "  super(Adam, self).__init__(name, **kwargs)\n"
     ]
    }
   ],
   "source": [
    "adam = Adam(lr = learning_rate)\n",
    "\n",
    "encoder = encoder_model(adam, input_dim, code_layer_size)\n",
    "decoder = decoder_model(adam, input_dim, code_layer_size)\n",
    "\n",
    "autoencoder = autoencoder_model(encoder, decoder, adam)\n",
    "\n",
    "#autoencoder.summary()"
   ]
  },
  {
   "cell_type": "code",
   "execution_count": null,
   "metadata": {
    "colab": {
     "base_uri": "https://localhost:8080/"
    },
    "id": "JUsa5_3HFUY0",
    "outputId": "a7d68369-8570-448c-9e20-827e681d8de8"
   },
   "outputs": [
    {
     "name": "stdout",
     "output_type": "stream",
     "text": [
      "Epoch 1/20\n",
      "200/200 [==============================] - 3s 11ms/step - loss: 0.0726 - val_loss: 0.0593\n",
      "Epoch 2/20\n",
      "200/200 [==============================] - 2s 10ms/step - loss: 0.0645 - val_loss: 0.0526\n",
      "Epoch 3/20\n",
      "200/200 [==============================] - 2s 10ms/step - loss: 0.0558 - val_loss: 0.0401\n",
      "Epoch 4/20\n",
      "200/200 [==============================] - 2s 9ms/step - loss: 0.0459 - val_loss: 0.0279\n",
      "Epoch 5/20\n",
      "200/200 [==============================] - 2s 10ms/step - loss: 0.0378 - val_loss: 0.0206\n",
      "Epoch 6/20\n",
      "200/200 [==============================] - 2s 10ms/step - loss: 0.0328 - val_loss: 0.0175\n",
      "Epoch 7/20\n",
      "200/200 [==============================] - 2s 9ms/step - loss: 0.0298 - val_loss: 0.0163\n",
      "Epoch 8/20\n",
      "200/200 [==============================] - 2s 9ms/step - loss: 0.0278 - val_loss: 0.0156\n",
      "Epoch 9/20\n",
      "200/200 [==============================] - 2s 9ms/step - loss: 0.0262 - val_loss: 0.0152\n",
      "Epoch 10/20\n",
      "200/200 [==============================] - 2s 9ms/step - loss: 0.0250 - val_loss: 0.0148\n",
      "Epoch 11/20\n",
      "200/200 [==============================] - 2s 9ms/step - loss: 0.0238 - val_loss: 0.0145\n",
      "Epoch 12/20\n",
      "200/200 [==============================] - 2s 10ms/step - loss: 0.0227 - val_loss: 0.0141\n",
      "Epoch 13/20\n",
      "200/200 [==============================] - 2s 9ms/step - loss: 0.0217 - val_loss: 0.0137\n",
      "Epoch 14/20\n",
      "200/200 [==============================] - 2s 10ms/step - loss: 0.0207 - val_loss: 0.0132\n",
      "Epoch 15/20\n",
      "200/200 [==============================] - 2s 10ms/step - loss: 0.0198 - val_loss: 0.0128\n",
      "Epoch 16/20\n",
      "200/200 [==============================] - 2s 10ms/step - loss: 0.0189 - val_loss: 0.0122\n",
      "Epoch 17/20\n",
      "200/200 [==============================] - 2s 9ms/step - loss: 0.0181 - val_loss: 0.0117\n",
      "Epoch 18/20\n",
      "200/200 [==============================] - 2s 10ms/step - loss: 0.0172 - val_loss: 0.0112\n",
      "Epoch 19/20\n",
      "200/200 [==============================] - 2s 10ms/step - loss: 0.0164 - val_loss: 0.0107\n",
      "Epoch 20/20\n",
      "200/200 [==============================] - 2s 9ms/step - loss: 0.0157 - val_loss: 0.0101\n"
     ]
    }
   ],
   "source": [
    "# train models\n",
    "#x_train, y_train, x_test, y_test = dataset['x_train'], dataset['y_train'], dataset['x_test'], dataset['y_test']\n",
    "\n",
    "#callback_history = CustomCallback()\n",
    "\n",
    "history = autoencoder.fit(x_train_normal, x_train_normal, \n",
    "                batch_size=batch_size, \n",
    "                epochs = epochs, \n",
    "                validation_split=0.3)\n",
    "                #validation_data=(x_test, x_test))#,\n",
    "                #callbacks=[callback_history])"
   ]
  },
  {
   "cell_type": "code",
   "execution_count": null,
   "metadata": {
    "colab": {
     "base_uri": "https://localhost:8080/",
     "height": 282
    },
    "id": "ksBfepH0IWiz",
    "outputId": "987c1e1c-c9c5-4a03-9602-ec5ba28ecc32"
   },
   "outputs": [
    {
     "data": {
      "text/plain": [
       "<matplotlib.legend.Legend at 0x7f6e50759bd0>"
      ]
     },
     "execution_count": 18,
     "metadata": {},
     "output_type": "execute_result"
    },
    {
     "data": {
      "image/png": "[encoded data removed]",
      "text/plain": [
       "<Figure size 432x288 with 1 Axes>"
      ]
     },
     "metadata": {
      "needs_background": "light"
     },
     "output_type": "display_data"
    }
   ],
   "source": [
    "#plt.plot(callback_history.loss_history, label = 'Autoencoder')\n",
    "#plt.legend()\n",
    "\n",
    "#print(history.history[\"val_loss\"])\n",
    "plt.plot(history.history[\"loss\"], label = 'Loss')\n",
    "plt.plot(history.history[\"val_loss\"], label = 'Validation Loss')\n",
    "\n",
    "plt.legend()"
   ]
  },
  {
   "cell_type": "code",
   "execution_count": null,
   "metadata": {
    "id": "mhlV7qo2oZF5"
   },
   "outputs": [],
   "source": [
    "from keras.utils.vis_utils import plot_model\n",
    "plot_model(encoder, to_file='model_encoder.png', show_shapes=True, show_layer_names=True)\n",
    "plot_model(decoder, to_file='model_decoder.png', show_shapes=True, show_layer_names=True)\n"
   ]
  },
  {
   "cell_type": "code",
   "execution_count": null,
   "metadata": {
    "id": "GUhxr0x-8Qzu"
   },
   "outputs": [],
   "source": [
    "## TASK: do comparison of normally-encoded vs anomaly-encoded data discrepancies"
   ]
  },
  {
   "cell_type": "code",
   "execution_count": null,
   "metadata": {
    "id": "ZgO8zmPSzIPE"
   },
   "outputs": [],
   "source": [
    "x_train_normal_reconstructed = autoencoder.predict(x_train_normal)"
   ]
  },
  {
   "cell_type": "code",
   "execution_count": null,
   "metadata": {
    "id": "8Fh1tQUhzRpo"
   },
   "outputs": [],
   "source": [
    "recostructed_scores_normal = np.mean((x_train_normal - x_train_normal_reconstructed)**2, axis = 1)"
   ]
  },
  {
   "cell_type": "code",
   "execution_count": null,
   "metadata": {
    "colab": {
     "base_uri": "https://localhost:8080/",
     "height": 639
    },
    "id": "U7u0kymszV-i",
    "outputId": "90147174-ff50-4f0e-eba1-876b32d3d598"
   },
   "outputs": [
    {
     "data": {
      "text/plain": [
       "(array([1.6756e+04, 2.1811e+04, 1.5200e+03, 5.3200e+02, 6.5400e+02,\n",
       "        5.9600e+02, 6.0320e+03, 5.4360e+03, 2.5200e+03, 3.7300e+03,\n",
       "        3.7890e+03, 3.3660e+03, 1.8630e+03, 7.8200e+02, 4.2900e+02,\n",
       "        7.8700e+02, 9.9400e+02, 3.5900e+02, 2.8100e+02, 2.9300e+02,\n",
       "        2.9200e+02, 5.3000e+01, 3.6000e+01, 2.0000e+01, 8.0000e+00,\n",
       "        1.1000e+01, 1.3000e+01, 1.1000e+01, 1.1000e+01, 3.0000e+00,\n",
       "        5.0000e+00, 5.0000e+00, 1.0000e+00, 3.0000e+00, 3.0000e+00,\n",
       "        1.0000e+00, 0.0000e+00, 2.0000e+00, 0.0000e+00, 1.0000e+00,\n",
       "        0.0000e+00, 0.0000e+00, 0.0000e+00, 0.0000e+00, 0.0000e+00,\n",
       "        0.0000e+00, 1.0000e+00, 0.0000e+00, 0.0000e+00, 1.0000e+00]),\n",
       " array([0.00071242, 0.00227981, 0.00384719, 0.00541458, 0.00698196,\n",
       "        0.00854935, 0.01011673, 0.01168412, 0.0132515 , 0.01481889,\n",
       "        0.01638628, 0.01795366, 0.01952105, 0.02108843, 0.02265582,\n",
       "        0.0242232 , 0.02579059, 0.02735797, 0.02892536, 0.03049275,\n",
       "        0.03206013, 0.03362752, 0.0351949 , 0.03676229, 0.03832967,\n",
       "        0.03989706, 0.04146444, 0.04303183, 0.04459922, 0.0461666 ,\n",
       "        0.04773399, 0.04930137, 0.05086876, 0.05243614, 0.05400353,\n",
       "        0.05557092, 0.0571383 , 0.05870569, 0.06027307, 0.06184046,\n",
       "        0.06340784, 0.06497523, 0.06654261, 0.06811   , 0.06967739,\n",
       "        0.07124477, 0.07281216, 0.07437954, 0.07594693, 0.07751431,\n",
       "        0.0790817 ]),\n",
       " <a list of 50 Patch objects>)"
      ]
     },
     "execution_count": 22,
     "metadata": {},
     "output_type": "execute_result"
    },
    {
     "data": {
      "image/png": "[encoded data removed]",
      "text/plain": [
       "<Figure size 432x288 with 1 Axes>"
      ]
     },
     "metadata": {
      "needs_background": "light"
     },
     "output_type": "display_data"
    }
   ],
   "source": [
    "plt.hist(recostructed_scores_normal, bins = 50, label = 'Normal Reconstruction')"
   ]
  },
  {
   "cell_type": "code",
   "execution_count": null,
   "metadata": {
    "id": "IoulBvdIOYiZ"
   },
   "outputs": [],
   "source": [
    "x_test_reconstrcuted = autoencoder.predict(x_test)"
   ]
  },
  {
   "cell_type": "code",
   "execution_count": null,
   "metadata": {
    "id": "W-Lq-tj-O5BY"
   },
   "outputs": [],
   "source": [
    "recostructed_scores = np.mean((x_test - x_test_reconstrcuted)**2, axis = 1)"
   ]
  },
  {
   "cell_type": "code",
   "execution_count": null,
   "metadata": {
    "colab": {
     "base_uri": "https://localhost:8080/",
     "height": 283
    },
    "id": "xyg1NAIsPSn_",
    "outputId": "7d4ff90e-19ee-4fe8-e0cf-09e48def8341"
   },
   "outputs": [
    {
     "data": {
      "text/plain": [
       "<matplotlib.legend.Legend at 0x7f26c4c377d0>"
      ]
     },
     "execution_count": 26,
     "metadata": {},
     "output_type": "execute_result"
    },
    {
     "data": {
      "image/png": "[encoded data removed]",
      "text/plain": [
       "<Figure size 432x288 with 1 Axes>"
      ]
     },
     "metadata": {
      "needs_background": "light"
     },
     "output_type": "display_data"
    }
   ],
   "source": [
    "plt.hist(recostructed_scores, bins = 50, label = 'Test Reconstruction')\n",
    "plt.legend()"
   ]
  },
  {
   "cell_type": "code",
   "execution_count": null,
   "metadata": {
    "colab": {
     "base_uri": "https://localhost:8080/",
     "height": 249
    },
    "id": "DiV_yLBiLtaT",
    "outputId": "a1ac6dcc-78e9-4115-b3b6-3abcc7bf2beb"
   },
   "outputs": [
    {
     "ename": "NameError",
     "evalue": "ignored",
     "output_type": "error",
     "traceback": [
      "\u001b[0;31m---------------------------------------------------------------------------\u001b[0m",
      "\u001b[0;31mNameError\u001b[0m                                 Traceback (most recent call last)",
      "\u001b[0;32m<ipython-input-27-a8fd8783e00f>\u001b[0m in \u001b[0;36m<module>\u001b[0;34m()\u001b[0m\n\u001b[1;32m      1\u001b[0m \u001b[0mplt\u001b[0m\u001b[0;34m.\u001b[0m\u001b[0mfigure\u001b[0m\u001b[0;34m(\u001b[0m\u001b[0;34m)\u001b[0m\u001b[0;34m\u001b[0m\u001b[0;34m\u001b[0m\u001b[0m\n\u001b[1;32m      2\u001b[0m \u001b[0;34m\u001b[0m\u001b[0m\n\u001b[0;32m----> 3\u001b[0;31m \u001b[0mplt\u001b[0m\u001b[0;34m.\u001b[0m\u001b[0mplot\u001b[0m\u001b[0;34m(\u001b[0m\u001b[0mfpr\u001b[0m\u001b[0;34m,\u001b[0m \u001b[0mtpr\u001b[0m\u001b[0;34m,\u001b[0m \u001b[0mcolor\u001b[0m\u001b[0;34m=\u001b[0m\u001b[0;34m\"navy\"\u001b[0m\u001b[0;34m,\u001b[0m \u001b[0mlw\u001b[0m\u001b[0;34m=\u001b[0m\u001b[0;36m1\u001b[0m\u001b[0;34m,\u001b[0m \u001b[0mlinestyle\u001b[0m\u001b[0;34m=\u001b[0m\u001b[0;34m\"--\"\u001b[0m\u001b[0;34m)\u001b[0m\u001b[0;34m\u001b[0m\u001b[0;34m\u001b[0m\u001b[0m\n\u001b[0m\u001b[1;32m      4\u001b[0m \u001b[0mplt\u001b[0m\u001b[0;34m.\u001b[0m\u001b[0mxlabel\u001b[0m\u001b[0;34m(\u001b[0m\u001b[0;34m\"False Positive Rate\"\u001b[0m\u001b[0;34m)\u001b[0m\u001b[0;34m\u001b[0m\u001b[0;34m\u001b[0m\u001b[0m\n\u001b[1;32m      5\u001b[0m \u001b[0mplt\u001b[0m\u001b[0;34m.\u001b[0m\u001b[0mylabel\u001b[0m\u001b[0;34m(\u001b[0m\u001b[0;34m\"True Positive Rate\"\u001b[0m\u001b[0;34m)\u001b[0m\u001b[0;34m\u001b[0m\u001b[0;34m\u001b[0m\u001b[0m\n",
      "\u001b[0;31mNameError\u001b[0m: name 'fpr' is not defined"
     ]
    },
    {
     "data": {
      "text/plain": [
       "<Figure size 432x288 with 0 Axes>"
      ]
     },
     "metadata": {},
     "output_type": "display_data"
    }
   ],
   "source": [
    "plt.figure()\n",
    "\n",
    "plt.plot(fpr, tpr, color=\"navy\", lw=1, linestyle=\"--\")\n",
    "plt.xlabel(\"False Positive Rate\")\n",
    "plt.ylabel(\"True Positive Rate\")\n",
    "plt.title(\"Receiver operating characteristic example\")\n",
    "plt.legend(loc=\"lower right\")\n",
    "plt.show()"
   ]
  },
  {
   "cell_type": "code",
   "execution_count": null,
   "metadata": {
    "id": "G_WSxk_Hv6fT"
   },
   "outputs": [],
   "source": [
    "def get_optimal_threschold (autoencoder, x, y):\n",
    "    x_reconstrcuted = autoencoder.predict(x)\n",
    "    scores = np.mean((x - x_reconstrcuted)**2, axis = 1)\n",
    "\n",
    "    fpr, tpr, thresholds = metrics.roc_curve(y, scores)\n",
    "\n",
    "    optimal_idx = np.argmax(tpr - fpr)\n",
    "    optimal = thresholds[optimal_idx]\n",
    "\n",
    "    return optimal"
   ]
  },
  {
   "cell_type": "code",
   "execution_count": null,
   "metadata": {
    "colab": {
     "base_uri": "https://localhost:8080/"
    },
    "id": "wIHFBqW_MlnU",
    "outputId": "631f1ad0-acc6-4223-e9d7-6cc10c9d3a00"
   },
   "outputs": [
    {
     "name": "stdout",
     "output_type": "stream",
     "text": [
      "0.046342893223314995\n"
     ]
    }
   ],
   "source": [
    "optimal = get_optimal_threschold(autoencoder, x_test, y_test)\n",
    "print(optimal)"
   ]
  },
  {
   "cell_type": "code",
   "execution_count": null,
   "metadata": {
    "id": "nxXVUqlBxiWD"
   },
   "outputs": [],
   "source": [
    "x_train_all = scaler01.fit_transform(x_train)"
   ]
  },
  {
   "cell_type": "code",
   "execution_count": null,
   "metadata": {
    "id": "JGvocDS_xlpN"
   },
   "outputs": [],
   "source": [
    "train_optimal = get_optimal_threschold(autoencoder, x_train_all, y_train)"
   ]
  },
  {
   "cell_type": "code",
   "execution_count": null,
   "metadata": {
    "colab": {
     "base_uri": "https://localhost:8080/"
    },
    "id": "s9Rmbyc02aHm",
    "outputId": "3b474bc7-1f46-4c5b-9ceb-8fa9e8afd862"
   },
   "outputs": [
    {
     "data": {
      "text/plain": [
       "0.04631982917275317"
      ]
     },
     "execution_count": 27,
     "metadata": {},
     "output_type": "execute_result"
    }
   ],
   "source": [
    "train_optimal"
   ]
  },
  {
   "cell_type": "code",
   "execution_count": null,
   "metadata": {
    "id": "ljNdfHRHNsX6"
   },
   "outputs": [],
   "source": [
    "threshold = optimal\n",
    "#threshold = train_optimal\n",
    "#threshold = 0.005\n",
    "\n",
    "\n",
    "  prediction_labels = (recostructed_scores > threshold).astype(int)"
   ]
  },
  {
   "cell_type": "code",
   "execution_count": null,
   "metadata": {
    "id": "Aj3gP6qTN4ox"
   },
   "outputs": [],
   "source": [
    "results = metrics.confusion_matrix(y_test, prediction_labels)"
   ]
  },
  {
   "cell_type": "code",
   "execution_count": null,
   "metadata": {
    "colab": {
     "base_uri": "https://localhost:8080/",
     "height": 279
    },
    "id": "uLdqJ1IFOIKT",
    "outputId": "0cfe0a0f-c973-43a8-a198-a9b67b09036e"
   },
   "outputs": [
    {
     "data": {
      "image/png": "[encoded data removed]",
      "text/plain": [
       "<Figure size 432x288 with 2 Axes>"
      ]
     },
     "metadata": {
      "needs_background": "light"
     },
     "output_type": "display_data"
    }
   ],
   "source": [
    "\n",
    "disp = ConfusionMatrixDisplay(confusion_matrix=results)\n",
    "\n",
    "# NOTE: Fill all variables here with default values of the plot_confusion_matrix\n",
    "disp = disp.plot()\n",
    "\n",
    "plt.show()"
   ]
  },
  {
   "cell_type": "code",
   "execution_count": null,
   "metadata": {
    "id": "fyxDRbA1vd9V"
   },
   "outputs": [],
   "source": [
    "accuracy = accuracy_score(y_true=y_test, y_pred=prediction_labels)"
   ]
  },
  {
   "cell_type": "code",
   "execution_count": null,
   "metadata": {
    "colab": {
     "base_uri": "https://localhost:8080/"
    },
    "id": "ED39b67CvpRE",
    "outputId": "801d01b8-d5b7-4737-dc5d-32d174b7fbae"
   },
   "outputs": [
    {
     "name": "stdout",
     "output_type": "stream",
     "text": [
      "0.9851181319126197\n"
     ]
    }
   ],
   "source": [
    "print(accuracy)"
   ]
  },
  {
   "cell_type": "markdown",
   "metadata": {
    "id": "OTT5zKliWcJM"
   },
   "source": [
    "# 4. XGBoost Approach"
   ]
  },
  {
   "cell_type": "code",
   "execution_count": null,
   "metadata": {
    "id": "FrVwlplNWgtt"
   },
   "outputs": [],
   "source": [
    "import xgboost as xgb\n",
    "import numpy as np\n",
    "from sklearn.metrics import roc_auc_score,confusion_matrix,accuracy_score,classification_report,roc_curve\n",
    "import pickle\n",
    "from sklearn.metrics import ConfusionMatrixDisplay\n",
    "import matplotlib.pyplot as plt"
   ]
  },
  {
   "cell_type": "code",
   "execution_count": null,
   "metadata": {
    "colab": {
     "base_uri": "https://localhost:8080/"
    },
    "id": "2eH2XAe_XkM7",
    "outputId": "44a2c1c9-07c4-48e2-8cc5-3aac49d51db1"
   },
   "outputs": [
    {
     "name": "stdout",
     "output_type": "stream",
     "text": [
      "x_train\n",
      "x_test\n",
      "y_train\n",
      "y_test\n",
      "le\n"
     ]
    }
   ],
   "source": [
    "# load data back from pickle file:\n",
    "pickle_file = '/content/kddcup.data_10_percent.pkl'\n",
    "with open(pickle_file, 'rb') as f:\n",
    "    preprocessed_data = pickle.load(f)\n",
    "\n",
    "# check what's inside:\n",
    "for key in preprocessed_data:\n",
    "  print (key)"
   ]
  },
  {
   "cell_type": "code",
   "execution_count": null,
   "metadata": {
    "id": "LSzUMbBrXkNB"
   },
   "outputs": [],
   "source": [
    "le = preprocessed_data[\"le\"]\n",
    "x_train = preprocessed_data[\"x_train\"]\n",
    "y_train = preprocessed_data[\"y_train\"]\n",
    "x_test = preprocessed_data[\"x_test\"]\n",
    "y_test = preprocessed_data[\"y_test\"]"
   ]
  },
  {
   "cell_type": "code",
   "execution_count": null,
   "metadata": {
    "colab": {
     "base_uri": "https://localhost:8080/"
    },
    "id": "LjlKHnX1XzLd",
    "outputId": "691e0d27-b3d5-421c-c2d8-f195836dc2c3"
   },
   "outputs": [
    {
     "name": "stdout",
     "output_type": "stream",
     "text": [
      "(370515, 118)\n",
      "(370515,)\n",
      "(123506, 118)\n",
      "(123506,)\n"
     ]
    }
   ],
   "source": [
    "print(x_train.shape)\n",
    "print(y_train.shape)\n",
    "print(x_test.shape)\n",
    "print(y_test.shape)"
   ]
  },
  {
   "cell_type": "code",
   "execution_count": null,
   "metadata": {
    "id": "rbLH00rBYDes"
   },
   "outputs": [],
   "source": [
    "binary_y_train = get_binary_labels(y_train)\n",
    "binary_y_test = get_binary_labels(y_test)"
   ]
  },
  {
   "cell_type": "code",
   "execution_count": null,
   "metadata": {
    "id": "Xp0qqV7VbFbr"
   },
   "outputs": [],
   "source": [
    "dtrain = xgb.DMatrix(x_train, label=binary_y_train)\n",
    "dtest = xgb.DMatrix(x_test, label=binary_y_test)"
   ]
  },
  {
   "cell_type": "code",
   "execution_count": null,
   "metadata": {
    "id": "Kwlfi_H-bpGg"
   },
   "outputs": [],
   "source": [
    "params = {\n",
    "    'learning_rate': 0.1,\n",
    "    'n_estimators': 1000,\n",
    "    'max_depth': 5,\n",
    "    'min_child_weight': 1,\n",
    "    'gamma': 0,\n",
    "    'subsample': 0.8,\n",
    "    'colsample_bytree': 0.8,\n",
    "    'objective': 'binary:logistic',\n",
    "    'nthread': 4,\n",
    "    'scale_pos_weight': 1,\n",
    "    'seed': 27,\n",
    "    'verbose': True,\n",
    "    'num_rounds': 10\n",
    "}\n",
    "num_rounds = params['num_rounds']\n",
    "evals = [(dtrain, 'train'), (dtest, 'test')]"
   ]
  },
  {
   "cell_type": "code",
   "execution_count": null,
   "metadata": {
    "colab": {
     "base_uri": "https://localhost:8080/"
    },
    "id": "C4qvkTwZaXJe",
    "outputId": "bed34545-97ce-4b2e-f681-9c2976534a37"
   },
   "outputs": [
    {
     "name": "stdout",
     "output_type": "stream",
     "text": [
      "[0]\ttrain-error:0.002054\ttest-error:0.002332\n",
      "[1]\ttrain-error:0.002022\ttest-error:0.002316\n",
      "[2]\ttrain-error:0.0018\ttest-error:0.002162\n",
      "[3]\ttrain-error:0.000669\ttest-error:0.000931\n",
      "[4]\ttrain-error:0.000907\ttest-error:0.001182\n",
      "[5]\ttrain-error:0.000931\ttest-error:0.001198\n",
      "[6]\ttrain-error:0.000861\ttest-error:0.00115\n",
      "[7]\ttrain-error:0.000907\ttest-error:0.001166\n",
      "[8]\ttrain-error:0.001077\ttest-error:0.001295\n",
      "[9]\ttrain-error:0.000923\ttest-error:0.00119\n"
     ]
    }
   ],
   "source": [
    "model = xgb.train(params, dtrain, num_rounds, evals=evals)"
   ]
  },
  {
   "cell_type": "code",
   "execution_count": null,
   "metadata": {
    "id": "JLkqVbtIeFkh"
   },
   "outputs": [],
   "source": [
    "predictions = model.predict(dtest)"
   ]
  },
  {
   "cell_type": "code",
   "execution_count": null,
   "metadata": {
    "colab": {
     "base_uri": "https://localhost:8080/"
    },
    "id": "GXEvwjHaeWAs",
    "outputId": "895407da-786b-4881-f4b9-8843ddb30482"
   },
   "outputs": [
    {
     "name": "stdout",
     "output_type": "stream",
     "text": [
      "[1 1 1 ... 1 0 0]\n"
     ]
    }
   ],
   "source": [
    "print(predictions)"
   ]
  },
  {
   "cell_type": "code",
   "execution_count": null,
   "metadata": {
    "id": "Y3Th0VjaebGr"
   },
   "outputs": [],
   "source": [
    "threshold = 0.5\n",
    "predictions = (predictions > threshold).astype(int)"
   ]
  },
  {
   "cell_type": "code",
   "execution_count": null,
   "metadata": {
    "colab": {
     "base_uri": "https://localhost:8080/"
    },
    "id": "n4QpbmjqeocQ",
    "outputId": "2f9fb1b7-4701-4262-c262-2964f40bf08f"
   },
   "outputs": [
    {
     "data": {
      "text/plain": [
       "99150"
      ]
     },
     "execution_count": 28,
     "metadata": {},
     "output_type": "execute_result"
    }
   ],
   "source": [
    "predictions.sum()"
   ]
  },
  {
   "cell_type": "code",
   "execution_count": null,
   "metadata": {
    "colab": {
     "base_uri": "https://localhost:8080/"
    },
    "id": "uRJkGI2YewzO",
    "outputId": "71d4bff3-dea6-4b25-b612-2ab10ceda5cc"
   },
   "outputs": [
    {
     "name": "stdout",
     "output_type": "stream",
     "text": [
      "0.9988097744239146\n"
     ]
    }
   ],
   "source": [
    "accuracy = accuracy_score(binary_y_test, predictions)\n",
    "print(accuracy)"
   ]
  },
  {
   "cell_type": "code",
   "execution_count": null,
   "metadata": {
    "id": "7mc8TVQSfgFK"
   },
   "outputs": [],
   "source": [
    "fpr, tpr, thresholds = roc_curve(binary_y_test, predictions)\n",
    "\n",
    "\n"
   ]
  },
  {
   "cell_type": "code",
   "execution_count": null,
   "metadata": {
    "colab": {
     "base_uri": "https://localhost:8080/"
    },
    "id": "1VDmrPS3gYxm",
    "outputId": "13c6f97a-8817-4ca5-8683-e6d2c818ae92"
   },
   "outputs": [
    {
     "data": {
      "text/plain": [
       "(123506,)"
      ]
     },
     "execution_count": 42,
     "metadata": {},
     "output_type": "execute_result"
    }
   ],
   "source": [
    "binary_y_test.shape"
   ]
  },
  {
   "cell_type": "code",
   "execution_count": null,
   "metadata": {
    "colab": {
     "base_uri": "https://localhost:8080/",
     "height": 312
    },
    "id": "hjAUfypqfjpW",
    "outputId": "ff18b005-21c8-48c1-97f7-d2c96a17e76f"
   },
   "outputs": [
    {
     "name": "stderr",
     "output_type": "stream",
     "text": [
      "No handles with labels found to put in legend.\n"
     ]
    },
    {
     "data": {
      "image/png": "[encoded data removed]",
      "text/plain": [
       "<Figure size 432x288 with 1 Axes>"
      ]
     },
     "metadata": {
      "needs_background": "light"
     },
     "output_type": "display_data"
    }
   ],
   "source": [
    "plt.figure()\n",
    "\n",
    "plt.plot(fpr, tpr, color=\"navy\", lw=1, linestyle=\"--\")\n",
    "plt.xlabel(\"False Positive Rate\")\n",
    "plt.ylabel(\"True Positive Rate\")\n",
    "plt.title(\"Receiver operating characteristic example\")\n",
    "plt.legend(loc=\"lower right\")\n",
    "plt.show()"
   ]
  },
  {
   "cell_type": "markdown",
   "metadata": {
    "id": "OBsRb3hJSrU1"
   },
   "source": []
  },
  {
   "cell_type": "code",
   "execution_count": null,
   "metadata": {
    "colab": {
     "base_uri": "https://localhost:8080/"
    },
    "id": "QHg1sS_fhNM4",
    "outputId": "302100b8-3cc2-4850-c980-b6443dc04a16"
   },
   "outputs": [
    {
     "name": "stdout",
     "output_type": "stream",
     "text": [
      "0.9988079564050024\n"
     ]
    }
   ],
   "source": [
    "auc = roc_auc_score(binary_y_test, predictions)\n",
    "print(auc)"
   ]
  },
  {
   "cell_type": "code",
   "execution_count": null,
   "metadata": {
    "id": "cp5DaQdjheOX"
   },
   "outputs": [],
   "source": [
    "results = confusion_matrix(binary_y_test, predictions)"
   ]
  },
  {
   "cell_type": "code",
   "execution_count": null,
   "metadata": {
    "colab": {
     "base_uri": "https://localhost:8080/",
     "height": 279
    },
    "id": "09J1rwYdheOY",
    "outputId": "e2528b1a-380b-42f3-83d0-ccb4c70c9b20"
   },
   "outputs": [
    {
     "data": {
      "image/png": "[encoded data removed]",
      "text/plain": [
       "<Figure size 432x288 with 2 Axes>"
      ]
     },
     "metadata": {
      "needs_background": "light"
     },
     "output_type": "display_data"
    }
   ],
   "source": [
    "disp = ConfusionMatrixDisplay(confusion_matrix=results)\n",
    "\n",
    "# NOTE: Fill all variables here with default values of the plot_confusion_matrix\n",
    "disp = disp.plot()\n",
    "\n",
    "plt.show()"
   ]
  },
  {
   "cell_type": "markdown",
   "metadata": {
    "id": "Krgi_E1QJvjf"
   },
   "source": [
    "# 4. Validation on Full Dataset"
   ]
  },
  {
   "cell_type": "code",
   "execution_count": null,
   "metadata": {
    "colab": {
     "base_uri": "https://localhost:8080/"
    },
    "id": "6D2EClhEJ76Y",
    "outputId": "53fedeed-58a1-4565-a6fc-53f9a7fed79f"
   },
   "outputs": [
    {
     "name": "stdout",
     "output_type": "stream",
     "text": [
      "--2021-12-11 08:34:55--  http://kdd.ics.uci.edu/databases/kddcup99/kddcup.data.gz\n",
      "Resolving kdd.ics.uci.edu (kdd.ics.uci.edu)... 128.195.1.86\n",
      "Connecting to kdd.ics.uci.edu (kdd.ics.uci.edu)|128.195.1.86|:80... connected.\n",
      "HTTP request sent, awaiting response... 200 OK\n",
      "Length: 18115902 (17M) [application/x-gzip]\n",
      "Saving to: ‘kddcup.data.gz’\n",
      "\n",
      "kddcup.data.gz      100%[===================>]  17.28M  3.01MB/s    in 6.7s    \n",
      "\n",
      "2021-12-11 08:35:02 (2.59 MB/s) - ‘kddcup.data.gz’ saved [18115902/18115902]\n",
      "\n"
     ]
    }
   ],
   "source": [
    " # download full 100% dataset\n",
    " !wget http://kdd.ics.uci.edu/databases/kddcup99/kddcup.data.gz\n"
   ]
  },
  {
   "cell_type": "code",
   "execution_count": null,
   "metadata": {
    "id": "4jaqmtpeJ44A"
   },
   "outputs": [],
   "source": [
    "# unzip to the local folder\n",
    "# it contains a .csv file with all the records:\n",
    "! gzip -d ./kddcup.data.gz"
   ]
  },
  {
   "cell_type": "code",
   "execution_count": null,
   "metadata": {
    "colab": {
     "base_uri": "https://localhost:8080/"
    },
    "id": "uyvoWofILOUj",
    "outputId": "605acdaa-ae56-4c02-e883-35258883e5eb"
   },
   "outputs": [
    {
     "data": {
      "text/plain": [
       "<bound method NDFrame.head of          duration protocol_type  ... dst_host_srv_rerror_rate    label\n",
       "0               0           tcp  ...                      0.0  normal.\n",
       "1               0           tcp  ...                      0.0  normal.\n",
       "2               0           tcp  ...                      0.0  normal.\n",
       "3               0           tcp  ...                      0.0  normal.\n",
       "4               0           tcp  ...                      0.0  normal.\n",
       "...           ...           ...  ...                      ...      ...\n",
       "4898426         0           tcp  ...                      0.0  normal.\n",
       "4898427         0           tcp  ...                      0.0  normal.\n",
       "4898428         0           tcp  ...                      0.0  normal.\n",
       "4898429         0           tcp  ...                      0.0  normal.\n",
       "4898430         0           tcp  ...                      0.0  normal.\n",
       "\n",
       "[4898431 rows x 42 columns]>"
      ]
     },
     "execution_count": 53,
     "metadata": {},
     "output_type": "execute_result"
    }
   ],
   "source": [
    "# this is a csv actually\n",
    "# header = 0 says to get column names from header, without passing them expicitely\n",
    "file_path = '/content/kddcup.data'\n",
    "\n",
    "col_names = [\"duration\",\"protocol_type\",\"service\",\"flag\",\"src_bytes\",\"dst_bytes\",\"land\",\"wrong_fragment\",\"urgent\",\"hot\",\"num_failed_logins\",\"logged_in\",\n",
    "             \"num_compromised\",\"root_shell\",\"su_attempted\",\"num_root\",\"num_file_creations\",\"num_shells\",\"num_access_files\",\"num_outbound_cmds\",\n",
    "             \"is_host_login\",\"is_guest_login\",\"count\",\"srv_count\",\"serror_rate\",\"srv_serror_rate\",\"rerror_rate\",\"srv_rerror_rate\",\"same_srv_rate\",\n",
    "             \"diff_srv_rate\",\"srv_diff_host_rate\",\"dst_host_count\",\"dst_host_srv_count\",\"dst_host_same_srv_rate\",\"dst_host_diff_srv_rate\",\n",
    "             \"dst_host_same_src_port_rate\",\"dst_host_srv_diff_host_rate\",\"dst_host_serror_rate\",\"dst_host_srv_serror_rate\",\"dst_host_rerror_rate\",\n",
    "             \"dst_host_srv_rerror_rate\",\"label\"]\n",
    "\n",
    "df = pd.read_csv(file_path, header=None, names=col_names, index_col=False)\n",
    "df.head"
   ]
  },
  {
   "cell_type": "code",
   "execution_count": null,
   "metadata": {
    "colab": {
     "base_uri": "https://localhost:8080/",
     "height": 317
    },
    "id": "NME1usfnMEWR",
    "outputId": "aad9fdaa-9ae8-4a86-efaa-fa1bd8236984"
   },
   "outputs": [
    {
     "data": {
      "text/html": [
       "<div>\n",
       "<style scoped>\n",
       "    .dataframe tbody tr th:only-of-type {\n",
       "        vertical-align: middle;\n",
       "    }\n",
       "\n",
       "    .dataframe tbody tr th {\n",
       "        vertical-align: top;\n",
       "    }\n",
       "\n",
       "    .dataframe thead th {\n",
       "        text-align: right;\n",
       "    }\n",
       "</style>\n",
       "<table border=\"1\" class=\"dataframe\">\n",
       "  <thead>\n",
       "    <tr style=\"text-align: right;\">\n",
       "      <th></th>\n",
       "      <th>duration</th>\n",
       "      <th>src_bytes</th>\n",
       "      <th>dst_bytes</th>\n",
       "      <th>land</th>\n",
       "      <th>wrong_fragment</th>\n",
       "      <th>urgent</th>\n",
       "      <th>hot</th>\n",
       "      <th>num_failed_logins</th>\n",
       "      <th>logged_in</th>\n",
       "      <th>num_compromised</th>\n",
       "      <th>root_shell</th>\n",
       "      <th>su_attempted</th>\n",
       "      <th>num_root</th>\n",
       "      <th>num_file_creations</th>\n",
       "      <th>num_shells</th>\n",
       "      <th>num_access_files</th>\n",
       "      <th>num_outbound_cmds</th>\n",
       "      <th>is_host_login</th>\n",
       "      <th>is_guest_login</th>\n",
       "      <th>count</th>\n",
       "      <th>srv_count</th>\n",
       "      <th>serror_rate</th>\n",
       "      <th>srv_serror_rate</th>\n",
       "      <th>rerror_rate</th>\n",
       "      <th>srv_rerror_rate</th>\n",
       "      <th>same_srv_rate</th>\n",
       "      <th>diff_srv_rate</th>\n",
       "      <th>srv_diff_host_rate</th>\n",
       "      <th>dst_host_count</th>\n",
       "      <th>dst_host_srv_count</th>\n",
       "      <th>dst_host_same_srv_rate</th>\n",
       "      <th>dst_host_diff_srv_rate</th>\n",
       "      <th>dst_host_same_src_port_rate</th>\n",
       "      <th>dst_host_srv_diff_host_rate</th>\n",
       "      <th>dst_host_serror_rate</th>\n",
       "      <th>dst_host_srv_serror_rate</th>\n",
       "      <th>dst_host_rerror_rate</th>\n",
       "      <th>dst_host_srv_rerror_rate</th>\n",
       "    </tr>\n",
       "  </thead>\n",
       "  <tbody>\n",
       "    <tr>\n",
       "      <th>count</th>\n",
       "      <td>4.898431e+06</td>\n",
       "      <td>4.898431e+06</td>\n",
       "      <td>4.898431e+06</td>\n",
       "      <td>4.898431e+06</td>\n",
       "      <td>4.898431e+06</td>\n",
       "      <td>4.898431e+06</td>\n",
       "      <td>4.898431e+06</td>\n",
       "      <td>4.898431e+06</td>\n",
       "      <td>4.898431e+06</td>\n",
       "      <td>4.898431e+06</td>\n",
       "      <td>4.898431e+06</td>\n",
       "      <td>4.898431e+06</td>\n",
       "      <td>4.898431e+06</td>\n",
       "      <td>4.898431e+06</td>\n",
       "      <td>4.898431e+06</td>\n",
       "      <td>4.898431e+06</td>\n",
       "      <td>4898431.0</td>\n",
       "      <td>4.898431e+06</td>\n",
       "      <td>4.898431e+06</td>\n",
       "      <td>4.898431e+06</td>\n",
       "      <td>4.898431e+06</td>\n",
       "      <td>4.898431e+06</td>\n",
       "      <td>4.898431e+06</td>\n",
       "      <td>4.898431e+06</td>\n",
       "      <td>4.898431e+06</td>\n",
       "      <td>4.898431e+06</td>\n",
       "      <td>4.898431e+06</td>\n",
       "      <td>4.898431e+06</td>\n",
       "      <td>4.898431e+06</td>\n",
       "      <td>4.898431e+06</td>\n",
       "      <td>4.898431e+06</td>\n",
       "      <td>4.898431e+06</td>\n",
       "      <td>4.898431e+06</td>\n",
       "      <td>4.898431e+06</td>\n",
       "      <td>4.898431e+06</td>\n",
       "      <td>4.898431e+06</td>\n",
       "      <td>4.898431e+06</td>\n",
       "      <td>4.898431e+06</td>\n",
       "    </tr>\n",
       "    <tr>\n",
       "      <th>mean</th>\n",
       "      <td>4.834243e+01</td>\n",
       "      <td>1.834621e+03</td>\n",
       "      <td>1.093623e+03</td>\n",
       "      <td>5.716116e-06</td>\n",
       "      <td>6.487792e-04</td>\n",
       "      <td>7.961733e-06</td>\n",
       "      <td>1.243766e-02</td>\n",
       "      <td>3.205108e-05</td>\n",
       "      <td>1.435290e-01</td>\n",
       "      <td>8.088304e-03</td>\n",
       "      <td>6.818510e-05</td>\n",
       "      <td>3.674646e-05</td>\n",
       "      <td>1.293496e-02</td>\n",
       "      <td>1.188748e-03</td>\n",
       "      <td>7.430951e-05</td>\n",
       "      <td>1.021143e-03</td>\n",
       "      <td>0.0</td>\n",
       "      <td>4.082940e-07</td>\n",
       "      <td>8.351654e-04</td>\n",
       "      <td>3.349734e+02</td>\n",
       "      <td>2.952671e+02</td>\n",
       "      <td>1.779703e-01</td>\n",
       "      <td>1.780370e-01</td>\n",
       "      <td>5.766509e-02</td>\n",
       "      <td>5.773010e-02</td>\n",
       "      <td>7.898842e-01</td>\n",
       "      <td>2.117961e-02</td>\n",
       "      <td>2.826080e-02</td>\n",
       "      <td>2.329811e+02</td>\n",
       "      <td>1.892142e+02</td>\n",
       "      <td>7.537132e-01</td>\n",
       "      <td>3.071111e-02</td>\n",
       "      <td>6.050520e-01</td>\n",
       "      <td>6.464107e-03</td>\n",
       "      <td>1.780911e-01</td>\n",
       "      <td>1.778859e-01</td>\n",
       "      <td>5.792780e-02</td>\n",
       "      <td>5.765941e-02</td>\n",
       "    </tr>\n",
       "    <tr>\n",
       "      <th>std</th>\n",
       "      <td>7.233298e+02</td>\n",
       "      <td>9.414311e+05</td>\n",
       "      <td>6.450123e+05</td>\n",
       "      <td>2.390833e-03</td>\n",
       "      <td>4.285434e-02</td>\n",
       "      <td>7.215084e-03</td>\n",
       "      <td>4.689782e-01</td>\n",
       "      <td>7.299408e-03</td>\n",
       "      <td>3.506116e-01</td>\n",
       "      <td>3.856481e+00</td>\n",
       "      <td>8.257146e-03</td>\n",
       "      <td>8.082432e-03</td>\n",
       "      <td>3.938075e+00</td>\n",
       "      <td>1.241857e-01</td>\n",
       "      <td>8.737590e-03</td>\n",
       "      <td>3.551048e-02</td>\n",
       "      <td>0.0</td>\n",
       "      <td>6.389788e-04</td>\n",
       "      <td>2.888716e-02</td>\n",
       "      <td>2.119908e+02</td>\n",
       "      <td>2.459927e+02</td>\n",
       "      <td>3.818756e-01</td>\n",
       "      <td>3.822541e-01</td>\n",
       "      <td>2.322529e-01</td>\n",
       "      <td>2.326604e-01</td>\n",
       "      <td>3.892958e-01</td>\n",
       "      <td>8.271458e-02</td>\n",
       "      <td>1.405596e-01</td>\n",
       "      <td>6.402094e+01</td>\n",
       "      <td>1.059128e+02</td>\n",
       "      <td>4.111860e-01</td>\n",
       "      <td>1.085432e-01</td>\n",
       "      <td>4.809877e-01</td>\n",
       "      <td>4.125978e-02</td>\n",
       "      <td>3.818382e-01</td>\n",
       "      <td>3.821774e-01</td>\n",
       "      <td>2.309428e-01</td>\n",
       "      <td>2.309777e-01</td>\n",
       "    </tr>\n",
       "    <tr>\n",
       "      <th>min</th>\n",
       "      <td>0.000000e+00</td>\n",
       "      <td>0.000000e+00</td>\n",
       "      <td>0.000000e+00</td>\n",
       "      <td>0.000000e+00</td>\n",
       "      <td>0.000000e+00</td>\n",
       "      <td>0.000000e+00</td>\n",
       "      <td>0.000000e+00</td>\n",
       "      <td>0.000000e+00</td>\n",
       "      <td>0.000000e+00</td>\n",
       "      <td>0.000000e+00</td>\n",
       "      <td>0.000000e+00</td>\n",
       "      <td>0.000000e+00</td>\n",
       "      <td>0.000000e+00</td>\n",
       "      <td>0.000000e+00</td>\n",
       "      <td>0.000000e+00</td>\n",
       "      <td>0.000000e+00</td>\n",
       "      <td>0.0</td>\n",
       "      <td>0.000000e+00</td>\n",
       "      <td>0.000000e+00</td>\n",
       "      <td>0.000000e+00</td>\n",
       "      <td>0.000000e+00</td>\n",
       "      <td>0.000000e+00</td>\n",
       "      <td>0.000000e+00</td>\n",
       "      <td>0.000000e+00</td>\n",
       "      <td>0.000000e+00</td>\n",
       "      <td>0.000000e+00</td>\n",
       "      <td>0.000000e+00</td>\n",
       "      <td>0.000000e+00</td>\n",
       "      <td>0.000000e+00</td>\n",
       "      <td>0.000000e+00</td>\n",
       "      <td>0.000000e+00</td>\n",
       "      <td>0.000000e+00</td>\n",
       "      <td>0.000000e+00</td>\n",
       "      <td>0.000000e+00</td>\n",
       "      <td>0.000000e+00</td>\n",
       "      <td>0.000000e+00</td>\n",
       "      <td>0.000000e+00</td>\n",
       "      <td>0.000000e+00</td>\n",
       "    </tr>\n",
       "    <tr>\n",
       "      <th>25%</th>\n",
       "      <td>0.000000e+00</td>\n",
       "      <td>4.500000e+01</td>\n",
       "      <td>0.000000e+00</td>\n",
       "      <td>0.000000e+00</td>\n",
       "      <td>0.000000e+00</td>\n",
       "      <td>0.000000e+00</td>\n",
       "      <td>0.000000e+00</td>\n",
       "      <td>0.000000e+00</td>\n",
       "      <td>0.000000e+00</td>\n",
       "      <td>0.000000e+00</td>\n",
       "      <td>0.000000e+00</td>\n",
       "      <td>0.000000e+00</td>\n",
       "      <td>0.000000e+00</td>\n",
       "      <td>0.000000e+00</td>\n",
       "      <td>0.000000e+00</td>\n",
       "      <td>0.000000e+00</td>\n",
       "      <td>0.0</td>\n",
       "      <td>0.000000e+00</td>\n",
       "      <td>0.000000e+00</td>\n",
       "      <td>1.210000e+02</td>\n",
       "      <td>1.000000e+01</td>\n",
       "      <td>0.000000e+00</td>\n",
       "      <td>0.000000e+00</td>\n",
       "      <td>0.000000e+00</td>\n",
       "      <td>0.000000e+00</td>\n",
       "      <td>1.000000e+00</td>\n",
       "      <td>0.000000e+00</td>\n",
       "      <td>0.000000e+00</td>\n",
       "      <td>2.550000e+02</td>\n",
       "      <td>4.900000e+01</td>\n",
       "      <td>4.100000e-01</td>\n",
       "      <td>0.000000e+00</td>\n",
       "      <td>0.000000e+00</td>\n",
       "      <td>0.000000e+00</td>\n",
       "      <td>0.000000e+00</td>\n",
       "      <td>0.000000e+00</td>\n",
       "      <td>0.000000e+00</td>\n",
       "      <td>0.000000e+00</td>\n",
       "    </tr>\n",
       "    <tr>\n",
       "      <th>50%</th>\n",
       "      <td>0.000000e+00</td>\n",
       "      <td>5.200000e+02</td>\n",
       "      <td>0.000000e+00</td>\n",
       "      <td>0.000000e+00</td>\n",
       "      <td>0.000000e+00</td>\n",
       "      <td>0.000000e+00</td>\n",
       "      <td>0.000000e+00</td>\n",
       "      <td>0.000000e+00</td>\n",
       "      <td>0.000000e+00</td>\n",
       "      <td>0.000000e+00</td>\n",
       "      <td>0.000000e+00</td>\n",
       "      <td>0.000000e+00</td>\n",
       "      <td>0.000000e+00</td>\n",
       "      <td>0.000000e+00</td>\n",
       "      <td>0.000000e+00</td>\n",
       "      <td>0.000000e+00</td>\n",
       "      <td>0.0</td>\n",
       "      <td>0.000000e+00</td>\n",
       "      <td>0.000000e+00</td>\n",
       "      <td>5.100000e+02</td>\n",
       "      <td>5.100000e+02</td>\n",
       "      <td>0.000000e+00</td>\n",
       "      <td>0.000000e+00</td>\n",
       "      <td>0.000000e+00</td>\n",
       "      <td>0.000000e+00</td>\n",
       "      <td>1.000000e+00</td>\n",
       "      <td>0.000000e+00</td>\n",
       "      <td>0.000000e+00</td>\n",
       "      <td>2.550000e+02</td>\n",
       "      <td>2.550000e+02</td>\n",
       "      <td>1.000000e+00</td>\n",
       "      <td>0.000000e+00</td>\n",
       "      <td>1.000000e+00</td>\n",
       "      <td>0.000000e+00</td>\n",
       "      <td>0.000000e+00</td>\n",
       "      <td>0.000000e+00</td>\n",
       "      <td>0.000000e+00</td>\n",
       "      <td>0.000000e+00</td>\n",
       "    </tr>\n",
       "    <tr>\n",
       "      <th>75%</th>\n",
       "      <td>0.000000e+00</td>\n",
       "      <td>1.032000e+03</td>\n",
       "      <td>0.000000e+00</td>\n",
       "      <td>0.000000e+00</td>\n",
       "      <td>0.000000e+00</td>\n",
       "      <td>0.000000e+00</td>\n",
       "      <td>0.000000e+00</td>\n",
       "      <td>0.000000e+00</td>\n",
       "      <td>0.000000e+00</td>\n",
       "      <td>0.000000e+00</td>\n",
       "      <td>0.000000e+00</td>\n",
       "      <td>0.000000e+00</td>\n",
       "      <td>0.000000e+00</td>\n",
       "      <td>0.000000e+00</td>\n",
       "      <td>0.000000e+00</td>\n",
       "      <td>0.000000e+00</td>\n",
       "      <td>0.0</td>\n",
       "      <td>0.000000e+00</td>\n",
       "      <td>0.000000e+00</td>\n",
       "      <td>5.110000e+02</td>\n",
       "      <td>5.110000e+02</td>\n",
       "      <td>0.000000e+00</td>\n",
       "      <td>0.000000e+00</td>\n",
       "      <td>0.000000e+00</td>\n",
       "      <td>0.000000e+00</td>\n",
       "      <td>1.000000e+00</td>\n",
       "      <td>0.000000e+00</td>\n",
       "      <td>0.000000e+00</td>\n",
       "      <td>2.550000e+02</td>\n",
       "      <td>2.550000e+02</td>\n",
       "      <td>1.000000e+00</td>\n",
       "      <td>4.000000e-02</td>\n",
       "      <td>1.000000e+00</td>\n",
       "      <td>0.000000e+00</td>\n",
       "      <td>0.000000e+00</td>\n",
       "      <td>0.000000e+00</td>\n",
       "      <td>0.000000e+00</td>\n",
       "      <td>0.000000e+00</td>\n",
       "    </tr>\n",
       "    <tr>\n",
       "      <th>max</th>\n",
       "      <td>5.832900e+04</td>\n",
       "      <td>1.379964e+09</td>\n",
       "      <td>1.309937e+09</td>\n",
       "      <td>1.000000e+00</td>\n",
       "      <td>3.000000e+00</td>\n",
       "      <td>1.400000e+01</td>\n",
       "      <td>7.700000e+01</td>\n",
       "      <td>5.000000e+00</td>\n",
       "      <td>1.000000e+00</td>\n",
       "      <td>7.479000e+03</td>\n",
       "      <td>1.000000e+00</td>\n",
       "      <td>2.000000e+00</td>\n",
       "      <td>7.468000e+03</td>\n",
       "      <td>4.300000e+01</td>\n",
       "      <td>2.000000e+00</td>\n",
       "      <td>9.000000e+00</td>\n",
       "      <td>0.0</td>\n",
       "      <td>1.000000e+00</td>\n",
       "      <td>1.000000e+00</td>\n",
       "      <td>5.110000e+02</td>\n",
       "      <td>5.110000e+02</td>\n",
       "      <td>1.000000e+00</td>\n",
       "      <td>1.000000e+00</td>\n",
       "      <td>1.000000e+00</td>\n",
       "      <td>1.000000e+00</td>\n",
       "      <td>1.000000e+00</td>\n",
       "      <td>1.000000e+00</td>\n",
       "      <td>1.000000e+00</td>\n",
       "      <td>2.550000e+02</td>\n",
       "      <td>2.550000e+02</td>\n",
       "      <td>1.000000e+00</td>\n",
       "      <td>1.000000e+00</td>\n",
       "      <td>1.000000e+00</td>\n",
       "      <td>1.000000e+00</td>\n",
       "      <td>1.000000e+00</td>\n",
       "      <td>1.000000e+00</td>\n",
       "      <td>1.000000e+00</td>\n",
       "      <td>1.000000e+00</td>\n",
       "    </tr>\n",
       "  </tbody>\n",
       "</table>\n",
       "</div>"
      ],
      "text/plain": [
       "           duration  ...  dst_host_srv_rerror_rate\n",
       "count  4.898431e+06  ...              4.898431e+06\n",
       "mean   4.834243e+01  ...              5.765941e-02\n",
       "std    7.233298e+02  ...              2.309777e-01\n",
       "min    0.000000e+00  ...              0.000000e+00\n",
       "25%    0.000000e+00  ...              0.000000e+00\n",
       "50%    0.000000e+00  ...              0.000000e+00\n",
       "75%    0.000000e+00  ...              0.000000e+00\n",
       "max    5.832900e+04  ...              1.000000e+00\n",
       "\n",
       "[8 rows x 38 columns]"
      ]
     },
     "execution_count": 6,
     "metadata": {},
     "output_type": "execute_result"
    }
   ],
   "source": [
    "df.describe()"
   ]
  },
  {
   "cell_type": "code",
   "execution_count": null,
   "metadata": {
    "colab": {
     "base_uri": "https://localhost:8080/"
    },
    "id": "9f873BlTMjay",
    "outputId": "f8d32f1e-f847-4029-f5f9-f537a5f2ad8e"
   },
   "outputs": [
    {
     "name": "stdout",
     "output_type": "stream",
     "text": [
      "['back.' 'buffer_overflow.' 'ftp_write.' 'guess_passwd.' 'imap.'\n",
      " 'ipsweep.' 'land.' 'loadmodule.' 'multihop.' 'neptune.' 'nmap.' 'normal.'\n",
      " 'perl.' 'phf.' 'pod.' 'portsweep.' 'rootkit.' 'satan.' 'smurf.' 'spy.'\n",
      " 'teardrop.' 'warezclient.' 'warezmaster.']\n"
     ]
    }
   ],
   "source": [
    "le = preprocessing.LabelEncoder()\n",
    "le.fit(df.label)\n",
    "\n",
    "print(le.classes_)"
   ]
  },
  {
   "cell_type": "code",
   "execution_count": null,
   "metadata": {
    "id": "afFJE8qsMq0Z"
   },
   "outputs": [],
   "source": [
    "col_categories = ['protocol_type', \n",
    "                  'service', \n",
    "                  'flag', \n",
    "                  'land', \n",
    "                  'logged_in', \n",
    "                  'is_host_login', \n",
    "                  'is_guest_login']"
   ]
  },
  {
   "cell_type": "code",
   "execution_count": null,
   "metadata": {
    "colab": {
     "base_uri": "https://localhost:8080/"
    },
    "id": "n9uig9VvOnAV",
    "outputId": "89ea8a82-2cdd-4c17-9d90-70d74dc4839c"
   },
   "outputs": [
    {
     "data": {
      "text/plain": [
       "service\n",
       "ecr_i        2811660\n",
       "private      1100831\n",
       "http          623091\n",
       "smtp           96554\n",
       "other          72653\n",
       "              ...   \n",
       "tftp_u             3\n",
       "aol                2\n",
       "http_8001          2\n",
       "harvest            2\n",
       "http_2784          1\n",
       "Length: 70, dtype: int64"
      ]
     },
     "execution_count": 54,
     "metadata": {},
     "output_type": "execute_result"
    }
   ],
   "source": [
    "df.value_counts('service')"
   ]
  },
  {
   "cell_type": "code",
   "execution_count": null,
   "metadata": {
    "colab": {
     "base_uri": "https://localhost:8080/"
    },
    "id": "1PclK0OfPqUe",
    "outputId": "bd81787e-bf83-4043-b1b8-c512e3167600"
   },
   "outputs": [
    {
     "data": {
      "text/plain": [
       "service\n",
       "ecr_i      281400\n",
       "private    110893\n",
       "http        64293\n",
       "smtp         9723\n",
       "other        7237\n",
       "            ...  \n",
       "X11            11\n",
       "tim_i           7\n",
       "pm_dump         1\n",
       "red_i           1\n",
       "tftp_u          1\n",
       "Length: 66, dtype: int64"
      ]
     },
     "execution_count": 55,
     "metadata": {},
     "output_type": "execute_result"
    }
   ],
   "source": [
    "df_10p.value_counts('service')"
   ]
  },
  {
   "cell_type": "code",
   "execution_count": null,
   "metadata": {
    "id": "3eBaanMSO1PK"
   },
   "outputs": [],
   "source": [
    "# pd.set_option('display.max_columns', None)"
   ]
  },
  {
   "cell_type": "code",
   "execution_count": null,
   "metadata": {
    "colab": {
     "base_uri": "https://localhost:8080/"
    },
    "id": "UJOM6HH6Mz6y",
    "outputId": "72e685a1-027b-442f-e993-5b4d9cc19f81"
   },
   "outputs": [
    {
     "data": {
      "text/plain": [
       "service\n",
       "IRC           521\n",
       "X11           135\n",
       "Z39_50       1078\n",
       "aol             2\n",
       "auth         3382\n",
       "             ... \n",
       "urp_i        5378\n",
       "uucp         1041\n",
       "uucp_path    1057\n",
       "vmnet        1053\n",
       "whois        1073\n",
       "Length: 70, dtype: int64"
      ]
     },
     "execution_count": 56,
     "metadata": {},
     "output_type": "execute_result"
    }
   ],
   "source": [
    "df.groupby('service').size()"
   ]
  },
  {
   "cell_type": "code",
   "execution_count": null,
   "metadata": {
    "colab": {
     "base_uri": "https://localhost:8080/"
    },
    "id": "a976205xQTVm",
    "outputId": "70a75cbb-e333-48bc-b1f6-372c20364978"
   },
   "outputs": [
    {
     "name": "stdout",
     "output_type": "stream",
     "text": [
      "66\n"
     ]
    }
   ],
   "source": [
    "# find shared items existing in both dataframes\n",
    "\n",
    "df_keys = list(df.groupby('service').groups.keys())\n",
    "df_10p_keys = list(df_10p.groupby('service').groups.keys())\n",
    "\n",
    "shared_items = [k for k in df_keys if k in df_10p_keys]\n",
    "print(len(shared_items))"
   ]
  },
  {
   "cell_type": "code",
   "execution_count": null,
   "metadata": {
    "id": "oj8_6kbPTP0z"
   },
   "outputs": [],
   "source": [
    "# find items only existing in full df (=100%) or in tructated one (10% dataset)\n",
    "\n",
    "df_unique = [k for k in df_keys if k not in shared_items]\n",
    "df_10p_unique = [k for k in df_10p_keys if k not in shared_items]"
   ]
  },
  {
   "cell_type": "code",
   "execution_count": null,
   "metadata": {
    "id": "m30GEcvSsoFR"
   },
   "outputs": [],
   "source": [
    "not_needed_services = df_unique"
   ]
  },
  {
   "cell_type": "code",
   "execution_count": null,
   "metadata": {
    "id": "qBjP2q3drGCS"
   },
   "outputs": [],
   "source": [
    "# remove from the full dataframe those rows, which service type doesn't exist in 10% dataframe\n",
    "# this will get ids of the rows to be deleted:\n",
    "# x = df[df['service'].isin(not_needed_services) == True].index\n",
    "\n",
    "df = df.drop(df[df['service'].isin(not_needed_services) == True].index, inplace=False)"
   ]
  },
  {
   "cell_type": "code",
   "execution_count": null,
   "metadata": {
    "id": "JyigF-tlqBS1"
   },
   "outputs": [],
   "source": [
    "def removeServiceRows(df, services):\n",
    "  interestRows = df[df['service'].isin(services)]\n",
    "  df.drop(interestRows.index, inplace=True)"
   ]
  },
  {
   "cell_type": "code",
   "execution_count": null,
   "metadata": {
    "id": "QpHGVnV5VCRU"
   },
   "outputs": [],
   "source": [
    "pd.set_option('display.max_rows', 100)"
   ]
  },
  {
   "cell_type": "code",
   "execution_count": null,
   "metadata": {
    "id": "VH_g12_NU7dU"
   },
   "outputs": [],
   "source": [
    "df.groupby('service').size()"
   ]
  },
  {
   "cell_type": "code",
   "execution_count": null,
   "metadata": {
    "id": "Fole3nH1xp9B"
   },
   "outputs": [],
   "source": [
    "x_full, y_full = get_with_one_hot_encoded(df, col_categories, le)"
   ]
  },
  {
   "cell_type": "code",
   "execution_count": null,
   "metadata": {
    "id": "DY9sJQLJyPkz"
   },
   "outputs": [],
   "source": [
    "preprocessed_full_data = {\n",
    "    'x_full': x_full,\n",
    "    'y_full': y_full,\n",
    "    'le': le\n",
    "}\n",
    "\n",
    "pickle_path = '/content/kddcup.data.pkl'\n",
    "with open(pickle_path, 'wb') as f:\n",
    "  pickle.dump(preprocessed_full_data, f)"
   ]
  },
  {
   "cell_type": "code",
   "execution_count": null,
   "metadata": {
    "colab": {
     "base_uri": "https://localhost:8080/"
    },
    "id": "6GBl04QQ22vT",
    "outputId": "fbaf08e2-4a2b-4812-c38d-a09a63c1d67d"
   },
   "outputs": [
    {
     "name": "stdout",
     "output_type": "stream",
     "text": [
      "x_full\n",
      "y_full\n",
      "le\n"
     ]
    }
   ],
   "source": [
    "# load data back from pickle file:\n",
    "pickle_file = '/content/kddcup.data.pkl'\n",
    "with open(pickle_file, 'rb') as f:\n",
    "    preprocessed_full_data = pickle.load(f)\n",
    "\n",
    "# check what's inside:\n",
    "for key in preprocessed_full_data:\n",
    "  print (key)"
   ]
  },
  {
   "cell_type": "code",
   "execution_count": null,
   "metadata": {
    "id": "IcVnjFD43CUu"
   },
   "outputs": [],
   "source": [
    "x_full = preprocessed_full_data['x_full']\n",
    "y_full = preprocessed_full_data['y_full']\n",
    "le_full = preprocessed_full_data['le']"
   ]
  },
  {
   "cell_type": "code",
   "execution_count": null,
   "metadata": {
    "id": "irTmnAMkzz0R"
   },
   "outputs": [],
   "source": [
    "x_full = scaler01.transform(x_full)"
   ]
  },
  {
   "cell_type": "code",
   "execution_count": null,
   "metadata": {
    "id": "OTtuVX2Szm2C"
   },
   "outputs": [],
   "source": [
    "y_full = get_binary_labels(y_full)"
   ]
  }
 ],
 "metadata": {
  "colab": {
   "collapsed_sections": [
    "AmWJX555y7vL"
   ],
   "name": "Lab 3-1.ipynb",
   "provenance": []
  },
  "kernelspec": {
   "display_name": "Python 3",
   "name": "python3"
  },
  "language_info": {
   "codemirror_mode": {
    "name": "ipython",
    "version": 3
   },
   "file_extension": ".py",
   "mimetype": "text/x-python",
   "name": "python",
   "nbconvert_exporter": "python",
   "pygments_lexer": "ipython3",
   "version": "3.8.12"
  }
 },
 "nbformat": 4,
 "nbformat_minor": 0
}
