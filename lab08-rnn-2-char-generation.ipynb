{
 "cells": [
  {
   "cell_type": "markdown",
   "source": [
    "This Lab is made with inspiration & code snippets of:\n",
    "- https://github.com/yxtay/char-rnn-text-generation\n",
    "- https://d2l.ai/chapter_recurrent-modern/lstm.html\n",
    "- https://d2l.ai/chapter_recurrent-neural-networks/rnn-scratch.html"
   ],
   "metadata": {
    "collapsed": false,
    "pycharm": {
     "name": "#%% md\n"
    }
   }
  },
  {
   "cell_type": "code",
   "execution_count": 1,
   "outputs": [],
   "source": [
    "import mxnet as mx\n",
    "import mxnet.ndarray as F\n",
    "import mxnet.gluon as gluon\n",
    "from mxnet.gluon import nn, rnn\n",
    "from mxnet import autograd\n",
    "\n",
    "import time\n",
    "from tqdm import tqdm\n",
    "\n",
    "from utils.text_helpers import load_corpus, Vocab, batch_generator, encode_text, decode_text, generate_seed, sample_from_probs"
   ],
   "metadata": {
    "collapsed": false,
    "pycharm": {
     "name": "#%%\n"
    }
   }
  },
  {
   "cell_type": "code",
   "execution_count": 2,
   "metadata": {
    "collapsed": true,
    "pycharm": {
     "name": "#%%\n"
    }
   },
   "outputs": [],
   "source": [
    "class Model(gluon.Block):\n",
    "    \"\"\"\n",
    "    build character embeddings LSTM text generation model.\n",
    "    \"\"\"\n",
    "    def __init__(self, vocab_size, embedding_size=32,\n",
    "                 rnn_size=128, num_layers=2, drop_rate=0.0, **kwargs):\n",
    "        super(Model, self).__init__(**kwargs)\n",
    "\n",
    "        self.args = {\n",
    "            \"vocab_size\": vocab_size,\n",
    "            \"embedding_size\": embedding_size,\n",
    "            \"rnn_size\": rnn_size,\n",
    "            \"num_layers\": num_layers,\n",
    "            \"drop_rate\": drop_rate}\n",
    "\n",
    "        with self.name_scope():\n",
    "            self.encoder = nn.Embedding(vocab_size, embedding_size)\n",
    "            self.dropout = nn.Dropout(drop_rate)\n",
    "            self.rnn = rnn.LSTM(rnn_size, num_layers, dropout = drop_rate,\n",
    "                                input_size = embedding_size)\n",
    "            self.decoder = nn.Dense(vocab_size, in_units = rnn_size)\n",
    "\n",
    "    def forward(self, inputs, state):\n",
    "        # input shape: [seq_len, batch_size]\n",
    "        seq_len, batch_size = inputs.shape\n",
    "        embed_seq = self.dropout(self.encoder(inputs))\n",
    "        # shape: [seq_len, batch_size, embedding_size]\n",
    "        rnn_out, state = self.rnn(embed_seq, state)\n",
    "        # rnn_out shape: [seq_len, batch_size, rnn_size]\n",
    "        # hidden shape: [2, num_layers, batch_size, rnn_size]\n",
    "        rnn_out = self.dropout(rnn_out)\n",
    "        # shape: [seq_len, batch_size, rnn_size]\n",
    "        logits = (self.decoder(rnn_out.reshape((-1, rnn_out.shape[2])))\n",
    "                  .reshape((seq_len, batch_size, -1)))\n",
    "        # output shape: [seq_len, batch_size, vocab_size]\n",
    "        return logits, state\n",
    "\n",
    "    def begin_state(self, batch_size=1):\n",
    "        \"\"\"\n",
    "        initialises rnn states.\n",
    "        \"\"\"\n",
    "        return self.rnn.begin_state(batch_size)"
   ]
  },
  {
   "cell_type": "code",
   "execution_count": 3,
   "outputs": [],
   "source": [
    "def train(corpus, vocab, embedding_size=32,\n",
    "          rnn_size=128, num_layers=2, drop_rate=0.0,\n",
    "          batch_size = 64, seq_len = 64, num_epochs = 64):\n",
    "    \"\"\"\n",
    "    trains model specfied in args.\n",
    "    main method for train subcommand.\n",
    "    \"\"\"\n",
    "\n",
    "    print(\"corpus length: %s, vocabulary size: %s\" %(len(corpus), len(vocab)))\n",
    "\n",
    "    VOCAB_SIZE = len(vocab)\n",
    "\n",
    "    model = Model(vocab_size=VOCAB_SIZE,\n",
    "                  embedding_size=embedding_size,\n",
    "                  rnn_size=rnn_size,\n",
    "                  num_layers=num_layers,\n",
    "                  drop_rate=drop_rate)\n",
    "    model.initialize(mx.init.Xavier())\n",
    "    model.hybridize()\n",
    "\n",
    "    # loss function\n",
    "    loss = gluon.loss.SoftmaxCrossEntropyLoss(batch_axis=1)\n",
    "\n",
    "    # optimizer\n",
    "    optimizer = mx.optimizer.Adam(learning_rate=0.001, clip_gradient=5.0)\n",
    "\n",
    "    # trainer\n",
    "    trainer = gluon.Trainer(model.collect_params(), optimizer)\n",
    "\n",
    "    # training start\n",
    "    num_batches = (len(corpus) - 1) // (batch_size * seq_len)\n",
    "    data_iter = batch_generator(encode_text(corpus, char2id=vocab), batch_size = batch_size, seq_len=seq_len, vocab = vocab)\n",
    "    state = model.begin_state(batch_size)\n",
    "\n",
    "    print(\"start of training.\")\n",
    "    time_train = time.time()\n",
    "    for i in range(num_epochs):\n",
    "        epoch_losses = mx.nd.empty(num_batches)\n",
    "        time_epoch = time.time()\n",
    "        # training epoch\n",
    "        for j in tqdm(range(num_batches), desc=\"epoch {}/{}\".format(i + 1, num_epochs), position=0, leave=True):\n",
    "            # prepare inputs\n",
    "            x, y = next(data_iter)\n",
    "            x = mx.nd.array(x.T)\n",
    "            y = mx.nd.array(y.T)\n",
    "            # reset state variables to remove their history\n",
    "            state = [arr.detach() for arr in state]\n",
    "\n",
    "            with autograd.record():\n",
    "                logits, state = model(x, state)\n",
    "                # calculate loss\n",
    "                L = loss(logits, y)\n",
    "                L = F.mean(L)\n",
    "                epoch_losses[j] = L.asscalar()\n",
    "                # calculate gradient\n",
    "                L.backward()\n",
    "            # apply gradient update\n",
    "            trainer.step(1)\n",
    "\n",
    "        # logs\n",
    "        duration_epoch = time.time() - time_epoch\n",
    "        print(\"epoch: %s, duration: %ds, loss: %.6g.\"\n",
    "              %(i + 1, duration_epoch, F.mean(epoch_losses).asscalar()))\n",
    "\n",
    "        # generate text\n",
    "        seed = generate_seed(corpus)\n",
    "        generate_text(model, seed, vocab=vocab)\n",
    "\n",
    "    # training end\n",
    "    duration_train = time.time() - time_train\n",
    "    print(\"end of training, duration: %ds.\" %duration_train)\n",
    "    # generate text\n",
    "    seed = generate_seed(corpus)\n",
    "    generate_text(model, seed, 1024, 3, vocab=vocab)\n",
    "    return model"
   ],
   "metadata": {
    "collapsed": false,
    "pycharm": {
     "name": "#%%\n"
    }
   }
  },
  {
   "cell_type": "code",
   "source": [
    "def generate_text(model, seed, length=256, top_n=4, vocab=Vocab):\n",
    "    \"\"\"\n",
    "    generates text of specified length from trained model\n",
    "    with given seed character sequence.\n",
    "    \"\"\"\n",
    "    print(\"generating %s characters from top %s choices.\"%(length, top_n))\n",
    "    print('generating with seed: \"%s\".' % (''.join(seed))) # ['a', 'b', 'c'] -> \"abc\"\n",
    "\n",
    "    generated = seed\n",
    "    encoded = mx.nd.array(encode_text(seed, char2id=vocab))\n",
    "    seq_len = encoded.shape[0]\n",
    "\n",
    "    x = F.expand_dims(encoded[:seq_len-1], 1)\n",
    "    # input shape: [seq_len, 1]\n",
    "    state = model.begin_state()\n",
    "    # get rnn state due to seed sequence\n",
    "    _, state = model(x, state)\n",
    "\n",
    "    next_index = encoded[seq_len-1].asscalar()\n",
    "    for i in range(length):\n",
    "        x = mx.nd.array([[next_index]])\n",
    "        # input shape: [1, 1]\n",
    "        logit, state = model(x, state)\n",
    "        # output shape: [1, vocab_size]\n",
    "        probs = F.softmax(logit)\n",
    "        next_index = sample_from_probs(probs.asnumpy().squeeze(), top_n)\n",
    "        # append to sequence\n",
    "        generated += vocab.to_tokens(next_index) #ID2CHAR[next_index]\n",
    "\n",
    "    print(\"generated text: \\n%s\\n\" %(''.join(generated)))\n",
    "    return generated"
   ],
   "metadata": {
    "collapsed": false,
    "pycharm": {
     "name": "#%%\n"
    }
   },
   "execution_count": 4,
   "outputs": []
  },
  {
   "cell_type": "code",
   "execution_count": 5,
   "outputs": [],
   "source": [
    "# read text\n",
    "corpus, vocab = load_corpus('data/tinyshakespeare.txt', token_type = 'char')\n",
    "\n",
    "# corpus, vocab = load_corpus('data/tinyshakespeare.txt')"
   ],
   "metadata": {
    "collapsed": false,
    "pycharm": {
     "name": "#%%\n"
    }
   }
  },
  {
   "cell_type": "code",
   "execution_count": 7,
   "outputs": [
    {
     "data": {
      "text/plain": "{'<unk>': 0,\n ' ': 1,\n 'e': 2,\n 't': 3,\n 'o': 4,\n 'a': 5,\n 'h': 6,\n 's': 7,\n 'r': 8,\n 'n': 9,\n 'i': 10,\n '\\n': 11,\n 'l': 12,\n 'd': 13,\n 'u': 14,\n 'm': 15,\n 'y': 16,\n ',': 17,\n 'w': 18,\n 'f': 19,\n 'c': 20,\n 'g': 21,\n 'I': 22,\n 'b': 23,\n 'p': 24,\n ':': 25,\n '.': 26,\n 'A': 27,\n 'v': 28,\n 'k': 29,\n 'T': 30,\n \"'\": 31,\n 'E': 32,\n 'O': 33,\n 'N': 34,\n 'R': 35,\n 'S': 36,\n 'L': 37,\n 'C': 38,\n ';': 39,\n 'W': 40,\n 'U': 41,\n 'H': 42,\n 'M': 43,\n 'B': 44,\n '?': 45,\n 'G': 46,\n '!': 47,\n 'D': 48,\n '-': 49,\n 'F': 50,\n 'Y': 51,\n 'P': 52,\n 'K': 53,\n 'V': 54,\n 'j': 55,\n 'q': 56,\n 'x': 57,\n 'z': 58,\n 'J': 59,\n 'Q': 60,\n 'Z': 61,\n 'X': 62,\n '3': 63,\n '&': 64,\n '$': 65}"
     },
     "execution_count": 7,
     "metadata": {},
     "output_type": "execute_result"
    }
   ],
   "source": [
    "vocab._token_to_idx"
   ],
   "metadata": {
    "collapsed": false,
    "pycharm": {
     "name": "#%%\n"
    }
   }
  },
  {
   "cell_type": "code",
   "execution_count": 8,
   "outputs": [
    {
     "name": "stdout",
     "output_type": "stream",
     "text": [
      "corpus length: 1115394, vocabulary size: 66\n",
      "start of training.\n"
     ]
    },
    {
     "name": "stderr",
     "output_type": "stream",
     "text": [
      "epoch 1/64:   0%|          | 1/272 [00:00<00:37,  7.14it/s]"
     ]
    },
    {
     "name": "stdout",
     "output_type": "stream",
     "text": [
      "number of batches: 272.\n",
      "effective text length: 1114112.\n",
      "x shape:  (64, 17408)\n",
      "y shape:  (64, 17408)\n"
     ]
    },
    {
     "name": "stderr",
     "output_type": "stream",
     "text": [
      "epoch 1/64: 100%|██████████| 272/272 [00:53<00:00,  5.05it/s]\n"
     ]
    },
    {
     "name": "stdout",
     "output_type": "stream",
     "text": [
      "epoch: 1, duration: 53s, loss: 2.99956.\n",
      "generating 256 characters from top 4 choices.\n",
      "generating with seed: \"u \".\n",
      "generated text: \n",
      "u thee he tiud theure theur het art that ther heus sath an want at seos andess wo hin son sas hand, wo has tor af sit the so seat thore hise the hith and sise he mot sore sand, the we sase thise, than toor ther the wore te that soud with tin hith, ard sore t\n",
      "\n"
     ]
    },
    {
     "name": "stderr",
     "output_type": "stream",
     "text": [
      "epoch 2/64: 100%|██████████| 272/272 [00:55<00:00,  4.86it/s]\n"
     ]
    },
    {
     "name": "stdout",
     "output_type": "stream",
     "text": [
      "epoch: 2, duration: 55s, loss: 2.29826.\n",
      "generating 256 characters from top 4 choices.\n",
      "generating with seed: \" die.\n",
      "'Tis very late, she'll not\".\n",
      "generated text: \n",
      " die.\n",
      "'Tis very late, she'll not the sith the wast him the wore on thit thourss thee she the hist how the has ther wat seath hen houd hith the sis as hath\n",
      "Were the satess on the weel and sither of ant hene at hour and to mour\n",
      "And so thas wat hind the cumith thou hen the sire,\n",
      "The sire, t\n",
      "\n"
     ]
    },
    {
     "name": "stderr",
     "output_type": "stream",
     "text": [
      "epoch 3/64: 100%|██████████| 272/272 [00:58<00:00,  4.62it/s]\n"
     ]
    },
    {
     "name": "stdout",
     "output_type": "stream",
     "text": [
      "epoch: 3, duration: 58s, loss: 2.10425.\n",
      "generating 256 characters from top 4 choices.\n",
      "generating with seed: \"\n",
      "L\".\n",
      "generated text: \n",
      "\n",
      "LICVIXHHAn: her his as the core the word the wile,\n",
      "And she tay she sorent to hat sirester tanter hath hind of me and sire the wath he so as as my sone of tire.\n",
      "\n",
      "LOMENES:\n",
      "Whe sound with to my seant, as sile,\n",
      "To my wating wild seals an and with the saess,\n",
      "I' \n",
      "\n"
     ]
    },
    {
     "name": "stderr",
     "output_type": "stream",
     "text": [
      "epoch 4/64: 100%|██████████| 272/272 [01:00<00:00,  4.52it/s]\n"
     ]
    },
    {
     "name": "stdout",
     "output_type": "stream",
     "text": [
      "epoch: 4, duration: 60s, loss: 1.98358.\n",
      "generating 256 characters from top 4 choices.\n",
      "generating with seed: \" kin\".\n",
      "generated text: \n",
      " kind the hands the harst and son to have to she to thee\n",
      "Word as that tour hast her the cornes the his house the sent out,\n",
      "That shall where's wat to the ponsor a to stay\n",
      "Will the show hould his seath the call a sies the serent,\n",
      "And hath has a pring hithel him \n",
      "\n"
     ]
    },
    {
     "name": "stderr",
     "output_type": "stream",
     "text": [
      "epoch 5/64: 100%|██████████| 272/272 [01:01<00:00,  4.42it/s]\n"
     ]
    },
    {
     "name": "stdout",
     "output_type": "stream",
     "text": [
      "epoch: 5, duration: 61s, loss: 1.89752.\n",
      "generating 256 characters from top 4 choices.\n",
      "generating with seed: \"atter be\".\n",
      "generated text: \n",
      "atter bean hows an his so to make\n",
      "Thim thou she take thit trunges sor a word and hears\n",
      "The cand to the seather here him, the were\n",
      "Whou have some the word of hear hour tall mand and him.\n",
      "\n",
      "BEPIO:\n",
      "Will she seell the proture hone to son harther,\n",
      "And hath to ster the c\n",
      "\n"
     ]
    },
    {
     "name": "stderr",
     "output_type": "stream",
     "text": [
      "epoch 6/64: 100%|██████████| 272/272 [01:00<00:00,  4.49it/s]\n"
     ]
    },
    {
     "name": "stdout",
     "output_type": "stream",
     "text": [
      "epoch: 6, duration: 60s, loss: 1.8312.\n",
      "generating 256 characters from top 4 choices.\n",
      "generating with seed: \"need his help.\n",
      "\n",
      "OXFORD:\n",
      "Women an\".\n",
      "generated text: \n",
      "need his help.\n",
      "\n",
      "OXFORD:\n",
      "Women and so, should as, and saint off haster\n",
      "And to the with of her shows, and said to the couse.\n",
      "\n",
      "CLOUSENER:\n",
      "I sharl they sented at that which him hill as thee have\n",
      "Worded and his son the wind thee shish hing a dence.\n",
      "\n",
      "CAMILLO:\n",
      "And whon thou wold out to the seal\n",
      "\n"
     ]
    },
    {
     "name": "stderr",
     "output_type": "stream",
     "text": [
      "epoch 7/64: 100%|██████████| 272/272 [01:01<00:00,  4.44it/s]\n"
     ]
    },
    {
     "name": "stdout",
     "output_type": "stream",
     "text": [
      "epoch: 7, duration: 61s, loss: 1.77961.\n",
      "generating 256 characters from top 4 choices.\n",
      "generating with seed: \"m I lawful king;\".\n",
      "generated text: \n",
      "m I lawful king;\n",
      "And have take his fall to him hat the could him.\n",
      "The would have to this to shise of steet to her are\n",
      "Is is to to him she sone to hear that thou say\n",
      "The sake of some, then to me serve to so to\n",
      "had a with me were whosh a sours of mister. What's her to my ho\n",
      "\n"
     ]
    },
    {
     "name": "stderr",
     "output_type": "stream",
     "text": [
      "epoch 8/64: 100%|██████████| 272/272 [01:02<00:00,  4.35it/s]\n"
     ]
    },
    {
     "name": "stdout",
     "output_type": "stream",
     "text": [
      "epoch: 8, duration: 62s, loss: 1.73867.\n",
      "generating 256 characters from top 4 choices.\n",
      "generating with seed: \", th\".\n",
      "generated text: \n",
      ", thing things with my broth thee.\n",
      "\n",
      "PETRUCHIO:\n",
      "I have some him are thee the calls was art hear,\n",
      "To she we say.\n",
      "\n",
      "BRUTUS:\n",
      "Thou warding to me soul of that well, that shile.\n",
      "\n",
      "PETRANCE:\n",
      "To my land to, and the paith outh to hate\n",
      "As tell a seever to the countrineds o\n",
      "\n"
     ]
    },
    {
     "name": "stderr",
     "output_type": "stream",
     "text": [
      "epoch 9/64: 100%|██████████| 272/272 [00:58<00:00,  4.65it/s]\n"
     ]
    },
    {
     "name": "stdout",
     "output_type": "stream",
     "text": [
      "epoch: 9, duration: 58s, loss: 1.70419.\n",
      "generating 256 characters from top 4 choices.\n",
      "generating with seed: \"neve\".\n",
      "generated text: \n",
      "never.\n",
      "\n",
      "CORIOLANUS:\n",
      "I will be that thou here, with to the steak.\n",
      "\n",
      "GLOUCESTER:\n",
      "I say, we will be sheal my such to man,\n",
      "I shall be sour all as and the canted\n",
      "The poon the such thee a will, too and heaven,\n",
      "I'll see the stolen of the crows are ale him\n",
      "To strike th\n",
      "\n"
     ]
    },
    {
     "name": "stderr",
     "output_type": "stream",
     "text": [
      "epoch 10/64: 100%|██████████| 272/272 [01:03<00:00,  4.26it/s]\n"
     ]
    },
    {
     "name": "stdout",
     "output_type": "stream",
     "text": [
      "epoch: 10, duration: 63s, loss: 1.67367.\n",
      "generating 256 characters from top 4 choices.\n",
      "generating with seed: \"NES:\".\n",
      "generated text: \n",
      "NES:\n",
      "I will be that, this see thee we talk and\n",
      "stant him and whether the constarding. Who his heart\n",
      "Than will not that heart to my lord, which thoush, and were\n",
      "To more as time, and tell have a sence or head\n",
      "In heart as his supper heaven, takes hath heart\n",
      "And t\n",
      "\n"
     ]
    },
    {
     "name": "stderr",
     "output_type": "stream",
     "text": [
      "epoch 11/64: 100%|██████████| 272/272 [01:01<00:00,  4.40it/s]\n"
     ]
    },
    {
     "name": "stdout",
     "output_type": "stream",
     "text": [
      "epoch: 11, duration: 61s, loss: 1.6487.\n",
      "generating 256 characters from top 4 choices.\n",
      "generating with seed: \"ion hold upon my shame,\n",
      "But let \".\n",
      "generated text: \n",
      "ion hold upon my shame,\n",
      "But let his could to my such a wonthand,\n",
      "That take the pour and warwick that talks and man\n",
      "Thou will not the prind and he will not to have\n",
      "The praying to the stries an one some her astem\n",
      "Which she strangion and head and more his commerd.\n",
      "\n",
      "CAPILIUA:\n",
      "What take, whet\n",
      "\n"
     ]
    },
    {
     "name": "stderr",
     "output_type": "stream",
     "text": [
      "epoch 12/64: 100%|██████████| 272/272 [01:00<00:00,  4.49it/s]\n"
     ]
    },
    {
     "name": "stdout",
     "output_type": "stream",
     "text": [
      "epoch: 12, duration: 60s, loss: 1.62731.\n",
      "generating 256 characters from top 4 choices.\n",
      "generating with seed: \"they say one wou\".\n",
      "generated text: \n",
      "they say one would honess.\n",
      "What, and my, the starks, what so sear woo all\n",
      "To me thee, to my stance, and shall but see\n",
      "Too, there in the seem to the such'd to his some\n",
      "Than to minings.\n",
      "\n",
      "COMINIUS:\n",
      "Ay, when I have that weath, sir.\n",
      "\n",
      "CORIOLANDA:\n",
      "Ay, sir they to that so strough\n",
      "\n"
     ]
    },
    {
     "name": "stderr",
     "output_type": "stream",
     "text": [
      "epoch 13/64: 100%|██████████| 272/272 [01:00<00:00,  4.51it/s]\n"
     ]
    },
    {
     "name": "stdout",
     "output_type": "stream",
     "text": [
      "epoch: 13, duration: 60s, loss: 1.60775.\n",
      "generating 256 characters from top 4 choices.\n",
      "generating with seed: \"ingm\".\n",
      "generated text: \n",
      "ingman our hounder,\n",
      "I wilt so seem to heaven to the solder too.\n",
      "\n",
      "BENVOLIO:\n",
      "I seal hath the poor that see it the worst of more\n",
      "And this the cranters of my body,\n",
      "And the such and so she to me the sure,\n",
      "And with the solderester of my honour, she\n",
      "should the strand\n",
      "\n"
     ]
    },
    {
     "name": "stderr",
     "output_type": "stream",
     "text": [
      "epoch 14/64: 100%|██████████| 272/272 [01:00<00:00,  4.53it/s]\n"
     ]
    },
    {
     "name": "stdout",
     "output_type": "stream",
     "text": [
      "epoch: 14, duration: 60s, loss: 1.58997.\n",
      "generating 256 characters from top 4 choices.\n",
      "generating with seed: \"a brace of unmeriting,\n",
      "proud, vi\".\n",
      "generated text: \n",
      "a brace of unmeriting,\n",
      "proud, villains. The causes as I see the cause:\n",
      "Well say. The wert to me would be as his serve\n",
      "To that would beseak the seen, stay and the command,\n",
      "And who heard the subfed of thine so to thy sort,\n",
      "And we should not will be not so, some to the chords,\n",
      "Who can that \n",
      "\n"
     ]
    },
    {
     "name": "stderr",
     "output_type": "stream",
     "text": [
      "epoch 15/64: 100%|██████████| 272/272 [01:00<00:00,  4.51it/s]\n"
     ]
    },
    {
     "name": "stdout",
     "output_type": "stream",
     "text": [
      "epoch: 15, duration: 60s, loss: 1.57534.\n",
      "generating 256 characters from top 4 choices.\n",
      "generating with seed: \"is born \".\n",
      "generated text: \n",
      "is born and house\n",
      "That would have so mean with thee, what is this hind.\n",
      "\n",
      "BISFOL:\n",
      "What shall I\n",
      "Have say to this corn or the world be some son.\n",
      "\n",
      "BUCKINGHAM:\n",
      "We wish miserath as I would the contition\n",
      "And the pode to their bory, whose are to him,\n",
      "And thou day to my ha\n",
      "\n"
     ]
    },
    {
     "name": "stderr",
     "output_type": "stream",
     "text": [
      "epoch 16/64: 100%|██████████| 272/272 [01:10<00:00,  3.86it/s]\n"
     ]
    },
    {
     "name": "stdout",
     "output_type": "stream",
     "text": [
      "epoch: 16, duration: 70s, loss: 1.56094.\n",
      "generating 256 characters from top 4 choices.\n",
      "generating with seed: \"s, as the father and the son,\n",
      "An\".\n",
      "generated text: \n",
      "s, as the father and the son,\n",
      "And here it would to said a sister, and\n",
      "In the world at to say ye soul and trumblos,\n",
      "With the cantent will so truth to miseried.\n",
      "\n",
      "BUCHINF HANDERN:\n",
      "I shall new the wife.\n",
      "\n",
      "BAPTISTA:\n",
      "And, an and the sound the seation,\n",
      "And so, and the death, and this are the cau\n",
      "\n"
     ]
    },
    {
     "name": "stderr",
     "output_type": "stream",
     "text": [
      "epoch 17/64: 100%|██████████| 272/272 [01:17<00:00,  3.52it/s]\n"
     ]
    },
    {
     "name": "stdout",
     "output_type": "stream",
     "text": [
      "epoch: 17, duration: 77s, loss: 1.54861.\n",
      "generating 256 characters from top 4 choices.\n",
      "generating with seed: \"spel\".\n",
      "generated text: \n",
      "spellow.\n",
      "\n",
      "GREMIO:\n",
      "I will the poice, she see in't that the world\n",
      "Will be some her, what the worse to the care.\n",
      "\n",
      "KING LEWIS XI:\n",
      "I am all the stirle to the peace,'\n",
      "But who send the part as are that well at them.\n",
      "They to my lord it would not be sir, as I did,\n",
      "And \n",
      "\n"
     ]
    },
    {
     "name": "stderr",
     "output_type": "stream",
     "text": [
      "epoch 18/64: 100%|██████████| 272/272 [01:14<00:00,  3.64it/s]\n"
     ]
    },
    {
     "name": "stdout",
     "output_type": "stream",
     "text": [
      "epoch: 18, duration: 74s, loss: 1.53742.\n",
      "generating 256 characters from top 4 choices.\n",
      "generating with seed: \"eize the crown;\n",
      "\".\n",
      "generated text: \n",
      "eize the crown;\n",
      "To save the confured are our such of as honour.\n",
      "Who, therefore with a more, to say the child of\n",
      "The cannot with my blood as health'd with mine\n",
      "Take and thou heart to say the womonity, whose heads\n",
      "I'll but the charded will be supmas to made take,\n",
      "Which soul\n",
      "\n"
     ]
    },
    {
     "name": "stderr",
     "output_type": "stream",
     "text": [
      "epoch 19/64: 100%|██████████| 272/272 [01:02<00:00,  4.37it/s]\n"
     ]
    },
    {
     "name": "stdout",
     "output_type": "stream",
     "text": [
      "epoch: 19, duration: 62s, loss: 1.52761.\n",
      "generating 256 characters from top 4 choices.\n",
      "generating with seed: \"e nobles;\n",
      "And you will rather sh\".\n",
      "generated text: \n",
      "e nobles;\n",
      "And you will rather shame to the soul, there\n",
      "That this the soul, what, as thou warws house, where house\n",
      "I see the wert of me to the people,\n",
      "This, and the poon that tell him warwick with mine.\n",
      "\n",
      "BISFOL:\n",
      "There thou with a most stroubt of her boy.\n",
      "\n",
      "BUCKINGHAM:\n",
      "I wounds, since; so s\n",
      "\n"
     ]
    },
    {
     "name": "stderr",
     "output_type": "stream",
     "text": [
      "epoch 20/64: 100%|██████████| 272/272 [01:03<00:00,  4.25it/s]\n"
     ]
    },
    {
     "name": "stdout",
     "output_type": "stream",
     "text": [
      "epoch: 20, duration: 63s, loss: 1.51793.\n",
      "generating 256 characters from top 4 choices.\n",
      "generating with seed: \"ith \".\n",
      "generated text: \n",
      "ith of him of him:\n",
      "I'll sister to the suck of his sead and stay\n",
      "As it should seen to steep my father shall.\n",
      "The son of, will this allow thou wilt been heart;\n",
      "I shall be so to be tapping tray their horred\n",
      "I am to him, and see the soul and thing of hate\n",
      "The poor\n",
      "\n"
     ]
    },
    {
     "name": "stderr",
     "output_type": "stream",
     "text": [
      "epoch 21/64: 100%|██████████| 272/272 [01:05<00:00,  4.14it/s]\n"
     ]
    },
    {
     "name": "stdout",
     "output_type": "stream",
     "text": [
      "epoch: 21, duration: 65s, loss: 1.50923.\n",
      "generating 256 characters from top 4 choices.\n",
      "generating with seed: \"e, K\".\n",
      "generated text: \n",
      "e, King of mouth, what the such\n",
      "are all to say, they had so saist to he he with\n",
      "stand and have bears me to make the seasion\n",
      "To than him the success of his false of her,\n",
      "If I well the chide thy sound of the subject,\n",
      "We have not strike of a courterors as thee th\n",
      "\n"
     ]
    },
    {
     "name": "stderr",
     "output_type": "stream",
     "text": [
      "epoch 22/64: 100%|██████████| 272/272 [01:05<00:00,  4.12it/s]\n"
     ]
    },
    {
     "name": "stdout",
     "output_type": "stream",
     "text": [
      "epoch: 22, duration: 65s, loss: 1.50054.\n",
      "generating 256 characters from top 4 choices.\n",
      "generating with seed: \"air \".\n",
      "generated text: \n",
      "air the warlise,\n",
      "Thou will she heart to have so meant the crown;\n",
      "Where is the seat as he was a men and them.\n",
      "The stards to the common as here the well:\n",
      "And thou art need, what thou hear to see the part\n",
      "Of all the way thy straight of your hands,\n",
      "And this south \n",
      "\n"
     ]
    },
    {
     "name": "stderr",
     "output_type": "stream",
     "text": [
      "epoch 23/64: 100%|██████████| 272/272 [00:57<00:00,  4.70it/s]\n"
     ]
    },
    {
     "name": "stdout",
     "output_type": "stream",
     "text": [
      "epoch: 23, duration: 57s, loss: 1.49328.\n",
      "generating 256 characters from top 4 choices.\n",
      "generating with seed: \"A \".\n",
      "generated text: \n",
      "A asTa that save him to\n",
      "her and this words of mine, to stard thee so most\n",
      "Tremble the stards, a men of my stranges\n",
      "And seem their pale to the part, and so man\n",
      "Which this is the sense of the woman's short\n",
      "As then there that hath so the soul or as here,\n",
      "Though\n",
      "\n"
     ]
    },
    {
     "name": "stderr",
     "output_type": "stream",
     "text": [
      "epoch 24/64: 100%|██████████| 272/272 [01:13<00:00,  3.72it/s]\n"
     ]
    },
    {
     "name": "stdout",
     "output_type": "stream",
     "text": [
      "epoch: 24, duration: 73s, loss: 1.48655.\n",
      "generating 256 characters from top 4 choices.\n",
      "generating with seed: \"es\".\n",
      "generated text: \n",
      "est should be as the\n",
      "seeps and the bring. To steed this she way to she\n",
      "he should both a crown. Who comes the wills have\n",
      "And bear a fallor to the state to take.\n",
      "\n",
      "GLOUCESTER:\n",
      "Ay, then thou hast, some man with a follow of her,\n",
      "And have thee and had but alous; a\n",
      "\n"
     ]
    },
    {
     "name": "stderr",
     "output_type": "stream",
     "text": [
      "epoch 25/64: 100%|██████████| 272/272 [01:16<00:00,  3.56it/s]\n"
     ]
    },
    {
     "name": "stdout",
     "output_type": "stream",
     "text": [
      "epoch: 25, duration: 76s, loss: 1.47887.\n",
      "generating 256 characters from top 4 choices.\n",
      "generating with seed: \"ne\".\n",
      "generated text: \n",
      "nesseet;\n",
      "I have say, what will be a chosity one\n",
      "As he seen that hear the provosts in made to\n",
      "thy house of so woman.\n",
      "\n",
      "PETRUCHIO:\n",
      "What, with me; I have not thou art of the care\n",
      "To have the cries of hang of so to him.\n",
      "\n",
      "LADY ANNE:\n",
      "What, so they to the sea true t\n",
      "\n"
     ]
    },
    {
     "name": "stderr",
     "output_type": "stream",
     "text": [
      "epoch 26/64: 100%|██████████| 272/272 [01:08<00:00,  3.98it/s]\n"
     ]
    },
    {
     "name": "stdout",
     "output_type": "stream",
     "text": [
      "epoch: 26, duration: 68s, loss: 1.47285.\n",
      "generating 256 characters from top 4 choices.\n",
      "generating with seed: \"ENTI\".\n",
      "generated text: \n",
      "ENTI\n",
      "SLARKENESCESHBAPENCE:\n",
      "We hear the country and they will be now\n",
      "Is servant as I did not a pate a streats.\n",
      "\n",
      "KING RICHARD II:\n",
      "Then what's the proved to be a winder.\n",
      "\n",
      "BAPTISTA:\n",
      "I she is all thanks and these an astarish and\n",
      "Is never, to seem to her and him, th\n",
      "\n"
     ]
    },
    {
     "name": "stderr",
     "output_type": "stream",
     "text": [
      "epoch 27/64: 100%|██████████| 272/272 [01:06<00:00,  4.06it/s]\n"
     ]
    },
    {
     "name": "stdout",
     "output_type": "stream",
     "text": [
      "epoch: 27, duration: 66s, loss: 1.46702.\n",
      "generating 256 characters from top 4 choices.\n",
      "generating with seed: \" and I\n",
      "Will keep a league till d\".\n",
      "generated text: \n",
      " and I\n",
      "Will keep a league till day.\n",
      "\n",
      "BENVOLIO:\n",
      "To see my sun.\n",
      "\n",
      "CAMILLO:\n",
      "If I seen my bride,\n",
      "Is this so married to me the sea, to that how.\n",
      "\n",
      "LADY ANNE:\n",
      "Ay we war, and were and the way.\n",
      "\n",
      "BUPKINGHAM:\n",
      "I am the matched wander our such a sighs,\n",
      "To to his sun,\n",
      "And the with a man of them of the \n",
      "\n"
     ]
    },
    {
     "name": "stderr",
     "output_type": "stream",
     "text": [
      "epoch 28/64: 100%|██████████| 272/272 [01:09<00:00,  3.92it/s]\n"
     ]
    },
    {
     "name": "stdout",
     "output_type": "stream",
     "text": [
      "epoch: 28, duration: 69s, loss: 1.46183.\n",
      "generating 256 characters from top 4 choices.\n",
      "generating with seed: \"to\n",
      "grant this.\n",
      "\n",
      "\".\n",
      "generated text: \n",
      "to\n",
      "grant this.\n",
      "\n",
      "LORD LOLWEN:\n",
      "If the soldiers to shall be an ender,\n",
      "That shall be seen the sense will not heart,\n",
      "And who should be call the soul and this seen.\n",
      "\n",
      "LEONTES:\n",
      "What, a bleosio, say you will not.\n",
      "\n",
      "CAMILLO:\n",
      "Ay, whose marries, and thou shalt not to sight\n",
      "With the so\n",
      "\n"
     ]
    },
    {
     "name": "stderr",
     "output_type": "stream",
     "text": [
      "epoch 29/64: 100%|██████████| 272/272 [01:11<00:00,  3.79it/s]\n"
     ]
    },
    {
     "name": "stdout",
     "output_type": "stream",
     "text": [
      "epoch: 29, duration: 71s, loss: 1.45798.\n",
      "generating 256 characters from top 4 choices.\n",
      "generating with seed: \"one ere you have tuned.\n",
      "\n",
      "HORTENS\".\n",
      "generated text: \n",
      "one ere you have tuned.\n",
      "\n",
      "HORTENSIO:\n",
      "Well alrey her with a stery shall be,\n",
      "The word of thy still so want this beast,\n",
      "And we well be a chamber, and with thy soul\n",
      "Than with the wised, but she do so short,\n",
      "That with a friends; but stand's brother says\n",
      "To said, what, sir, then were to my hand\n",
      "\n"
     ]
    },
    {
     "name": "stderr",
     "output_type": "stream",
     "text": [
      "epoch 30/64: 100%|██████████| 272/272 [01:12<00:00,  3.77it/s]\n"
     ]
    },
    {
     "name": "stdout",
     "output_type": "stream",
     "text": [
      "epoch: 30, duration: 72s, loss: 1.45138.\n",
      "generating 256 characters from top 4 choices.\n",
      "generating with seed: \"t I woul\".\n",
      "generated text: \n",
      "t I would he do so more\n",
      "That the son and those how he say as this?\n",
      "\n",
      "BAPTISTA:\n",
      "Why,\n",
      "To the cause, and this, we should streng your heir,\n",
      "And the word in that the servant would speak,\n",
      "Teart thy storn to the persence of the wind.\n",
      "\n",
      "LUCIO:\n",
      "And, take me the son.\n",
      "\n",
      "BRUTUS:\n",
      "\n"
     ]
    },
    {
     "name": "stderr",
     "output_type": "stream",
     "text": [
      "epoch 31/64: 100%|██████████| 272/272 [01:23<00:00,  3.28it/s]\n"
     ]
    },
    {
     "name": "stdout",
     "output_type": "stream",
     "text": [
      "epoch: 31, duration: 83s, loss: 1.44727.\n",
      "generating 256 characters from top 4 choices.\n",
      "generating with seed: \"IO:\n",
      "You are too blunt: go to it \".\n",
      "generated text: \n",
      "IO:\n",
      "You are too blunt: go to it that?\n",
      "\n",
      "LEONTES:\n",
      "He was some stars of his poor or them\n",
      "Is had to spirit having the petrons,\n",
      "The sanst of his friends of the supment speak:\n",
      "And then I have seen her heard the son,\n",
      "And then we made the patient to me their crown.\n",
      "There we'll never hearts are s\n",
      "\n"
     ]
    },
    {
     "name": "stderr",
     "output_type": "stream",
     "text": [
      "epoch 32/64: 100%|██████████| 272/272 [01:20<00:00,  3.39it/s]\n"
     ]
    },
    {
     "name": "stdout",
     "output_type": "stream",
     "text": [
      "epoch: 32, duration: 80s, loss: 1.44232.\n",
      "generating 256 characters from top 4 choices.\n",
      "generating with seed: \"me b\".\n",
      "generated text: \n",
      "me best of me.\n",
      "\n",
      "PETRUCHIO:\n",
      "I would have me the werl she with him as their\n",
      "best as have to mine own fails of his child.\n",
      "\n",
      "KING RICHARD III:\n",
      "We were thou hast to say, and see his soldiers\n",
      "And had she was the prays, a fit the worsh word,\n",
      "To strike he should seek i\n",
      "\n"
     ]
    },
    {
     "name": "stderr",
     "output_type": "stream",
     "text": [
      "epoch 33/64: 100%|██████████| 272/272 [01:22<00:00,  3.31it/s]\n"
     ]
    },
    {
     "name": "stdout",
     "output_type": "stream",
     "text": [
      "epoch: 33, duration: 82s, loss: 1.43886.\n",
      "generating 256 characters from top 4 choices.\n",
      "generating with seed: \"Yes,\".\n",
      "generated text: \n",
      "Yes, the world to my soust he\n",
      "with me to she'll not save yit, better to see you and\n",
      "all this be me to-sorrow.\n",
      "\n",
      "SICINIUS:\n",
      "I will none that she should serve to me all thy steed,\n",
      "That seem to to say, and I am sourd him\n",
      "As I have a tongrament to the craves\n",
      "Which h\n",
      "\n"
     ]
    },
    {
     "name": "stderr",
     "output_type": "stream",
     "text": [
      "epoch 34/64: 100%|██████████| 272/272 [01:23<00:00,  3.24it/s]\n"
     ]
    },
    {
     "name": "stdout",
     "output_type": "stream",
     "text": [
      "epoch: 34, duration: 83s, loss: 1.43397.\n",
      "generating 256 characters from top 4 choices.\n",
      "generating with seed: \"'d\".\n",
      "generated text: \n",
      "'d, what will not, sir,'s true\n",
      "that wine to tour tongue to my contunt,\n",
      "And said to hear my sent and true whether\n",
      "I'll be her them with the world, thou art ask\n",
      "A priced and have broke, at this thousand hands,\n",
      "To have the seat of thy children and her.\n",
      "\n",
      "GLOUCES\n",
      "\n"
     ]
    },
    {
     "name": "stderr",
     "output_type": "stream",
     "text": [
      "epoch 35/64: 100%|██████████| 272/272 [01:15<00:00,  3.59it/s]\n"
     ]
    },
    {
     "name": "stdout",
     "output_type": "stream",
     "text": [
      "epoch: 35, duration: 75s, loss: 1.43021.\n",
      "generating 256 characters from top 4 choices.\n",
      "generating with seed: \".\n",
      "\n",
      "SOMER\".\n",
      "generated text: \n",
      ".\n",
      "\n",
      "SOMERSON:\n",
      "Why, with their consul of him thy soul and here?\n",
      "\n",
      "BAPTISTA:\n",
      "And thou wilt would not, which then,\n",
      "Is this well that he say with as haste,\n",
      "I'll not see her hands, to the seem on the care\n",
      "That will not so should the proud of all\n",
      "To be an honour, to-morro\n",
      "\n"
     ]
    },
    {
     "name": "stderr",
     "output_type": "stream",
     "text": [
      "epoch 36/64: 100%|██████████| 272/272 [01:20<00:00,  3.37it/s]\n"
     ]
    },
    {
     "name": "stdout",
     "output_type": "stream",
     "text": [
      "epoch: 36, duration: 80s, loss: 1.42724.\n",
      "generating 256 characters from top 4 choices.\n",
      "generating with seed: \"cast\".\n",
      "generated text: \n",
      "cast our more of him, then\n",
      "and what they and when the such and bear myself;\n",
      "As thou art there will be madied, and too,\n",
      "Who hours and seem, the peace.\n",
      "\n",
      "CLARENCE:\n",
      "A blessed that which I well to the petress, the dead\n",
      "of my friendly to the subjects to teath.\n",
      "\n",
      "LADY\n",
      "\n"
     ]
    },
    {
     "name": "stderr",
     "output_type": "stream",
     "text": [
      "epoch 37/64: 100%|██████████| 272/272 [01:28<00:00,  3.08it/s]\n"
     ]
    },
    {
     "name": "stdout",
     "output_type": "stream",
     "text": [
      "epoch: 37, duration: 88s, loss: 1.4233.\n",
      "generating 256 characters from top 4 choices.\n",
      "generating with seed: \"UEEN\".\n",
      "generated text: \n",
      "UEENEECETEEMSBBALTHAST WATHARA:\n",
      "Ay, so his soul is the state of more wither.\n",
      "\n",
      "BENVOLIO:\n",
      "Tell you this should so with him and men.\n",
      "\n",
      "PETRUCHIO:\n",
      "I we should not tongue a father's soul, a son\n",
      "And so, as I do see their capsity,\n",
      "To say you say, and they and which th\n",
      "\n"
     ]
    },
    {
     "name": "stderr",
     "output_type": "stream",
     "text": [
      "epoch 38/64: 100%|██████████| 272/272 [01:22<00:00,  3.28it/s]\n"
     ]
    },
    {
     "name": "stdout",
     "output_type": "stream",
     "text": [
      "epoch: 38, duration: 82s, loss: 1.41944.\n",
      "generating 256 characters from top 4 choices.\n",
      "generating with seed: \"io\".\n",
      "generated text: \n",
      "ion,\n",
      "The child with thy showers, sir to take thee the serve\n",
      "And will the boot, and what is so say it would\n",
      "In my sir, and heavens to me tell the couse\n",
      "I weel of her hearts, a wife, thou ars as mount,\n",
      "I'll be a wind that she have.\n",
      "\n",
      "LADY CAPULET:\n",
      "All will the \n",
      "\n"
     ]
    },
    {
     "name": "stderr",
     "output_type": "stream",
     "text": [
      "epoch 39/64: 100%|██████████| 272/272 [01:19<00:00,  3.43it/s]\n"
     ]
    },
    {
     "name": "stdout",
     "output_type": "stream",
     "text": [
      "epoch: 39, duration: 79s, loss: 1.41658.\n",
      "generating 256 characters from top 4 choices.\n",
      "generating with seed: \"an\".\n",
      "generated text: \n",
      "an that thousand soul so man\n",
      "I have a strate and secul than their present.\n",
      "\n",
      "LUCIO:\n",
      "I see thy sound the pasts and myself\n",
      "To brain a secred in my soul in the cause\n",
      "Is though the people, thou art they are\n",
      "To touring to bear a treason, white and my falls,\n",
      "I woul\n",
      "\n"
     ]
    },
    {
     "name": "stderr",
     "output_type": "stream",
     "text": [
      "epoch 40/64: 100%|██████████| 272/272 [01:15<00:00,  3.59it/s]\n"
     ]
    },
    {
     "name": "stdout",
     "output_type": "stream",
     "text": [
      "epoch: 40, duration: 75s, loss: 1.41484.\n",
      "generating 256 characters from top 4 choices.\n",
      "generating with seed: \" revolting land.\n",
      "Or shall we pla\".\n",
      "generated text: \n",
      " revolting land.\n",
      "Or shall we play me a state of some beggar.\n",
      "\n",
      "LADY ANNE:\n",
      "Then to serve your sense as thou dost sheep.\n",
      "\n",
      "KING RICHARD III:\n",
      "I come, sir, thou shalt have, with thou hast thou\n",
      "Than how as he with this brother, which with\n",
      "The substain of his part to me, I am she have\n",
      "I thank hi\n",
      "\n"
     ]
    },
    {
     "name": "stderr",
     "output_type": "stream",
     "text": [
      "epoch 41/64: 100%|██████████| 272/272 [01:13<00:00,  3.68it/s]\n"
     ]
    },
    {
     "name": "stdout",
     "output_type": "stream",
     "text": [
      "epoch: 41, duration: 73s, loss: 1.4111.\n",
      "generating 256 characters from top 4 choices.\n",
      "generating with seed: \"HASAR:\n",
      "Full half\".\n",
      "generated text: \n",
      "HASAR:\n",
      "Full half the charged: when, I am, being so man\n",
      "and the matter and this worship, sir to the\n",
      "should should brack too like to stands of this both,\n",
      "To be have to him, and with him so soon me,\n",
      "And so should he hath been assivent too sorrow\n",
      "Which hath them out to the pr\n",
      "\n"
     ]
    },
    {
     "name": "stderr",
     "output_type": "stream",
     "text": [
      "epoch 42/64: 100%|██████████| 272/272 [01:12<00:00,  3.73it/s]\n"
     ]
    },
    {
     "name": "stdout",
     "output_type": "stream",
     "text": [
      "epoch: 42, duration: 72s, loss: 1.40719.\n",
      "generating 256 characters from top 4 choices.\n",
      "generating with seed: \"the stat\".\n",
      "generated text: \n",
      "the state, a friends of the wilds,\n",
      "To-morrow the cheek and made of all these the seat\n",
      "to the presently, the pardon of me that,\n",
      "And here's the poor'd on the prince as I\n",
      "They are not to be the sore and him too.\n",
      "\n",
      "Comiriunizar:\n",
      "And some made them, a prouls of the such\n",
      "\n"
     ]
    },
    {
     "name": "stderr",
     "output_type": "stream",
     "text": [
      "epoch 43/64: 100%|██████████| 272/272 [01:11<00:00,  3.78it/s]\n"
     ]
    },
    {
     "name": "stdout",
     "output_type": "stream",
     "text": [
      "epoch: 43, duration: 71s, loss: 1.40578.\n",
      "generating 256 characters from top 4 choices.\n",
      "generating with seed: \"you \".\n",
      "generated text: \n",
      "you shades to hold, my grace,\n",
      "We have to since a perfect and tribunes.\n",
      "\n",
      "KING EDWARD IV:\n",
      "A matter were you till her bold, show,\n",
      "There was the store of my father's changed,\n",
      "And will I be so to them the matter,\n",
      "With their hours take out from him.\n",
      "\n",
      "ANGELO:\n",
      "I will \n",
      "\n"
     ]
    },
    {
     "name": "stderr",
     "output_type": "stream",
     "text": [
      "epoch 44/64: 100%|██████████| 272/272 [01:13<00:00,  3.72it/s]\n"
     ]
    },
    {
     "name": "stdout",
     "output_type": "stream",
     "text": [
      "epoch: 44, duration: 73s, loss: 1.4021.\n",
      "generating 256 characters from top 4 choices.\n",
      "generating with seed: \"w you ar\".\n",
      "generated text: \n",
      "w you arms:\n",
      "The storm that see in my shame, to his part,\n",
      "And we have not a man of a court and sound\n",
      "Take at my brother as I weep the comfort too.\n",
      "\n",
      "BIANCA:\n",
      "I will then all the werling all the weary.\n",
      "\n",
      "BUCKINGHAM:\n",
      "I have some all my consul, sincient will\n",
      "And seen to \n",
      "\n"
     ]
    },
    {
     "name": "stderr",
     "output_type": "stream",
     "text": [
      "epoch 45/64: 100%|██████████| 272/272 [01:12<00:00,  3.76it/s]\n"
     ]
    },
    {
     "name": "stdout",
     "output_type": "stream",
     "text": [
      "epoch: 45, duration: 72s, loss: 1.40052.\n",
      "generating 256 characters from top 4 choices.\n",
      "generating with seed: \"You \".\n",
      "generated text: \n",
      "You then whose start of a face\n",
      "To be a countenance than the peace of sea\n",
      "Which that thou hast servand to him and mercy.\n",
      "\n",
      "KING RICHARD III:\n",
      "So that I would not been till his friend.\n",
      "\n",
      "KING EDWARD IV:\n",
      "No way, the people and his from a crown,\n",
      "To think him what tho\n",
      "\n"
     ]
    },
    {
     "name": "stderr",
     "output_type": "stream",
     "text": [
      "epoch 46/64: 100%|██████████| 272/272 [01:11<00:00,  3.81it/s]\n"
     ]
    },
    {
     "name": "stdout",
     "output_type": "stream",
     "text": [
      "epoch: 46, duration: 71s, loss: 1.39689.\n",
      "generating 256 characters from top 4 choices.\n",
      "generating with seed: \"hou art to set\n",
      "T\".\n",
      "generated text: \n",
      "hou art to set\n",
      "The prince of tongue to him, and so warrary him:\n",
      "Bounded you, since with him.\n",
      "\n",
      "ANTONIO:\n",
      "I'll then how thou wilt not seek their corse\n",
      "As this is that hand to the prince and his house.\n",
      "\n",
      "BUCKINGHAM:\n",
      "What sear, my most state of the sendern of haste?\n",
      "\n",
      "LADY GREY:\n",
      "\n"
     ]
    },
    {
     "name": "stderr",
     "output_type": "stream",
     "text": [
      "epoch 47/64: 100%|██████████| 272/272 [01:11<00:00,  3.81it/s]\n"
     ]
    },
    {
     "name": "stdout",
     "output_type": "stream",
     "text": [
      "epoch: 47, duration: 71s, loss: 1.39492.\n",
      "generating 256 characters from top 4 choices.\n",
      "generating with seed: \"e with you. Wot you what, my lor\".\n",
      "generated text: \n",
      "e with you. Wot you what, my lord, whom then,\n",
      "And so which his stars, wild bearings and sound,\n",
      "Words all a prome to to the consents,\n",
      "To bring at myself to see him so.\n",
      "\n",
      "BISONELLA:\n",
      "The gentleman well we will be taught the country,\n",
      "That we'll they self, the comming it was so troop,\n",
      "And she \n",
      "\n"
     ]
    },
    {
     "name": "stderr",
     "output_type": "stream",
     "text": [
      "epoch 48/64: 100%|██████████| 272/272 [01:10<00:00,  3.87it/s]\n"
     ]
    },
    {
     "name": "stdout",
     "output_type": "stream",
     "text": [
      "epoch: 48, duration: 70s, loss: 1.39277.\n",
      "generating 256 characters from top 4 choices.\n",
      "generating with seed: \"place; here is no longer stay.\n",
      "\n",
      "\".\n",
      "generated text: \n",
      "place; here is no longer stay.\n",
      "\n",
      "BAPTISTA:\n",
      "I am such them.\n",
      "\n",
      "PAULINA:\n",
      "I will not see thee, a word with the way\n",
      "And where the senature, to myself me with his countermant.\n",
      "\n",
      "LADY CAPULET:\n",
      "A surpetious womble, all the woeld well.\n",
      "The sease of mistress of him.\n",
      "\n",
      "COMINIUS:\n",
      "Why, he is my such marr\n",
      "\n"
     ]
    },
    {
     "name": "stderr",
     "output_type": "stream",
     "text": [
      "epoch 49/64: 100%|██████████| 272/272 [01:17<00:00,  3.50it/s]\n"
     ]
    },
    {
     "name": "stdout",
     "output_type": "stream",
     "text": [
      "epoch: 49, duration: 77s, loss: 1.39104.\n",
      "generating 256 characters from top 4 choices.\n",
      "generating with seed: \"wa\".\n",
      "generated text: \n",
      "was now tapenor is the\n",
      "brace that was the crown and to-morrow was she\n",
      "have she take off of many the wife, sir, stands.\n",
      "\n",
      "GLOUCESTER:\n",
      "The stard of that way to her hands and she\n",
      "That he did seem thy body with a store,\n",
      "Which take to the world time and strike the\n",
      "\n"
     ]
    },
    {
     "name": "stderr",
     "output_type": "stream",
     "text": [
      "epoch 50/64: 100%|██████████| 272/272 [01:19<00:00,  3.44it/s]\n"
     ]
    },
    {
     "name": "stdout",
     "output_type": "stream",
     "text": [
      "epoch: 50, duration: 79s, loss: 1.38811.\n",
      "generating 256 characters from top 4 choices.\n",
      "generating with seed: \"ed,\n",
      "Or how stolen from the dead.\".\n",
      "generated text: \n",
      "ed,\n",
      "Or how stolen from the dead.\n",
      "\n",
      "First Monds:\n",
      "As thou shouldst thou wast all the sun of my children, said,\n",
      "To the such'd as troits, they have been to the prince.\n",
      "\n",
      "KING HENRY VI:\n",
      "This deed, which is nature we have that still\n",
      "That with his such shame. Wherein thou deplist me.\n",
      "\n",
      "LADY CAPULE\n",
      "\n"
     ]
    },
    {
     "name": "stderr",
     "output_type": "stream",
     "text": [
      "epoch 51/64: 100%|██████████| 272/272 [01:28<00:00,  3.07it/s]\n"
     ]
    },
    {
     "name": "stdout",
     "output_type": "stream",
     "text": [
      "epoch: 51, duration: 88s, loss: 1.38604.\n",
      "generating 256 characters from top 4 choices.\n",
      "generating with seed: \"de\".\n",
      "generated text: \n",
      "deither all.\n",
      "\n",
      "LUCENTIO:\n",
      "Thou art another, as your heart words to thee.\n",
      "\n",
      "KING EDWARD IV:\n",
      "And there, there is the sentence of the company.\n",
      "\n",
      "GREY:\n",
      "And what, we would not see their fine, and she shall not.\n",
      "\n",
      "CATESBY:\n",
      "Why, have yet more tell them, that this impeti\n",
      "\n"
     ]
    },
    {
     "name": "stderr",
     "output_type": "stream",
     "text": [
      "epoch 52/64: 100%|██████████| 272/272 [01:11<00:00,  3.78it/s]\n"
     ]
    },
    {
     "name": "stdout",
     "output_type": "stream",
     "text": [
      "epoch: 52, duration: 71s, loss: 1.38306.\n",
      "generating 256 characters from top 4 choices.\n",
      "generating with seed: \"ath press'd\n",
      "To lift shrewd steel\".\n",
      "generated text: \n",
      "ath press'd\n",
      "To lift shrewd steel of his father souls or that traitor,\n",
      "I have not been hand of the sun of them,\n",
      "And she shall not dispassion to him all,\n",
      "Which is too subject of the sentention of this.\n",
      "\n",
      "BUPKINGHAM:\n",
      "And so the man's cousin, and to the death.\n",
      "\n",
      "KING RICHARD III:\n",
      "There's now t\n",
      "\n"
     ]
    },
    {
     "name": "stderr",
     "output_type": "stream",
     "text": [
      "epoch 53/64: 100%|██████████| 272/272 [01:17<00:00,  3.53it/s]\n"
     ]
    },
    {
     "name": "stdout",
     "output_type": "stream",
     "text": [
      "epoch: 53, duration: 77s, loss: 1.38283.\n",
      "generating 256 characters from top 4 choices.\n",
      "generating with seed: \"\n",
      "To cross me from the golden tim\".\n",
      "generated text: \n",
      "\n",
      "To cross me from the golden time of some, sir. Whose hate to her heart to this doubt to the world of sight.\n",
      "\n",
      "KING RICHARD II:\n",
      "Then we married thee for her true, sir, so. I will,\n",
      "And said to the person's such a presence.\n",
      "The was all the pareness: so was no dispersed\n",
      "Against his confessed\n",
      "\n"
     ]
    },
    {
     "name": "stderr",
     "output_type": "stream",
     "text": [
      "epoch 54/64: 100%|██████████| 272/272 [01:07<00:00,  4.01it/s]\n"
     ]
    },
    {
     "name": "stdout",
     "output_type": "stream",
     "text": [
      "epoch: 54, duration: 67s, loss: 1.37997.\n",
      "generating 256 characters from top 4 choices.\n",
      "generating with seed: \"'s\".\n",
      "generated text: \n",
      "'s,\n",
      "Thou shalt see the man, the provost speak to servise.\n",
      "\n",
      "BUCKINGHAM:\n",
      "And I'll tell my son as I had too.\n",
      "\n",
      "CORIOLANUS:\n",
      "This shall see her as this in thine and souls that\n",
      "which are my solder, to the world it was a state.\n",
      "\n",
      "LADY ANNE:\n",
      "Thou shouldst thy lives of\n",
      "\n"
     ]
    },
    {
     "name": "stderr",
     "output_type": "stream",
     "text": [
      "epoch 55/64: 100%|██████████| 272/272 [01:06<00:00,  4.07it/s]\n"
     ]
    },
    {
     "name": "stdout",
     "output_type": "stream",
     "text": [
      "epoch: 55, duration: 66s, loss: 1.37779.\n",
      "generating 256 characters from top 4 choices.\n",
      "generating with seed: \"ory!\n",
      "\n",
      "KI\".\n",
      "generated text: \n",
      "ory!\n",
      "\n",
      "KING RICHARD III:\n",
      "All more,\n",
      "To mine own bloody with my counsel to my captian,\n",
      "I saw home. O most master of the pleasure\n",
      "The mourner of the warlise as I should,\n",
      "What thou dost be spoken would tell-my man take,\n",
      "And have hold at thy son and the prayers of him.\n",
      "\n",
      "\n"
     ]
    },
    {
     "name": "stderr",
     "output_type": "stream",
     "text": [
      "epoch 56/64: 100%|██████████| 272/272 [01:04<00:00,  4.19it/s]\n"
     ]
    },
    {
     "name": "stdout",
     "output_type": "stream",
     "text": [
      "epoch: 56, duration: 64s, loss: 1.37687.\n",
      "generating 256 characters from top 4 choices.\n",
      "generating with seed: \"d Angelo hath to the public ear\n",
      "\".\n",
      "generated text: \n",
      "d Angelo hath to the public ear\n",
      "And be thine only.\n",
      "\n",
      "SEBASTIAN:\n",
      "The sun, the souls seem to his sorrow's breath,\n",
      "And shall not have some sound as the world and him of the stay,\n",
      "Which is thy bones are so more to be the commons\n",
      "Of the senators; and with his father's bed,\n",
      "And thou hast not th\n",
      "\n"
     ]
    },
    {
     "name": "stderr",
     "output_type": "stream",
     "text": [
      "epoch 57/64: 100%|██████████| 272/272 [01:18<00:00,  3.47it/s]\n"
     ]
    },
    {
     "name": "stdout",
     "output_type": "stream",
     "text": [
      "epoch: 57, duration: 78s, loss: 1.37461.\n",
      "generating 256 characters from top 4 choices.\n",
      "generating with seed: \"ccid\".\n",
      "generated text: \n",
      "ccidings and that more time to him asser to have their honesty to thy law.\n",
      "\n",
      "KING RICHARD II:\n",
      "We should be come of his honour to to him\n",
      "To set thy souls and him of this soldiers,\n",
      "And then they serving a face, the people to saw\n",
      "With a stard and soldier and harm \n",
      "\n"
     ]
    },
    {
     "name": "stderr",
     "output_type": "stream",
     "text": [
      "epoch 58/64: 100%|██████████| 272/272 [01:03<00:00,  4.27it/s]\n"
     ]
    },
    {
     "name": "stdout",
     "output_type": "stream",
     "text": [
      "epoch: 58, duration: 63s, loss: 1.37265.\n",
      "generating 256 characters from top 4 choices.\n",
      "generating with seed: \"\n",
      "Grief of my son's exile hath st\".\n",
      "generated text: \n",
      "\n",
      "Grief of my son's exile hath stone\n",
      "That said that what holled with the stand of seem\n",
      "Of a mones of hand, whither him to the petter\n",
      "and something.\n",
      "\n",
      "ARIEL:\n",
      "Thou art not would the sun.\n",
      "The state of the motion, and her that this.\n",
      "\n",
      "GLOUCESTER:\n",
      "The most musicions, and there as the counsel\n",
      "Or \n",
      "\n"
     ]
    },
    {
     "name": "stderr",
     "output_type": "stream",
     "text": [
      "epoch 59/64: 100%|██████████| 272/272 [01:06<00:00,  4.08it/s]\n"
     ]
    },
    {
     "name": "stdout",
     "output_type": "stream",
     "text": [
      "epoch: 59, duration: 66s, loss: 1.37176.\n",
      "generating 256 characters from top 4 choices.\n",
      "generating with seed: \"for \".\n",
      "generated text: \n",
      "for all.\n",
      "\n",
      "PETRUCHIO:\n",
      "They are to say you at the sun with that\n",
      "Words as they think it intellorged with thee,\n",
      "I had thence a man the promise on the conceive\n",
      "And best and sound itsient to my chain tages.\n",
      "\n",
      "BENVOLIO:\n",
      "They are so my last and still to see thee,\n",
      "And s\n",
      "\n"
     ]
    },
    {
     "name": "stderr",
     "output_type": "stream",
     "text": [
      "epoch 60/64: 100%|██████████| 272/272 [01:06<00:00,  4.08it/s]\n"
     ]
    },
    {
     "name": "stdout",
     "output_type": "stream",
     "text": [
      "epoch: 60, duration: 66s, loss: 1.36963.\n",
      "generating 256 characters from top 4 choices.\n",
      "generating with seed: \"s de\".\n",
      "generated text: \n",
      "s death, which we must not be the\n",
      "cause to the worse arreads: we will be all\n",
      "As we shall broke, with this thou the measure\n",
      "To bring his prince, the world be seen to bear you,\n",
      "We will that the common many thousand fortune\n",
      "To mine and the sorrow shall not see th\n",
      "\n"
     ]
    },
    {
     "name": "stderr",
     "output_type": "stream",
     "text": [
      "epoch 61/64: 100%|██████████| 272/272 [01:03<00:00,  4.28it/s]\n"
     ]
    },
    {
     "name": "stdout",
     "output_type": "stream",
     "text": [
      "epoch: 61, duration: 63s, loss: 1.36817.\n",
      "generating 256 characters from top 4 choices.\n",
      "generating with seed: \"here, th\".\n",
      "generated text: \n",
      "here, this will shall be a soldrance\n",
      "And wherefore they are too sorrow and the world.\n",
      "\n",
      "GLOUCESTER:\n",
      "Would he speak,\n",
      "And though I shall service him were a men.\n",
      "\n",
      "LUCENTIO:\n",
      "There is thy blood of the mortal to him.\n",
      "\n",
      "KING EDWARD IV:\n",
      "The strapged was and set on the soldi\n",
      "\n"
     ]
    },
    {
     "name": "stderr",
     "output_type": "stream",
     "text": [
      "epoch 62/64: 100%|██████████| 272/272 [01:06<00:00,  4.11it/s]\n"
     ]
    },
    {
     "name": "stdout",
     "output_type": "stream",
     "text": [
      "epoch: 62, duration: 66s, loss: 1.36639.\n",
      "generating 256 characters from top 4 choices.\n",
      "generating with seed: \"rs\".\n",
      "generated text: \n",
      "rsO Off my friend,\n",
      "And, and heavy to still to me to beast,\n",
      "I am all all this was any more of their,\n",
      "Were some bread as is the seasons of anger.\n",
      "\n",
      "GEORGE:\n",
      "I had not will bear my contents. Would he should be\n",
      "not but the power, and the way with an hand\n",
      "As thou a\n",
      "\n"
     ]
    },
    {
     "name": "stderr",
     "output_type": "stream",
     "text": [
      "epoch 63/64: 100%|██████████| 272/272 [01:08<00:00,  4.00it/s]\n"
     ]
    },
    {
     "name": "stdout",
     "output_type": "stream",
     "text": [
      "epoch: 63, duration: 68s, loss: 1.3651.\n",
      "generating 256 characters from top 4 choices.\n",
      "generating with seed: \" is much\".\n",
      "generated text: \n",
      " is much one and so more art at the way,\n",
      "We will, we were a service of a madal:\n",
      "I'll be honour, to the winds, what have stoned\n",
      "The sententation,--\n",
      "\n",
      "ANTONIO:\n",
      "Ther to him and here as you will be honour,\n",
      "Where the preserve of her heart that have\n",
      "A fearth of me to him\n",
      "\n"
     ]
    },
    {
     "name": "stderr",
     "output_type": "stream",
     "text": [
      "epoch 64/64: 100%|██████████| 272/272 [01:03<00:00,  4.28it/s]\n"
     ]
    },
    {
     "name": "stdout",
     "output_type": "stream",
     "text": [
      "epoch: 64, duration: 63s, loss: 1.36323.\n",
      "generating 256 characters from top 4 choices.\n",
      "generating with seed: \"ot?\n",
      "\".\n",
      "generated text: \n",
      "ot?\n",
      "\n",
      "BIANCA:\n",
      "I will be speak in my last of her hands,\n",
      "That hours that we hold her the maid of hands,\n",
      "To the supposed alive of my hand to myself\n",
      "I shall be too subjects and thine eyes,\n",
      "And then altorious man these hast things to him.\n",
      "Why, the duke of York;\n",
      "Thin\n",
      "\n",
      "end of training, duration: 4502s.\n",
      "generating 1024 characters from top 3 choices.\n",
      "generating with seed: \"saw him.\n",
      "\n",
      "QUEEN \".\n",
      "generated text: \n",
      "saw him.\n",
      "\n",
      "QUEEN MARGARET:\n",
      "Ay, thou hast spoke the sun of the such dear sight:\n",
      "The stoop thou holled to thee, talk'd and so despase this strength,\n",
      "The wind to the proud sorrow will no more as the men\n",
      "to the court of thee, and the world all the state.\n",
      "\n",
      "LUCIO:\n",
      "I'll still, where in a merchant were to say. I am, true. \n",
      "ANTONIO:\n",
      "A more of the will the statious true.\n",
      "\n",
      "BIONDELLO:\n",
      "The watch the contrary were so that she seems\n",
      "I warrant the war and his brains of him.\n",
      "\n",
      "KING RICHARD III:\n",
      "A mother, and she in the creature thou wart\n",
      "Is things and to make thy soul is that they\n",
      "Are those that we hear the sun to have thee the warrant\n",
      "of me, the wind of here of his father,\n",
      "Then says have thou art the princeles as you word.\n",
      "Why shall he well so shouth, the people seems\n",
      "That here in heart, and therefore with a stain\n",
      "To be and so stand of to her things,\n",
      "Who have some whole, and there to stay thee this world\n",
      "That she shall be think on the cause, with the world\n",
      "I have a pown to the causal so sound and best the world\n",
      "and to to her to-night of thine\n",
      "\n"
     ]
    }
   ],
   "source": [
    "model = train(corpus, vocab, drop_rate=0.2)"
   ],
   "metadata": {
    "collapsed": false,
    "pycharm": {
     "name": "#%%\n"
    }
   }
  },
  {
   "cell_type": "markdown",
   "source": [
    "generating with seed: \"enoughthe great \".\n",
    "generated text:\n",
    "enoughthe great oe ote te t e oe teetit a te th ae o at teen te aee th t aae ioe aa t aet tee te th thh thie tethete  aoeeee aa teet et ee o th tei aoe aenteen  th t ae ath ee iaie teetee tete thee tohi oee a iote e oaee aa te aathee to e ooe to o ote  ohh aa o oeenet ate"
   ],
   "metadata": {
    "collapsed": false,
    "pycharm": {
     "name": "#%% md\n"
    }
   }
  },
  {
   "cell_type": "code",
   "execution_count": 16,
   "outputs": [
    {
     "name": "stdout",
     "output_type": "stream",
     "text": [
      "generating 512 characters from top 4 choices.\n",
      "generating with seed: \"KING RICHARD: \".\n",
      "generated text: \n",
      "KING RICHARD: what\n",
      "think, to see the pleasures talk of the maid,\n",
      "And that his sorrow opposed and my life,-\n",
      "Within my soul is true of this wrive a way,\n",
      "The will be a mean woman in the world\n",
      "Though he shall not seek to take all at this.\n",
      "Why tell me, to me and think on how are,\n",
      "By her hand of thy father of his head.\n",
      "I hope, as they are true, sir. Think him that mean\n",
      "That word to the steal is a thousand man.\n",
      "\n",
      "LADY GREY:\n",
      "Why, sir, my soul to that, and see hide told these\n",
      "As was the south of his crown on that treason,\n",
      "Which wo\n",
      "\n"
     ]
    },
    {
     "data": {
      "text/plain": "'KING RICHARD: what\\nthink, to see the pleasures talk of the maid,\\nAnd that his sorrow opposed and my life,-\\nWithin my soul is true of this wrive a way,\\nThe will be a mean woman in the world\\nThough he shall not seek to take all at this.\\nWhy tell me, to me and think on how are,\\nBy her hand of thy father of his head.\\nI hope, as they are true, sir. Think him that mean\\nThat word to the steal is a thousand man.\\n\\nLADY GREY:\\nWhy, sir, my soul to that, and see hide told these\\nAs was the south of his crown on that treason,\\nWhich wo'"
     },
     "execution_count": 16,
     "metadata": {},
     "output_type": "execute_result"
    }
   ],
   "source": [
    "# model, seed, length=512, top_n=10, vocab=Vocab\n",
    "generate_text(model, \"KING RICHARD: \", length=512, top_n=4, vocab=vocab)"
   ],
   "metadata": {
    "collapsed": false,
    "pycharm": {
     "name": "#%%\n"
    }
   }
  },
  {
   "cell_type": "code",
   "execution_count": null,
   "outputs": [],
   "source": [],
   "metadata": {
    "collapsed": false,
    "pycharm": {
     "name": "#%%\n"
    }
   }
  }
 ],
 "metadata": {
  "kernelspec": {
   "display_name": "Python 3",
   "language": "python",
   "name": "python3"
  },
  "language_info": {
   "codemirror_mode": {
    "name": "ipython",
    "version": 2
   },
   "file_extension": ".py",
   "mimetype": "text/x-python",
   "name": "python",
   "nbconvert_exporter": "python",
   "pygments_lexer": "ipython2",
   "version": "2.7.6"
  }
 },
 "nbformat": 4,
 "nbformat_minor": 0
}