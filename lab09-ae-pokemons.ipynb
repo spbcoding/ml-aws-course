{
  "cells": [
    {
      "cell_type": "code",
      "source": [
        "!pip install mxnet-cu100"
      ],
      "metadata": {
        "id": "Yeub4gFCjwCE",
        "outputId": "273bd920-9755-4c78-e644-aa67357cbb26",
        "colab": {
          "base_uri": "https://localhost:8080/"
        }
      },
      "execution_count": 1,
      "outputs": [
        {
          "output_type": "stream",
          "name": "stdout",
          "text": [
            "Collecting mxnet-cu100\n",
            "  Downloading mxnet_cu100-1.9.0-py3-none-manylinux2014_x86_64.whl (354.0 MB)\n",
            "\u001b[K     |████████████████████████████████| 354.0 MB 5.3 kB/s \n",
            "\u001b[?25hCollecting graphviz<0.9.0,>=0.8.1\n",
            "  Downloading graphviz-0.8.4-py2.py3-none-any.whl (16 kB)\n",
            "Requirement already satisfied: requests<3,>=2.20.0 in /usr/local/lib/python3.7/dist-packages (from mxnet-cu100) (2.23.0)\n",
            "Requirement already satisfied: numpy<2.0.0,>1.16.0 in /usr/local/lib/python3.7/dist-packages (from mxnet-cu100) (1.21.5)\n",
            "Requirement already satisfied: chardet<4,>=3.0.2 in /usr/local/lib/python3.7/dist-packages (from requests<3,>=2.20.0->mxnet-cu100) (3.0.4)\n",
            "Requirement already satisfied: certifi>=2017.4.17 in /usr/local/lib/python3.7/dist-packages (from requests<3,>=2.20.0->mxnet-cu100) (2021.10.8)\n",
            "Requirement already satisfied: urllib3!=1.25.0,!=1.25.1,<1.26,>=1.21.1 in /usr/local/lib/python3.7/dist-packages (from requests<3,>=2.20.0->mxnet-cu100) (1.24.3)\n",
            "Requirement already satisfied: idna<3,>=2.5 in /usr/local/lib/python3.7/dist-packages (from requests<3,>=2.20.0->mxnet-cu100) (2.10)\n",
            "Installing collected packages: graphviz, mxnet-cu100\n",
            "  Attempting uninstall: graphviz\n",
            "    Found existing installation: graphviz 0.10.1\n",
            "    Uninstalling graphviz-0.10.1:\n",
            "      Successfully uninstalled graphviz-0.10.1\n",
            "Successfully installed graphviz-0.8.4 mxnet-cu100-1.9.0\n"
          ]
        }
      ]
    },
    {
      "cell_type": "markdown",
      "source": [
        "# GAN + Autoencoders\n",
        "\n",
        "In this Lab you'll lern how to build GAN networks and apply them to image generation with Autoencoders"
      ],
      "metadata": {
        "collapsed": false,
        "id": "Z8CEf-9vjlgH"
      }
    },
    {
      "cell_type": "markdown",
      "source": [
        "## Refs\n",
        " - https://github.com/L1aoXingyu/mxnet-tutorial/blob/master/08-AutoEncoder/conv_autoencoder.py\n",
        " -\n",
        "\n"
      ],
      "metadata": {
        "collapsed": false,
        "id": "LXm5mOPmjlgI"
      }
    },
    {
      "cell_type": "markdown",
      "source": [
        "# Task: Pokemons\n",
        "\n",
        "Lets use some funny example (we're using https://d2l.ai/chapter_generative-adversarial-networks/dcgan.html implementation here.\n",
        "\n",
        "Pokemon dataset:\n",
        "https://pokemondb.net/sprites\n",
        "http://d2l-data.s3-accelerate.amazonaws.com/pokemon.zip\n",
        "https://gist.github.com/armgilles/194bcff35001e7eb53a2a8b441e8b2c6"
      ],
      "metadata": {
        "collapsed": false,
        "id": "aj9-Gw2djlgJ"
      }
    },
    {
      "cell_type": "code",
      "execution_count": 2,
      "outputs": [],
      "source": [
        "import mxnet as mx\n",
        "from mxnet import gluon, init, np, npx, nd\n",
        "from mxnet.gluon import nn\n",
        "from statistics import mean\n",
        "\n",
        "import numpy\n",
        "\n",
        "from matplotlib import pyplot as plt\n",
        "from tqdm import tqdm\n",
        "\n",
        "npx.set_np()"
      ],
      "metadata": {
        "pycharm": {
          "name": "#%%\n"
        },
        "id": "9KRiWVUKjlgJ"
      }
    },
    {
      "cell_type": "code",
      "source": [
        "def transform_image(data, label):\n",
        "  data = data.transpose((2, 0, 1))\n",
        "  return ((data.astype(np.float32)/255 - 0.5)/0.5, label.astype(np.float32))"
      ],
      "metadata": {
        "id": "fqHfTfomoBkk"
      },
      "execution_count": 31,
      "outputs": []
    },
    {
      "cell_type": "code",
      "execution_count": 47,
      "outputs": [],
      "source": [
        "# pokemon_dataset = mx.gluon.data.vision.datasets.ImageFolderDataset('./data/pokemon')\n",
        "\n",
        "dataset = gluon.data.vision.datasets.MNIST()"
      ],
      "metadata": {
        "pycharm": {
          "name": "#%%\n"
        },
        "id": "LNE0UeV4jlgL"
      }
    },
    {
      "cell_type": "code",
      "execution_count": 78,
      "outputs": [],
      "source": [
        "# resize each image into 64x64\n",
        "batch_size = 2048\n",
        "\n",
        "transformer = gluon.data.vision.transforms.Compose([\n",
        "    #gluon.data.vision.transforms.Resize(64),\n",
        "    gluon.data.vision.transforms.ToTensor(),\n",
        "    gluon.data.vision.transforms.Normalize(0.5, 0.5)\n",
        "])\n",
        "\n",
        "#data_loader = gluon.data.DataLoader(\n",
        "#    pokemon_dataset.transform_first(transformer),\n",
        "#    batch_size=batch_size,\n",
        "#    shuffle=True )\n",
        "\n",
        "data_loader = gluon.data.DataLoader(dataset.transform_first(transformer), batch_size = batch_size, shuffle = True)"
      ],
      "metadata": {
        "pycharm": {
          "name": "#%%\n"
        },
        "id": "0VTcvybLjlgL"
      }
    },
    {
      "cell_type": "code",
      "execution_count": 57,
      "outputs": [],
      "source": [
        "def show_images(imgs, num_rows, num_cols, titles=None, scale=1.5):\n",
        "    \"\"\"Plot a list of images.\n",
        "\n",
        "    Defined in :numref:`sec_fashion_mnist`\"\"\"\n",
        "    figsize = (num_cols * scale, num_rows * scale)\n",
        "    _, axes = plt.subplots(num_rows, num_cols, figsize=figsize)\n",
        "    axes = axes.flatten()\n",
        "    for i, (ax, img) in enumerate(zip(axes, imgs)):\n",
        "        ax.imshow(img.squeeze().asnumpy())\n",
        "        ax.axes.get_xaxis().set_visible(False)\n",
        "        ax.axes.get_yaxis().set_visible(False)\n",
        "        if titles:\n",
        "            ax.set_title(titles[i])\n",
        "    return axes"
      ],
      "metadata": {
        "pycharm": {
          "name": "#%%\n"
        },
        "id": "sb4Or5dqjlgM"
      }
    },
    {
      "cell_type": "code",
      "execution_count": 55,
      "outputs": [],
      "source": [
        "def show_one_image(img, title=None):\n",
        "    \"\"\" Plots an image. \"\"\"\n",
        "    im_show = img.squeeze()\n",
        "    plt.imshow(im_show.asnumpy())\n"
      ],
      "metadata": {
        "pycharm": {
          "name": "#%%\n"
        },
        "id": "8MFW5sI0jlgM"
      }
    },
    {
      "cell_type": "code",
      "execution_count": 58,
      "outputs": [
        {
          "output_type": "display_data",
          "data": {
            "text/plain": [
              "<Figure size 720x576 with 20 Axes>"
            ],
            "image/png": "[encoded data removed]"
          },
          "metadata": {
            "needs_background": "light"
          }
        }
      ],
      "source": [
        "for X, y in data_loader:\n",
        "    imgs = X[0:20,:,:,:].transpose(0, 2, 3, 1)/2+0.5\n",
        "    show_images(imgs, num_rows=4, num_cols=5, scale=2)\n",
        "    break"
      ],
      "metadata": {
        "pycharm": {
          "name": "#%%\n"
        },
        "id": "yt6jIHodjlgM",
        "outputId": "c5b4361d-8650-4db8-f62a-501105dc67b1",
        "colab": {
          "base_uri": "https://localhost:8080/",
          "height": 469
        }
      }
    },
    {
      "cell_type": "code",
      "execution_count": 59,
      "outputs": [],
      "source": [
        "class autoencoder(nn.HybridBlock):\n",
        "    def __init__(self):\n",
        "        super(autoencoder, self).__init__()\n",
        "\n",
        "        with self.name_scope():\n",
        "            self.encoder = nn.HybridSequential('encoder_')\n",
        "            with self.encoder.name_scope():\n",
        "                # b, 16, 10, 10\n",
        "                self.encoder.add(\n",
        "                    nn.Conv2D(\n",
        "                        16, 3, strides=3, padding=1, activation='relu'))\n",
        "                self.encoder.add(nn.MaxPool2D(2, 2))  # b, 16, 5, 5\n",
        "                self.encoder.add(\n",
        "                    nn.Conv2D(8, 3, strides=2, padding=1,\n",
        "                                activation='relu'))  # b, 8, 3, 3\n",
        "                self.encoder.add(nn.MaxPool2D(2, 1))  # b, 8, 2, 2\n",
        "\n",
        "            self.decoder = nn.HybridSequential('decoder_')\n",
        "            with self.decoder.name_scope():\n",
        "                self.decoder.add(\n",
        "                    nn.Conv2DTranspose(16, 3, strides=2, activation='relu'))\n",
        "                self.decoder.add(\n",
        "                    nn.Conv2DTranspose(\n",
        "                        8, 5, strides=3, padding=1, activation='relu'))\n",
        "                self.decoder.add(\n",
        "                    nn.Conv2DTranspose(\n",
        "                        1, 2, strides=2, padding=1, activation='tanh'))\n",
        "\n",
        "    def forward(self, x):\n",
        "        tmp = self.encoder(x)\n",
        "        result = self.decoder(tmp)\n",
        "        return result"
      ],
      "metadata": {
        "pycharm": {
          "name": "#%%\n"
        },
        "id": "l8QpUuijjlgM"
      }
    },
    {
      "cell_type": "code",
      "execution_count": 60,
      "outputs": [],
      "source": [
        "ctx = mx.gpu(0) if mx.context.num_gpus() > 0 else mx.cpu(0)"
      ],
      "metadata": {
        "pycharm": {
          "name": "#%%\n"
        },
        "id": "EyAkcw23jlgN"
      }
    },
    {
      "cell_type": "code",
      "execution_count": 90,
      "outputs": [],
      "source": [
        "def train(model, data_iter, num_epochs, lr, ctx=ctx):\n",
        "\n",
        "    criterion = gluon.loss.L2Loss()\n",
        "    optimizer = gluon.Trainer(model.collect_params(), 'adam',\n",
        "                      {'learning_rate': lr, 'wd': 1e-5})\n",
        "\n",
        "    history = []\n",
        "\n",
        "    for epoch in range(num_epochs):\n",
        "        for data in data_iter:\n",
        "            img, _ = data\n",
        "            img = img.as_in_context(ctx)\n",
        "            batch = img.shape[0]\n",
        "            # ===================forward=====================\n",
        "            with mx.autograd.record():\n",
        "                output = model(img)\n",
        "                loss = criterion(output, img)\n",
        "            # ===================backward====================\n",
        "            loss.backward()\n",
        "            optimizer.step(batch)\n",
        "\n",
        "            print_loss = loss.sum()/batch\n",
        "\n",
        "            print(f'loss{print_loss:.3f}')\n",
        "\n",
        "        # ===================log========================\n",
        "        print('epoch [{}/{}], loss:{:.4f}'\n",
        "              .format(epoch + 1, num_epochs, nd.mean(loss.as_nd_ndarray()).asscalar()))\n",
        "        \n",
        "        show_one_image(output[0], f'Epoch: {epoch}')\n",
        "\n",
        "\n",
        "    return history"
      ],
      "metadata": {
        "pycharm": {
          "name": "#%%\n"
        },
        "id": "kL3I2JbAjlgN"
      }
    },
    {
      "cell_type": "code",
      "execution_count": 91,
      "outputs": [],
      "source": [
        "model = autoencoder()\n",
        "model.hybridize()\n",
        "model.collect_params().initialize(mx.init.Xavier('gaussian'), ctx=ctx)\n"
      ],
      "metadata": {
        "pycharm": {
          "name": "#%%\n"
        },
        "id": "PW-5lKyHjlgN"
      }
    },
    {
      "cell_type": "code",
      "execution_count": null,
      "outputs": [
        {
          "output_type": "stream",
          "name": "stdout",
          "text": [
            "loss0.432\n",
            "loss0.399\n",
            "loss0.366\n",
            "loss0.336\n",
            "loss0.308\n",
            "loss0.284\n",
            "loss0.264\n",
            "loss0.248\n",
            "loss0.241\n",
            "loss0.230\n",
            "loss0.222\n",
            "loss0.215\n",
            "loss0.213\n",
            "loss0.210\n",
            "loss0.205\n",
            "loss0.201\n",
            "loss0.198\n",
            "loss0.198\n",
            "loss0.196\n",
            "loss0.195\n",
            "loss0.190\n",
            "loss0.190\n",
            "loss0.186\n",
            "loss0.182\n",
            "loss0.185\n",
            "loss0.179\n",
            "loss0.180\n",
            "loss0.178\n",
            "loss0.178\n",
            "loss0.174\n",
            "epoch [1/20], loss:0.1743\n",
            "loss0.177\n",
            "loss0.174\n",
            "loss0.171\n",
            "loss0.172\n",
            "loss0.170\n",
            "loss0.171\n",
            "loss0.169\n",
            "loss0.167\n",
            "loss0.167\n",
            "loss0.166\n",
            "loss0.165\n",
            "loss0.162\n",
            "loss0.160\n",
            "loss0.160\n",
            "loss0.159\n",
            "loss0.158\n",
            "loss0.154\n",
            "loss0.153\n",
            "loss0.149\n",
            "loss0.146\n",
            "loss0.146\n",
            "loss0.143\n",
            "loss0.141\n",
            "loss0.141\n",
            "loss0.139\n",
            "loss0.139\n",
            "loss0.137\n",
            "loss0.135\n",
            "loss0.134\n",
            "loss0.137\n",
            "epoch [2/20], loss:0.1368\n",
            "loss0.133\n",
            "loss0.134\n",
            "loss0.133\n",
            "loss0.133\n",
            "loss0.133\n",
            "loss0.131\n",
            "loss0.130\n",
            "loss0.130\n",
            "loss0.130\n",
            "loss0.128\n",
            "loss0.128\n",
            "loss0.129\n",
            "loss0.129\n",
            "loss0.128\n",
            "loss0.126\n",
            "loss0.127\n",
            "loss0.127\n",
            "loss0.126\n",
            "loss0.125\n",
            "loss0.125\n",
            "loss0.125\n",
            "loss0.125\n",
            "loss0.126\n",
            "loss0.125\n",
            "loss0.124\n",
            "loss0.123\n",
            "loss0.124\n",
            "loss0.123\n",
            "loss0.122\n",
            "loss0.121\n",
            "epoch [3/20], loss:0.1207\n",
            "loss0.122\n",
            "loss0.122\n",
            "loss0.121\n",
            "loss0.120\n",
            "loss0.119\n",
            "loss0.118\n",
            "loss0.119\n",
            "loss0.120\n",
            "loss0.120\n",
            "loss0.118\n",
            "loss0.119\n",
            "loss0.117\n",
            "loss0.118\n",
            "loss0.118\n",
            "loss0.116\n",
            "loss0.117\n",
            "loss0.116\n",
            "loss0.117\n",
            "loss0.115\n",
            "loss0.114\n",
            "loss0.115\n",
            "loss0.115\n",
            "loss0.114\n",
            "loss0.113\n",
            "loss0.114\n",
            "loss0.112\n",
            "loss0.113\n",
            "loss0.112\n",
            "loss0.112\n",
            "loss0.110\n",
            "epoch [4/20], loss:0.1101\n",
            "loss0.111\n",
            "loss0.112\n",
            "loss0.110\n",
            "loss0.111\n",
            "loss0.111\n",
            "loss0.110\n",
            "loss0.111\n",
            "loss0.110\n",
            "loss0.108\n",
            "loss0.110\n",
            "loss0.109\n",
            "loss0.110\n",
            "loss0.107\n",
            "loss0.109\n",
            "loss0.107\n",
            "loss0.107\n",
            "loss0.109\n",
            "loss0.106\n",
            "loss0.107\n",
            "loss0.108\n",
            "loss0.107\n",
            "loss0.107\n",
            "loss0.107\n",
            "loss0.106\n",
            "loss0.106\n",
            "loss0.107\n",
            "loss0.105\n",
            "loss0.105\n",
            "loss0.105\n",
            "loss0.104\n",
            "epoch [5/20], loss:0.1038\n",
            "loss0.105\n",
            "loss0.104\n",
            "loss0.104\n",
            "loss0.104\n",
            "loss0.104\n",
            "loss0.104\n",
            "loss0.102\n",
            "loss0.102\n",
            "loss0.103\n",
            "loss0.101\n",
            "loss0.102\n",
            "loss0.101\n",
            "loss0.102\n",
            "loss0.102\n",
            "loss0.101\n",
            "loss0.101\n",
            "loss0.100\n",
            "loss0.099\n",
            "loss0.101\n",
            "loss0.099\n",
            "loss0.099\n",
            "loss0.099\n",
            "loss0.099\n",
            "loss0.098\n",
            "loss0.098\n",
            "loss0.097\n",
            "loss0.098\n",
            "loss0.098\n",
            "loss0.096\n",
            "loss0.096\n",
            "epoch [6/20], loss:0.0964\n",
            "loss0.096\n",
            "loss0.097\n",
            "loss0.096\n",
            "loss0.093\n",
            "loss0.093\n",
            "loss0.094\n",
            "loss0.095\n",
            "loss0.094\n",
            "loss0.094\n",
            "loss0.093\n",
            "loss0.094\n",
            "loss0.093\n",
            "loss0.094\n",
            "loss0.092\n",
            "loss0.091\n",
            "loss0.091\n",
            "loss0.092\n",
            "loss0.092\n",
            "loss0.091\n",
            "loss0.093\n",
            "loss0.090\n",
            "loss0.090\n",
            "loss0.089\n",
            "loss0.092\n",
            "loss0.089\n",
            "loss0.089\n",
            "loss0.089\n",
            "loss0.088\n",
            "loss0.090\n",
            "loss0.088\n",
            "epoch [7/20], loss:0.0879\n",
            "loss0.088\n",
            "loss0.089\n",
            "loss0.087\n",
            "loss0.088\n",
            "loss0.087\n",
            "loss0.087\n",
            "loss0.087\n",
            "loss0.087\n",
            "loss0.086\n",
            "loss0.086\n",
            "loss0.086\n",
            "loss0.086\n",
            "loss0.087\n",
            "loss0.084\n",
            "loss0.086\n",
            "loss0.085\n",
            "loss0.084\n",
            "loss0.085\n",
            "loss0.084\n",
            "loss0.085\n",
            "loss0.085\n",
            "loss0.084\n",
            "loss0.085\n",
            "loss0.083\n",
            "loss0.084\n",
            "loss0.083\n",
            "loss0.083\n",
            "loss0.083\n",
            "loss0.082\n",
            "loss0.083\n",
            "epoch [8/20], loss:0.0834\n",
            "loss0.084\n",
            "loss0.082\n",
            "loss0.082\n",
            "loss0.083\n",
            "loss0.082\n",
            "loss0.082\n",
            "loss0.083\n",
            "loss0.081\n",
            "loss0.081\n",
            "loss0.081\n",
            "loss0.081\n",
            "loss0.081\n",
            "loss0.079\n",
            "loss0.080\n",
            "loss0.078\n",
            "loss0.080\n",
            "loss0.079\n",
            "loss0.079\n",
            "loss0.079\n",
            "loss0.080\n",
            "loss0.078\n",
            "loss0.080\n",
            "loss0.079\n",
            "loss0.079\n",
            "loss0.079\n",
            "loss0.078\n",
            "loss0.077\n",
            "loss0.078\n",
            "loss0.078\n",
            "loss0.076\n",
            "epoch [9/20], loss:0.0765\n",
            "loss0.077\n",
            "loss0.076\n",
            "loss0.077\n",
            "loss0.077\n",
            "loss0.078\n",
            "loss0.078\n",
            "loss0.078\n",
            "loss0.076\n",
            "loss0.077\n",
            "loss0.076\n",
            "loss0.076\n",
            "loss0.075\n",
            "loss0.076\n",
            "loss0.075\n",
            "loss0.075\n",
            "loss0.075\n",
            "loss0.075\n",
            "loss0.074\n",
            "loss0.075\n",
            "loss0.075\n",
            "loss0.075\n",
            "loss0.075\n",
            "loss0.075\n",
            "loss0.073\n",
            "loss0.074\n",
            "loss0.074\n",
            "loss0.074\n",
            "loss0.073\n",
            "loss0.074\n",
            "loss0.073\n",
            "epoch [10/20], loss:0.0728\n",
            "loss0.072\n",
            "loss0.073\n",
            "loss0.073\n",
            "loss0.073\n",
            "loss0.073\n",
            "loss0.073\n",
            "loss0.073\n",
            "loss0.073\n",
            "loss0.072\n",
            "loss0.073\n",
            "loss0.072\n",
            "loss0.072\n",
            "loss0.072\n",
            "loss0.071\n",
            "loss0.071\n",
            "loss0.071\n",
            "loss0.070\n",
            "loss0.072\n",
            "loss0.071\n",
            "loss0.070\n",
            "loss0.072\n",
            "loss0.071\n",
            "loss0.071\n",
            "loss0.071\n",
            "loss0.070\n",
            "loss0.070\n",
            "loss0.070\n",
            "loss0.069\n",
            "loss0.070\n",
            "loss0.069\n",
            "epoch [11/20], loss:0.0685\n",
            "loss0.070\n",
            "loss0.069\n",
            "loss0.068\n",
            "loss0.070\n",
            "loss0.069\n",
            "loss0.069\n",
            "loss0.069\n",
            "loss0.069\n",
            "loss0.069\n",
            "loss0.069\n",
            "loss0.069\n",
            "loss0.068\n",
            "loss0.068\n",
            "loss0.069\n",
            "loss0.069\n",
            "loss0.067\n",
            "loss0.069\n",
            "loss0.068\n",
            "loss0.067\n",
            "loss0.067\n",
            "loss0.068\n",
            "loss0.068\n",
            "loss0.068\n",
            "loss0.067\n",
            "loss0.066\n",
            "loss0.067\n",
            "loss0.067\n",
            "loss0.065\n",
            "loss0.066\n",
            "loss0.066\n",
            "epoch [12/20], loss:0.0655\n",
            "loss0.067\n",
            "loss0.066\n",
            "loss0.067\n",
            "loss0.065\n",
            "loss0.066\n",
            "loss0.066\n",
            "loss0.067\n",
            "loss0.066\n",
            "loss0.065\n",
            "loss0.065\n",
            "loss0.065\n",
            "loss0.065\n",
            "loss0.065\n",
            "loss0.064\n",
            "loss0.065\n",
            "loss0.065\n",
            "loss0.066\n",
            "loss0.065\n",
            "loss0.066\n",
            "loss0.065\n",
            "loss0.065\n",
            "loss0.065\n",
            "loss0.066\n",
            "loss0.063\n",
            "loss0.063\n",
            "loss0.063\n",
            "loss0.064\n",
            "loss0.064\n",
            "loss0.064\n",
            "loss0.064\n",
            "epoch [13/20], loss:0.0640\n",
            "loss0.063\n",
            "loss0.063\n",
            "loss0.063\n",
            "loss0.063\n",
            "loss0.064\n",
            "loss0.063\n",
            "loss0.064\n",
            "loss0.063\n",
            "loss0.064\n",
            "loss0.064\n",
            "loss0.063\n",
            "loss0.063\n",
            "loss0.063\n",
            "loss0.064\n",
            "loss0.063\n",
            "loss0.064\n",
            "loss0.063\n",
            "loss0.063\n",
            "loss0.063\n",
            "loss0.063\n",
            "loss0.062\n",
            "loss0.062\n",
            "loss0.062\n",
            "loss0.062\n",
            "loss0.062\n",
            "loss0.061\n",
            "loss0.062\n",
            "loss0.062\n",
            "loss0.062\n",
            "loss0.061\n",
            "epoch [14/20], loss:0.0609\n",
            "loss0.062\n",
            "loss0.062\n",
            "loss0.061\n",
            "loss0.061\n",
            "loss0.061\n",
            "loss0.063\n",
            "loss0.060\n",
            "loss0.062\n",
            "loss0.062\n",
            "loss0.061\n",
            "loss0.061\n",
            "loss0.061\n",
            "loss0.061\n",
            "loss0.060\n",
            "loss0.060\n",
            "loss0.061\n",
            "loss0.060\n",
            "loss0.061\n"
          ]
        }
      ],
      "source": [
        "latent_dim, lr, num_epochs = 100, 0.005, 20\n",
        "#latent_dim, lr, num_epochs = 100, 0.04, 5\n",
        "hist = train(model, data_loader, num_epochs, lr)"
      ],
      "metadata": {
        "pycharm": {
          "name": "#%%\n"
        },
        "id": "TSfcdxmxjlgO",
        "outputId": "630d491c-f687-4f59-911d-6faa1e699542",
        "colab": {
          "base_uri": "https://localhost:8080/"
        }
      }
    },
    {
      "cell_type": "code",
      "execution_count": null,
      "outputs": [],
      "source": [
        "def print_history(history, title):\n",
        "    plt.figure(figsize=(7, 4))\n",
        "    plt.plot(history)\n",
        "    plt.title(title)\n",
        "    plt.ylabel('Loss')\n",
        "    plt.xlabel('Epoch')"
      ],
      "metadata": {
        "pycharm": {
          "name": "#%%\n"
        },
        "id": "4EA_kaNAjlgO"
      }
    },
    {
      "cell_type": "code",
      "execution_count": null,
      "outputs": [],
      "source": [
        "print_history(hist, 'AE Loss')"
      ],
      "metadata": {
        "pycharm": {
          "name": "#%%\n"
        },
        "id": "RA5TZvfMjlgO"
      }
    },
    {
      "cell_type": "code",
      "execution_count": null,
      "outputs": [
        {
          "data": {
            "text/plain": "(5, 100, 1, 1)"
          },
          "execution_count": 80,
          "metadata": {},
          "output_type": "execute_result"
        }
      ],
      "source": [
        "# Show generated examples\n",
        "Z = np.random.normal(0, 1, size=(5, latent_dim, 1, 1), ctx=ctx)\n",
        "Z = Z.as_in_ctx(ctx)\n",
        "Z.shape"
      ],
      "metadata": {
        "pycharm": {
          "name": "#%%\n"
        },
        "id": "x7ccQSZDjlgO",
        "outputId": "ea83f848-eee8-49a2-c8aa-aaf42523b8ac"
      }
    },
    {
      "cell_type": "code",
      "execution_count": null,
      "outputs": [],
      "source": [
        ""
      ],
      "metadata": {
        "pycharm": {
          "name": "#%%\n"
        },
        "id": "hhUzovJhjlgP"
      }
    }
  ],
  "metadata": {
    "kernelspec": {
      "display_name": "Python 3",
      "language": "python",
      "name": "python3"
    },
    "language_info": {
      "codemirror_mode": {
        "name": "ipython",
        "version": 2
      },
      "file_extension": ".py",
      "mimetype": "text/x-python",
      "name": "python",
      "nbconvert_exporter": "python",
      "pygments_lexer": "ipython2",
      "version": "2.7.6"
    },
    "colab": {
      "name": "lab09-ae-pokemons.ipynb",
      "provenance": []
    },
    "accelerator": "GPU"
  },
  "nbformat": 4,
  "nbformat_minor": 0
}