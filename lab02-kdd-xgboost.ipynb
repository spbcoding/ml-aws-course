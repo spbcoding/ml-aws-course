{
 "cells": [
  {
   "cell_type": "markdown",
   "metadata": {
    "id": "KgRptHrNLwhf"
   },
   "source": [
    "# Detection of Network Packets (Part II)\n",
    "\n",
    "This is a task from http://kdd.ics.uci.edu/databases/kddcup99/kddcup99.html about network traffic packets. There are several kinds of preclassified packets: normal, trojans, viruses, etc.\n",
    "\n",
    "The KDD99 dataset consists of normal data points and points that have been labeled as Denial of Service (DoS), Remote to User (R2L), User to Root (U2R), and Probing (Probe) by logging network packet information. More information about the dataset can be found at https://kdd.ics.uci.edu/databases/kddcup99/task.html.\n",
    "\n",
    "Each row of the KDD Cup 99 dataset is a network connection, with a total of 41 independent variables and 1 dependent variable. The independent variables can be broadly divided into three groups:\n",
    "\n",
    "1. Basic input features of network connections such as duration, protocol type, and number of bytes from source IP addresses\n",
    "2. Content input features of network connections\n",
    "3. The statistical input features computed over a time window\n",
    "\n"
   ]
  },
  {
   "cell_type": "markdown",
   "metadata": {
    "id": "q1cF2lhsYkkL"
   },
   "source": [
    "## Lab prerequisties\n",
    "\n",
    "We assume there is a KDD 10% dataset prepared : downloaded, extracted, modified. It's stored in the _pickle_ format.\n",
    "If you don't have this dataset, please revise the previous Lab and complete section \"Preparing Data\""
   ]
  },
  {
   "cell_type": "markdown",
   "metadata": {
    "collapsed": false
   },
   "source": [
    "## Load dataset\n",
    "Locate _.pkl_ file (or the file you specfied during dumping) and load its content into local variables"
   ]
  },
  {
   "cell_type": "code",
   "execution_count": 89,
   "metadata": {
    "collapsed": false,
    "pycharm": {
     "name": "#%%\n"
    }
   },
   "outputs": [],
   "source": [
    "import pickle"
   ]
  },
  {
   "cell_type": "code",
   "execution_count": 90,
   "metadata": {
    "collapsed": false,
    "pycharm": {
     "name": "#%%\n"
    }
   },
   "outputs": [
    {
     "name": "stdout",
     "output_type": "stream",
     "text": [
      "x_train\n",
      "x_test\n",
      "y_train\n",
      "y_test\n",
      "le\n"
     ]
    }
   ],
   "source": [
    "# load data back from pickle file:\n",
    "pickle_file = './kddcup.data_10_percent.pkl'\n",
    "with open(pickle_file, 'rb') as f:\n",
    "    preprocessed_data = pickle.load(f)\n",
    "\n",
    "# check what's inside:\n",
    "for key in preprocessed_data:\n",
    "    print (key)"
   ]
  },
  {
   "cell_type": "code",
   "execution_count": 91,
   "metadata": {
    "collapsed": false,
    "pycharm": {
     "name": "#%%\n"
    }
   },
   "outputs": [],
   "source": [
    "le = preprocessed_data[\"le\"]\n",
    "x_train = preprocessed_data[\"x_train\"]\n",
    "y_train = preprocessed_data[\"y_train\"]\n",
    "x_test = preprocessed_data[\"x_test\"]\n",
    "y_test = preprocessed_data[\"y_test\"]"
   ]
  },
  {
   "cell_type": "code",
   "execution_count": 92,
   "metadata": {
    "collapsed": false,
    "pycharm": {
     "name": "#%%\n"
    }
   },
   "outputs": [
    {
     "name": "stdout",
     "output_type": "stream",
     "text": [
      "(370515, 118)\n",
      "(370515,)\n",
      "(123506, 118)\n",
      "(123506,)\n"
     ]
    }
   ],
   "source": [
    "# double check the shapes of the variables, they should match\n",
    "\n",
    "print(x_train.shape)\n",
    "print(y_train.shape)\n",
    "print(x_test.shape)\n",
    "print(y_test.shape)"
   ]
  },
  {
   "cell_type": "markdown",
   "metadata": {
    "collapsed": false
   },
   "source": [
    "## Gradient Boosting on Trees\n",
    "\n",
    "Credits:\n",
    "1. https://xgboost.ai/2016/12/14/GPU-accelerated-xgboost.html\n",
    "2. https://youtu.be/wPqtzj5VZus\n",
    "3. https://neerc.ifmo.ru/wiki/index.php?title=XGBoost\n",
    "\n",
    "XGBoost is widely known today as a \"go to\" model when working with structured data such as the KDD99 dataset. In fact, there are a disproportionately large number of XGBoost-based winning entries of Kaggle competitions.\n",
    "\n",
    "What is XGBoost and why is it so popular?\n",
    "\n",
    "\n",
    "Traditionally, in tree-based ensemble methods such as _Random Forests_, we train each tree independently. The predictions of multiple trees are summed to obtain the final score. The figure below classifies whether someone would like to play computer games or not.\n",
    "\n",
    "\n",
    "<img src=\"https://raw.githubusercontent.com/dmlc/web-data/master/xgboost/model/cart.png\" alt=\"Alt text that describes the graphic\" title=\"Title text\" width=700px>\n",
    "\n",
    "\n",
    "**Note!**\n",
    "**In the case of XGBoost, an implementation of Gradient Boosted Decision Trees, we repeatedly build new models and combine them into an ensemble. Unlike Random Forests, we build trees one at a time, where each new tree helps to correct errors made by previously trained tree.**\n",
    "\n",
    "\n",
    "The following picture illustrates the combination of trees working as a unified procedure:\n",
    "<img src=\"https://raw.githubusercontent.com/dmlc/web-data/master/xgboost/model/twocart.png\" alt=\"Alt text that describes the graphic\" title=\"Title text\" width=700px>\n",
    "\n",
    "\n",
    "The learning process slightly differs from what we used in the Random Forests: next tree isn't being made from scratch, instead it compensates errors from the previous Tree:\n",
    "\n",
    "\n",
    "<img src=\"https://drive.google.com/uc?id=1WDN-kDMOsIhY3vWy8UBOR0qgBRHqbf-2\" alt=\"Alt text that describes the graphic\" title=\"Title text\" width=700px>\n"
   ]
  },
  {
   "cell_type": "markdown",
   "metadata": {
    "collapsed": false
   },
   "source": [
    "### Why use GPU\n",
    "\n",
    "Generally, GPU accelerated XGBoost models will train much faster. It’s also extremely easy. In order to use the GPU version of XGBoost, only one parameter in the code has to be set (see below): {'tree_method': 'gpu_hist'} Also, the environment must have the GPU version of XGBoost: https://xgboost.readthedocs.io/en/latest/gpu/index.html.\n",
    "\n",
    "\n",
    "Machine learning models using XGBoost on large datasets can take several hours to train and achieve the best predictions. Oftentimes, models have to be trained for 1000s of iterations, and usually many different combinations of hyperparameters must be tested.\n",
    "\n",
    "The more models that can be trained, the better the accuracy will be.\n",
    "\n",
    "Fortunately, the XGBoost algorithm is highly parallelizable by virtue of requiring scans across gradient values and using these partial sums to evaluate the quality of splits at every possible split in the training set. By utilizing fast parallel prefix operations to scan through all possible splits as well as parallel radix sorting to repartition data, the GPU accelerated version builds a decision tree for a given boosting iteration one level at a time, processing the entire dataset concurrently on the GPU."
   ]
  },
  {
   "cell_type": "markdown",
   "metadata": {
    "collapsed": false
   },
   "source": [
    "### Hyperparamteres tuning\n",
    "\n",
    "Hyperparameters can have a huge impact on the performance of XGBoost models.\n",
    "Some of the more important ones are listed below. See [here](https://xgboost.readthedocs.io/en/latest/parameter.html) for a description of all parameters and see [here](https://xgboost.readthedocs.io/en/latest/tutorials/param_tuning.html) for a guide to tuning XGBoost models. Feel free to try out different combinations:\n",
    "\n",
    "**objective:**\n",
    "Depending on whether we treat our problem as a binary classification problem or as a multi-class classification problem this parameter would be either binary:logistic or multi:softmax respectively.\n",
    "\n",
    "**tree_method:**\n",
    "gpu_exact to use the GPU optimized exact greedy algorithm and gpu_hist to use the histogram optimized approximate greedy algorithm. For GPU accelerated XGBoost it is best to use gpu_hist.\n",
    "\n",
    "**>n_gpus:**\n",
    "The number of GPUs to use for training.  Note, if using GPU DASK, n_gpus should be set to 1.\n",
    "\n",
    "**max_depth:**\n",
    "Increasing this value will give the model more capacity to learn and it will also be more likely to overfit. If using a large max_depth value, make sure to increase the regularization.\n",
    "\n",
    "**learning_rate:**\n",
    "Used to control the weighting of new trees added to the model. If using a low value here, then the number of rounds of training should be high.\n",
    "\n",
    "**num_class:**\n",
    "    Indicates the number of classes in the label column. For a binary classification problem this should be 2 and the number of classes in the case of a multi-class problem."
   ]
  },
  {
   "cell_type": "markdown",
   "metadata": {
    "collapsed": false
   },
   "source": [
    "# XGBoost"
   ]
  },
  {
   "cell_type": "code",
   "execution_count": 94,
   "metadata": {
    "collapsed": false,
    "pycharm": {
     "name": "#%%\n"
    }
   },
   "outputs": [],
   "source": [
    "import xgboost as xgb\n",
    "import numpy as np\n",
    "from sklearn.metrics import confusion_matrix,accuracy_score\n",
    "import pickle\n",
    "from sklearn.metrics import ConfusionMatrixDisplay\n",
    "import matplotlib.pyplot as plt"
   ]
  },
  {
   "cell_type": "code",
   "execution_count": 95,
   "metadata": {
    "id": "Xp0qqV7VbFbr"
   },
   "outputs": [],
   "source": [
    "dtrain = xgb.DMatrix(x_train, label=y_train)\n",
    "dtest = xgb.DMatrix(x_test, label=y_test)"
   ]
  },
  {
   "cell_type": "code",
   "execution_count": 96,
   "metadata": {
    "id": "Kwlfi_H-bpGg"
   },
   "outputs": [],
   "source": [
    "params = {\n",
    "    'learning_rate': 0.1,\n",
    "    'n_estimators': 1000,\n",
    "    'max_depth': 8,\n",
    "    'max_leaves': 2**8,\n",
    "    'min_child_weight': 1,\n",
    "    'gamma': 0,\n",
    "    'subsample': 0.8,\n",
    "    'colsample_bytree': 0.8,\n",
    "    'objective': 'multi:softmax',\n",
    "    'nthread': 4,\n",
    "    'scale_pos_weight': 1,\n",
    "    'seed': 27,\n",
    "    'verbose': True,\n",
    "    'num_rounds': 10,\n",
    "    'num_class': le.classes_.size\n",
    "}\n",
    "num_rounds = params['num_rounds']\n",
    "evals = [(dtrain, 'train'), (dtest, 'test')]"
   ]
  },
  {
   "cell_type": "code",
   "execution_count": 97,
   "metadata": {
    "colab": {
     "base_uri": "https://localhost:8080/"
    },
    "id": "C4qvkTwZaXJe",
    "outputId": "bed34545-97ce-4b2e-f681-9c2976534a37"
   },
   "outputs": [
    {
     "name": "stdout",
     "output_type": "stream",
     "text": [
      "[08:41:29] WARNING: ../src/learner.cc:576: \n",
      "Parameters: { \"n_estimators\", \"num_rounds\", \"scale_pos_weight\", \"verbose\" } might not be used.\n",
      "\n",
      "  This could be a false alarm, with some parameters getting used by language bindings but\n",
      "  then being mistakenly passed down to XGBoost core, or some parameter actually being used\n",
      "  but getting flagged wrongly here. Please open an issue if you find any such cases.\n",
      "\n",
      "\n",
      "[08:41:36] WARNING: ../src/learner.cc:1115: Starting in XGBoost 1.3.0, the default evaluation metric used with the objective 'multi:softmax' was changed from 'merror' to 'mlogloss'. Explicitly set eval_metric if you'd like to restore the old behavior.\n",
      "[0]\ttrain-mlogloss:2.03500\ttest-mlogloss:2.03487\n",
      "[1]\ttrain-mlogloss:1.67009\ttest-mlogloss:1.67018\n",
      "[2]\ttrain-mlogloss:1.42059\ttest-mlogloss:1.42193\n",
      "[3]\ttrain-mlogloss:1.23117\ttest-mlogloss:1.23250\n",
      "[4]\ttrain-mlogloss:1.08064\ttest-mlogloss:1.08012\n",
      "[5]\ttrain-mlogloss:0.95389\ttest-mlogloss:0.95368\n",
      "[6]\ttrain-mlogloss:0.84697\ttest-mlogloss:0.84711\n",
      "[7]\ttrain-mlogloss:0.75438\ttest-mlogloss:0.75510\n",
      "[8]\ttrain-mlogloss:0.67498\ttest-mlogloss:0.67503\n",
      "[9]\ttrain-mlogloss:0.60467\ttest-mlogloss:0.60499\n"
     ]
    }
   ],
   "source": [
    "model = xgb.train(params, dtrain, num_rounds, evals=evals)"
   ]
  },
  {
   "cell_type": "code",
   "execution_count": 98,
   "metadata": {
    "id": "JLkqVbtIeFkh"
   },
   "outputs": [],
   "source": [
    "predictions = model.predict(dtest).astype(int)"
   ]
  },
  {
   "cell_type": "code",
   "execution_count": 99,
   "metadata": {
    "collapsed": false,
    "pycharm": {
     "name": "#%%\n"
    }
   },
   "outputs": [
    {
     "name": "stdout",
     "output_type": "stream",
     "text": [
      "Predicted:  18\n",
      "Actual:  18\n"
     ]
    }
   ],
   "source": [
    "index = 0\n",
    "\n",
    "print('Predicted: ', predictions[index])\n",
    "print('Actual: ', y_test[index])"
   ]
  },
  {
   "cell_type": "code",
   "execution_count": 100,
   "metadata": {
    "colab": {
     "base_uri": "https://localhost:8080/"
    },
    "id": "uRJkGI2YewzO",
    "outputId": "71d4bff3-dea6-4b25-b612-2ab10ceda5cc"
   },
   "outputs": [
    {
     "name": "stdout",
     "output_type": "stream",
     "text": [
      "0.9993522581898855\n"
     ]
    }
   ],
   "source": [
    "accuracy = accuracy_score(y_test, predictions)\n",
    "print(accuracy)"
   ]
  },
  {
   "cell_type": "code",
   "execution_count": 101,
   "metadata": {
    "collapsed": false,
    "pycharm": {
     "name": "#%%\n"
    }
   },
   "outputs": [
    {
     "data": {
      "text/plain": [
       "['back.',\n",
       " 'buffer_overflow.',\n",
       " 'ftp_write.',\n",
       " 'guess_passwd.',\n",
       " 'imap.',\n",
       " 'ipsweep.',\n",
       " 'land.',\n",
       " 'loadmodule.',\n",
       " 'multihop.',\n",
       " 'neptune.',\n",
       " 'nmap.',\n",
       " 'normal.',\n",
       " 'perl.',\n",
       " 'phf.',\n",
       " 'pod.',\n",
       " 'portsweep.',\n",
       " 'rootkit.',\n",
       " 'satan.',\n",
       " 'smurf.',\n",
       " 'spy.',\n",
       " 'teardrop.',\n",
       " 'warezclient.',\n",
       " 'warezmaster.']"
      ]
     },
     "execution_count": 101,
     "metadata": {},
     "output_type": "execute_result"
    }
   ],
   "source": [
    "list(le.classes_)"
   ]
  },
  {
   "cell_type": "code",
   "execution_count": 102,
   "metadata": {
    "id": "cp5DaQdjheOX"
   },
   "outputs": [],
   "source": [
    "results = confusion_matrix(y_test, predictions)\n",
    "\n",
    "# also normalize confusion matrix\n",
    "results = results.astype('float') / results.sum(axis=1)[:, np.newaxis]"
   ]
  },
  {
   "cell_type": "code",
   "execution_count": 103,
   "metadata": {
    "colab": {
     "base_uri": "https://localhost:8080/",
     "height": 279
    },
    "id": "09J1rwYdheOY",
    "outputId": "e2528b1a-380b-42f3-83d0-ccb4c70c9b20"
   },
   "outputs": [
    {
     "data": {
      "image/png": "[encoded data removed]",
      "text/plain": [
       "<Figure size 1728x1728 with 2 Axes>"
      ]
     },
     "metadata": {
      "needs_background": "light"
     },
     "output_type": "display_data"
    }
   ],
   "source": [
    "disp = ConfusionMatrixDisplay(confusion_matrix=results)\n",
    "\n",
    "# NOTE: Fill all variables here with default values of the plot_confusion_matrix\n",
    "disp = disp.plot(cmap = 'Blues')\n",
    "\n",
    "plt.rcParams[\"figure.figsize\"] = (24, 24)\n",
    "plt.show()"
   ]
  },
  {
   "cell_type": "markdown",
   "metadata": {
    "collapsed": false
   },
   "source": [
    "# Catboost"
   ]
  },
  {
   "cell_type": "code",
   "execution_count": 104,
   "metadata": {
    "collapsed": false,
    "pycharm": {
     "name": "#%%\n"
    }
   },
   "outputs": [],
   "source": [
    "import catboost as cb"
   ]
  },
  {
   "cell_type": "code",
   "execution_count": 107,
   "metadata": {
    "collapsed": false,
    "pycharm": {
     "name": "#%%\n"
    }
   },
   "outputs": [
    {
     "name": "stderr",
     "output_type": "stream",
     "text": [
      "Custom logger is already specified. Specify more than one logger at same time is not thread safe."
     ]
    },
    {
     "name": "stdout",
     "output_type": "stream",
     "text": [
      "0:\ttotal: 5.87s\tremaining: 52.9s\n",
      "1:\ttotal: 11.1s\tremaining: 44.2s\n",
      "2:\ttotal: 15.7s\tremaining: 36.7s\n",
      "3:\ttotal: 20.6s\tremaining: 31s\n",
      "4:\ttotal: 23.5s\tremaining: 23.5s\n",
      "5:\ttotal: 26.5s\tremaining: 17.7s\n",
      "6:\ttotal: 29.4s\tremaining: 12.6s\n",
      "7:\ttotal: 32.5s\tremaining: 8.13s\n",
      "8:\ttotal: 35.4s\tremaining: 3.94s\n",
      "9:\ttotal: 39.3s\tremaining: 0us\n"
     ]
    },
    {
     "data": {
      "text/plain": [
       "<catboost.core.CatBoostClassifier at 0x7f8a2126e340>"
      ]
     },
     "execution_count": 107,
     "metadata": {},
     "output_type": "execute_result"
    }
   ],
   "source": [
    "clf = cb.CatBoostClassifier(eval_metric=\"AUC\", depth=10, iterations= 10, l2_leaf_reg= 9, learning_rate= 0.1)\n",
    "clf.fit(x_train,y_train)"
   ]
  },
  {
   "cell_type": "code",
   "execution_count": 108,
   "metadata": {
    "collapsed": false,
    "pycharm": {
     "name": "#%%\n"
    }
   },
   "outputs": [],
   "source": [
    "predictions = clf.predict(x_test)"
   ]
  },
  {
   "cell_type": "code",
   "execution_count": 111,
   "metadata": {
    "collapsed": false,
    "pycharm": {
     "name": "#%%\n"
    }
   },
   "outputs": [
    {
     "name": "stdout",
     "output_type": "stream",
     "text": [
      "[18]\n"
     ]
    }
   ],
   "source": [
    "print(predictions[0])"
   ]
  },
  {
   "cell_type": "code",
   "execution_count": 112,
   "metadata": {
    "collapsed": false,
    "pycharm": {
     "name": "#%%\n"
    }
   },
   "outputs": [
    {
     "name": "stdout",
     "output_type": "stream",
     "text": [
      "0.9968746457661976\n"
     ]
    }
   ],
   "source": [
    "accuracy = accuracy_score(y_test, predictions)\n",
    "print(accuracy)"
   ]
  },
  {
   "cell_type": "markdown",
   "metadata": {
    "id": "Krgi_E1QJvjf",
    "pycharm": {
     "name": "#%% md\n"
    }
   },
   "source": [
    "# TODO: Validation on Full Dataset (extra topic)"
   ]
  },
  {
   "cell_type": "code",
   "execution_count": null,
   "metadata": {
    "collapsed": false,
    "pycharm": {
     "name": "#%%\n"
    }
   },
   "outputs": [],
   "source": [
    " # download full 100% dataset\n",
    " !wget http://kdd.ics.uci.edu/databases/kddcup99/kddcup.data.gz\n"
   ]
  },
  {
   "cell_type": "code",
   "execution_count": null,
   "metadata": {
    "collapsed": false,
    "pycharm": {
     "name": "#%%\n"
    }
   },
   "outputs": [],
   "source": [
    "# unzip to the local folder\n",
    "# it contains a .csv file with all the records:\n",
    "! gzip -d ./kddcup.data.gz"
   ]
  },
  {
   "cell_type": "markdown",
   "metadata": {
    "collapsed": false,
    "pycharm": {
     "name": "#%% md\n"
    }
   },
   "source": [
    "Using the trained model, try to predict classes on fill dataset.\n",
    "\n",
    "**Hint:**\n",
    "Reduce samples with not-existed protocol type. Otherwise, there will be more columns after one-hot encoding applied & this won't match the dimension of trained model."
   ]
  }
 ],
 "metadata": {
  "colab": {
   "collapsed_sections": [
    "AmWJX555y7vL"
   ],
   "name": "Lab 3-1.ipynb",
   "provenance": []
  },
  "kernelspec": {
   "display_name": "Python 3",
   "name": "python3"
  },
  "language_info": {
   "name": "python",
   "version": "3.8.12"
  }
 },
 "nbformat": 4,
 "nbformat_minor": 0
}
