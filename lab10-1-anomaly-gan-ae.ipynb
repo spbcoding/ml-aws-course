{
 "cells": [
  {
   "cell_type": "markdown",
   "source": [
    "# Anomaly detection of Network Packets - Unsupervised Approach\n",
    "\n",
    "This is a task from http://kdd.ics.uci.edu/databases/kddcup99/kddcup99.html about network traffic packets. There are several kinds of preclassified packets: normal, trojans, viruses, etc.\n",
    "\n",
    "The goal of this work to implement a detector of no normal = anomaly packets."
   ],
   "metadata": {
    "collapsed": false
   }
  },
  {
   "cell_type": "markdown",
   "source": [
    "## Preparing data\n",
    "\n",
    "Download & unpack data to ./data/kdd folder"
   ],
   "metadata": {
    "collapsed": false
   }
  },
  {
   "cell_type": "code",
   "execution_count": 69,
   "outputs": [],
   "source": [
    "import pandas as pd\n",
    "from sklearn import preprocessing\n",
    "from sklearn.model_selection import train_test_split\n",
    "\n",
    "SEED = 87"
   ],
   "metadata": {
    "collapsed": false,
    "pycharm": {
     "name": "#%%\n"
    }
   }
  },
  {
   "cell_type": "code",
   "execution_count": 70,
   "metadata": {
    "collapsed": true
   },
   "outputs": [
    {
     "name": "stdout",
     "output_type": "stream",
     "text": [
      "--2022-03-28 08:39:44--  http://kdd.ics.uci.edu/databases/kddcup99/kddcup.data_10_percent.gz\r\n",
      "Resolving kdd.ics.uci.edu (kdd.ics.uci.edu)... 128.195.1.86\r\n",
      "Connecting to kdd.ics.uci.edu (kdd.ics.uci.edu)|128.195.1.86|:80... connected.\r\n",
      "HTTP request sent, awaiting response... 200 OK\r\n",
      "Length: 2144903 (2.0M) [application/x-gzip]\r\n",
      "Saving to: ‘kddcup.data_10_percent.gz’\r\n",
      "\r\n",
      "          kddcup.da   0%[                    ]       0  --.-KB/s               ^C\r\n"
     ]
    }
   ],
   "source": [
    "!wget http://kdd.ics.uci.edu/databases/kddcup99/kddcup.data_10_percent.gz"
   ]
  },
  {
   "cell_type": "code",
   "execution_count": 71,
   "outputs": [
    {
     "name": "stdout",
     "output_type": "stream",
     "text": [
      "mkdir: ./data/kdd: File exists\r\n"
     ]
    }
   ],
   "source": [
    "!mkdir ./data/kdd && mv ./kddcup.data_10_percent.gz ./data/kdd/kddcup.data_10_percent.gz"
   ],
   "metadata": {
    "collapsed": false,
    "pycharm": {
     "name": "#%%\n"
    }
   }
  },
  {
   "cell_type": "code",
   "execution_count": 72,
   "outputs": [
    {
     "name": "stdout",
     "output_type": "stream",
     "text": [
      "gzip: can't stat: ./data/kdd/kddcup.data_10_percent.gz (./data/kdd/kddcup.data_10_percent.gz.gz): No such file or directory\r\n"
     ]
    }
   ],
   "source": [
    "!gzip -d ./data/kdd/kddcup.data_10_percent.gz\n",
    "# as a result - a new (csv) file appears in the directory"
   ],
   "metadata": {
    "collapsed": false,
    "pycharm": {
     "name": "#%%\n"
    }
   }
  },
  {
   "cell_type": "code",
   "execution_count": 73,
   "outputs": [
    {
     "name": "stdout",
     "output_type": "stream",
     "text": [
      "kddcup.data_10_percent     kddcup.data_10_percent.pkl\r\n"
     ]
    }
   ],
   "source": [
    "# verify file exists..\n",
    "!ls ./data/kdd"
   ],
   "metadata": {
    "collapsed": false,
    "pycharm": {
     "name": "#%%\n"
    }
   }
  },
  {
   "cell_type": "code",
   "execution_count": 74,
   "outputs": [],
   "source": [
    "# specify column names - will be using that during import\n",
    "\n",
    "col_names = [\"duration\",\"protocol_type\",\"service\",\"flag\",\"src_bytes\",\"dst_bytes\",\"land\",\"wrong_fragment\",\"urgent\",\"hot\",\"num_failed_logins\",\"logged_in\",\n",
    "             \"num_compromised\",\"root_shell\",\"su_attempted\",\"num_root\",\"num_file_creations\",\"num_shells\",\"num_access_files\",\"num_outbound_cmds\",\n",
    "             \"is_host_login\",\"is_guest_login\",\"count\",\"srv_count\",\"serror_rate\",\"srv_serror_rate\",\"rerror_rate\",\"srv_rerror_rate\",\"same_srv_rate\",\n",
    "             \"diff_srv_rate\",\"srv_diff_host_rate\",\"dst_host_count\",\"dst_host_srv_count\",\"dst_host_same_srv_rate\",\"dst_host_diff_srv_rate\",\n",
    "             \"dst_host_same_src_port_rate\",\"dst_host_srv_diff_host_rate\",\"dst_host_serror_rate\",\"dst_host_srv_serror_rate\",\"dst_host_rerror_rate\",\n",
    "             \"dst_host_srv_rerror_rate\",\"label\"]"
   ],
   "metadata": {
    "collapsed": false,
    "pycharm": {
     "name": "#%%\n"
    }
   }
  },
  {
   "cell_type": "code",
   "execution_count": 75,
   "outputs": [
    {
     "data": {
      "text/plain": "<bound method NDFrame.head of         duration protocol_type service flag  src_bytes  dst_bytes  land  \\\n0              0           tcp    http   SF        181       5450     0   \n1              0           tcp    http   SF        239        486     0   \n2              0           tcp    http   SF        235       1337     0   \n3              0           tcp    http   SF        219       1337     0   \n4              0           tcp    http   SF        217       2032     0   \n...          ...           ...     ...  ...        ...        ...   ...   \n494016         0           tcp    http   SF        310       1881     0   \n494017         0           tcp    http   SF        282       2286     0   \n494018         0           tcp    http   SF        203       1200     0   \n494019         0           tcp    http   SF        291       1200     0   \n494020         0           tcp    http   SF        219       1234     0   \n\n        wrong_fragment  urgent  hot  ...  dst_host_srv_count  \\\n0                    0       0    0  ...                   9   \n1                    0       0    0  ...                  19   \n2                    0       0    0  ...                  29   \n3                    0       0    0  ...                  39   \n4                    0       0    0  ...                  49   \n...                ...     ...  ...  ...                 ...   \n494016               0       0    0  ...                 255   \n494017               0       0    0  ...                 255   \n494018               0       0    0  ...                 255   \n494019               0       0    0  ...                 255   \n494020               0       0    0  ...                 255   \n\n        dst_host_same_srv_rate  dst_host_diff_srv_rate  \\\n0                          1.0                     0.0   \n1                          1.0                     0.0   \n2                          1.0                     0.0   \n3                          1.0                     0.0   \n4                          1.0                     0.0   \n...                        ...                     ...   \n494016                     1.0                     0.0   \n494017                     1.0                     0.0   \n494018                     1.0                     0.0   \n494019                     1.0                     0.0   \n494020                     1.0                     0.0   \n\n        dst_host_same_src_port_rate  dst_host_srv_diff_host_rate  \\\n0                              0.11                         0.00   \n1                              0.05                         0.00   \n2                              0.03                         0.00   \n3                              0.03                         0.00   \n4                              0.02                         0.00   \n...                             ...                          ...   \n494016                         0.01                         0.05   \n494017                         0.17                         0.05   \n494018                         0.06                         0.05   \n494019                         0.04                         0.05   \n494020                         0.17                         0.05   \n\n        dst_host_serror_rate  dst_host_srv_serror_rate  dst_host_rerror_rate  \\\n0                       0.00                      0.00                   0.0   \n1                       0.00                      0.00                   0.0   \n2                       0.00                      0.00                   0.0   \n3                       0.00                      0.00                   0.0   \n4                       0.00                      0.00                   0.0   \n...                      ...                       ...                   ...   \n494016                  0.00                      0.01                   0.0   \n494017                  0.00                      0.01                   0.0   \n494018                  0.06                      0.01                   0.0   \n494019                  0.04                      0.01                   0.0   \n494020                  0.00                      0.01                   0.0   \n\n        dst_host_srv_rerror_rate    label  \n0                            0.0  normal.  \n1                            0.0  normal.  \n2                            0.0  normal.  \n3                            0.0  normal.  \n4                            0.0  normal.  \n...                          ...      ...  \n494016                       0.0  normal.  \n494017                       0.0  normal.  \n494018                       0.0  normal.  \n494019                       0.0  normal.  \n494020                       0.0  normal.  \n\n[494021 rows x 42 columns]>"
     },
     "execution_count": 75,
     "metadata": {},
     "output_type": "execute_result"
    }
   ],
   "source": [
    "file_path = './data/kdd/kddcup.data_10_percent'\n",
    "df = pd.read_csv(file_path, header=None, names=col_names, index_col=False)\n",
    "df.head"
   ],
   "metadata": {
    "collapsed": false,
    "pycharm": {
     "name": "#%%\n"
    }
   }
  },
  {
   "cell_type": "code",
   "execution_count": 76,
   "outputs": [
    {
     "name": "stdout",
     "output_type": "stream",
     "text": [
      "smurf.              280790\n",
      "neptune.            107201\n",
      "normal.              97278\n",
      "back.                 2203\n",
      "satan.                1589\n",
      "ipsweep.              1247\n",
      "portsweep.            1040\n",
      "warezclient.          1020\n",
      "teardrop.              979\n",
      "pod.                   264\n",
      "nmap.                  231\n",
      "guess_passwd.           53\n",
      "buffer_overflow.        30\n",
      "land.                   21\n",
      "warezmaster.            20\n",
      "imap.                   12\n",
      "rootkit.                10\n",
      "loadmodule.              9\n",
      "ftp_write.               8\n",
      "multihop.                7\n",
      "phf.                     4\n",
      "perl.                    3\n",
      "spy.                     2\n",
      "Name: label, dtype: int64\n"
     ]
    }
   ],
   "source": [
    "print(df['label'].value_counts())"
   ],
   "metadata": {
    "collapsed": false,
    "pycharm": {
     "name": "#%%\n"
    }
   }
  },
  {
   "cell_type": "code",
   "execution_count": 77,
   "outputs": [
    {
     "name": "stdout",
     "output_type": "stream",
     "text": [
      "['back.' 'buffer_overflow.' 'ftp_write.' 'guess_passwd.' 'imap.'\n",
      " 'ipsweep.' 'land.' 'loadmodule.' 'multihop.' 'neptune.' 'nmap.' 'normal.'\n",
      " 'perl.' 'phf.' 'pod.' 'portsweep.' 'rootkit.' 'satan.' 'smurf.' 'spy.'\n",
      " 'teardrop.' 'warezclient.' 'warezmaster.']\n"
     ]
    }
   ],
   "source": [
    "le = preprocessing.LabelEncoder()\n",
    "le.fit(df.label)\n",
    "\n",
    "print(le.classes_)"
   ],
   "metadata": {
    "collapsed": false,
    "pycharm": {
     "name": "#%%\n"
    }
   }
  },
  {
   "cell_type": "markdown",
   "source": [
    "There are nominal & categorcial values in the dataset - do OneHot encoding for them"
   ],
   "metadata": {
    "collapsed": false
   }
  },
  {
   "cell_type": "code",
   "execution_count": 78,
   "outputs": [],
   "source": [
    "col_categories = ['protocol_type',\n",
    "                  'service',\n",
    "                  'flag',\n",
    "                  'land',\n",
    "                  'logged_in',\n",
    "                  'is_host_login',\n",
    "                  'is_guest_login']"
   ],
   "metadata": {
    "collapsed": false,
    "pycharm": {
     "name": "#%%\n"
    }
   }
  },
  {
   "cell_type": "code",
   "execution_count": 79,
   "outputs": [
    {
     "name": "stdout",
     "output_type": "stream",
     "text": [
      "ecr_i      281400\n",
      "private    110893\n",
      "http        64293\n",
      "smtp         9723\n",
      "other        7237\n",
      "            ...  \n",
      "X11            11\n",
      "tim_i           7\n",
      "pm_dump         1\n",
      "tftp_u          1\n",
      "red_i           1\n",
      "Name: service, Length: 66, dtype: int64\n"
     ]
    }
   ],
   "source": [
    "# just checking how data looks like\n",
    "print(df['service'].value_counts())"
   ],
   "metadata": {
    "collapsed": false,
    "pycharm": {
     "name": "#%%\n"
    }
   }
  },
  {
   "cell_type": "code",
   "execution_count": 80,
   "outputs": [
    {
     "data": {
      "text/plain": "   land  logged_in  is_host_login  is_guest_login  protocol_type_icmp  \\\n0     0          1              0               0                   0   \n1     0          1              0               0                   0   \n2     0          1              0               0                   0   \n3     0          1              0               0                   0   \n4     0          1              0               0                   0   \n5     0          1              0               0                   0   \n6     0          1              0               0                   0   \n7     0          1              0               0                   0   \n8     0          1              0               0                   0   \n9     0          1              0               0                   0   \n\n   protocol_type_tcp  protocol_type_udp  service_IRC  service_X11  \\\n0                  1                  0            0            0   \n1                  1                  0            0            0   \n2                  1                  0            0            0   \n3                  1                  0            0            0   \n4                  1                  0            0            0   \n5                  1                  0            0            0   \n6                  1                  0            0            0   \n7                  1                  0            0            0   \n8                  1                  0            0            0   \n9                  1                  0            0            0   \n\n   service_Z39_50  ...  flag_REJ  flag_RSTO  flag_RSTOS0  flag_RSTR  flag_S0  \\\n0               0  ...         0          0            0          0        0   \n1               0  ...         0          0            0          0        0   \n2               0  ...         0          0            0          0        0   \n3               0  ...         0          0            0          0        0   \n4               0  ...         0          0            0          0        0   \n5               0  ...         0          0            0          0        0   \n6               0  ...         0          0            0          0        0   \n7               0  ...         0          0            0          0        0   \n8               0  ...         0          0            0          0        0   \n9               0  ...         0          0            0          0        0   \n\n   flag_S1  flag_S2  flag_S3  flag_SF  flag_SH  \n0        0        0        0        1        0  \n1        0        0        0        1        0  \n2        0        0        0        1        0  \n3        0        0        0        1        0  \n4        0        0        0        1        0  \n5        0        0        0        1        0  \n6        0        0        0        1        0  \n7        0        0        0        1        0  \n8        0        0        0        1        0  \n9        0        0        0        1        0  \n\n[10 rows x 84 columns]",
      "text/html": "<div>\n<style scoped>\n    .dataframe tbody tr th:only-of-type {\n        vertical-align: middle;\n    }\n\n    .dataframe tbody tr th {\n        vertical-align: top;\n    }\n\n    .dataframe thead th {\n        text-align: right;\n    }\n</style>\n<table border=\"1\" class=\"dataframe\">\n  <thead>\n    <tr style=\"text-align: right;\">\n      <th></th>\n      <th>land</th>\n      <th>logged_in</th>\n      <th>is_host_login</th>\n      <th>is_guest_login</th>\n      <th>protocol_type_icmp</th>\n      <th>protocol_type_tcp</th>\n      <th>protocol_type_udp</th>\n      <th>service_IRC</th>\n      <th>service_X11</th>\n      <th>service_Z39_50</th>\n      <th>...</th>\n      <th>flag_REJ</th>\n      <th>flag_RSTO</th>\n      <th>flag_RSTOS0</th>\n      <th>flag_RSTR</th>\n      <th>flag_S0</th>\n      <th>flag_S1</th>\n      <th>flag_S2</th>\n      <th>flag_S3</th>\n      <th>flag_SF</th>\n      <th>flag_SH</th>\n    </tr>\n  </thead>\n  <tbody>\n    <tr>\n      <th>0</th>\n      <td>0</td>\n      <td>1</td>\n      <td>0</td>\n      <td>0</td>\n      <td>0</td>\n      <td>1</td>\n      <td>0</td>\n      <td>0</td>\n      <td>0</td>\n      <td>0</td>\n      <td>...</td>\n      <td>0</td>\n      <td>0</td>\n      <td>0</td>\n      <td>0</td>\n      <td>0</td>\n      <td>0</td>\n      <td>0</td>\n      <td>0</td>\n      <td>1</td>\n      <td>0</td>\n    </tr>\n    <tr>\n      <th>1</th>\n      <td>0</td>\n      <td>1</td>\n      <td>0</td>\n      <td>0</td>\n      <td>0</td>\n      <td>1</td>\n      <td>0</td>\n      <td>0</td>\n      <td>0</td>\n      <td>0</td>\n      <td>...</td>\n      <td>0</td>\n      <td>0</td>\n      <td>0</td>\n      <td>0</td>\n      <td>0</td>\n      <td>0</td>\n      <td>0</td>\n      <td>0</td>\n      <td>1</td>\n      <td>0</td>\n    </tr>\n    <tr>\n      <th>2</th>\n      <td>0</td>\n      <td>1</td>\n      <td>0</td>\n      <td>0</td>\n      <td>0</td>\n      <td>1</td>\n      <td>0</td>\n      <td>0</td>\n      <td>0</td>\n      <td>0</td>\n      <td>...</td>\n      <td>0</td>\n      <td>0</td>\n      <td>0</td>\n      <td>0</td>\n      <td>0</td>\n      <td>0</td>\n      <td>0</td>\n      <td>0</td>\n      <td>1</td>\n      <td>0</td>\n    </tr>\n    <tr>\n      <th>3</th>\n      <td>0</td>\n      <td>1</td>\n      <td>0</td>\n      <td>0</td>\n      <td>0</td>\n      <td>1</td>\n      <td>0</td>\n      <td>0</td>\n      <td>0</td>\n      <td>0</td>\n      <td>...</td>\n      <td>0</td>\n      <td>0</td>\n      <td>0</td>\n      <td>0</td>\n      <td>0</td>\n      <td>0</td>\n      <td>0</td>\n      <td>0</td>\n      <td>1</td>\n      <td>0</td>\n    </tr>\n    <tr>\n      <th>4</th>\n      <td>0</td>\n      <td>1</td>\n      <td>0</td>\n      <td>0</td>\n      <td>0</td>\n      <td>1</td>\n      <td>0</td>\n      <td>0</td>\n      <td>0</td>\n      <td>0</td>\n      <td>...</td>\n      <td>0</td>\n      <td>0</td>\n      <td>0</td>\n      <td>0</td>\n      <td>0</td>\n      <td>0</td>\n      <td>0</td>\n      <td>0</td>\n      <td>1</td>\n      <td>0</td>\n    </tr>\n    <tr>\n      <th>5</th>\n      <td>0</td>\n      <td>1</td>\n      <td>0</td>\n      <td>0</td>\n      <td>0</td>\n      <td>1</td>\n      <td>0</td>\n      <td>0</td>\n      <td>0</td>\n      <td>0</td>\n      <td>...</td>\n      <td>0</td>\n      <td>0</td>\n      <td>0</td>\n      <td>0</td>\n      <td>0</td>\n      <td>0</td>\n      <td>0</td>\n      <td>0</td>\n      <td>1</td>\n      <td>0</td>\n    </tr>\n    <tr>\n      <th>6</th>\n      <td>0</td>\n      <td>1</td>\n      <td>0</td>\n      <td>0</td>\n      <td>0</td>\n      <td>1</td>\n      <td>0</td>\n      <td>0</td>\n      <td>0</td>\n      <td>0</td>\n      <td>...</td>\n      <td>0</td>\n      <td>0</td>\n      <td>0</td>\n      <td>0</td>\n      <td>0</td>\n      <td>0</td>\n      <td>0</td>\n      <td>0</td>\n      <td>1</td>\n      <td>0</td>\n    </tr>\n    <tr>\n      <th>7</th>\n      <td>0</td>\n      <td>1</td>\n      <td>0</td>\n      <td>0</td>\n      <td>0</td>\n      <td>1</td>\n      <td>0</td>\n      <td>0</td>\n      <td>0</td>\n      <td>0</td>\n      <td>...</td>\n      <td>0</td>\n      <td>0</td>\n      <td>0</td>\n      <td>0</td>\n      <td>0</td>\n      <td>0</td>\n      <td>0</td>\n      <td>0</td>\n      <td>1</td>\n      <td>0</td>\n    </tr>\n    <tr>\n      <th>8</th>\n      <td>0</td>\n      <td>1</td>\n      <td>0</td>\n      <td>0</td>\n      <td>0</td>\n      <td>1</td>\n      <td>0</td>\n      <td>0</td>\n      <td>0</td>\n      <td>0</td>\n      <td>...</td>\n      <td>0</td>\n      <td>0</td>\n      <td>0</td>\n      <td>0</td>\n      <td>0</td>\n      <td>0</td>\n      <td>0</td>\n      <td>0</td>\n      <td>1</td>\n      <td>0</td>\n    </tr>\n    <tr>\n      <th>9</th>\n      <td>0</td>\n      <td>1</td>\n      <td>0</td>\n      <td>0</td>\n      <td>0</td>\n      <td>1</td>\n      <td>0</td>\n      <td>0</td>\n      <td>0</td>\n      <td>0</td>\n      <td>...</td>\n      <td>0</td>\n      <td>0</td>\n      <td>0</td>\n      <td>0</td>\n      <td>0</td>\n      <td>0</td>\n      <td>0</td>\n      <td>0</td>\n      <td>1</td>\n      <td>0</td>\n    </tr>\n  </tbody>\n</table>\n<p>10 rows × 84 columns</p>\n</div>"
     },
     "execution_count": 80,
     "metadata": {},
     "output_type": "execute_result"
    }
   ],
   "source": [
    "# sample: protocol (\"http\", \"ftp\", \"smtp\")\n",
    "\n",
    "#abc.protocol = \"http\"\n",
    "#edf.protocol = \"smtp\"\n",
    "\n",
    "# sample | is_http | is_ftp | is_smtp\n",
    "#-----------------------------------------\n",
    "# abc.      1.         0.        0\n",
    "# edf.      0.         0.        1\n",
    "\n",
    "\n",
    "# do one-hot encoding for the symbolic data\n",
    "cat_data = pd.get_dummies(df[col_categories])\n",
    "cat_data.head(10)"
   ],
   "metadata": {
    "collapsed": false,
    "pycharm": {
     "name": "#%%\n"
    }
   }
  },
  {
   "cell_type": "code",
   "execution_count": 81,
   "outputs": [],
   "source": [
    "# exclude symbolic columns from the original dataset\n",
    "\n",
    "col_numerics = list(set(df.columns.values) - set(col_categories))"
   ],
   "metadata": {
    "collapsed": false,
    "pycharm": {
     "name": "#%%\n"
    }
   }
  },
  {
   "cell_type": "code",
   "execution_count": 82,
   "outputs": [
    {
     "name": "stdout",
     "output_type": "stream",
     "text": [
      "['dst_host_rerror_rate', 'rerror_rate', 'count', 'srv_diff_host_rate', 'dst_host_count', 'num_file_creations', 'dst_host_srv_rerror_rate', 'src_bytes', 'num_failed_logins', 'dst_host_srv_serror_rate', 'dst_bytes', 'label', 'num_access_files', 'dst_host_serror_rate', 'hot', 'num_compromised', 'serror_rate', 'num_outbound_cmds', 'same_srv_rate', 'wrong_fragment', 'srv_rerror_rate', 'num_shells', 'srv_count', 'duration', 'diff_srv_rate', 'dst_host_same_src_port_rate', 'dst_host_srv_diff_host_rate', 'urgent', 'dst_host_diff_srv_rate', 'su_attempted', 'dst_host_same_srv_rate', 'srv_serror_rate', 'dst_host_srv_count', 'num_root', 'root_shell']\n"
     ]
    }
   ],
   "source": [
    "print(col_numerics)\n",
    "col_numerics.remove('label')"
   ],
   "metadata": {
    "collapsed": false,
    "pycharm": {
     "name": "#%%\n"
    }
   }
  },
  {
   "cell_type": "code",
   "execution_count": 83,
   "outputs": [],
   "source": [
    "# and add one-hot-encoded columns\n",
    "numerics_data = df[col_numerics].copy()\n",
    "numerics_cat_data = pd.concat([numerics_data, cat_data] ,axis=1)"
   ],
   "metadata": {
    "collapsed": false,
    "pycharm": {
     "name": "#%%\n"
    }
   }
  },
  {
   "cell_type": "code",
   "execution_count": 84,
   "outputs": [
    {
     "ename": "KeyboardInterrupt",
     "evalue": "",
     "output_type": "error",
     "traceback": [
      "\u001B[0;31m---------------------------------------------------------------------------\u001B[0m",
      "\u001B[0;31mKeyboardInterrupt\u001B[0m                         Traceback (most recent call last)",
      "\u001B[0;32m/var/folders/n0/gr734nl92mn93vzmdrl2_wqm0000gn/T/ipykernel_15820/2202922210.py\u001B[0m in \u001B[0;36m<module>\u001B[0;34m\u001B[0m\n\u001B[1;32m      1\u001B[0m \u001B[0mlabels\u001B[0m \u001B[0;34m=\u001B[0m \u001B[0mdf\u001B[0m\u001B[0;34m[\u001B[0m\u001B[0;34m'label'\u001B[0m\u001B[0;34m]\u001B[0m\u001B[0;34m.\u001B[0m\u001B[0mcopy\u001B[0m\u001B[0;34m(\u001B[0m\u001B[0;34m)\u001B[0m\u001B[0;34m\u001B[0m\u001B[0;34m\u001B[0m\u001B[0m\n\u001B[0;32m----> 2\u001B[0;31m \u001B[0mtransormed_labels\u001B[0m \u001B[0;34m=\u001B[0m \u001B[0mle\u001B[0m\u001B[0;34m.\u001B[0m\u001B[0mtransform\u001B[0m\u001B[0;34m(\u001B[0m\u001B[0mlabels\u001B[0m\u001B[0;34m)\u001B[0m\u001B[0;34m\u001B[0m\u001B[0;34m\u001B[0m\u001B[0m\n\u001B[0m",
      "\u001B[0;32m~/opt/anaconda3/lib/python3.9/site-packages/sklearn/preprocessing/_label.py\u001B[0m in \u001B[0;36mtransform\u001B[0;34m(self, y)\u001B[0m\n\u001B[1;32m    136\u001B[0m             \u001B[0;32mreturn\u001B[0m \u001B[0mnp\u001B[0m\u001B[0;34m.\u001B[0m\u001B[0marray\u001B[0m\u001B[0;34m(\u001B[0m\u001B[0;34m[\u001B[0m\u001B[0;34m]\u001B[0m\u001B[0;34m)\u001B[0m\u001B[0;34m\u001B[0m\u001B[0;34m\u001B[0m\u001B[0m\n\u001B[1;32m    137\u001B[0m \u001B[0;34m\u001B[0m\u001B[0m\n\u001B[0;32m--> 138\u001B[0;31m         \u001B[0;32mreturn\u001B[0m \u001B[0m_encode\u001B[0m\u001B[0;34m(\u001B[0m\u001B[0my\u001B[0m\u001B[0;34m,\u001B[0m \u001B[0muniques\u001B[0m\u001B[0;34m=\u001B[0m\u001B[0mself\u001B[0m\u001B[0;34m.\u001B[0m\u001B[0mclasses_\u001B[0m\u001B[0;34m)\u001B[0m\u001B[0;34m\u001B[0m\u001B[0;34m\u001B[0m\u001B[0m\n\u001B[0m\u001B[1;32m    139\u001B[0m \u001B[0;34m\u001B[0m\u001B[0m\n\u001B[1;32m    140\u001B[0m     \u001B[0;32mdef\u001B[0m \u001B[0minverse_transform\u001B[0m\u001B[0;34m(\u001B[0m\u001B[0mself\u001B[0m\u001B[0;34m,\u001B[0m \u001B[0my\u001B[0m\u001B[0;34m)\u001B[0m\u001B[0;34m:\u001B[0m\u001B[0;34m\u001B[0m\u001B[0;34m\u001B[0m\u001B[0m\n",
      "\u001B[0;32m~/opt/anaconda3/lib/python3.9/site-packages/sklearn/utils/_encode.py\u001B[0m in \u001B[0;36m_encode\u001B[0;34m(values, uniques, check_unknown)\u001B[0m\n\u001B[1;32m    176\u001B[0m     \u001B[0;32mif\u001B[0m \u001B[0mvalues\u001B[0m\u001B[0;34m.\u001B[0m\u001B[0mdtype\u001B[0m\u001B[0;34m.\u001B[0m\u001B[0mkind\u001B[0m \u001B[0;32min\u001B[0m \u001B[0;34m'OUS'\u001B[0m\u001B[0;34m:\u001B[0m\u001B[0;34m\u001B[0m\u001B[0;34m\u001B[0m\u001B[0m\n\u001B[1;32m    177\u001B[0m         \u001B[0;32mtry\u001B[0m\u001B[0;34m:\u001B[0m\u001B[0;34m\u001B[0m\u001B[0;34m\u001B[0m\u001B[0m\n\u001B[0;32m--> 178\u001B[0;31m             \u001B[0;32mreturn\u001B[0m \u001B[0m_map_to_integer\u001B[0m\u001B[0;34m(\u001B[0m\u001B[0mvalues\u001B[0m\u001B[0;34m,\u001B[0m \u001B[0muniques\u001B[0m\u001B[0;34m)\u001B[0m\u001B[0;34m\u001B[0m\u001B[0;34m\u001B[0m\u001B[0m\n\u001B[0m\u001B[1;32m    179\u001B[0m         \u001B[0;32mexcept\u001B[0m \u001B[0mKeyError\u001B[0m \u001B[0;32mas\u001B[0m \u001B[0me\u001B[0m\u001B[0;34m:\u001B[0m\u001B[0;34m\u001B[0m\u001B[0;34m\u001B[0m\u001B[0m\n\u001B[1;32m    180\u001B[0m             \u001B[0;32mraise\u001B[0m \u001B[0mValueError\u001B[0m\u001B[0;34m(\u001B[0m\u001B[0;34mf\"y contains previously unseen labels: {str(e)}\"\u001B[0m\u001B[0;34m)\u001B[0m\u001B[0;34m\u001B[0m\u001B[0;34m\u001B[0m\u001B[0m\n",
      "\u001B[0;32m~/opt/anaconda3/lib/python3.9/site-packages/sklearn/utils/_encode.py\u001B[0m in \u001B[0;36m_map_to_integer\u001B[0;34m(values, uniques)\u001B[0m\n\u001B[1;32m    121\u001B[0m     \u001B[0;34m\"\"\"Map values based on its position in uniques.\"\"\"\u001B[0m\u001B[0;34m\u001B[0m\u001B[0;34m\u001B[0m\u001B[0m\n\u001B[1;32m    122\u001B[0m     \u001B[0mtable\u001B[0m \u001B[0;34m=\u001B[0m \u001B[0m_nandict\u001B[0m\u001B[0;34m(\u001B[0m\u001B[0;34m{\u001B[0m\u001B[0mval\u001B[0m\u001B[0;34m:\u001B[0m \u001B[0mi\u001B[0m \u001B[0;32mfor\u001B[0m \u001B[0mi\u001B[0m\u001B[0;34m,\u001B[0m \u001B[0mval\u001B[0m \u001B[0;32min\u001B[0m \u001B[0menumerate\u001B[0m\u001B[0;34m(\u001B[0m\u001B[0muniques\u001B[0m\u001B[0;34m)\u001B[0m\u001B[0;34m}\u001B[0m\u001B[0;34m)\u001B[0m\u001B[0;34m\u001B[0m\u001B[0;34m\u001B[0m\u001B[0m\n\u001B[0;32m--> 123\u001B[0;31m     \u001B[0;32mreturn\u001B[0m \u001B[0mnp\u001B[0m\u001B[0;34m.\u001B[0m\u001B[0marray\u001B[0m\u001B[0;34m(\u001B[0m\u001B[0;34m[\u001B[0m\u001B[0mtable\u001B[0m\u001B[0;34m[\u001B[0m\u001B[0mv\u001B[0m\u001B[0;34m]\u001B[0m \u001B[0;32mfor\u001B[0m \u001B[0mv\u001B[0m \u001B[0;32min\u001B[0m \u001B[0mvalues\u001B[0m\u001B[0;34m]\u001B[0m\u001B[0;34m)\u001B[0m\u001B[0;34m\u001B[0m\u001B[0;34m\u001B[0m\u001B[0m\n\u001B[0m\u001B[1;32m    124\u001B[0m \u001B[0;34m\u001B[0m\u001B[0m\n\u001B[1;32m    125\u001B[0m \u001B[0;34m\u001B[0m\u001B[0m\n",
      "\u001B[0;31mKeyboardInterrupt\u001B[0m: "
     ]
    }
   ],
   "source": [
    "labels = df['label'].copy()\n",
    "transormed_labels = le.transform(labels)"
   ],
   "metadata": {
    "collapsed": false,
    "pycharm": {
     "name": "#%%\n"
    }
   }
  },
  {
   "cell_type": "code",
   "execution_count": null,
   "outputs": [],
   "source": [
    "df\n",
    "transormed_labels"
   ],
   "metadata": {
    "collapsed": false,
    "pycharm": {
     "name": "#%%\n"
    }
   }
  },
  {
   "cell_type": "code",
   "execution_count": null,
   "outputs": [],
   "source": [
    "# wrap verything together into a single function\n",
    "\n",
    "def get_with_one_hot_encoded(df, col_categories, le):\n",
    "    cat_data = pd.get_dummies(df[col_categories])\n",
    "    col_numerics = list(set(df.columns.values) - set(col_categories))\n",
    "    col_numerics.remove('label')\n",
    "\n",
    "    numerics_data = df[col_numerics].copy()\n",
    "    numerics_cat_data = pd.concat([numerics_data, cat_data] ,axis=1)\n",
    "\n",
    "    labels = df['label'].copy()\n",
    "    transormed_labels = le.transform(labels)\n",
    "\n",
    "    return numerics_cat_data, transormed_labels"
   ],
   "metadata": {
    "collapsed": false,
    "pycharm": {
     "name": "#%%\n"
    }
   }
  },
  {
   "cell_type": "code",
   "execution_count": null,
   "outputs": [],
   "source": [
    "X, y = get_with_one_hot_encoded(df, col_categories, le)"
   ],
   "metadata": {
    "collapsed": false,
    "pycharm": {
     "name": "#%%\n"
    }
   }
  },
  {
   "cell_type": "code",
   "execution_count": null,
   "outputs": [],
   "source": [
    "# split dataset (with applied transforms) + labels\n",
    "# into train/test with 75% ratio\n",
    "\n",
    "X_train, X_test, y_train, y_test = train_test_split(\n",
    "    X, # numerics+cat data,\n",
    "    y, # transormed_labels,\n",
    "    test_size = 0.25,\n",
    "    random_state = SEED)"
   ],
   "metadata": {
    "collapsed": false,
    "pycharm": {
     "name": "#%%\n"
    }
   }
  },
  {
   "cell_type": "code",
   "execution_count": null,
   "outputs": [],
   "source": [
    "# validate dimensions\n",
    "print(X_train.shape)\n",
    "print(X_test.shape)\n",
    "print(y_train.shape)\n",
    "print(y_test.shape)"
   ],
   "metadata": {
    "collapsed": false,
    "pycharm": {
     "name": "#%%\n"
    }
   }
  },
  {
   "cell_type": "markdown",
   "source": [
    "### Export data to .pickle"
   ],
   "metadata": {
    "collapsed": false
   }
  },
  {
   "cell_type": "code",
   "execution_count": null,
   "outputs": [],
   "source": [
    "import pickle"
   ],
   "metadata": {
    "collapsed": false,
    "pycharm": {
     "name": "#%%\n"
    }
   }
  },
  {
   "cell_type": "code",
   "execution_count": null,
   "outputs": [],
   "source": [
    "preprocessed_data = {\n",
    "    'X_train': X_train,\n",
    "    'X_test': X_test,\n",
    "    'y_train': y_train,\n",
    "    'y_test': y_test,\n",
    "    'le': le\n",
    "}\n",
    "\n",
    "pickle_path = './data/kdd/kddcup.data_10_percent.pkl'\n",
    "with open(pickle_path, 'wb') as f:\n",
    "    pickle.dump(preprocessed_data, f)"
   ],
   "metadata": {
    "collapsed": false,
    "pycharm": {
     "name": "#%%\n"
    }
   }
  },
  {
   "cell_type": "markdown",
   "source": [
    "## GAN Approach"
   ],
   "metadata": {
    "collapsed": false
   }
  },
  {
   "cell_type": "code",
   "execution_count": 87,
   "outputs": [],
   "source": [
    "import pandas as pd\n",
    "import collections\n",
    "\n",
    "import numpy as np\n",
    "from sklearn.preprocessing import MinMaxScaler\n",
    "\n",
    "import mxnet as mx\n",
    "from mxnet import gluon, init, npx #,np\n",
    "from mxnet.gluon import nn\n",
    "from statistics import mean\n",
    "\n",
    "# https://github.com/tqdm/tqdm\n",
    "from tqdm import tqdm\n",
    "\n",
    "import matplotlib.pyplot as plt\n",
    "\n",
    "#npx.set_np()\n",
    "\n",
    "#seed data for reproducibility\n",
    "mx.random.seed(SEED)"
   ],
   "metadata": {
    "collapsed": false,
    "pycharm": {
     "name": "#%%\n"
    }
   }
  },
  {
   "cell_type": "markdown",
   "source": [
    "### Read preprocessed data"
   ],
   "metadata": {
    "collapsed": false
   }
  },
  {
   "cell_type": "code",
   "execution_count": 88,
   "outputs": [
    {
     "name": "stdout",
     "output_type": "stream",
     "text": [
      "X_train\n",
      "X_test\n",
      "y_train\n",
      "y_test\n",
      "le\n"
     ]
    }
   ],
   "source": [
    "import pickle\n",
    "\n",
    "# load data back from pickle file:\n",
    "pickle_file = './data/kdd/kddcup.data_10_percent.pkl'\n",
    "with open(pickle_file, 'rb') as f:\n",
    "    preprocessed_data = pickle.load(f)\n",
    "\n",
    "# check what's inside:\n",
    "for key in preprocessed_data:\n",
    "    print (key)"
   ],
   "metadata": {
    "collapsed": false,
    "pycharm": {
     "name": "#%%\n"
    }
   }
  },
  {
   "cell_type": "code",
   "execution_count": 89,
   "outputs": [],
   "source": [
    "le = preprocessed_data[\"le\"]\n",
    "X_train = preprocessed_data[\"X_train\"]\n",
    "y_train = preprocessed_data[\"y_train\"]\n",
    "X_test = preprocessed_data[\"X_test\"]\n",
    "y_test = preprocessed_data[\"y_test\"]"
   ],
   "metadata": {
    "collapsed": false,
    "pycharm": {
     "name": "#%%\n"
    }
   }
  },
  {
   "cell_type": "code",
   "execution_count": 90,
   "outputs": [
    {
     "data": {
      "text/plain": "array([ 0,  1,  2,  3,  4,  5,  6,  7,  8,  9, 10, 11, 13, 14, 15, 16, 17,\n       18, 20, 21, 22])"
     },
     "execution_count": 90,
     "metadata": {},
     "output_type": "execute_result"
    }
   ],
   "source": [
    "# lets identify what results do we actually have in labels..\n",
    "np.unique(y_test)"
   ],
   "metadata": {
    "collapsed": false,
    "pycharm": {
     "name": "#%%\n"
    }
   }
  },
  {
   "cell_type": "code",
   "execution_count": 91,
   "outputs": [
    {
     "data": {
      "text/plain": "                   0\n0              back.\n1   buffer_overflow.\n2         ftp_write.\n3      guess_passwd.\n4              imap.\n5           ipsweep.\n6              land.\n7        loadmodule.\n8          multihop.\n9           neptune.\n10             nmap.\n11           normal.\n12             perl.\n13              phf.\n14              pod.\n15        portsweep.\n16          rootkit.\n17            satan.\n18            smurf.\n19              spy.\n20         teardrop.\n21      warezclient.\n22      warezmaster.",
      "text/html": "<div>\n<style scoped>\n    .dataframe tbody tr th:only-of-type {\n        vertical-align: middle;\n    }\n\n    .dataframe tbody tr th {\n        vertical-align: top;\n    }\n\n    .dataframe thead th {\n        text-align: right;\n    }\n</style>\n<table border=\"1\" class=\"dataframe\">\n  <thead>\n    <tr style=\"text-align: right;\">\n      <th></th>\n      <th>0</th>\n    </tr>\n  </thead>\n  <tbody>\n    <tr>\n      <th>0</th>\n      <td>back.</td>\n    </tr>\n    <tr>\n      <th>1</th>\n      <td>buffer_overflow.</td>\n    </tr>\n    <tr>\n      <th>2</th>\n      <td>ftp_write.</td>\n    </tr>\n    <tr>\n      <th>3</th>\n      <td>guess_passwd.</td>\n    </tr>\n    <tr>\n      <th>4</th>\n      <td>imap.</td>\n    </tr>\n    <tr>\n      <th>5</th>\n      <td>ipsweep.</td>\n    </tr>\n    <tr>\n      <th>6</th>\n      <td>land.</td>\n    </tr>\n    <tr>\n      <th>7</th>\n      <td>loadmodule.</td>\n    </tr>\n    <tr>\n      <th>8</th>\n      <td>multihop.</td>\n    </tr>\n    <tr>\n      <th>9</th>\n      <td>neptune.</td>\n    </tr>\n    <tr>\n      <th>10</th>\n      <td>nmap.</td>\n    </tr>\n    <tr>\n      <th>11</th>\n      <td>normal.</td>\n    </tr>\n    <tr>\n      <th>12</th>\n      <td>perl.</td>\n    </tr>\n    <tr>\n      <th>13</th>\n      <td>phf.</td>\n    </tr>\n    <tr>\n      <th>14</th>\n      <td>pod.</td>\n    </tr>\n    <tr>\n      <th>15</th>\n      <td>portsweep.</td>\n    </tr>\n    <tr>\n      <th>16</th>\n      <td>rootkit.</td>\n    </tr>\n    <tr>\n      <th>17</th>\n      <td>satan.</td>\n    </tr>\n    <tr>\n      <th>18</th>\n      <td>smurf.</td>\n    </tr>\n    <tr>\n      <th>19</th>\n      <td>spy.</td>\n    </tr>\n    <tr>\n      <th>20</th>\n      <td>teardrop.</td>\n    </tr>\n    <tr>\n      <th>21</th>\n      <td>warezclient.</td>\n    </tr>\n    <tr>\n      <th>22</th>\n      <td>warezmaster.</td>\n    </tr>\n  </tbody>\n</table>\n</div>"
     },
     "execution_count": 91,
     "metadata": {},
     "output_type": "execute_result"
    }
   ],
   "source": [
    "# we need to distinguish 'Normal' vs rest of labels, hence lets preprocess them a bit:\n",
    "\n",
    "# find Normal class label:\n",
    "pd.DataFrame(le.classes_)\n",
    "# normal. == 11"
   ],
   "metadata": {
    "collapsed": false,
    "pycharm": {
     "name": "#%%\n"
    }
   }
  },
  {
   "cell_type": "code",
   "execution_count": 92,
   "outputs": [],
   "source": [
    "NORMAL_LABEL = 11\n",
    "\n",
    "# Semantics:\n",
    "#  0 - real data, \"normal\"\n",
    "#  1 - real, but not normal, = abnormal, =anomaly\n",
    "\n",
    "# decode multi-class verctor into binary\n",
    "y_train[y_train != NORMAL_LABEL] = 1\n",
    "y_train[y_train == NORMAL_LABEL] = 0\n",
    "\n",
    "y_test[y_test != NORMAL_LABEL] = 1\n",
    "y_test[y_test == NORMAL_LABEL] = 0"
   ],
   "metadata": {
    "collapsed": false,
    "pycharm": {
     "name": "#%%\n"
    }
   }
  },
  {
   "cell_type": "code",
   "execution_count": 93,
   "outputs": [],
   "source": [
    "# we want to keep Normal packets for GAN training\n",
    "\n",
    "temp = X_train.copy()\n",
    "temp['label'] = y_train\n",
    "temp = temp.loc[temp['label'] == 0]\n",
    "temp = temp.drop('label', axis = 1)\n",
    "X_train = temp.copy()\n",
    "\n",
    "# as a result:\n",
    "# training dataset - will contain only normal packets\n",
    "# test datatet - will contain both types of data"
   ],
   "metadata": {
    "collapsed": false,
    "pycharm": {
     "name": "#%%\n"
    }
   }
  },
  {
   "cell_type": "code",
   "execution_count": 94,
   "outputs": [],
   "source": [
    "scaler01 = MinMaxScaler()\n",
    "\n",
    "X_train = scaler01.fit_transform(X_train)\n",
    "X_test = scaler01.transform(X_test)"
   ],
   "metadata": {
    "collapsed": false,
    "pycharm": {
     "name": "#%%\n"
    }
   }
  },
  {
   "cell_type": "code",
   "execution_count": 121,
   "outputs": [],
   "source": [
    "dataset = {\n",
    "    'X_train': X_train.astype(np.float32),\n",
    "    'y_train': y_train.astype(np.float32),\n",
    "    'X_test': X_test.astype(np.float32),\n",
    "    'y_test': y_test.astype(np.float32)\n",
    "}"
   ],
   "metadata": {
    "collapsed": false,
    "pycharm": {
     "name": "#%%\n"
    }
   }
  },
  {
   "cell_type": "code",
   "execution_count": 96,
   "outputs": [
    {
     "name": "stdout",
     "output_type": "stream",
     "text": [
      "Training set, normal packets =  72970\n",
      "Testing set, normal packets =  24308\n",
      "Testing set, abnormal packets =  99198\n"
     ]
    }
   ],
   "source": [
    "print('Training set, normal packets = ', X_train.shape[0])\n",
    "print('Testing set, normal packets = ', collections.Counter(y_test)[0])\n",
    "print('Testing set, abnormal packets = ', collections.Counter(y_test)[1])"
   ],
   "metadata": {
    "collapsed": false,
    "pycharm": {
     "name": "#%%\n"
    }
   }
  },
  {
   "cell_type": "code",
   "execution_count": 97,
   "outputs": [],
   "source": [
    "### Lets define Generator network\n",
    "def generator_model() :\n",
    "    model = nn.Sequential()\n",
    "    model.add(nn.Dense(128, in_units = 118, activation='relu'))\n",
    "    model.add(nn.Dense(128, activation='relu'))\n",
    "    model.add(nn.Dense(256, activation='relu'))\n",
    "    model.add(nn.Dense(256, activation='relu'))\n",
    "    model.add(nn.Dense(118, activation='tanh'))\n",
    "\n",
    "    return model"
   ],
   "metadata": {
    "collapsed": false,
    "pycharm": {
     "name": "#%%\n"
    }
   }
  },
  {
   "cell_type": "code",
   "execution_count": 124,
   "outputs": [],
   "source": [
    "def update_G(Z, net_D, net_G, loss, trainer_G):\n",
    "    \"\"\"Update generator.\"\"\"\n",
    "    batch_size = Z.shape[0]\n",
    "    ones = mx.np.ones((batch_size,), ctx=Z.ctx, dtype=mx.np.float64)\n",
    "    with mx.autograd.record():\n",
    "        # We could reuse `fake_X` from `update_D` to save computation\n",
    "        fake_X = net_G(Z)\n",
    "        # Recomputing `fake_Y` is needed since `net_D` is changed\n",
    "        fake_Y = net_D(fake_X)\n",
    "        loss_G = loss(fake_Y, ones)\n",
    "    loss_G.backward()\n",
    "    trainer_G.step(batch_size)\n",
    "    return float(loss_G.sum())"
   ],
   "metadata": {
    "collapsed": false,
    "pycharm": {
     "name": "#%%\n"
    }
   }
  },
  {
   "cell_type": "code",
   "execution_count": 99,
   "outputs": [],
   "source": [
    "### Lets define Descriminator network\n",
    "def discriminator_model() :\n",
    "    model = nn.Sequential()\n",
    "    model.add(nn.Dense(256, in_units = 118, activation='relu', ))\n",
    "    #model.add(nn.Dropout(0.2))\n",
    "    model.add(nn.Dense(256, activation='relu'))\n",
    "    #model.add(nn.Dropout(0.2))\n",
    "    model.add(nn.Dense(128, activation='relu'))\n",
    "    #model.add(nn.Dropout(0.2))\n",
    "    model.add(nn.Dense(128, activation = 'relu'))\n",
    "    #model.add(nn.Dropout(0.2))\n",
    "    model.add(nn.Dense(1, activation='sigmoid'))\n",
    "    #model.add(Activation('sigmoid'))\n",
    "\n",
    "    return model"
   ],
   "metadata": {
    "collapsed": false,
    "pycharm": {
     "name": "#%%\n"
    }
   }
  },
  {
   "cell_type": "code",
   "execution_count": 125,
   "outputs": [],
   "source": [
    "def update_D(X, Z, net_D, net_G, loss, trainer_D):\n",
    "    \"\"\"Update discriminator.\"\"\"\n",
    "    batch_size = X.shape[0]\n",
    "    ones = mx.np.ones((batch_size,), ctx=X.ctx, dtype=mx.np.float64)\n",
    "    zeros = mx.np.zeros((batch_size,), ctx=X.ctx, dtype=mx.np.float64)\n",
    "    with mx.autograd.record():\n",
    "        real_Y = net_D(X)\n",
    "        fake_X = net_G(Z)\n",
    "        # Do not need to compute gradient for `net_G`, detach it from\n",
    "        # computing gradients.\n",
    "        fake_Y = net_D(fake_X.detach())\n",
    "        loss_D = (loss(real_Y, ones) + loss(fake_Y, zeros)) / 2\n",
    "    loss_D.backward()\n",
    "    trainer_D.step(batch_size)\n",
    "    return float(loss_D.sum())"
   ],
   "metadata": {
    "collapsed": false,
    "pycharm": {
     "name": "#%%\n"
    }
   }
  },
  {
   "cell_type": "code",
   "execution_count": 101,
   "outputs": [],
   "source": [
    "ctx = mx.gpu(0) if mx.context.num_gpus() > 0 else mx.cpu(0)"
   ],
   "metadata": {
    "collapsed": false,
    "pycharm": {
     "name": "#%%\n"
    }
   }
  },
  {
   "cell_type": "code",
   "execution_count": 102,
   "outputs": [
    {
     "data": {
      "text/plain": "cpu(0)"
     },
     "execution_count": 102,
     "metadata": {},
     "output_type": "execute_result"
    }
   ],
   "source": [
    "ctx"
   ],
   "metadata": {
    "collapsed": false,
    "pycharm": {
     "name": "#%%\n"
    }
   }
  },
  {
   "cell_type": "code",
   "execution_count": 126,
   "outputs": [],
   "source": [
    "def train_GAN (net_D, net_G, data_iter, num_epochs, lr, latent_dim,\n",
    "          ctx=ctx):\n",
    "\n",
    "    loss = gluon.loss.SigmoidBCELoss()\n",
    "\n",
    "    trainer_hp = {'learning_rate': lr, 'beta1': 0.5}\n",
    "\n",
    "    trainer_D = gluon.Trainer(net_D.collect_params(), 'adam', trainer_hp)\n",
    "    trainer_G = gluon.Trainer(net_G.collect_params(), 'adam', trainer_hp)\n",
    "\n",
    "    history_D = []\n",
    "    history_G = []\n",
    "\n",
    "    for epoch in range(1, num_epochs + 1):\n",
    "        # Train one epoch and track loss per batches\n",
    "        epoch_history_D = []\n",
    "        epoch_history_G = []\n",
    "\n",
    "        total_batches = len(data_iter)\n",
    "\n",
    "        with tqdm(total=total_batches, position=0, leave=True) as pbar:\n",
    "            for batch_num, (X) in enumerate(data_iter):\n",
    "                batch_size = X.shape[0]\n",
    "                Z = mx.np.random.normal(0, 1, size=(batch_size, latent_dim, 1, 1))\n",
    "                X = X.as_in_ctx(ctx)\n",
    "                Z = Z.as_in_ctx(ctx)\n",
    "\n",
    "                loss_D = update_D(X, Z, net_D, net_G, loss, trainer_D)\n",
    "                loss_D = loss_D/batch_size\n",
    "\n",
    "                loss_G = update_G(Z, net_D, net_G, loss, trainer_G)\n",
    "                loss_G = loss_G/batch_size\n",
    "\n",
    "                epoch_history_D.append(loss_D)\n",
    "                epoch_history_G.append(loss_G)\n",
    "\n",
    "                pbar.set_description(f'Epoch: {epoch}, Batch: {batch_num}/{total_batches},'\n",
    "                                     f'Loss(D): {loss_D:.3f}, Loss (G): {loss_G:.3f}')\n",
    "                pbar.update()\n",
    "\n",
    "            # Show generated examples\n",
    "            # Z = np.random.normal(0, 1, size=(21, latent_dim, 1, 1), ctx=device)\n",
    "            # Normalize the synthetic data to N(0, 1)\n",
    "            # fake_x = net_G(Z).transpose(0, 2, 3, 1) / 2 + 0.5\n",
    "            # imgs = np.concatenate(\n",
    "            #     [np.concatenate([fake_x[i * 7 + j] for j in range(7)], axis=1)\n",
    "            #      for i in range(len(fake_x)//7)], axis=0)\n",
    "\n",
    "            # Show the losses\n",
    "            loss_D = mean(epoch_history_D)\n",
    "            loss_G = mean(epoch_history_G)\n",
    "\n",
    "            history_D.append(loss_D)\n",
    "            history_G.append(loss_G)\n",
    "\n",
    "        pbar.close()\n",
    "\n",
    "    return history_G, history_D"
   ],
   "metadata": {
    "collapsed": false,
    "pycharm": {
     "name": "#%%\n"
    }
   }
  },
  {
   "cell_type": "code",
   "execution_count": 127,
   "outputs": [],
   "source": [
    "num_epochs = 4\n",
    "batch_size = 512\n",
    "learning_rate = 0.005\n",
    "\n",
    "# Only the first `n_train` examples are used for training\n",
    "ds_train = gluon.data.ArrayDataset(X_train.astype(mx.np.float64))\n",
    "train_loader = gluon.data.DataLoader(ds_train, batch_size, shuffle=True)\n",
    "\n",
    "net_G = generator_model()\n",
    "net_G.initialize(init=mx.init.Xavier(), force_reinit=True, ctx=ctx)\n",
    "\n",
    "net_D = discriminator_model()\n",
    "net_D.initialize(init=mx.init.Xavier(), force_reinit=True, ctx=ctx)"
   ],
   "metadata": {
    "collapsed": false,
    "pycharm": {
     "name": "#%%\n"
    }
   }
  },
  {
   "cell_type": "code",
   "execution_count": 129,
   "outputs": [
    {
     "name": "stderr",
     "output_type": "stream",
     "text": [
      "  0%|          | 0/143 [00:00<?, ?it/s]\n"
     ]
    },
    {
     "ename": "MXNetError",
     "evalue": "Traceback (most recent call last):\n  File \"../src/io/../operator/elemwise_op_common.h\", line 135\nMXNetError: Check failed: assign(&dattr, vec.at(i)): Incompatible attr in node  at 1-th input: expected float64, got float32",
     "output_type": "error",
     "traceback": [
      "\u001B[0;31m---------------------------------------------------------------------------\u001B[0m",
      "\u001B[0;31mMXNetError\u001B[0m                                Traceback (most recent call last)",
      "\u001B[0;32m/var/folders/n0/gr734nl92mn93vzmdrl2_wqm0000gn/T/ipykernel_15820/1601679140.py\u001B[0m in \u001B[0;36m<module>\u001B[0;34m\u001B[0m\n\u001B[0;32m----> 1\u001B[0;31m \u001B[0mhist_G\u001B[0m\u001B[0;34m,\u001B[0m \u001B[0mhist_D\u001B[0m \u001B[0;34m=\u001B[0m \u001B[0mtrain_GAN\u001B[0m\u001B[0;34m(\u001B[0m\u001B[0mnet_D\u001B[0m\u001B[0;34m,\u001B[0m \u001B[0mnet_G\u001B[0m\u001B[0;34m,\u001B[0m \u001B[0mtrain_loader\u001B[0m\u001B[0;34m,\u001B[0m \u001B[0mnum_epochs\u001B[0m\u001B[0;34m,\u001B[0m \u001B[0mlearning_rate\u001B[0m\u001B[0;34m,\u001B[0m \u001B[0;36m118\u001B[0m\u001B[0;34m)\u001B[0m\u001B[0;34m\u001B[0m\u001B[0;34m\u001B[0m\u001B[0m\n\u001B[0m",
      "\u001B[0;32m/var/folders/n0/gr734nl92mn93vzmdrl2_wqm0000gn/T/ipykernel_15820/3980123539.py\u001B[0m in \u001B[0;36mtrain_GAN\u001B[0;34m(net_D, net_G, data_iter, num_epochs, lr, latent_dim, ctx)\u001B[0m\n\u001B[1;32m     26\u001B[0m                 \u001B[0mZ\u001B[0m \u001B[0;34m=\u001B[0m \u001B[0mZ\u001B[0m\u001B[0;34m.\u001B[0m\u001B[0mas_in_ctx\u001B[0m\u001B[0;34m(\u001B[0m\u001B[0mctx\u001B[0m\u001B[0;34m)\u001B[0m\u001B[0;34m\u001B[0m\u001B[0;34m\u001B[0m\u001B[0m\n\u001B[1;32m     27\u001B[0m \u001B[0;34m\u001B[0m\u001B[0m\n\u001B[0;32m---> 28\u001B[0;31m                 \u001B[0mloss_D\u001B[0m \u001B[0;34m=\u001B[0m \u001B[0mupdate_D\u001B[0m\u001B[0;34m(\u001B[0m\u001B[0mX\u001B[0m\u001B[0;34m,\u001B[0m \u001B[0mZ\u001B[0m\u001B[0;34m,\u001B[0m \u001B[0mnet_D\u001B[0m\u001B[0;34m,\u001B[0m \u001B[0mnet_G\u001B[0m\u001B[0;34m,\u001B[0m \u001B[0mloss\u001B[0m\u001B[0;34m,\u001B[0m \u001B[0mtrainer_D\u001B[0m\u001B[0;34m)\u001B[0m\u001B[0;34m\u001B[0m\u001B[0;34m\u001B[0m\u001B[0m\n\u001B[0m\u001B[1;32m     29\u001B[0m                 \u001B[0mloss_D\u001B[0m \u001B[0;34m=\u001B[0m \u001B[0mloss_D\u001B[0m\u001B[0;34m/\u001B[0m\u001B[0mbatch_size\u001B[0m\u001B[0;34m\u001B[0m\u001B[0;34m\u001B[0m\u001B[0m\n\u001B[1;32m     30\u001B[0m \u001B[0;34m\u001B[0m\u001B[0m\n",
      "\u001B[0;32m/var/folders/n0/gr734nl92mn93vzmdrl2_wqm0000gn/T/ipykernel_15820/666223281.py\u001B[0m in \u001B[0;36mupdate_D\u001B[0;34m(X, Z, net_D, net_G, loss, trainer_D)\u001B[0m\n\u001B[1;32m      5\u001B[0m     \u001B[0mzeros\u001B[0m \u001B[0;34m=\u001B[0m \u001B[0mmx\u001B[0m\u001B[0;34m.\u001B[0m\u001B[0mnp\u001B[0m\u001B[0;34m.\u001B[0m\u001B[0mzeros\u001B[0m\u001B[0;34m(\u001B[0m\u001B[0;34m(\u001B[0m\u001B[0mbatch_size\u001B[0m\u001B[0;34m,\u001B[0m\u001B[0;34m)\u001B[0m\u001B[0;34m,\u001B[0m \u001B[0mctx\u001B[0m\u001B[0;34m=\u001B[0m\u001B[0mX\u001B[0m\u001B[0;34m.\u001B[0m\u001B[0mctx\u001B[0m\u001B[0;34m,\u001B[0m \u001B[0mdtype\u001B[0m\u001B[0;34m=\u001B[0m\u001B[0mmx\u001B[0m\u001B[0;34m.\u001B[0m\u001B[0mnp\u001B[0m\u001B[0;34m.\u001B[0m\u001B[0mfloat64\u001B[0m\u001B[0;34m)\u001B[0m\u001B[0;34m\u001B[0m\u001B[0;34m\u001B[0m\u001B[0m\n\u001B[1;32m      6\u001B[0m     \u001B[0;32mwith\u001B[0m \u001B[0mmx\u001B[0m\u001B[0;34m.\u001B[0m\u001B[0mautograd\u001B[0m\u001B[0;34m.\u001B[0m\u001B[0mrecord\u001B[0m\u001B[0;34m(\u001B[0m\u001B[0;34m)\u001B[0m\u001B[0;34m:\u001B[0m\u001B[0;34m\u001B[0m\u001B[0;34m\u001B[0m\u001B[0m\n\u001B[0;32m----> 7\u001B[0;31m         \u001B[0mreal_Y\u001B[0m \u001B[0;34m=\u001B[0m \u001B[0mnet_D\u001B[0m\u001B[0;34m(\u001B[0m\u001B[0mX\u001B[0m\u001B[0;34m)\u001B[0m\u001B[0;34m\u001B[0m\u001B[0;34m\u001B[0m\u001B[0m\n\u001B[0m\u001B[1;32m      8\u001B[0m         \u001B[0mfake_X\u001B[0m \u001B[0;34m=\u001B[0m \u001B[0mnet_G\u001B[0m\u001B[0;34m(\u001B[0m\u001B[0mZ\u001B[0m\u001B[0;34m)\u001B[0m\u001B[0;34m\u001B[0m\u001B[0;34m\u001B[0m\u001B[0m\n\u001B[1;32m      9\u001B[0m         \u001B[0;31m# Do not need to compute gradient for `net_G`, detach it from\u001B[0m\u001B[0;34m\u001B[0m\u001B[0;34m\u001B[0m\u001B[0m\n",
      "\u001B[0;32m~/opt/anaconda3/lib/python3.9/site-packages/mxnet/gluon/block.py\u001B[0m in \u001B[0;36m__call__\u001B[0;34m(self, *args)\u001B[0m\n\u001B[1;32m    680\u001B[0m             \u001B[0mhook\u001B[0m\u001B[0;34m(\u001B[0m\u001B[0mself\u001B[0m\u001B[0;34m,\u001B[0m \u001B[0margs\u001B[0m\u001B[0;34m)\u001B[0m\u001B[0;34m\u001B[0m\u001B[0;34m\u001B[0m\u001B[0m\n\u001B[1;32m    681\u001B[0m \u001B[0;34m\u001B[0m\u001B[0m\n\u001B[0;32m--> 682\u001B[0;31m         \u001B[0mout\u001B[0m \u001B[0;34m=\u001B[0m \u001B[0mself\u001B[0m\u001B[0;34m.\u001B[0m\u001B[0mforward\u001B[0m\u001B[0;34m(\u001B[0m\u001B[0;34m*\u001B[0m\u001B[0margs\u001B[0m\u001B[0;34m)\u001B[0m\u001B[0;34m\u001B[0m\u001B[0;34m\u001B[0m\u001B[0m\n\u001B[0m\u001B[1;32m    683\u001B[0m \u001B[0;34m\u001B[0m\u001B[0m\n\u001B[1;32m    684\u001B[0m         \u001B[0;32mfor\u001B[0m \u001B[0mhook\u001B[0m \u001B[0;32min\u001B[0m \u001B[0mself\u001B[0m\u001B[0;34m.\u001B[0m\u001B[0m_forward_hooks\u001B[0m\u001B[0;34m.\u001B[0m\u001B[0mvalues\u001B[0m\u001B[0;34m(\u001B[0m\u001B[0;34m)\u001B[0m\u001B[0;34m:\u001B[0m\u001B[0;34m\u001B[0m\u001B[0;34m\u001B[0m\u001B[0m\n",
      "\u001B[0;32m~/opt/anaconda3/lib/python3.9/site-packages/mxnet/gluon/nn/basic_layers.py\u001B[0m in \u001B[0;36mforward\u001B[0;34m(self, x)\u001B[0m\n\u001B[1;32m     53\u001B[0m     \u001B[0;32mdef\u001B[0m \u001B[0mforward\u001B[0m\u001B[0;34m(\u001B[0m\u001B[0mself\u001B[0m\u001B[0;34m,\u001B[0m \u001B[0mx\u001B[0m\u001B[0;34m)\u001B[0m\u001B[0;34m:\u001B[0m\u001B[0;34m\u001B[0m\u001B[0;34m\u001B[0m\u001B[0m\n\u001B[1;32m     54\u001B[0m         \u001B[0;32mfor\u001B[0m \u001B[0mblock\u001B[0m \u001B[0;32min\u001B[0m \u001B[0mself\u001B[0m\u001B[0;34m.\u001B[0m\u001B[0m_children\u001B[0m\u001B[0;34m.\u001B[0m\u001B[0mvalues\u001B[0m\u001B[0;34m(\u001B[0m\u001B[0;34m)\u001B[0m\u001B[0;34m:\u001B[0m\u001B[0;34m\u001B[0m\u001B[0;34m\u001B[0m\u001B[0m\n\u001B[0;32m---> 55\u001B[0;31m             \u001B[0mx\u001B[0m \u001B[0;34m=\u001B[0m \u001B[0mblock\u001B[0m\u001B[0;34m(\u001B[0m\u001B[0mx\u001B[0m\u001B[0;34m)\u001B[0m\u001B[0;34m\u001B[0m\u001B[0;34m\u001B[0m\u001B[0m\n\u001B[0m\u001B[1;32m     56\u001B[0m         \u001B[0;32mreturn\u001B[0m \u001B[0mx\u001B[0m\u001B[0;34m\u001B[0m\u001B[0;34m\u001B[0m\u001B[0m\n\u001B[1;32m     57\u001B[0m \u001B[0;34m\u001B[0m\u001B[0m\n",
      "\u001B[0;32m~/opt/anaconda3/lib/python3.9/site-packages/mxnet/gluon/block.py\u001B[0m in \u001B[0;36m__call__\u001B[0;34m(self, *args)\u001B[0m\n\u001B[1;32m    680\u001B[0m             \u001B[0mhook\u001B[0m\u001B[0;34m(\u001B[0m\u001B[0mself\u001B[0m\u001B[0;34m,\u001B[0m \u001B[0margs\u001B[0m\u001B[0;34m)\u001B[0m\u001B[0;34m\u001B[0m\u001B[0;34m\u001B[0m\u001B[0m\n\u001B[1;32m    681\u001B[0m \u001B[0;34m\u001B[0m\u001B[0m\n\u001B[0;32m--> 682\u001B[0;31m         \u001B[0mout\u001B[0m \u001B[0;34m=\u001B[0m \u001B[0mself\u001B[0m\u001B[0;34m.\u001B[0m\u001B[0mforward\u001B[0m\u001B[0;34m(\u001B[0m\u001B[0;34m*\u001B[0m\u001B[0margs\u001B[0m\u001B[0;34m)\u001B[0m\u001B[0;34m\u001B[0m\u001B[0;34m\u001B[0m\u001B[0m\n\u001B[0m\u001B[1;32m    683\u001B[0m \u001B[0;34m\u001B[0m\u001B[0m\n\u001B[1;32m    684\u001B[0m         \u001B[0;32mfor\u001B[0m \u001B[0mhook\u001B[0m \u001B[0;32min\u001B[0m \u001B[0mself\u001B[0m\u001B[0;34m.\u001B[0m\u001B[0m_forward_hooks\u001B[0m\u001B[0;34m.\u001B[0m\u001B[0mvalues\u001B[0m\u001B[0;34m(\u001B[0m\u001B[0;34m)\u001B[0m\u001B[0;34m:\u001B[0m\u001B[0;34m\u001B[0m\u001B[0;34m\u001B[0m\u001B[0m\n",
      "\u001B[0;32m~/opt/anaconda3/lib/python3.9/site-packages/mxnet/gluon/block.py\u001B[0m in \u001B[0;36mforward\u001B[0;34m(self, x, *args)\u001B[0m\n\u001B[1;32m   1343\u001B[0m                     \u001B[0mparams\u001B[0m \u001B[0;34m=\u001B[0m \u001B[0;34m{\u001B[0m\u001B[0mk\u001B[0m\u001B[0;34m:\u001B[0m \u001B[0mv\u001B[0m\u001B[0;34m.\u001B[0m\u001B[0mdata\u001B[0m\u001B[0;34m(\u001B[0m\u001B[0mctx\u001B[0m\u001B[0;34m)\u001B[0m \u001B[0;32mfor\u001B[0m \u001B[0mk\u001B[0m\u001B[0;34m,\u001B[0m \u001B[0mv\u001B[0m \u001B[0;32min\u001B[0m \u001B[0mself\u001B[0m\u001B[0;34m.\u001B[0m\u001B[0m_reg_params\u001B[0m\u001B[0;34m.\u001B[0m\u001B[0mitems\u001B[0m\u001B[0;34m(\u001B[0m\u001B[0;34m)\u001B[0m\u001B[0;34m}\u001B[0m\u001B[0;34m\u001B[0m\u001B[0;34m\u001B[0m\u001B[0m\n\u001B[1;32m   1344\u001B[0m \u001B[0;34m\u001B[0m\u001B[0m\n\u001B[0;32m-> 1345\u001B[0;31m                 \u001B[0;32mreturn\u001B[0m \u001B[0mself\u001B[0m\u001B[0;34m.\u001B[0m\u001B[0mhybrid_forward\u001B[0m\u001B[0;34m(\u001B[0m\u001B[0mndarray\u001B[0m\u001B[0;34m,\u001B[0m \u001B[0mx\u001B[0m\u001B[0;34m,\u001B[0m \u001B[0;34m*\u001B[0m\u001B[0margs\u001B[0m\u001B[0;34m,\u001B[0m \u001B[0;34m**\u001B[0m\u001B[0mparams\u001B[0m\u001B[0;34m)\u001B[0m\u001B[0;34m\u001B[0m\u001B[0;34m\u001B[0m\u001B[0m\n\u001B[0m\u001B[1;32m   1346\u001B[0m         \u001B[0mparams\u001B[0m \u001B[0;34m=\u001B[0m \u001B[0;34m{\u001B[0m\u001B[0mi\u001B[0m\u001B[0;34m:\u001B[0m \u001B[0mj\u001B[0m\u001B[0;34m.\u001B[0m\u001B[0mvar\u001B[0m\u001B[0;34m(\u001B[0m\u001B[0;34m)\u001B[0m \u001B[0;32mfor\u001B[0m \u001B[0mi\u001B[0m\u001B[0;34m,\u001B[0m \u001B[0mj\u001B[0m \u001B[0;32min\u001B[0m \u001B[0mself\u001B[0m\u001B[0;34m.\u001B[0m\u001B[0m_reg_params\u001B[0m\u001B[0;34m.\u001B[0m\u001B[0mitems\u001B[0m\u001B[0;34m(\u001B[0m\u001B[0;34m)\u001B[0m\u001B[0;34m}\u001B[0m\u001B[0;34m\u001B[0m\u001B[0;34m\u001B[0m\u001B[0m\n\u001B[1;32m   1347\u001B[0m         \u001B[0;32mwith\u001B[0m \u001B[0mself\u001B[0m\u001B[0;34m.\u001B[0m\u001B[0mname_scope\u001B[0m\u001B[0;34m(\u001B[0m\u001B[0;34m)\u001B[0m\u001B[0;34m:\u001B[0m\u001B[0;34m\u001B[0m\u001B[0;34m\u001B[0m\u001B[0m\n",
      "\u001B[0;32m~/opt/anaconda3/lib/python3.9/site-packages/mxnet/gluon/nn/basic_layers.py\u001B[0m in \u001B[0;36mhybrid_forward\u001B[0;34m(self, F, x, weight, bias)\u001B[0m\n\u001B[1;32m    222\u001B[0m     \u001B[0;32mdef\u001B[0m \u001B[0mhybrid_forward\u001B[0m\u001B[0;34m(\u001B[0m\u001B[0mself\u001B[0m\u001B[0;34m,\u001B[0m \u001B[0mF\u001B[0m\u001B[0;34m,\u001B[0m \u001B[0mx\u001B[0m\u001B[0;34m,\u001B[0m \u001B[0mweight\u001B[0m\u001B[0;34m,\u001B[0m \u001B[0mbias\u001B[0m\u001B[0;34m=\u001B[0m\u001B[0;32mNone\u001B[0m\u001B[0;34m)\u001B[0m\u001B[0;34m:\u001B[0m\u001B[0;34m\u001B[0m\u001B[0;34m\u001B[0m\u001B[0m\n\u001B[1;32m    223\u001B[0m         \u001B[0mfc\u001B[0m \u001B[0;34m=\u001B[0m \u001B[0mF\u001B[0m\u001B[0;34m.\u001B[0m\u001B[0mnpx\u001B[0m\u001B[0;34m.\u001B[0m\u001B[0mfully_connected\u001B[0m \u001B[0;32mif\u001B[0m \u001B[0mis_np_array\u001B[0m\u001B[0;34m(\u001B[0m\u001B[0;34m)\u001B[0m \u001B[0;32melse\u001B[0m \u001B[0mF\u001B[0m\u001B[0;34m.\u001B[0m\u001B[0mFullyConnected\u001B[0m\u001B[0;34m\u001B[0m\u001B[0;34m\u001B[0m\u001B[0m\n\u001B[0;32m--> 224\u001B[0;31m         act = fc(x, weight, bias, no_bias=bias is None, num_hidden=self._units,\n\u001B[0m\u001B[1;32m    225\u001B[0m                  flatten=self._flatten, name='fwd')\n\u001B[1;32m    226\u001B[0m         \u001B[0;32mif\u001B[0m \u001B[0mself\u001B[0m\u001B[0;34m.\u001B[0m\u001B[0mact\u001B[0m \u001B[0;32mis\u001B[0m \u001B[0;32mnot\u001B[0m \u001B[0;32mNone\u001B[0m\u001B[0;34m:\u001B[0m\u001B[0;34m\u001B[0m\u001B[0;34m\u001B[0m\u001B[0m\n",
      "\u001B[0;32m~/opt/anaconda3/lib/python3.9/site-packages/mxnet/ndarray/register.py\u001B[0m in \u001B[0;36mfully_connected\u001B[0;34m(data, weight, bias, num_hidden, no_bias, flatten, out, name, **kwargs)\u001B[0m\n",
      "\u001B[0;32m~/opt/anaconda3/lib/python3.9/site-packages/mxnet/_ctypes/ndarray.py\u001B[0m in \u001B[0;36m_imperative_invoke\u001B[0;34m(handle, ndargs, keys, vals, out, is_np_op, output_is_list)\u001B[0m\n\u001B[1;32m     80\u001B[0m     \u001B[0mout_stypes\u001B[0m \u001B[0;34m=\u001B[0m \u001B[0mctypes\u001B[0m\u001B[0;34m.\u001B[0m\u001B[0mPOINTER\u001B[0m\u001B[0;34m(\u001B[0m\u001B[0mctypes\u001B[0m\u001B[0;34m.\u001B[0m\u001B[0mc_int\u001B[0m\u001B[0;34m)\u001B[0m\u001B[0;34m(\u001B[0m\u001B[0;34m)\u001B[0m\u001B[0;34m\u001B[0m\u001B[0;34m\u001B[0m\u001B[0m\n\u001B[1;32m     81\u001B[0m \u001B[0;34m\u001B[0m\u001B[0m\n\u001B[0;32m---> 82\u001B[0;31m     check_call(_LIB.MXImperativeInvokeEx(\n\u001B[0m\u001B[1;32m     83\u001B[0m         \u001B[0mctypes\u001B[0m\u001B[0;34m.\u001B[0m\u001B[0mc_void_p\u001B[0m\u001B[0;34m(\u001B[0m\u001B[0mhandle\u001B[0m\u001B[0;34m)\u001B[0m\u001B[0;34m,\u001B[0m\u001B[0;34m\u001B[0m\u001B[0;34m\u001B[0m\u001B[0m\n\u001B[1;32m     84\u001B[0m         \u001B[0mctypes\u001B[0m\u001B[0;34m.\u001B[0m\u001B[0mc_int\u001B[0m\u001B[0;34m(\u001B[0m\u001B[0mlen\u001B[0m\u001B[0;34m(\u001B[0m\u001B[0mndargs\u001B[0m\u001B[0;34m)\u001B[0m\u001B[0;34m)\u001B[0m\u001B[0;34m,\u001B[0m\u001B[0;34m\u001B[0m\u001B[0;34m\u001B[0m\u001B[0m\n",
      "\u001B[0;32m~/opt/anaconda3/lib/python3.9/site-packages/mxnet/base.py\u001B[0m in \u001B[0;36mcheck_call\u001B[0;34m(ret)\u001B[0m\n\u001B[1;32m    244\u001B[0m     \"\"\"\n\u001B[1;32m    245\u001B[0m     \u001B[0;32mif\u001B[0m \u001B[0mret\u001B[0m \u001B[0;34m!=\u001B[0m \u001B[0;36m0\u001B[0m\u001B[0;34m:\u001B[0m\u001B[0;34m\u001B[0m\u001B[0;34m\u001B[0m\u001B[0m\n\u001B[0;32m--> 246\u001B[0;31m         \u001B[0;32mraise\u001B[0m \u001B[0mget_last_ffi_error\u001B[0m\u001B[0;34m(\u001B[0m\u001B[0;34m)\u001B[0m\u001B[0;34m\u001B[0m\u001B[0;34m\u001B[0m\u001B[0m\n\u001B[0m\u001B[1;32m    247\u001B[0m \u001B[0;34m\u001B[0m\u001B[0m\n\u001B[1;32m    248\u001B[0m \u001B[0;34m\u001B[0m\u001B[0m\n",
      "\u001B[0;31mMXNetError\u001B[0m: Traceback (most recent call last):\n  File \"../src/io/../operator/elemwise_op_common.h\", line 135\nMXNetError: Check failed: assign(&dattr, vec.at(i)): Incompatible attr in node  at 1-th input: expected float64, got float32"
     ]
    }
   ],
   "source": [
    "hist_G, hist_D = train_GAN(net_D, net_G, train_loader, num_epochs, learning_rate, 118)"
   ],
   "metadata": {
    "collapsed": false,
    "pycharm": {
     "name": "#%%\n"
    }
   }
  },
  {
   "cell_type": "code",
   "execution_count": null,
   "outputs": [],
   "source": [
    "plt.plot(hist_D, label = 'Discriminator')\n",
    "plt.plot(hist_G, label = 'Generator')\n",
    "plt.legend()"
   ],
   "metadata": {
    "collapsed": false,
    "pycharm": {
     "name": "#%%\n"
    }
   }
  }
 ],
 "metadata": {
  "kernelspec": {
   "display_name": "Python 3",
   "language": "python",
   "name": "python3"
  },
  "language_info": {
   "codemirror_mode": {
    "name": "ipython",
    "version": 2
   },
   "file_extension": ".py",
   "mimetype": "text/x-python",
   "name": "python",
   "nbconvert_exporter": "python",
   "pygments_lexer": "ipython2",
   "version": "2.7.6"
  }
 },
 "nbformat": 4,
 "nbformat_minor": 0
}